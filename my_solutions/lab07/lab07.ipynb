{
 "cells": [
  {
   "cell_type": "code",
   "execution_count": 1,
   "metadata": {},
   "outputs": [],
   "source": [
    "import os\n",
    "import sys\n",
    "import pandas as pd\n",
    "import re\n",
    "\n",
    "import pymystem3\n",
    "import operator\n",
    "from nltk.stem import WordNetLemmatizer\n",
    "from nltk.corpus import wordnet, stopwords\n",
    "from sklearn.metrics.pairwise import cosine_similarity\n",
    "from sklearn.feature_extraction.text import TfidfVectorizer"
   ]
  },
  {
   "cell_type": "code",
   "execution_count": 2,
   "metadata": {
    "scrolled": true
   },
   "outputs": [
    {
     "name": "stdout",
     "output_type": "stream",
     "text": [
      "Welcome to\n",
      "      ____              __\n",
      "     / __/__  ___ _____/ /__\n",
      "    _\\ \\/ _ \\/ _ `/ __/  '_/\n",
      "   /__ / .__/\\_,_/_/ /_/\\_\\   version 2.4.3\n",
      "      /_/\n",
      "\n",
      "Using Python version 3.6.5 (default, Apr 29 2018 16:14:56)\n",
      "SparkSession available as 'spark'.\n"
     ]
    }
   ],
   "source": [
    "os.environ[\"PYSPARK_SUBMIT_ARGS\"]='--conf spark.sql.catalogImplementation=in-memory pyspark-shell'\n",
    "os.environ[\"PYSPARK_PYTHON\"]='/opt/anaconda/envs/bd9/bin/python'\n",
    "os.environ[\"SPARK_HOME\"]='/usr/hdp/current/spark2-client'\n",
    "\n",
    "spark_home = os.environ.get('SPARK_HOME', None)\n",
    "if not spark_home:\n",
    "    raise ValueError('SPARK_HOME environment variable is not set')\n",
    "sys.path.insert(0, os.path.join(spark_home, 'python'))\n",
    "sys.path.insert(0, os.path.join(spark_home, 'python/lib/py4j-0.10.7-src.zip'))\n",
    "exec(open(os.path.join(spark_home, 'python/pyspark/shell.py')).read())\n",
    "\n",
    "\n",
    "from pyspark.sql.types import *\n",
    "import pyspark.sql.functions as f"
   ]
  },
  {
   "cell_type": "code",
   "execution_count": 7,
   "metadata": {},
   "outputs": [],
   "source": [
    "spark.stop()"
   ]
  },
  {
   "cell_type": "markdown",
   "metadata": {},
   "source": [
    "# READ"
   ]
  },
  {
   "cell_type": "code",
   "execution_count": 3,
   "metadata": {},
   "outputs": [],
   "source": [
    "path = '/labs/lab07data/DO_record_per_line.json'"
   ]
  },
  {
   "cell_type": "code",
   "execution_count": 4,
   "metadata": {},
   "outputs": [],
   "source": [
    "#!hdfs dfs -cat /labs/lab07data/DO_record_per_line.json | head -n 1"
   ]
  },
  {
   "cell_type": "code",
   "execution_count": 5,
   "metadata": {},
   "outputs": [],
   "source": [
    "schema = StructType(fields=[\n",
    "    StructField(\"cat\", StringType()),\n",
    "    StructField(\"desc\", StringType()),\n",
    "    StructField(\"id\", IntegerType()),\n",
    "    StructField(\"lang\", StringType()),\n",
    "    StructField(\"name\", StringType()),\n",
    "    StructField(\"provider\", StringType())\n",
    "])"
   ]
  },
  {
   "cell_type": "code",
   "execution_count": 6,
   "metadata": {},
   "outputs": [],
   "source": [
    "df = spark.read.json(path=path, schema=schema)"
   ]
  },
  {
   "cell_type": "code",
   "execution_count": 7,
   "metadata": {},
   "outputs": [
    {
     "name": "stdout",
     "output_type": "stream",
     "text": [
      "+--------------------+--------------------+---+----+--------------------+--------------+\n",
      "|                 cat|                desc| id|lang|                name|      provider|\n",
      "+--------------------+--------------------+---+----+--------------------+--------------+\n",
      "|3/business_manage...|This course intro...|  4|  en|Accounting Cycle:...|Canvas Network|\n",
      "|              11/law|This online cours...|  5|  en|American Counter ...|Canvas Network|\n",
      "|5/computer_scienc...|This course is ta...|  6|  fr|Arithmétique: en ...|Canvas Network|\n",
      "|  14/social_sciences|We live in a digi...|  7|  en|Becoming a Dynami...|Canvas Network|\n",
      "|2/biology_life_sc...|This self-paced c...|  8|  en|           Bioethics|Canvas Network|\n",
      "+--------------------+--------------------+---+----+--------------------+--------------+\n",
      "only showing top 5 rows\n",
      "\n"
     ]
    }
   ],
   "source": [
    "df.show(5)"
   ]
  },
  {
   "cell_type": "code",
   "execution_count": 8,
   "metadata": {},
   "outputs": [],
   "source": [
    "@f.pandas_udf(StringType())\n",
    "def norm_desc(desc):\n",
    "    return desc.apply(lambda x: re.sub('[^a-zа-я0-9 ]', '', x.lower()))"
   ]
  },
  {
   "cell_type": "code",
   "execution_count": 9,
   "metadata": {},
   "outputs": [],
   "source": [
    "norm_text_df = df.withColumn('norm_desc', norm_desc(\"desc\")).toPandas()"
   ]
  },
  {
   "cell_type": "code",
   "execution_count": 10,
   "metadata": {},
   "outputs": [
    {
     "data": {
      "text/html": [
       "<div>\n",
       "<style scoped>\n",
       "    .dataframe tbody tr th:only-of-type {\n",
       "        vertical-align: middle;\n",
       "    }\n",
       "\n",
       "    .dataframe tbody tr th {\n",
       "        vertical-align: top;\n",
       "    }\n",
       "\n",
       "    .dataframe thead th {\n",
       "        text-align: right;\n",
       "    }\n",
       "</style>\n",
       "<table border=\"1\" class=\"dataframe\">\n",
       "  <thead>\n",
       "    <tr style=\"text-align: right;\">\n",
       "      <th></th>\n",
       "      <th>cat</th>\n",
       "      <th>desc</th>\n",
       "      <th>id</th>\n",
       "      <th>lang</th>\n",
       "      <th>name</th>\n",
       "      <th>provider</th>\n",
       "      <th>norm_desc</th>\n",
       "    </tr>\n",
       "  </thead>\n",
       "  <tbody>\n",
       "    <tr>\n",
       "      <th>0</th>\n",
       "      <td>3/business_management|6/economics_finance</td>\n",
       "      <td>This course introduces the basic financial sta...</td>\n",
       "      <td>4</td>\n",
       "      <td>en</td>\n",
       "      <td>Accounting Cycle: The Foundation of Business M...</td>\n",
       "      <td>Canvas Network</td>\n",
       "      <td>this course introduces the basic financial sta...</td>\n",
       "    </tr>\n",
       "    <tr>\n",
       "      <th>1</th>\n",
       "      <td>11/law</td>\n",
       "      <td>This online course will introduce you to Ameri...</td>\n",
       "      <td>5</td>\n",
       "      <td>en</td>\n",
       "      <td>American Counter Terrorism Law</td>\n",
       "      <td>Canvas Network</td>\n",
       "      <td>this online course will introduce you to ameri...</td>\n",
       "    </tr>\n",
       "    <tr>\n",
       "      <th>2</th>\n",
       "      <td>5/computer_science|15/mathematics_statistics_a...</td>\n",
       "      <td>This course is taught in French Vous voulez co...</td>\n",
       "      <td>6</td>\n",
       "      <td>fr</td>\n",
       "      <td>Arithmétique: en route pour la cryptographie</td>\n",
       "      <td>Canvas Network</td>\n",
       "      <td>this course is taught in french vous voulez co...</td>\n",
       "    </tr>\n",
       "    <tr>\n",
       "      <th>3</th>\n",
       "      <td>14/social_sciences</td>\n",
       "      <td>We live in a digitally connected world. The wa...</td>\n",
       "      <td>7</td>\n",
       "      <td>en</td>\n",
       "      <td>Becoming a Dynamic Educator</td>\n",
       "      <td>Canvas Network</td>\n",
       "      <td>we live in a digitally connected world the way...</td>\n",
       "    </tr>\n",
       "    <tr>\n",
       "      <th>4</th>\n",
       "      <td>2/biology_life_sciences</td>\n",
       "      <td>This self-paced course is designed to show tha...</td>\n",
       "      <td>8</td>\n",
       "      <td>en</td>\n",
       "      <td>Bioethics</td>\n",
       "      <td>Canvas Network</td>\n",
       "      <td>this selfpaced course is designed to show that...</td>\n",
       "    </tr>\n",
       "  </tbody>\n",
       "</table>\n",
       "</div>"
      ],
      "text/plain": [
       "                                                 cat  \\\n",
       "0          3/business_management|6/economics_finance   \n",
       "1                                             11/law   \n",
       "2  5/computer_science|15/mathematics_statistics_a...   \n",
       "3                                 14/social_sciences   \n",
       "4                            2/biology_life_sciences   \n",
       "\n",
       "                                                desc  id lang  \\\n",
       "0  This course introduces the basic financial sta...   4   en   \n",
       "1  This online course will introduce you to Ameri...   5   en   \n",
       "2  This course is taught in French Vous voulez co...   6   fr   \n",
       "3  We live in a digitally connected world. The wa...   7   en   \n",
       "4  This self-paced course is designed to show tha...   8   en   \n",
       "\n",
       "                                                name        provider  \\\n",
       "0  Accounting Cycle: The Foundation of Business M...  Canvas Network   \n",
       "1                     American Counter Terrorism Law  Canvas Network   \n",
       "2       Arithmétique: en route pour la cryptographie  Canvas Network   \n",
       "3                        Becoming a Dynamic Educator  Canvas Network   \n",
       "4                                          Bioethics  Canvas Network   \n",
       "\n",
       "                                           norm_desc  \n",
       "0  this course introduces the basic financial sta...  \n",
       "1  this online course will introduce you to ameri...  \n",
       "2  this course is taught in french vous voulez co...  \n",
       "3  we live in a digitally connected world the way...  \n",
       "4  this selfpaced course is designed to show that...  "
      ]
     },
     "execution_count": 10,
     "metadata": {},
     "output_type": "execute_result"
    }
   ],
   "source": [
    "norm_text_df.head()"
   ]
  },
  {
   "cell_type": "code",
   "execution_count": 11,
   "metadata": {},
   "outputs": [],
   "source": [
    "def text_to_wordlist(text):\n",
    "    words = text.lower().split()\n",
    "    return words"
   ]
  },
  {
   "cell_type": "code",
   "execution_count": 12,
   "metadata": {},
   "outputs": [],
   "source": [
    "norm_text_df['norm_desc_v1'] = norm_text_df['norm_desc'].apply(lambda x: text_to_wordlist(x))"
   ]
  },
  {
   "cell_type": "code",
   "execution_count": 13,
   "metadata": {},
   "outputs": [],
   "source": [
    "#в этот словарь записываются результаты\n",
    "sim = {}"
   ]
  },
  {
   "cell_type": "code",
   "execution_count": 15,
   "metadata": {},
   "outputs": [],
   "source": [
    "#из личтного кабинета\n",
    "ids = [21058, 25420, 20332, 889, 6061, 27687]"
   ]
  },
  {
   "cell_type": "code",
   "execution_count": 17,
   "metadata": {},
   "outputs": [
    {
     "name": "stdout",
     "output_type": "stream",
     "text": [
      "finish 21058\n",
      "finish 25420\n"
     ]
    }
   ],
   "source": [
    "for idx in en_ids:\n",
    "    curr_id = idx\n",
    "    #определяем язык\n",
    "    curr_lang = norm_text_df[norm_text_df['id']==curr_id]['lang'].values[0]\n",
    "    #берем из основного датафрейма только курсы с языком curr_lang\n",
    "    tmp_df = norm_text_df[norm_text_df['lang']==curr_lang][['id', 'lang', 'norm_desc_v1', 'name']]\n",
    "    tmp_df['bag_of_words_text'] = tmp_df['norm_desc_v1'].apply(lambda x: str(' '.join(x)).strip())\n",
    "\n",
    "    v = TfidfVectorizer(max_features=10000)\n",
    "    x = v.fit_transform(tmp_df['bag_of_words_text'])\n",
    "    matrix_counts = x.toarray()\n",
    "    words = [x[0] for x in sorted(v.vocabulary_.items(), key=lambda x: x[1])] \n",
    "    tfidf_df = pd.DataFrame(matrix_counts, columns=words)\n",
    "    \n",
    "    cs = cosine_similarity(tfidf_df)\n",
    "    cos_matr = pd.DataFrame(cs)\n",
    "    cos_matr['id'] = tmp_df['id'].values\n",
    "    new_cos_matr = cos_matr.set_index('id').T\n",
    "    new_cos_matr['id']  = tmp_df['id'].values\n",
    "    new_cos_matr = new_cos_matr.set_index('id')\n",
    "    new_cos_matr['name'] = tmp_df['name'].values\n",
    "    \n",
    "    top = new_cos_matr[['name', curr_id]].sort_values(by=[curr_id, 'name', 'id'], ascending=False)[1:11]\n",
    "    \n",
    "    #записали результат в словарь\n",
    "    sim['{}'.format(curr_id)] = list(top[curr_id].index)\n",
    "    print('finish {}'.format(idx))"
   ]
  },
  {
   "cell_type": "code",
   "execution_count": null,
   "metadata": {},
   "outputs": [],
   "source": [
    "#не забыть потом название файла поменять на lab07s.json, чтобы сдать суперачивку\n",
    "\n",
    "import json\n",
    "with open('lab07.json', 'w') as outfile:\n",
    "    json.dump(fin_json, outfile)"
   ]
  }
 ],
 "metadata": {
  "kernelspec": {
   "display_name": "Python 3",
   "language": "python",
   "name": "python3"
  },
  "language_info": {
   "codemirror_mode": {
    "name": "ipython",
    "version": 3
   },
   "file_extension": ".py",
   "mimetype": "text/x-python",
   "name": "python",
   "nbconvert_exporter": "python",
   "pygments_lexer": "ipython3",
   "version": "3.6.5"
  }
 },
 "nbformat": 4,
 "nbformat_minor": 2
}
