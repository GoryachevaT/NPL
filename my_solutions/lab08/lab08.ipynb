{
 "cells": [
  {
   "cell_type": "code",
   "execution_count": 1,
   "metadata": {},
   "outputs": [],
   "source": [
    "import os\n",
    "import sys\n",
    "import pandas as pd\n",
    "import re\n",
    "\n",
    "import pymystem3\n",
    "import operator\n",
    "from nltk.stem import WordNetLemmatizer\n",
    "from nltk.corpus import wordnet, stopwords\n",
    "from sklearn.metrics.pairwise import cosine_similarity\n",
    "from sklearn.feature_extraction.text import TfidfVectorizer"
   ]
  },
  {
   "cell_type": "code",
   "execution_count": 2,
   "metadata": {},
   "outputs": [
    {
     "name": "stdout",
     "output_type": "stream",
     "text": [
      "Welcome to\n",
      "      ____              __\n",
      "     / __/__  ___ _____/ /__\n",
      "    _\\ \\/ _ \\/ _ `/ __/  '_/\n",
      "   /__ / .__/\\_,_/_/ /_/\\_\\   version 2.4.3\n",
      "      /_/\n",
      "\n",
      "Using Python version 3.6.5 (default, Apr 29 2018 16:14:56)\n",
      "SparkSession available as 'spark'.\n"
     ]
    }
   ],
   "source": [
    "os.environ[\"PYSPARK_SUBMIT_ARGS\"]='--conf spark.sql.catalogImplementation=in-memory pyspark-shell'\n",
    "os.environ[\"PYSPARK_PYTHON\"]='/opt/anaconda/envs/bd9/bin/python'\n",
    "os.environ[\"SPARK_HOME\"]='/usr/hdp/current/spark2-client'\n",
    "\n",
    "spark_home = os.environ.get('SPARK_HOME', None)\n",
    "if not spark_home:\n",
    "    raise ValueError('SPARK_HOME environment variable is not set')\n",
    "sys.path.insert(0, os.path.join(spark_home, 'python'))\n",
    "sys.path.insert(0, os.path.join(spark_home, 'python/lib/py4j-0.10.7-src.zip'))\n",
    "exec(open(os.path.join(spark_home, 'python/pyspark/shell.py')).read())\n",
    "\n",
    "\n",
    "from pyspark.sql.types import *\n",
    "import pyspark.sql.functions as f"
   ]
  },
  {
   "cell_type": "code",
   "execution_count": 3,
   "metadata": {},
   "outputs": [
    {
     "name": "stdout",
     "output_type": "stream",
     "text": [
      "Found 23 items\r\n",
      "-rw-r--r--   3 artem.trunov hdfs       6750 2018-10-08 21:49 /labs/lab06data/ml-100k/README\r\n",
      "-rw-r--r--   3 artem.trunov hdfs        716 2018-10-08 21:49 /labs/lab06data/ml-100k/allbut.pl\r\n",
      "-rw-r--r--   3 artem.trunov hdfs        643 2018-10-08 21:49 /labs/lab06data/ml-100k/mku.sh\r\n",
      "-rw-r--r--   3 artem.trunov hdfs    1979173 2018-10-08 21:49 /labs/lab06data/ml-100k/u.data\r\n",
      "-rw-r--r--   3 artem.trunov hdfs        202 2018-10-08 21:49 /labs/lab06data/ml-100k/u.genre\r\n",
      "-rw-r--r--   3 artem.trunov hdfs         36 2018-10-08 21:49 /labs/lab06data/ml-100k/u.info\r\n",
      "-rw-r--r--   3 artem.trunov hdfs     236344 2018-10-08 21:49 /labs/lab06data/ml-100k/u.item\r\n",
      "-rw-r--r--   3 artem.trunov hdfs        193 2018-10-08 21:49 /labs/lab06data/ml-100k/u.occupation\r\n",
      "-rw-r--r--   3 artem.trunov hdfs      22628 2018-10-08 21:49 /labs/lab06data/ml-100k/u.user\r\n",
      "-rw-r--r--   3 artem.trunov hdfs    1586544 2018-10-08 21:49 /labs/lab06data/ml-100k/u1.base\r\n",
      "-rw-r--r--   3 artem.trunov hdfs     392629 2018-10-08 21:49 /labs/lab06data/ml-100k/u1.test\r\n",
      "-rw-r--r--   3 artem.trunov hdfs    1583948 2018-10-08 21:49 /labs/lab06data/ml-100k/u2.base\r\n",
      "-rw-r--r--   3 artem.trunov hdfs     395225 2018-10-08 21:49 /labs/lab06data/ml-100k/u2.test\r\n",
      "-rw-r--r--   3 artem.trunov hdfs    1582546 2018-10-08 21:49 /labs/lab06data/ml-100k/u3.base\r\n",
      "-rw-r--r--   3 artem.trunov hdfs     396627 2018-10-08 21:49 /labs/lab06data/ml-100k/u3.test\r\n",
      "-rw-r--r--   3 artem.trunov hdfs    1581878 2018-10-08 21:49 /labs/lab06data/ml-100k/u4.base\r\n",
      "-rw-r--r--   3 artem.trunov hdfs     397295 2018-10-08 21:49 /labs/lab06data/ml-100k/u4.test\r\n",
      "-rw-r--r--   3 artem.trunov hdfs    1581776 2018-10-08 21:49 /labs/lab06data/ml-100k/u5.base\r\n",
      "-rw-r--r--   3 artem.trunov hdfs     397397 2018-10-08 21:49 /labs/lab06data/ml-100k/u5.test\r\n",
      "-rw-r--r--   3 artem.trunov hdfs    1792501 2018-10-08 21:49 /labs/lab06data/ml-100k/ua.base\r\n",
      "-rw-r--r--   3 artem.trunov hdfs     186672 2018-10-08 21:49 /labs/lab06data/ml-100k/ua.test\r\n",
      "-rw-r--r--   3 artem.trunov hdfs    1792476 2018-10-08 21:49 /labs/lab06data/ml-100k/ub.base\r\n",
      "-rw-r--r--   3 artem.trunov hdfs     186697 2018-10-08 21:49 /labs/lab06data/ml-100k/ub.test\r\n"
     ]
    }
   ],
   "source": [
    "!hadoop fs -ls /labs/lab06data/ml-100k"
   ]
  },
  {
   "cell_type": "code",
   "execution_count": 4,
   "metadata": {},
   "outputs": [
    {
     "name": "stdout",
     "output_type": "stream",
     "text": [
      "SUMMARY & USAGE LICENSE\r\n",
      "=============================================\r\n",
      "\r\n",
      "MovieLens data sets were collected by the GroupLens Research Project\r\n",
      "at the University of Minnesota.\r\n",
      " \r\n",
      "This data set consists of:\r\n",
      "\t* 100,000 ratings (1-5) from 943 users on 1682 movies. \r\n",
      "\t* Each user has rated at least 20 movies. \r\n",
      "        * Simple demographic info for the users (age, gender, occupation, zip)\r\n",
      "\r\n",
      "The data was collected through the MovieLens web site\r\n",
      "(movielens.umn.edu) during the seven-month period from September 19th, \r\n",
      "1997 through April 22nd, 1998. This data has been cleaned up - users\r\n",
      "who had less than 20 ratings or did not have complete demographic\r\n",
      "information were removed from this data set. Detailed descriptions of\r\n",
      "the data file can be found at the end of this file.\r\n",
      "\r\n",
      "Neither the University of Minnesota nor any of the researchers\r\n",
      "involved can guarantee the correctness of the data, its suitability\r\n",
      "for any particular purpose, or the validity of results based on the\r\n",
      "use of the data set.  The data set may be used for any research\r\n",
      "purposes under the following conditions:\r\n",
      "\r\n",
      "     * The user may not state or imply any endorsement from the\r\n",
      "       University of Minnesota or the GroupLens Research Group.\r\n",
      "\r\n",
      "     * The user must acknowledge the use of the data set in\r\n",
      "       publications resulting from the use of the data set\r\n",
      "       (see below for citation information).\r\n",
      "\r\n",
      "     * The user may not redistribute the data without separate\r\n",
      "       permission.\r\n",
      "\r\n",
      "     * The user may not use this information for any commercial or\r\n",
      "       revenue-bearing purposes without first obtaining permission\r\n",
      "       from a faculty member of the GroupLens Research Project at the\r\n",
      "       University of Minnesota.\r\n",
      "\r\n",
      "If you have any further questions or comments, please contact GroupLens\r\n",
      "<grouplens-info@cs.umn.edu>. \r\n",
      "\r\n",
      "CITATION\r\n",
      "==============================================\r\n",
      "\r\n",
      "To acknowledge use of the dataset in publications, please cite the \r\n",
      "following paper:\r\n",
      "\r\n",
      "F. Maxwell Harper and Joseph A. Konstan. 2015. The MovieLens Datasets:\r\n",
      "History and Context. ACM Transactions on Interactive Intelligent\r\n",
      "Systems (TiiS) 5, 4, Article 19 (December 2015), 19 pages.\r\n",
      "DOI=http://dx.doi.org/10.1145/2827872\r\n",
      "\r\n",
      "\r\n",
      "ACKNOWLEDGEMENTS\r\n",
      "==============================================\r\n",
      "\r\n",
      "Thanks to Al Borchers for cleaning up this data and writing the\r\n",
      "accompanying scripts.\r\n",
      "\r\n",
      "PUBLISHED WORK THAT HAS USED THIS DATASET\r\n",
      "==============================================\r\n",
      "\r\n",
      "Herlocker, J., Konstan, J., Borchers, A., Riedl, J.. An Algorithmic\r\n",
      "Framework for Performing Collaborative Filtering. Proceedings of the\r\n",
      "1999 Conference on Research and Development in Information\r\n",
      "Retrieval. Aug. 1999.\r\n",
      "\r\n",
      "FURTHER INFORMATION ABOUT THE GROUPLENS RESEARCH PROJECT\r\n",
      "==============================================\r\n",
      "\r\n",
      "The GroupLens Research Project is a research group in the Department\r\n",
      "of Computer Science and Engineering at the University of Minnesota.\r\n",
      "Members of the GroupLens Research Project are involved in many\r\n",
      "research projects related to the fields of information filtering,\r\n",
      "collaborative filtering, and recommender systems. The project is lead\r\n",
      "by professors John Riedl and Joseph Konstan. The project began to\r\n",
      "explore automated collaborative filtering in 1992, but is most well\r\n",
      "known for its world wide trial of an automated collaborative filtering\r\n",
      "system for Usenet news in 1996.  The technology developed in the\r\n",
      "Usenet trial formed the base for the formation of Net Perceptions,\r\n",
      "Inc., which was founded by members of GroupLens Research. Since then\r\n",
      "the project has expanded its scope to research overall information\r\n",
      "filtering solutions, integrating in content-based methods as well as\r\n",
      "improving current collaborative filtering technology.\r\n",
      "\r\n",
      "Further information on the GroupLens Research project, including\r\n",
      "research publications, can be found at the following web site:\r\n",
      "        \r\n",
      "        http://www.grouplens.org/\r\n",
      "\r\n",
      "GroupLens Research currently operates a movie recommender based on\r\n",
      "collaborative filtering:\r\n",
      "\r\n",
      "        http://www.movielens.org/\r\n",
      "\r\n",
      "DETAILED DESCRIPTIONS OF DATA FILES\r\n",
      "==============================================\r\n",
      "\r\n",
      "Here are brief descriptions of the data.\r\n",
      "\r\n",
      "ml-data.tar.gz   -- Compressed tar file.  To rebuild the u data files do this:\r\n",
      "                gunzip ml-data.tar.gz\r\n",
      "                tar xvf ml-data.tar\r\n",
      "                mku.sh\r\n",
      "\r\n",
      "u.data     -- The full u data set, 100000 ratings by 943 users on 1682 items.\r\n",
      "              Each user has rated at least 20 movies.  Users and items are\r\n",
      "              numbered consecutively from 1.  The data is randomly\r\n",
      "              ordered. This is a tab separated list of \r\n",
      "\t         user id | item id | rating | timestamp. \r\n",
      "              The time stamps are unix seconds since 1/1/1970 UTC   \r\n",
      "\r\n",
      "u.info     -- The number of users, items, and ratings in the u data set.\r\n",
      "\r\n",
      "u.item     -- Information about the items (movies); this is a tab separated\r\n",
      "              list of\r\n",
      "              movie id | movie title | release date | video release date |\r\n",
      "              IMDb URL | unknown | Action | Adventure | Animation |\r\n",
      "              Children's | Comedy | Crime | Documentary | Drama | Fantasy |\r\n",
      "              Film-Noir | Horror | Musical | Mystery | Romance | Sci-Fi |\r\n",
      "              Thriller | War | Western |\r\n",
      "              The last 19 fields are the genres, a 1 indicates the movie\r\n",
      "              is of that genre, a 0 indicates it is not; movies can be in\r\n",
      "              several genres at once.\r\n",
      "              The movie ids are the ones used in the u.data data set.\r\n",
      "\r\n",
      "u.genre    -- A list of the genres.\r\n",
      "\r\n",
      "u.user     -- Demographic information about the users; this is a tab\r\n",
      "              separated list of\r\n",
      "              user id | age | gender | occupation | zip code\r\n",
      "              The user ids are the ones used in the u.data data set.\r\n",
      "\r\n",
      "u.occupation -- A list of the occupations.\r\n",
      "\r\n",
      "u1.base    -- The data sets u1.base and u1.test through u5.base and u5.test\r\n",
      "u1.test       are 80%/20% splits of the u data into training and test data.\r\n",
      "u2.base       Each of u1, ..., u5 have disjoint test sets; this if for\r\n",
      "u2.test       5 fold cross validation (where you repeat your experiment\r\n",
      "u3.base       with each training and test set and average the results).\r\n",
      "u3.test       These data sets can be generated from u.data by mku.sh.\r\n",
      "u4.base\r\n",
      "u4.test\r\n",
      "u5.base\r\n",
      "u5.test\r\n",
      "\r\n",
      "ua.base    -- The data sets ua.base, ua.test, ub.base, and ub.test\r\n",
      "ua.test       split the u data into a training set and a test set with\r\n",
      "ub.base       exactly 10 ratings per user in the test set.  The sets\r\n",
      "ub.test       ua.test and ub.test are disjoint.  These data sets can\r\n",
      "              be generated from u.data by mku.sh.\r\n",
      "\r\n",
      "allbut.pl  -- The script that generates training and test sets where\r\n",
      "              all but n of a users ratings are in the training data.\r\n",
      "\r\n",
      "mku.sh     -- A shell script to generate all the u data sets from u.data.\r\n"
     ]
    }
   ],
   "source": [
    "!hadoop fs -cat /labs/lab06data/ml-100k/README"
   ]
  },
  {
   "cell_type": "markdown",
   "metadata": {},
   "source": [
    "# Read"
   ]
  },
  {
   "cell_type": "markdown",
   "metadata": {},
   "source": [
    "## u.data"
   ]
  },
  {
   "cell_type": "code",
   "execution_count": 5,
   "metadata": {
    "scrolled": true
   },
   "outputs": [
    {
     "name": "stdout",
     "output_type": "stream",
     "text": [
      "196\t242\t3\t881250949\r\n",
      "186\t302\t3\t891717742\r\n",
      "22\t377\t1\t878887116\r\n",
      "244\t51\t2\t880606923\r\n",
      "cat: Unable to write to output stream.\r\n"
     ]
    }
   ],
   "source": [
    "!hadoop fs -cat /labs/lab06data/ml-100k/u.data | head -n 4"
   ]
  },
  {
   "cell_type": "code",
   "execution_count": 6,
   "metadata": {},
   "outputs": [],
   "source": []
  },
  {
   "cell_type": "code",
   "execution_count": 7,
   "metadata": {},
   "outputs": [],
   "source": [
    "udata_path = '/labs/lab06data/ml-100k/u.data'\n",
    "udata_schema =  StructType(fields=[\n",
    "    StructField(\"user_id\", IntegerType()),\n",
    "    StructField(\"item_id\", IntegerType()),\n",
    "    StructField(\"rating\", IntegerType()),\n",
    "    StructField(\"timestamp\", IntegerType())\n",
    "])\n",
    "udata = spark.read.csv(path=udata_path, sep='\\t', schema=udata_schema)"
   ]
  },
  {
   "cell_type": "code",
   "execution_count": 8,
   "metadata": {},
   "outputs": [],
   "source": []
  },
  {
   "cell_type": "code",
   "execution_count": 9,
   "metadata": {},
   "outputs": [
    {
     "name": "stdout",
     "output_type": "stream",
     "text": [
      "+-------+-------+------+---------+\n",
      "|user_id|item_id|rating|timestamp|\n",
      "+-------+-------+------+---------+\n",
      "|    196|    242|     3|881250949|\n",
      "|    186|    302|     3|891717742|\n",
      "|     22|    377|     1|878887116|\n",
      "|    244|     51|     2|880606923|\n",
      "|    166|    346|     1|886397596|\n",
      "+-------+-------+------+---------+\n",
      "only showing top 5 rows\n",
      "\n"
     ]
    }
   ],
   "source": [
    "udata.show(5)"
   ]
  },
  {
   "cell_type": "markdown",
   "metadata": {},
   "source": [
    "## u.item"
   ]
  },
  {
   "cell_type": "code",
   "execution_count": 10,
   "metadata": {},
   "outputs": [
    {
     "name": "stdout",
     "output_type": "stream",
     "text": [
      "1|Toy Story (1995)|01-Jan-1995||http://us.imdb.com/M/title-exact?Toy%20Story%20(1995)|0|0|0|1|1|1|0|0|0|0|0|0|0|0|0|0|0|0|0\r\n",
      "2|GoldenEye (1995)|01-Jan-1995||http://us.imdb.com/M/title-exact?GoldenEye%20(1995)|0|1|1|0|0|0|0|0|0|0|0|0|0|0|0|0|1|0|0\r\n",
      "3|Four Rooms (1995)|01-Jan-1995||http://us.imdb.com/M/title-exact?Four%20Rooms%20(1995)|0|0|0|0|0|0|0|0|0|0|0|0|0|0|0|0|1|0|0\r\n",
      "4|Get Shorty (1995)|01-Jan-1995||http://us.imdb.com/M/title-exact?Get%20Shorty%20(1995)|0|1|0|0|0|1|0|0|1|0|0|0|0|0|0|0|0|0|0\r\n",
      "cat: Unable to write to output stream.\r\n"
     ]
    }
   ],
   "source": [
    "!hadoop fs -cat /labs/lab06data/ml-100k/u.item | head -n 4"
   ]
  },
  {
   "cell_type": "code",
   "execution_count": 11,
   "metadata": {},
   "outputs": [],
   "source": [
    "uitem_path = '/labs/lab06data/ml-100k/u.item'"
   ]
  },
  {
   "cell_type": "code",
   "execution_count": 12,
   "metadata": {},
   "outputs": [],
   "source": [
    "uitem_path = '/labs/lab06data/ml-100k/u.item'\n",
    "uitem_schema =  StructType(fields=[\n",
    "    StructField(\"movie_id\", IntegerType()),\n",
    "    StructField(\"release_date\", StringType()),\n",
    "    StructField(\"video_release_date\", StringType()),\n",
    "    StructField(\"to_del\", StringType()),\n",
    "    StructField(\"IMDb_url\", StringType()),\n",
    "    StructField(\"unknown\", IntegerType()),\n",
    "    StructField(\"Action\", IntegerType()),\n",
    "    StructField(\"Adventure\", IntegerType()),\n",
    "    StructField(\"Animation\", IntegerType()),\n",
    "    StructField(\"Childrens\", IntegerType()),\n",
    "    StructField(\"Comedy\", IntegerType()),\n",
    "    StructField(\"Crime\", IntegerType()),\n",
    "    StructField(\"Drama\", IntegerType()),\n",
    "    StructField(\"Fantasy\", IntegerType()),\n",
    "    StructField(\"Film_Noir\", IntegerType()),\n",
    "    StructField(\"Horror\", IntegerType()),\n",
    "    StructField(\"Musical\", IntegerType()),\n",
    "    StructField(\"Mystery\", IntegerType()),\n",
    "    StructField(\"Romance\", IntegerType()),\n",
    "    StructField(\"Sci_Fi\", IntegerType()),\n",
    "    StructField(\"Thriller\", IntegerType()),\n",
    "    StructField(\"War\", IntegerType()),\n",
    "    StructField(\"Western\", IntegerType())\n",
    "])\n",
    "uitem = spark.read.csv(path=uitem_path, sep='|', schema=uitem_schema)"
   ]
  },
  {
   "cell_type": "code",
   "execution_count": 13,
   "metadata": {},
   "outputs": [],
   "source": []
  },
  {
   "cell_type": "code",
   "execution_count": 14,
   "metadata": {},
   "outputs": [
    {
     "name": "stdout",
     "output_type": "stream",
     "text": [
      "-RECORD 0-------------------------------------------------------------------\n",
      " movie_id           | 1                                                     \n",
      " release_date       | Toy Story (1995)                                      \n",
      " video_release_date | 01-Jan-1995                                           \n",
      " to_del             | null                                                  \n",
      " IMDb_url           | http://us.imdb.com/M/title-exact?Toy%20Story%20(1995) \n",
      " unknown            | 0                                                     \n",
      " Action             | 0                                                     \n",
      " Adventure          | 0                                                     \n",
      " Animation          | 1                                                     \n",
      " Childrens          | 1                                                     \n",
      " Comedy             | 1                                                     \n",
      " Crime              | 0                                                     \n",
      " Drama              | 0                                                     \n",
      " Fantasy            | 0                                                     \n",
      " Film_Noir          | 0                                                     \n",
      " Horror             | 0                                                     \n",
      " Musical            | 0                                                     \n",
      " Mystery            | 0                                                     \n",
      " Romance            | 0                                                     \n",
      " Sci_Fi             | 0                                                     \n",
      " Thriller           | 0                                                     \n",
      " War                | 0                                                     \n",
      " Western            | 0                                                     \n",
      "only showing top 1 row\n",
      "\n"
     ]
    }
   ],
   "source": [
    "uitem.show(1, False, True)"
   ]
  },
  {
   "cell_type": "markdown",
   "metadata": {},
   "source": [
    "# Часть1. Основные характеристики данных MovieLens"
   ]
  },
  {
   "cell_type": "markdown",
   "metadata": {},
   "source": [
    "1. Найдите количество всех пользователей и количество всех фильмов в данных (общее число пользователей и фильмов в датасете)."
   ]
  },
  {
   "cell_type": "code",
   "execution_count": 22,
   "metadata": {},
   "outputs": [],
   "source": [
    "from pyspark.sql.functions import countDistinct"
   ]
  },
  {
   "cell_type": "code",
   "execution_count": 37,
   "metadata": {},
   "outputs": [
    {
     "data": {
      "text/plain": [
       "943"
      ]
     },
     "execution_count": 37,
     "metadata": {},
     "output_type": "execute_result"
    }
   ],
   "source": [
    "gr = udata.agg(countDistinct(\"user_id\")).collect()\n",
    "num_users = gr[0][0]\n",
    "num_users"
   ]
  },
  {
   "cell_type": "code",
   "execution_count": 39,
   "metadata": {},
   "outputs": [
    {
     "data": {
      "text/plain": [
       "1682"
      ]
     },
     "execution_count": 39,
     "metadata": {},
     "output_type": "execute_result"
    }
   ],
   "source": [
    "gr_item = uitem.agg(countDistinct(\"movie_id\")).collect()\n",
    "num_movies = gr_item[0][0]\n",
    "num_movies"
   ]
  },
  {
   "cell_type": "markdown",
   "metadata": {},
   "source": [
    "2. Сколько пользователь в среднем ставит рейтингов? Подсчитать количество рейтингов / количество пользователей. Поле average_user_ratings"
   ]
  },
  {
   "cell_type": "code",
   "execution_count": 41,
   "metadata": {},
   "outputs": [],
   "source": [
    "average_user_ratings = udata.count()/num_users"
   ]
  },
  {
   "cell_type": "code",
   "execution_count": 44,
   "metadata": {},
   "outputs": [
    {
     "data": {
      "text/plain": [
       "106.04453870625663"
      ]
     },
     "execution_count": 44,
     "metadata": {},
     "output_type": "execute_result"
    }
   ],
   "source": [
    "average_user_ratings"
   ]
  },
  {
   "cell_type": "markdown",
   "metadata": {},
   "source": [
    "3. Сколько фильм в среднем имеет рейтингов? Подсчитать количество рейтингов / количество фильмов. Поле average_film_ratings"
   ]
  },
  {
   "cell_type": "code",
   "execution_count": 42,
   "metadata": {},
   "outputs": [],
   "source": [
    "average_film_ratings = udata.count()/num_movies"
   ]
  },
  {
   "cell_type": "code",
   "execution_count": 45,
   "metadata": {},
   "outputs": [
    {
     "data": {
      "text/plain": [
       "59.45303210463734"
      ]
     },
     "execution_count": 45,
     "metadata": {},
     "output_type": "execute_result"
    }
   ],
   "source": [
    "average_film_ratings"
   ]
  },
  {
   "cell_type": "markdown",
   "metadata": {},
   "source": [
    "4. Найдите процент заполненных ячеек в данных: количество рейтингов / (количество пользователей * количество фильмов). Поле completeness."
   ]
  },
  {
   "cell_type": "code",
   "execution_count": 43,
   "metadata": {},
   "outputs": [],
   "source": [
    "completeness = udata.count()/(num_users*num_movies)"
   ]
  },
  {
   "cell_type": "code",
   "execution_count": 46,
   "metadata": {},
   "outputs": [
    {
     "data": {
      "text/plain": [
       "0.06304669364224531"
      ]
     },
     "execution_count": 46,
     "metadata": {},
     "output_type": "execute_result"
    }
   ],
   "source": [
    "completeness"
   ]
  },
  {
   "cell_type": "markdown",
   "metadata": {},
   "source": [
    "# Часть 2. User-user CF:"
   ]
  },
  {
   "cell_type": "markdown",
   "metadata": {},
   "source": [
    "1. Для каждого пользователя найдите его средний рейтинг (сумма рейтингов пользователя/количество рейтингов пользователя). Здесь Ia — множество фильмов, по которым у пользователя есть рейтинги rui. Здесь и далее |Ia| обозначает количество элементов в множестве Ia.\n"
   ]
  },
  {
   "cell_type": "code",
   "execution_count": 267,
   "metadata": {},
   "outputs": [],
   "source": [
    "from pyspark.sql.functions import col"
   ]
  },
  {
   "cell_type": "code",
   "execution_count": 113,
   "metadata": {},
   "outputs": [],
   "source": [
    "my_user_id = 94"
   ]
  },
  {
   "cell_type": "code",
   "execution_count": 288,
   "metadata": {},
   "outputs": [],
   "source": [
    "user_ranks_count = udata.groupBy(\"user_id\").count()\n",
    "user_ranks_avg = udata.groupBy(\"user_id\").agg({\"rating\":\"sum\"})\n",
    "user_ranks = user_ranks_count.join(user_ranks_avg, on='user_id').select(col(\"user_id\").alias(\"user_id\"), \n",
    "                                                                        col(\"count\").alias(\"rnk_count\"), \n",
    "                                                                        col(\"sum(rating)\").alias(\"rnk_sum\"))"
   ]
  },
  {
   "cell_type": "code",
   "execution_count": 87,
   "metadata": {},
   "outputs": [],
   "source": [
    "user_ranks = user_ranks.withColumn('user_avg_rnk', col('rnk_sum')/col('rnk_count'))"
   ]
  },
  {
   "cell_type": "code",
   "execution_count": 91,
   "metadata": {},
   "outputs": [],
   "source": [
    "my_user = user_ranks.where(col('user_id').isin(my_user_id))"
   ]
  },
  {
   "cell_type": "code",
   "execution_count": 122,
   "metadata": {},
   "outputs": [],
   "source": [
    "ra = my_user.select('user_avg_rnk').collect()"
   ]
  },
  {
   "cell_type": "code",
   "execution_count": 123,
   "metadata": {},
   "outputs": [
    {
     "data": {
      "text/plain": [
       "3.6575"
      ]
     },
     "execution_count": 123,
     "metadata": {},
     "output_type": "execute_result"
    }
   ],
   "source": [
    "ra = ra[0][0]\n",
    "ra"
   ]
  },
  {
   "attachments": {
    "image.png": {
     "image/png": "[encoded data removed]"
    }
   },
   "cell_type": "markdown",
   "metadata": {},
   "source": [
    "2. Посчитайте меру близости Пирсона выданного вам пользователя со всеми остальными пользователями. Обратите внимание, что корреляция Пирсона считается только на пересечении, то есть вклад вносят только фильмы, оцененные совместно (Ia, Iu — множества оцененных пользователями a и u фильмов). Корреляция с константой (ситуация, когда у пользователя все оценки одинаковые) равна нулю.\n",
    "\n",
    "Формат: ID пользователя; корреляция Пирсона\n",
    "\n",
    "![image.png](attachment:image.png)"
   ]
  },
  {
   "cell_type": "code",
   "execution_count": 98,
   "metadata": {},
   "outputs": [],
   "source": [
    "udata_94 = udata.where(col('user_id')==my_user_id)"
   ]
  },
  {
   "cell_type": "code",
   "execution_count": 101,
   "metadata": {},
   "outputs": [],
   "source": [
    "films = [i.item_id for i in udata_94.select('item_id').distinct().collect()]"
   ]
  },
  {
   "cell_type": "code",
   "execution_count": 103,
   "metadata": {},
   "outputs": [],
   "source": [
    "udata_for_pirson = udata.where(col('item_id').isin(films))"
   ]
  },
  {
   "cell_type": "code",
   "execution_count": 107,
   "metadata": {},
   "outputs": [],
   "source": [
    "udata_for_pirson = udata_for_pirson.join(user_ranks, on='user_id', how='left')"
   ]
  },
  {
   "cell_type": "code",
   "execution_count": 108,
   "metadata": {},
   "outputs": [
    {
     "name": "stdout",
     "output_type": "stream",
     "text": [
      "+-------+-------+------+---------+---------+-------+------------+\n",
      "|user_id|item_id|rating|timestamp|rnk_count|rnk_sum|user_avg_rnk|\n",
      "+-------+-------+------+---------+---------+-------+------------+\n",
      "|    148|      1|     4|877019411|       65|    260|         4.0|\n",
      "|    148|     70|     5|877021271|       65|    260|         4.0|\n",
      "|    148|    172|     5|877016513|       65|    260|         4.0|\n",
      "|    148|    177|     2|877020715|       65|    260|         4.0|\n",
      "|    148|    185|     1|877398385|       65|    260|         4.0|\n",
      "+-------+-------+------+---------+---------+-------+------------+\n",
      "only showing top 5 rows\n",
      "\n"
     ]
    }
   ],
   "source": [
    "udata_for_pirson.show(5)"
   ]
  },
  {
   "cell_type": "code",
   "execution_count": 110,
   "metadata": {},
   "outputs": [],
   "source": [
    "users = [i.user_id for i in udata_for_pirson.select('user_id').distinct().collect() if i.user_id != my_user_id]"
   ]
  },
  {
   "cell_type": "code",
   "execution_count": 168,
   "metadata": {},
   "outputs": [],
   "source": [
    "data_tmp = udata_for_pirson.withColumn('corr_rnk', col('rating')-col('user_avg_rnk'))"
   ]
  },
  {
   "cell_type": "code",
   "execution_count": 169,
   "metadata": {},
   "outputs": [
    {
     "name": "stdout",
     "output_type": "stream",
     "text": [
      "+-------+-------+------+---------+---------+-------+------------+--------+\n",
      "|user_id|item_id|rating|timestamp|rnk_count|rnk_sum|user_avg_rnk|corr_rnk|\n",
      "+-------+-------+------+---------+---------+-------+------------+--------+\n",
      "|    148|      1|     4|877019411|       65|    260|         4.0|     0.0|\n",
      "|    148|     70|     5|877021271|       65|    260|         4.0|     1.0|\n",
      "|    148|    172|     5|877016513|       65|    260|         4.0|     1.0|\n",
      "|    148|    177|     2|877020715|       65|    260|         4.0|    -2.0|\n",
      "|    148|    185|     1|877398385|       65|    260|         4.0|    -3.0|\n",
      "+-------+-------+------+---------+---------+-------+------------+--------+\n",
      "only showing top 5 rows\n",
      "\n"
     ]
    }
   ],
   "source": [
    "data_tmp.show(5)"
   ]
  },
  {
   "cell_type": "code",
   "execution_count": 170,
   "metadata": {},
   "outputs": [],
   "source": [
    "data_tmp_94 = data_tmp.where(col('user_id').isin([my_user_id]))\n",
    "\n",
    "data_tmp_94 = data_tmp_94.withColumnRenamed('corr_rnk','corr_rnk_94')\\\n",
    "        .withColumnRenamed('user_id','user_id_94')\\\n",
    "        .select('user_id_94','item_id','corr_rnk_94')"
   ]
  },
  {
   "cell_type": "code",
   "execution_count": 171,
   "metadata": {},
   "outputs": [],
   "source": [
    "data_mult = data_tmp_94.join(data_tmp, on='item_id', how='inner')\\\n",
    "    .withColumn('mult',f.col('corr_rnk')*f.col('corr_rnk_94'))\\\n",
    "    .groupBy('user_id').agg(\n",
    "        f.sum(f.col('mult')),\n",
    "        f.sqrt(f.sum(f.col('corr_rnk')**2)).alias('norm'),\n",
    "        f.sqrt(f.sum(f.col('corr_rnk_94')**2)).alias('norm_94'),\n",
    "        f.count(f.col('user_id_94')).alias('count')\n",
    "    )"
   ]
  },
  {
   "cell_type": "code",
   "execution_count": 172,
   "metadata": {},
   "outputs": [
    {
     "name": "stdout",
     "output_type": "stream",
     "text": [
      "+-------+-------------------+------------------+------------------+-----+\n",
      "|user_id|          sum(mult)|              norm|           norm_94|count|\n",
      "+-------+-------------------+------------------+------------------+-----+\n",
      "|    148| -6.315000000000007| 7.874007874011811|  6.16833800549224|   47|\n",
      "|    496|  36.03889534883721|12.079049270707424| 8.147455507703002|   85|\n",
      "|    833|  86.82283707865173|15.874599323251545| 11.95868565102369|  154|\n",
      "|    463| 17.330225563909774| 8.054761973972065| 6.785329763541341|   48|\n",
      "|    471|-7.8361290322580635| 7.596209142741567|4.4944368390266645|   26|\n",
      "|    243| 13.676635802469127|4.4827396798544825| 6.153418257359075|   41|\n",
      "|    897| 12.734608108108096|11.087896388006884|11.334571286555127|  129|\n",
      "|    623|  7.114166666666667| 6.057135369866591|5.6661908501214455|   35|\n",
      "|    737|  7.322121212121213| 5.564712380268614| 5.442598758865106|   29|\n",
      "|    392| 18.755495495495495| 6.708814901797171| 6.514328438143106|   44|\n",
      "|    540| 15.557857142857143|  3.65334624358412|  6.48717292046389|   34|\n",
      "|    858| 2.6810714285714297|2.8607120563572552|2.5116627958386446|    8|\n",
      "|     31| 5.2214583333333335|3.5930101895516833|2.8888351891376565|   11|\n",
      "|    516|-0.8349999999999971|2.4697719009314167| 3.116948628065595|   11|\n",
      "|    251|   9.82201298701299| 5.589396751578013|6.4838800112278445|   48|\n",
      "|    580| 13.139202127659576| 6.541125947075185| 5.456643886126343|   26|\n",
      "|     85|  42.64053819444443| 9.724864472301382|11.712640073868913|  150|\n",
      "|    137|-1.0504255319148976| 5.618391193360399| 4.848111745824347|   30|\n",
      "|    808|  2.236521739130434|2.0824226112744433| 2.842735258514236|    7|\n",
      "|    451|-3.5784693877551037|  4.77769006588759| 3.657603381997562|   10|\n",
      "+-------+-------------------+------------------+------------------+-----+\n",
      "only showing top 20 rows\n",
      "\n"
     ]
    }
   ],
   "source": [
    "data_mult.show()"
   ]
  },
  {
   "cell_type": "code",
   "execution_count": 176,
   "metadata": {},
   "outputs": [],
   "source": [
    "data_pearson = data_mult.withColumn('pearson',\\\n",
    "                    f.least(f.col('count')/50,f.lit(1))*f.col('sum(mult)')/(f.col('norm_94')*f.col('norm')))"
   ]
  },
  {
   "cell_type": "code",
   "execution_count": 182,
   "metadata": {},
   "outputs": [],
   "source": [
    "neighbours = data_pearson.sort('pearson', ascending = False).take(31)"
   ]
  },
  {
   "cell_type": "code",
   "execution_count": 184,
   "metadata": {},
   "outputs": [],
   "source": [
    "ngb = [x['user_id'] for x in neighbours]\n",
    "ngb = ngb[1:]"
   ]
  },
  {
   "attachments": {
    "image.png": {
     "image/png": "[encoded data removed]"
    }
   },
   "cell_type": "markdown",
   "metadata": {},
   "source": [
    "5. Для всех фильмов найдите прогноз оценки по формуле ниже. Здесь N(a) — множество пользователей-соседей, s(a,u) — мера близости пользователей из предыдущих пунктов, |s(a,u)| — модуль меры близости.\n",
    "\n",
    "![image.png](attachment:image.png)"
   ]
  },
  {
   "cell_type": "code",
   "execution_count": 277,
   "metadata": {},
   "outputs": [],
   "source": [
    "data_pearson = data_pearson.sort('pearson', ascending = False).where(col('user_id').isin(ngb))"
   ]
  },
  {
   "cell_type": "code",
   "execution_count": 278,
   "metadata": {},
   "outputs": [],
   "source": [
    "neighbours = data_pearson.sort('pearson', ascending = False).where('user_id!=94').limit(30)"
   ]
  },
  {
   "cell_type": "code",
   "execution_count": 279,
   "metadata": {},
   "outputs": [
    {
     "name": "stdout",
     "output_type": "stream",
     "text": [
      "+-------+------------------+-----------------+------------------+-----+------------------+\n",
      "|user_id|         sum(mult)|             norm|           norm_94|count|           pearson|\n",
      "+-------+------------------+-----------------+------------------+-----+------------------+\n",
      "|    397| 33.91161764705882|6.915455835428689| 6.656772397340921|   51|0.7366547382609498|\n",
      "|    323| 32.11848314606742|6.997898579013296| 7.249954741238045|   55|0.6330705156721718|\n",
      "|    360|23.760441176470575|5.744428790571782| 6.663355948769358|   50|0.6207470104562197|\n",
      "|    293|141.31806701030922|16.40684321245584| 14.59860524159757|  236|0.5900126124304435|\n",
      "|    267| 63.91263513513515| 9.32711278320942|11.734408538567248|  135|0.5839535344843637|\n",
      "+-------+------------------+-----------------+------------------+-----+------------------+\n",
      "only showing top 5 rows\n",
      "\n"
     ]
    }
   ],
   "source": [
    "neighbours.show(5)"
   ]
  },
  {
   "cell_type": "code",
   "execution_count": 298,
   "metadata": {},
   "outputs": [
    {
     "name": "stdout",
     "output_type": "stream",
     "text": [
      "+-------+---------+-------+------------------+\n",
      "|user_id|rnk_count|rnk_sum|      user_avg_rnk|\n",
      "+-------+---------+-------+------------------+\n",
      "|    148|       65|    260|               4.0|\n",
      "|    463|      133|    381|2.8646616541353382|\n",
      "|    471|       31|    105|3.3870967741935485|\n",
      "|    496|      129|    391|3.0310077519379846|\n",
      "|    833|      267|    816| 3.056179775280899|\n",
      "+-------+---------+-------+------------------+\n",
      "only showing top 5 rows\n",
      "\n"
     ]
    }
   ],
   "source": [
    "user_ranks = user_ranks.withColumn('user_avg_rnk', col('rnk_sum')/col('rnk_count'))\n",
    "user_ranks.show(5)"
   ]
  },
  {
   "cell_type": "code",
   "execution_count": 304,
   "metadata": {},
   "outputs": [],
   "source": [
    "udata_upd = udata.join(user_ranks, on='user_id', how='left')"
   ]
  },
  {
   "cell_type": "code",
   "execution_count": 300,
   "metadata": {},
   "outputs": [
    {
     "name": "stdout",
     "output_type": "stream",
     "text": [
      "+-------+-------+------+---------+---------+-------+------------+\n",
      "|user_id|item_id|rating|timestamp|rnk_count|rnk_sum|user_avg_rnk|\n",
      "+-------+-------+------+---------+---------+-------+------------+\n",
      "|    148|    408|     5|877399018|       65|    260|         4.0|\n",
      "|    148|      1|     4|877019411|       65|    260|         4.0|\n",
      "|    148|    140|     1|877019882|       65|    260|         4.0|\n",
      "|    148|    114|     5|877016735|       65|    260|         4.0|\n",
      "|    148|     70|     5|877021271|       65|    260|         4.0|\n",
      "+-------+-------+------+---------+---------+-------+------------+\n",
      "only showing top 5 rows\n",
      "\n"
     ]
    }
   ],
   "source": [
    "udata_upd.show(5)"
   ]
  },
  {
   "cell_type": "code",
   "execution_count": 305,
   "metadata": {},
   "outputs": [],
   "source": [
    "udata_upd = udata_upd.withColumn('corr_rnk', col('rating')-col('user_avg_rnk'))"
   ]
  },
  {
   "cell_type": "code",
   "execution_count": 306,
   "metadata": {},
   "outputs": [],
   "source": [
    "movie_data = udata_upd.join(neighbours, on='user_id', how='inner')"
   ]
  },
  {
   "cell_type": "code",
   "execution_count": 307,
   "metadata": {},
   "outputs": [
    {
     "data": {
      "text/plain": [
       "6499"
      ]
     },
     "execution_count": 307,
     "metadata": {},
     "output_type": "execute_result"
    }
   ],
   "source": [
    "movie_data.count()"
   ]
  },
  {
   "cell_type": "code",
   "execution_count": 308,
   "metadata": {},
   "outputs": [],
   "source": [
    "final = movie_data.groupBy('item_id').agg(\n",
    "    (f.lit(ra)+f.sum(f.col('pearson')*f.col('corr_rnk'))/f.sum(f.abs(f.col('pearson')))).alias('movie_rating')\n",
    ").sort('movie_rating', ascending = False)"
   ]
  },
  {
   "cell_type": "code",
   "execution_count": 309,
   "metadata": {},
   "outputs": [
    {
     "name": "stdout",
     "output_type": "stream",
     "text": [
      "+-------+------------------+\n",
      "|item_id|      movie_rating|\n",
      "+-------+------------------+\n",
      "|   1367| 5.377996894409938|\n",
      "|   1529| 5.377996894409938|\n",
      "|    513|5.0362215404150605|\n",
      "|   1099|5.0027380952380955|\n",
      "|   1103|4.9877089429641455|\n",
      "+-------+------------------+\n",
      "only showing top 5 rows\n",
      "\n"
     ]
    }
   ],
   "source": [
    "final.show(5)"
   ]
  },
  {
   "cell_type": "code",
   "execution_count": 313,
   "metadata": {},
   "outputs": [],
   "source": [
    "tt = final.join(data_tmp_94, on = \"item_id\", how=\"left\").where(data_tmp_94['user_id_94'].isNull())\\\n",
    "                                                .sort('movie_rating', ascending = False).limit(10)"
   ]
  },
  {
   "cell_type": "code",
   "execution_count": 317,
   "metadata": {},
   "outputs": [],
   "source": [
    "pearson_top10 = [t.item_id for t in tt.select(col('item_id')).collect()]"
   ]
  },
  {
   "cell_type": "code",
   "execution_count": 318,
   "metadata": {},
   "outputs": [
    {
     "data": {
      "text/plain": [
       "[1529, 1367, 513, 1099, 1103, 1080, 493, 320, 611, 902]"
      ]
     },
     "execution_count": 318,
     "metadata": {},
     "output_type": "execute_result"
    }
   ],
   "source": [
    "pearson_top10"
   ]
  },
  {
   "cell_type": "code",
   "execution_count": 319,
   "metadata": {},
   "outputs": [],
   "source": [
    "result = {\n",
    "    \"average_film_ratings\": round(average_film_ratings, 6),\n",
    "    \"average_user_ratings\": round(average_user_ratings, 6),\n",
    "    \"completeness\": round(completeness, 6),\n",
    "    \"pearson_neighbours\": ngb,\n",
    "    \"pearson_top10\": pearson_top10\n",
    "}"
   ]
  },
  {
   "cell_type": "code",
   "execution_count": 320,
   "metadata": {},
   "outputs": [],
   "source": [
    "import json\n",
    "with open('../lab08.json', 'w') as outfile:\n",
    "    json.dump(result, outfile)"
   ]
  },
  {
   "cell_type": "code",
   "execution_count": null,
   "metadata": {},
   "outputs": [],
   "source": []
  }
 ],
 "metadata": {
  "kernelspec": {
   "display_name": "Python 3",
   "language": "python",
   "name": "python3"
  },
  "language_info": {
   "codemirror_mode": {
    "name": "ipython",
    "version": 3
   },
   "file_extension": ".py",
   "mimetype": "text/x-python",
   "name": "python",
   "nbconvert_exporter": "python",
   "pygments_lexer": "ipython3",
   "version": "3.6.5"
  }
 },
 "nbformat": 4,
 "nbformat_minor": 2
}
