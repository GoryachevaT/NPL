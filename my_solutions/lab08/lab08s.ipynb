{
 "cells": [
  {
   "cell_type": "markdown",
   "metadata": {},
   "source": [
    "[The author's github-->](https://github.com/baranovxyz)"
   ]
  },
  {
   "cell_type": "code",
   "execution_count": 1,
   "metadata": {
    "scrolled": true
   },
   "outputs": [],
   "source": [
    "#!curl -LO http://files.grouplens.org/datasets/movielens/ml-100k.zip\n",
    "#!unzip ml-100k.zip"
   ]
  },
  {
   "cell_type": "markdown",
   "metadata": {},
   "source": [
    "http://files.grouplens.org/datasets/movielens/ml-100k-README.txt"
   ]
  },
  {
   "cell_type": "code",
   "execution_count": 1,
   "metadata": {},
   "outputs": [],
   "source": [
    "target_userid = 94"
   ]
  },
  {
   "cell_type": "code",
   "execution_count": 2,
   "metadata": {},
   "outputs": [
    {
     "name": "stderr",
     "output_type": "stream",
     "text": [
      "/usr/hdp/current/spark2-client/python/pyspark/shell.py:45: UserWarning: Failed to initialize Spark session.\n",
      "  warnings.warn(\"Failed to initialize Spark session.\")\n",
      "Traceback (most recent call last):\n",
      "  File \"/usr/hdp/current/spark2-client/python/pyspark/shell.py\", line 41, in <module>\n",
      "    spark = SparkSession._create_shell_session()\n",
      "AttributeError: type object 'SparkSession' has no attribute '_create_shell_session'\n"
     ]
    },
    {
     "ename": "SystemExit",
     "evalue": "1",
     "output_type": "error",
     "traceback": [
      "An exception has occurred, use %tb to see the full traceback.\n",
      "\u001b[0;31mSystemExit\u001b[0m\u001b[0;31m:\u001b[0m 1\n"
     ]
    },
    {
     "name": "stderr",
     "output_type": "stream",
     "text": [
      "/opt/anaconda/envs/bd9/lib/python3.6/site-packages/IPython/core/interactiveshell.py:2971: UserWarning: To exit: use 'exit', 'quit', or Ctrl-D.\n",
      "  warn(\"To exit: use 'exit', 'quit', or Ctrl-D.\", stacklevel=1)\n"
     ]
    }
   ],
   "source": [
    "import os\n",
    "import sys\n",
    "from pyspark import SparkContext\n",
    "os.environ[\"PYSPARK_SUBMIT_ARGS\"]='--packages com.databricks:spark-csv_2.10:1.2.0 pyspark-shell'\n",
    "os.environ[\"PYSPARK_PYTHON\"]='python3'\n",
    "os.environ[\"SPARK_HOME\"]='/usr/hdp/current/spark2-client'\n",
    "spark_home = os.environ.get('SPARK_HOME', None)\n",
    "sys.path.insert(0, spark_home + \"/python\")\n",
    "import runpy\n",
    "spark = runpy.run_path(os.path.join(spark_home, 'python/pyspark/shell.py'))\n",
    "sc = spark['sc']"
   ]
  },
  {
   "cell_type": "code",
   "execution_count": null,
   "metadata": {},
   "outputs": [],
   "source": [
    "from operator import add\n",
    "import operator as op\n",
    "import json\n",
    "import re\n",
    "from datetime import datetime\n",
    "from pyspark.sql import Row\n",
    "from pyspark.sql import functions as F\n",
    "import numpy as np\n",
    "import math\n",
    "from IPython.display import clear_output"
   ]
  },
  {
   "cell_type": "code",
   "execution_count": null,
   "metadata": {},
   "outputs": [],
   "source": [
    "!head -n3 ml-100k/u.data"
   ]
  },
  {
   "cell_type": "markdown",
   "metadata": {},
   "source": [
    "The full u data set, 100000 ratings by 943 users on 1682 items.\n",
    "              Each user has rated at least 20 movies.  Users and items are\n",
    "              numbered consecutively from 1.  The data is randomly\n",
    "              ordered. This is a tab separated list of \n",
    "\t         user id | item id | rating | timestamp. \n",
    "              The time stamps are unix seconds since 1/1/1970 UTC"
   ]
  },
  {
   "cell_type": "markdown",
   "metadata": {},
   "source": [
    "Найдите количество всех пользователей и количество всех фильмов в данных (общее число пользователей и фильмов в датасете)."
   ]
  },
  {
   "cell_type": "code",
   "execution_count": null,
   "metadata": {},
   "outputs": [],
   "source": [
    "rdd_ratings = sc.textFile(\"/user/valery.baranov/u.data\")\\\n",
    "    .map(lambda line: [int(d) for d in line.split('\\t')])\\\n",
    "    .map(lambda ds: Row(userid=ds[0], movieid=ds[1], rating=ds[2], ts=ds[3]))"
   ]
  },
  {
   "cell_type": "code",
   "execution_count": null,
   "metadata": {},
   "outputs": [],
   "source": [
    "df_ratings = rdd_ratings.toDF()"
   ]
  },
  {
   "cell_type": "code",
   "execution_count": null,
   "metadata": {},
   "outputs": [],
   "source": [
    "df_ratings.show(n=3)"
   ]
  },
  {
   "cell_type": "code",
   "execution_count": null,
   "metadata": {},
   "outputs": [],
   "source": [
    "num_users = rdd_ratings.map(lambda row: row.userid).distinct().count()\n",
    "num_users"
   ]
  },
  {
   "cell_type": "code",
   "execution_count": null,
   "metadata": {},
   "outputs": [],
   "source": [
    "def get_userid_iter():\n",
    "    return range(1, num_users + 1)"
   ]
  },
  {
   "cell_type": "code",
   "execution_count": null,
   "metadata": {},
   "outputs": [],
   "source": [
    "num_movies = rdd_ratings.map(lambda row: row.movieid).distinct().count()\n",
    "num_movies"
   ]
  },
  {
   "cell_type": "markdown",
   "metadata": {},
   "source": [
    "Сколько пользователь в среднем ставит рейтингов? Подсчитать `количество рейтингов / количество пользователей`. \n",
    "   Поле `average_user_ratings`."
   ]
  },
  {
   "cell_type": "code",
   "execution_count": 12,
   "metadata": {},
   "outputs": [
    {
     "data": {
      "text/plain": [
       "100000"
      ]
     },
     "execution_count": 12,
     "metadata": {},
     "output_type": "execute_result"
    }
   ],
   "source": [
    "num_ratings = rdd_ratings.count()\n",
    "num_ratings"
   ]
  },
  {
   "cell_type": "code",
   "execution_count": 13,
   "metadata": {},
   "outputs": [
    {
     "data": {
      "text/plain": [
       "106.04453870625663"
      ]
     },
     "execution_count": 13,
     "metadata": {},
     "output_type": "execute_result"
    }
   ],
   "source": [
    "average_user_ratings = num_ratings / num_users\n",
    "average_user_ratings"
   ]
  },
  {
   "cell_type": "markdown",
   "metadata": {},
   "source": [
    "Сколько фильм в среднем имеет рейтингов?  Подсчитать`количество рейтингов / количество фильмов`. \n",
    "   Поле `average_film_ratings`."
   ]
  },
  {
   "cell_type": "code",
   "execution_count": 14,
   "metadata": {},
   "outputs": [
    {
     "data": {
      "text/plain": [
       "59.45303210463734"
      ]
     },
     "execution_count": 14,
     "metadata": {},
     "output_type": "execute_result"
    }
   ],
   "source": [
    "average_film_ratings = num_ratings / num_movies\n",
    "average_film_ratings"
   ]
  },
  {
   "cell_type": "markdown",
   "metadata": {},
   "source": [
    "Найдите процент заполненных ячеек в данных: `количество рейтингов / (количество пользователей * количество фильмов)`. \n",
    "   Поле `completeness`."
   ]
  },
  {
   "cell_type": "code",
   "execution_count": 15,
   "metadata": {},
   "outputs": [
    {
     "data": {
      "text/plain": [
       "0.06304669364224531"
      ]
     },
     "execution_count": 15,
     "metadata": {},
     "output_type": "execute_result"
    }
   ],
   "source": [
    "completeness = num_ratings / (num_users * num_movies)\n",
    "completeness"
   ]
  },
  {
   "cell_type": "markdown",
   "metadata": {},
   "source": [
    "#1 Для каждого пользователя найдите его средний рейтинг (сумма рейтингов пользователя/количество рейтингов пользователя). Здесь I<sub>a</sub> — множество фильмов, по которым у пользователя есть рейтинги r<sub>ui</sub>. Здесь и далее |I<sub>a</sub>| обозначает количество элементов в множестве I<sub>a</sub>.\n",
    "\n",
    "<img width=\"100px\" src=\"http://data.newprolab.com/public-newprolab-com/laba08_r_a_avg.png\">"
   ]
  },
  {
   "cell_type": "code",
   "execution_count": 16,
   "metadata": {},
   "outputs": [],
   "source": [
    "df_avg_user_rating = df_ratings.groupby('userid').mean('rating')"
   ]
  },
  {
   "cell_type": "code",
   "execution_count": 17,
   "metadata": {},
   "outputs": [],
   "source": [
    "user_avg = df_avg_user_rating.rdd.map(lambda row: (row.userid, row['avg(rating)'])).collect()"
   ]
  },
  {
   "cell_type": "code",
   "execution_count": 18,
   "metadata": {},
   "outputs": [
    {
     "data": {
      "text/plain": [
       "[(26, 2.94392523364486), (29, 3.6470588235294117), (474, 4.08256880733945)]"
      ]
     },
     "execution_count": 18,
     "metadata": {},
     "output_type": "execute_result"
    }
   ],
   "source": [
    "user_avg[:3]"
   ]
  },
  {
   "cell_type": "code",
   "execution_count": 19,
   "metadata": {},
   "outputs": [
    {
     "data": {
      "text/plain": [
       "array([ 3.61029412,  3.70967742,  2.7962963 ,  4.33333333,  2.87428571,\n",
       "        3.63507109,  3.96526055,  3.79661017,  4.27272727,  4.20652174])"
      ]
     },
     "execution_count": 19,
     "metadata": {},
     "output_type": "execute_result"
    }
   ],
   "source": [
    "avg_ratings = np.array([v for k,v in sorted(user_avg)])\n",
    "avg_ratings[:10]"
   ]
  },
  {
   "cell_type": "markdown",
   "metadata": {},
   "source": [
    "#2 Посчитайте меру близости Пирсона выданного вам пользователя со всеми остальными пользователями. Обратите внимание, что корреляция Пирсона считается только на пересечении, то есть вклад вносят только фильмы, оцененные совместно (I<sub>a</sub>, I<sub>u</sub> — множества оцененных пользователями `a` и `u` фильмов). Корреляция с константой (ситуация, когда у пользователя все оценки одинаковые) равна нулю.\n",
    "\n",
    "Формат: `ID пользователя; корреляция Пирсона`.\n",
    "\n",
    "<img width=\"350px\" src=\"http://data.newprolab.com/public-newprolab-com/laba08_pearson.png\">"
   ]
  },
  {
   "cell_type": "code",
   "execution_count": 20,
   "metadata": {},
   "outputs": [],
   "source": [
    "df_pivot_ratings = df_ratings.groupBy(\"movieid\").pivot(\"userid\", range(1, num_users + 1)).sum(\"rating\")\\\n",
    "    .coalesce(1).cache()"
   ]
  },
  {
   "cell_type": "code",
   "execution_count": 21,
   "metadata": {},
   "outputs": [],
   "source": [
    "df_pivot_rows = df_ratings.groupBy(\"userid\").pivot(\"movieid\", range(1, num_movies + 1)).sum(\"rating\").cache()"
   ]
  },
  {
   "cell_type": "code",
   "execution_count": 22,
   "metadata": {},
   "outputs": [],
   "source": [
    "target_row = df_pivot_rows.rdd.filter(lambda row: row.userid == target_userid).collect()[0]\n",
    "target_values =[v for k,v in sorted(target_row.asDict().items()) if k != 'userid']"
   ]
  },
  {
   "cell_type": "code",
   "execution_count": 23,
   "metadata": {},
   "outputs": [
    {
     "data": {
      "text/plain": [
       "1682"
      ]
     },
     "execution_count": 23,
     "metadata": {},
     "output_type": "execute_result"
    }
   ],
   "source": [
    "len(target_values)"
   ]
  },
  {
   "cell_type": "code",
   "execution_count": 24,
   "metadata": {},
   "outputs": [
    {
     "data": {
      "text/plain": [
       "[3, None, 4, None, None, None, None, None, None, None]"
      ]
     },
     "execution_count": 24,
     "metadata": {},
     "output_type": "execute_result"
    }
   ],
   "source": [
    "target_values[:10]"
   ]
  },
  {
   "cell_type": "code",
   "execution_count": 25,
   "metadata": {
    "collapsed": true
   },
   "outputs": [],
   "source": [
    "br_target_values = sc.broadcast(target_values)\n",
    "br_avg_ratings = sc.broadcast(avg_ratings)"
   ]
  },
  {
   "cell_type": "code",
   "execution_count": 26,
   "metadata": {},
   "outputs": [
    {
     "data": {
      "text/plain": [
       "943"
      ]
     },
     "execution_count": 26,
     "metadata": {},
     "output_type": "execute_result"
    }
   ],
   "source": [
    "len(br_avg_ratings.value)"
   ]
  },
  {
   "cell_type": "code",
   "execution_count": 27,
   "metadata": {},
   "outputs": [],
   "source": [
    "def pearson_byrows(row):\n",
    "    row_ = row.asDict()\n",
    "    userid = int(row_.pop('userid'))\n",
    "    uid = userid - 1\n",
    "    tid = target_userid - 1\n",
    "    user_values =[v for k,v in sorted(row_.items())]\n",
    "    ratings = [(user_values[i], br_target_values.value[i]) for i in range(len(br_target_values.value))\\\n",
    "               if user_values[i] is not None and br_target_values.value[i] is not None]\n",
    "    \n",
    "    data = [((v1 - br_avg_ratings.value[uid]),(v2 - br_avg_ratings.value[tid])) for v1, v2 in ratings]\n",
    "        \n",
    "    c = sum([v1*v2 for v1,v2 in data])\n",
    "    z1 = sum([v1 ** 2 for v1,v2 in data])\n",
    "    z2 = sum([v2 ** 2 for v1,v2 in data])\n",
    "    if c == 0:\n",
    "        return 0\n",
    "    return (userid, c / (math.sqrt(z1) * math.sqrt(z2)))"
   ]
  },
  {
   "cell_type": "code",
   "execution_count": 28,
   "metadata": {
    "collapsed": true
   },
   "outputs": [],
   "source": [
    "row1 = df_pivot_rows.rdd.take(1)[0]"
   ]
  },
  {
   "cell_type": "code",
   "execution_count": 29,
   "metadata": {},
   "outputs": [
    {
     "data": {
      "text/plain": [
       "(474, 0.17761222077834857)"
      ]
     },
     "execution_count": 29,
     "metadata": {},
     "output_type": "execute_result"
    }
   ],
   "source": [
    "pearson_byrows(row1)"
   ]
  },
  {
   "cell_type": "code",
   "execution_count": 30,
   "metadata": {},
   "outputs": [
    {
     "data": {
      "text/plain": [
       "[(474, 0.17761222077834857),\n",
       " (26, 0.31266945349376479),\n",
       " (29, 0.21850782526734225)]"
      ]
     },
     "execution_count": 30,
     "metadata": {},
     "output_type": "execute_result"
    }
   ],
   "source": [
    "df_pivot_rows.rdd.map(pearson_byrows).take(3)"
   ]
  },
  {
   "cell_type": "code",
   "execution_count": 31,
   "metadata": {},
   "outputs": [],
   "source": [
    "pearson_t = df_pivot_rows.rdd.map(pearson_byrows).collect()"
   ]
  },
  {
   "cell_type": "code",
   "execution_count": 32,
   "metadata": {
    "collapsed": true
   },
   "outputs": [],
   "source": [
    "pearson = [v for k,v in sorted(pearson_t)]"
   ]
  },
  {
   "cell_type": "code",
   "execution_count": 33,
   "metadata": {},
   "outputs": [
    {
     "data": {
      "text/plain": [
       "0.40686121675947595"
      ]
     },
     "execution_count": 33,
     "metadata": {},
     "output_type": "execute_result"
    }
   ],
   "source": [
    "pearson[0]"
   ]
  },
  {
   "cell_type": "code",
   "execution_count": 34,
   "metadata": {},
   "outputs": [
    {
     "data": {
      "text/plain": [
       "0.3570300868991909"
      ]
     },
     "execution_count": 34,
     "metadata": {},
     "output_type": "execute_result"
    }
   ],
   "source": [
    "df_pivot_ratings.corr(str(1), str(target_userid), method='pearson')"
   ]
  },
  {
   "cell_type": "code",
   "execution_count": 35,
   "metadata": {},
   "outputs": [
    {
     "data": {
      "text/plain": [
       "943"
      ]
     },
     "execution_count": 35,
     "metadata": {},
     "output_type": "execute_result"
    }
   ],
   "source": [
    "len(pearson)"
   ]
  },
  {
   "cell_type": "markdown",
   "metadata": {},
   "source": [
    "#3. Посчитайте поправочный коэффициент для корреляции Пирсона на нехватку данных:\n",
    "\n",
    "<img width=\"150px\" src=\"http://data.newprolab.com/public-newprolab-com/laba08_reg_coef.png\">"
   ]
  },
  {
   "cell_type": "code",
   "execution_count": 36,
   "metadata": {},
   "outputs": [],
   "source": [
    "target_user_movies = set(df_ratings\\\n",
    "    .filter(df_ratings.userid==target_userid)\\\n",
    "    .select('movieid')\\\n",
    "    .rdd.map(lambda row: row.movieid)\\\n",
    "    .collect())"
   ]
  },
  {
   "cell_type": "code",
   "execution_count": 37,
   "metadata": {},
   "outputs": [
    {
     "data": {
      "text/plain": [
       "311"
      ]
     },
     "execution_count": 37,
     "metadata": {},
     "output_type": "execute_result"
    }
   ],
   "source": [
    "len(target_user_movies)"
   ]
  },
  {
   "cell_type": "code",
   "execution_count": 38,
   "metadata": {},
   "outputs": [],
   "source": [
    "coef = df_ratings.groupby('userid')\\\n",
    "    .agg(F.collect_list(df_ratings.movieid).alias('movieids'))\\\n",
    "    .rdd.map(lambda row: (row.userid, min(1, len(set(row.movieids) & target_user_movies) / 50)))\\\n",
    "    .collect()"
   ]
  },
  {
   "cell_type": "code",
   "execution_count": 39,
   "metadata": {},
   "outputs": [
    {
     "data": {
      "text/plain": [
       "[(1, 1), (2, 0.38), (3, 0.16)]"
      ]
     },
     "execution_count": 39,
     "metadata": {},
     "output_type": "execute_result"
    }
   ],
   "source": [
    "coef = sorted(coef)\n",
    "coef[:3]"
   ]
  },
  {
   "cell_type": "markdown",
   "metadata": {},
   "source": [
    "#4. Найдите 30 ближайших пользователей-соседей данного пользователя (`pearson_neighbours`), используя поправленную корреляцию Пирсона: \n",
    "\n",
    "<img width=\"500px\" src=\"http://data.newprolab.com/public-newprolab-com/laba08_pearson_reg_coef.png\">"
   ]
  },
  {
   "cell_type": "code",
   "execution_count": 40,
   "metadata": {},
   "outputs": [
    {
     "data": {
      "text/plain": [
       "[0.40686121675947595, 0.12799088872883987, 0.024754587048673921]"
      ]
     },
     "execution_count": 40,
     "metadata": {},
     "output_type": "execute_result"
    }
   ],
   "source": [
    "corr_pearson = [coef[i][1] * pearson[i] for i in range(len(pearson))]\n",
    "corr_pearson[:3]"
   ]
  },
  {
   "cell_type": "code",
   "execution_count": 41,
   "metadata": {
    "collapsed": true
   },
   "outputs": [],
   "source": [
    "top30 =[(k,v) for k,v in sorted(zip(corr_pearson, get_userid_iter()), reverse=True)[:31] if v != target_userid]"
   ]
  },
  {
   "cell_type": "code",
   "execution_count": 42,
   "metadata": {
    "collapsed": true
   },
   "outputs": [],
   "source": [
    "top30userids = {v for k,v in top30}"
   ]
  },
  {
   "cell_type": "code",
   "execution_count": 43,
   "metadata": {},
   "outputs": [
    {
     "data": {
      "text/plain": [
       "'640 5 268 397 276 916 22 407 663 293 44 429 560 447 453 70 457 334 82 344 345 476 741 749 882 246 632 889 381 638'"
      ]
     },
     "execution_count": 43,
     "metadata": {},
     "output_type": "execute_result"
    }
   ],
   "source": [
    "' '.join([str(x) for x in top30userids])"
   ]
  },
  {
   "cell_type": "markdown",
   "metadata": {},
   "source": [
    "#5. Для всех фильмов найдите прогноз оценки по формуле ниже. Здесь *N(a)* — множество пользователей-соседей, *s(a,u)* — мера близости пользователей из предыдущих пунктов, *|s(a,u)|* — модуль меры близости. \n",
    "\n",
    "<img width=\"250px\" src=\"http://data.newprolab.com/public-newprolab-com/laba08_user_user_cf.png\">\n"
   ]
  },
  {
   "cell_type": "markdown",
   "metadata": {},
   "source": [
    "# ** Ошибиться негде!!! **\n",
    "```\n",
    "time: 2017-19-11 22:55\n",
    "ratings_count / (users_count * films_count) is ok: True\n",
    "average ratings count per film is ok: True\n",
    "pearson neighbours intersection for your user: [1.0, True]\n",
    "length of intersection values is reasonable: True\n",
    "top10 by pearson intersection: [0.6, False]\n",
    "file lab08.json found in your home directory: True\n",
    "average ratings count per user is ok: True\n",
    "file is readable and has all required fields: True\n",
    "```"
   ]
  },
  {
   "cell_type": "code",
   "execution_count": 44,
   "metadata": {},
   "outputs": [
    {
     "data": {
      "text/plain": [
       "3.1543408360128615"
      ]
     },
     "execution_count": 44,
     "metadata": {},
     "output_type": "execute_result"
    }
   ],
   "source": [
    "target_user_avg_rating = avg_ratings[target_userid - 1]\n",
    "target_user_avg_rating\n",
    "# вообще не влияет на результат"
   ]
  },
  {
   "cell_type": "code",
   "execution_count": 45,
   "metadata": {},
   "outputs": [],
   "source": [
    "# отбираем только рейтинги для топ 30, по которым полное совпадение с чекером\n",
    "df_pivot_top = df_ratings.rdd.filter(lambda row: row.userid in top30userids)\\\n",
    "    .toDF().groupBy(\"movieid\").pivot(\"userid\", list(top30userids)).sum(\"rating\")\\\n",
    "    .cache()"
   ]
  },
  {
   "cell_type": "code",
   "execution_count": 46,
   "metadata": {},
   "outputs": [],
   "source": [
    "# тут ошибиться тоже негде\n",
    "def predict_rating_row(row):\n",
    "    row_ = row.asDict()\n",
    "    movieid = int(row_.pop('movieid'))\n",
    "    ratings = [(int(k),v) for k,v in row_.items() if v is not None]\n",
    "    if len(ratings) == 0:\n",
    "        return target_user_avg_rating\n",
    "    c = 0\n",
    "    z = 0\n",
    "    for userid, rating in ratings:\n",
    "        uid = userid - 1 # так как нумерация пользователей и фильмов с 1\n",
    "        sau = corr_pearson[uid]\n",
    "        rui = rating\n",
    "        ru = avg_ratings[uid]\n",
    "        c += sau * (rui - ru)\n",
    "        z += abs(sau)\n",
    "    return (target_user_avg_rating + c / z, movieid)"
   ]
  },
  {
   "cell_type": "code",
   "execution_count": 47,
   "metadata": {
    "collapsed": true
   },
   "outputs": [],
   "source": [
    "row = df_pivot_top.rdd.take(1)[0]"
   ]
  },
  {
   "cell_type": "code",
   "execution_count": 48,
   "metadata": {},
   "outputs": [
    {
     "data": {
      "text/plain": [
       "Row(movieid=474, 640=4, 5=None, 268=5, 397=5, 276=5, 916=4, 22=None, 407=3, 663=None, 293=5, 44=4, 429=None, 560=None, 447=3, 453=None, 70=None, 457=5, 334=3, 82=3, 344=None, 345=None, 476=None, 741=None, 749=None, 882=None, 246=None, 632=None, 889=4, 381=None, 638=None)"
      ]
     },
     "execution_count": 48,
     "metadata": {},
     "output_type": "execute_result"
    }
   ],
   "source": [
    "row"
   ]
  },
  {
   "cell_type": "code",
   "execution_count": 49,
   "metadata": {},
   "outputs": [
    {
     "data": {
      "text/plain": [
       "(3.7320291655409452, 474)"
      ]
     },
     "execution_count": 49,
     "metadata": {},
     "output_type": "execute_result"
    }
   ],
   "source": [
    "predict_rating_row(row)"
   ]
  },
  {
   "cell_type": "code",
   "execution_count": 50,
   "metadata": {
    "collapsed": true
   },
   "outputs": [],
   "source": [
    "predicted_ratings = df_pivot_top.rdd.map(predict_rating_row).collect()"
   ]
  },
  {
   "cell_type": "code",
   "execution_count": 51,
   "metadata": {},
   "outputs": [
    {
     "data": {
      "text/plain": [
       "[(3.7320291655409457, 474), (1.9693100618359158, 29), (3.0699764403965322, 26)]"
      ]
     },
     "execution_count": 51,
     "metadata": {},
     "output_type": "execute_result"
    }
   ],
   "source": [
    "predicted_ratings[:3]"
   ]
  },
  {
   "cell_type": "code",
   "execution_count": 238,
   "metadata": {
    "collapsed": true
   },
   "outputs": [],
   "source": [
    "import pandas as pd"
   ]
  },
  {
   "cell_type": "code",
   "execution_count": 240,
   "metadata": {},
   "outputs": [],
   "source": [
    "df_predicted = pd.DataFrame(predicted_ratings, columns=['prating', 'movieid'])"
   ]
  },
  {
   "cell_type": "code",
   "execution_count": 242,
   "metadata": {},
   "outputs": [],
   "source": [
    "df_predicted.sort_values(['prating', 'movieid'], ascending=[False, True], inplace=True)"
   ]
  },
  {
   "cell_type": "code",
   "execution_count": 244,
   "metadata": {},
   "outputs": [
    {
     "data": {
      "text/html": [
       "<div>\n",
       "<style>\n",
       "    .dataframe thead tr:only-child th {\n",
       "        text-align: right;\n",
       "    }\n",
       "\n",
       "    .dataframe thead th {\n",
       "        text-align: left;\n",
       "    }\n",
       "\n",
       "    .dataframe tbody tr th {\n",
       "        vertical-align: top;\n",
       "    }\n",
       "</style>\n",
       "<table border=\"1\" class=\"dataframe\">\n",
       "  <thead>\n",
       "    <tr style=\"text-align: right;\">\n",
       "      <th></th>\n",
       "      <th>prating</th>\n",
       "      <th>movieid</th>\n",
       "    </tr>\n",
       "  </thead>\n",
       "  <tbody>\n",
       "    <tr>\n",
       "      <th>41</th>\n",
       "      <td>4.760621</td>\n",
       "      <td>602</td>\n",
       "    </tr>\n",
       "    <tr>\n",
       "      <th>691</th>\n",
       "      <td>4.718758</td>\n",
       "      <td>1589</td>\n",
       "    </tr>\n",
       "    <tr>\n",
       "      <th>342</th>\n",
       "      <td>4.702313</td>\n",
       "      <td>114</td>\n",
       "    </tr>\n",
       "    <tr>\n",
       "      <th>361</th>\n",
       "      <td>4.634821</td>\n",
       "      <td>115</td>\n",
       "    </tr>\n",
       "    <tr>\n",
       "      <th>640</th>\n",
       "      <td>4.634821</td>\n",
       "      <td>906</td>\n",
       "    </tr>\n",
       "    <tr>\n",
       "      <th>549</th>\n",
       "      <td>4.565629</td>\n",
       "      <td>653</td>\n",
       "    </tr>\n",
       "    <tr>\n",
       "      <th>684</th>\n",
       "      <td>4.548004</td>\n",
       "      <td>199</td>\n",
       "    </tr>\n",
       "    <tr>\n",
       "      <th>1010</th>\n",
       "      <td>4.531390</td>\n",
       "      <td>837</td>\n",
       "    </tr>\n",
       "    <tr>\n",
       "      <th>962</th>\n",
       "      <td>4.513258</td>\n",
       "      <td>483</td>\n",
       "    </tr>\n",
       "    <tr>\n",
       "      <th>98</th>\n",
       "      <td>4.506558</td>\n",
       "      <td>50</td>\n",
       "    </tr>\n",
       "  </tbody>\n",
       "</table>\n",
       "</div>"
      ],
      "text/plain": [
       "       prating  movieid\n",
       "41    4.760621      602\n",
       "691   4.718758     1589\n",
       "342   4.702313      114\n",
       "361   4.634821      115\n",
       "640   4.634821      906\n",
       "549   4.565629      653\n",
       "684   4.548004      199\n",
       "1010  4.531390      837\n",
       "962   4.513258      483\n",
       "98    4.506558       50"
      ]
     },
     "execution_count": 244,
     "metadata": {},
     "output_type": "execute_result"
    }
   ],
   "source": [
    "df_predicted.head(n=10)"
   ]
  },
  {
   "cell_type": "code",
   "execution_count": 251,
   "metadata": {},
   "outputs": [
    {
     "data": {
      "text/plain": [
       "[64, 114, 115, 119, 516, 522, 653, 837, 906, 1589]"
      ]
     },
     "execution_count": 251,
     "metadata": {},
     "output_type": "execute_result"
    }
   ],
   "source": [
    "pearson_top10 = [int(v) for v in df_predicted['movieid'] if v not in target_user_movies][:10]\n",
    "sorted(pearson_top10)"
   ]
  },
  {
   "cell_type": "code",
   "execution_count": 252,
   "metadata": {
    "collapsed": true
   },
   "outputs": [],
   "source": [
    "lab8result = {\n",
    "    \"average_film_ratings\": average_film_ratings,\n",
    "    \"average_user_ratings\": average_user_ratings,\n",
    "    \"completeness\": completeness,\n",
    "    \"pearson_neighbours\": sorted(top30userids),\n",
    "    \"pearson_top10\": sorted(pearson_top10)\n",
    "}"
   ]
  },
  {
   "cell_type": "code",
   "execution_count": 253,
   "metadata": {},
   "outputs": [],
   "source": [
    "with open('../lab08.json', 'w') as fw:\n",
    "    fw.write(json.dumps(lab8result))"
   ]
  },
  {
   "cell_type": "code",
   "execution_count": 254,
   "metadata": {
    "scrolled": false
   },
   "outputs": [
    {
     "name": "stdout",
     "output_type": "stream",
     "text": [
      "{\"pearson_top10\": [64, 114, 115, 119, 516, 522, 653, 837, 906, 1589], \"average_user_ratings\": 106.04453870625663, \"average_film_ratings\": 59.45303210463734, \"pearson_neighbours\": [5, 22, 44, 70, 82, 246, 268, 276, 293, 334, 344, 345, 381, 397, 407, 429, 447, 453, 457, 476, 560, 632, 638, 640, 663, 741, 749, 882, 889, 916], \"completeness\": 0.06304669364224531}"
     ]
    }
   ],
   "source": [
    "!head ../lab08.json"
   ]
  },
  {
   "cell_type": "code",
   "execution_count": null,
   "metadata": {
    "collapsed": true
   },
   "outputs": [],
   "source": []
  },
  {
   "cell_type": "markdown",
   "metadata": {},
   "source": [
    "### **Часть 3. Базовые предикторы:**"
   ]
  },
  {
   "cell_type": "markdown",
   "metadata": {},
   "source": [
    "#### 1. Глобальное среднее 𝞵 (`average_rating`) по всему датасету. `Сумма всех оценок по всем фильмам / Количество всех оценок по всем фильмам.`"
   ]
  },
  {
   "cell_type": "code",
   "execution_count": 450,
   "metadata": {},
   "outputs": [
    {
     "data": {
      "text/plain": [
       "352986"
      ]
     },
     "execution_count": 450,
     "metadata": {},
     "output_type": "execute_result"
    }
   ],
   "source": [
    "sum_all_ratings = df_ratings.select('rating')\\\n",
    "    .agg(F.sum(df_ratings.rating).alias('sum')).rdd.map(lambda row: row.sum).collect()[0]\n",
    "sum_all_ratings"
   ]
  },
  {
   "cell_type": "code",
   "execution_count": 451,
   "metadata": {},
   "outputs": [
    {
     "data": {
      "text/plain": [
       "100000"
      ]
     },
     "execution_count": 451,
     "metadata": {},
     "output_type": "execute_result"
    }
   ],
   "source": [
    "num_all_ratings = df_ratings.count()\n",
    "num_all_ratings"
   ]
  },
  {
   "cell_type": "code",
   "execution_count": 452,
   "metadata": {},
   "outputs": [
    {
     "data": {
      "text/plain": [
       "3.52986"
      ]
     },
     "execution_count": 452,
     "metadata": {},
     "output_type": "execute_result"
    }
   ],
   "source": [
    "average_rating = sum_all_ratings / num_all_ratings\n",
    "average_rating"
   ]
  },
  {
   "cell_type": "markdown",
   "metadata": {},
   "source": [
    "#### 2. Базовый предиктор для каждого пользователя (суммирование по фильмам, оцененным данным пользователем). Здесь I<sub>a</sub> — множество фильмов, по которым у пользователя есть рейтинги, а |I<sub>a</sub>| — их количество.\n",
    "\n",
    "<img width=\"200px\" src=\"http://data.newprolab.com/public-newprolab-com/laba08s_base_u.png\">\n"
   ]
  },
  {
   "cell_type": "code",
   "execution_count": 453,
   "metadata": {
    "collapsed": true
   },
   "outputs": [],
   "source": [
    "#df_pivot_rows = df_ratings.groupBy(\"userid\").pivot(\"movieid\", range(1, num_movies + 1)).sum(\"rating\").cache()"
   ]
  },
  {
   "cell_type": "code",
   "execution_count": 454,
   "metadata": {
    "collapsed": true
   },
   "outputs": [],
   "source": [
    "def base_predict_user(row):\n",
    "    row_ = row.asDict()\n",
    "    userid = row_.pop('userid')\n",
    "    values = [v for v in row_.values() if v is not None]\n",
    "    return (userid, 1 / (len(values) + 10) * sum([rui - average_rating for rui in values]))"
   ]
  },
  {
   "cell_type": "code",
   "execution_count": 455,
   "metadata": {},
   "outputs": [],
   "source": [
    "bp_users = df_pivot_rows.rdd.map(base_predict_user).collect()"
   ]
  },
  {
   "cell_type": "code",
   "execution_count": 456,
   "metadata": {},
   "outputs": [
    {
     "data": {
      "text/plain": [
       "[(1, 0.0775818439716313), (2, 0.1548427777777777), (3, -0.6189443749999995)]"
      ]
     },
     "execution_count": 456,
     "metadata": {},
     "output_type": "execute_result"
    }
   ],
   "source": [
    "bp_users = sorted(bp_users)\n",
    "bp_users[:3]"
   ]
  },
  {
   "cell_type": "markdown",
   "metadata": {},
   "source": [
    "#### 3. Базовый предиктор для каждого фильма (суммирование по пользователям, поставившим оценку данному фильму). Здесь U<sub>i</sub> — множество пользователей, которые оценили данный фильм, а |U<sub>i</sub>| — их количество.\n",
    "\n",
    "<img width=\"250px\" src=\"http://data.newprolab.com/public-newprolab-com/laba08s_base_i.png\">\n"
   ]
  },
  {
   "cell_type": "code",
   "execution_count": 457,
   "metadata": {
    "collapsed": true
   },
   "outputs": [],
   "source": [
    "df_pivot_movies = df_ratings.groupBy(\"movieid\").pivot(\"userid\", range(1, num_users + 1)).sum(\"rating\").cache()"
   ]
  },
  {
   "cell_type": "code",
   "execution_count": 458,
   "metadata": {
    "collapsed": true
   },
   "outputs": [],
   "source": [
    "def base_predict_movie(row):\n",
    "    row_ = row.asDict()\n",
    "    movieid = row_.pop('movieid')\n",
    "    ratings = [(int(k), v) for k,v in row_.items() if v is not None]\n",
    "    return (movieid,\\\n",
    "            1 / (len(ratings) + 25) * sum([rui - bp_users[userid - 1][1] - average_rating for userid, rui in ratings]))"
   ]
  },
  {
   "cell_type": "code",
   "execution_count": 459,
   "metadata": {
    "collapsed": true
   },
   "outputs": [],
   "source": [
    "r = df_pivot_movies.take(1)[0]"
   ]
  },
  {
   "cell_type": "code",
   "execution_count": 460,
   "metadata": {},
   "outputs": [
    {
     "data": {
      "text/plain": [
       "(474, 0.5597371834821095)"
      ]
     },
     "execution_count": 460,
     "metadata": {},
     "output_type": "execute_result"
    }
   ],
   "source": [
    "base_predict_movie(r)"
   ]
  },
  {
   "cell_type": "code",
   "execution_count": 461,
   "metadata": {},
   "outputs": [],
   "source": [
    "bp_movies = df_pivot_movies.rdd.map(base_predict_movie).collect()"
   ]
  },
  {
   "cell_type": "code",
   "execution_count": 462,
   "metadata": {},
   "outputs": [
    {
     "data": {
      "text/plain": [
       "[(1, 0.29292488601631034), (2, -0.21303169608613204), (3, -0.3202843059213391)]"
      ]
     },
     "execution_count": 462,
     "metadata": {},
     "output_type": "execute_result"
    }
   ],
   "source": [
    "bp_movies = sorted(bp_movies)\n",
    "bp_movies[:3]"
   ]
  },
  {
   "cell_type": "markdown",
   "metadata": {},
   "source": [
    "#### 4. Базовый предиктор для каждого пользователя и каждого фильма:\n",
    "\n",
    "<img width=\"140px\" src=\"http://data.newprolab.com/public-newprolab-com/laba08s_base_ui.png\">\n"
   ]
  },
  {
   "cell_type": "code",
   "execution_count": 463,
   "metadata": {
    "collapsed": true
   },
   "outputs": [],
   "source": [
    "bp_users_movies = np.matrix([[average_rating + bu + bi for km, bu in bp_movies] for ku, bi in bp_users])"
   ]
  },
  {
   "cell_type": "code",
   "execution_count": 464,
   "metadata": {},
   "outputs": [
    {
     "data": {
      "text/plain": [
       "(943, 1682)"
      ]
     },
     "execution_count": 464,
     "metadata": {},
     "output_type": "execute_result"
    }
   ],
   "source": [
    "bp_users_movies.shape"
   ]
  },
  {
   "cell_type": "code",
   "execution_count": 465,
   "metadata": {},
   "outputs": [
    {
     "data": {
      "text/plain": [
       "matrix([[ 3.90036673,  3.39441015,  3.28715754,  3.58753002,  3.44879883],\n",
       "        [ 3.97762766,  3.47167108,  3.36441847,  3.66479095,  3.52605977],\n",
       "        [ 3.20384051,  2.69788393,  2.59063132,  2.8910038 ,  2.75227261],\n",
       "        [ 4.38994253,  3.88398595,  3.77673334,  4.07710582,  3.93837464],\n",
       "        [ 3.20264705,  2.69669047,  2.58943786,  2.88981034,  2.75107915]])"
      ]
     },
     "execution_count": 465,
     "metadata": {},
     "output_type": "execute_result"
    }
   ],
   "source": [
    "bp_users_movies[:5,:5]"
   ]
  },
  {
   "cell_type": "markdown",
   "metadata": {},
   "source": [
    "### **Часть 4. Item-item CF:**"
   ]
  },
  {
   "cell_type": "markdown",
   "metadata": {},
   "source": [
    "#### 1. Вычесть из всех рейтингов r<sub>ui</sub> базовый предиктор b<sub>ui</sub> из пункта 4, часть 3 (для всей таблицы рейтингов). Если рейтинга нет, то можно поставить 0.\n"
   ]
  },
  {
   "cell_type": "code",
   "execution_count": 466,
   "metadata": {},
   "outputs": [],
   "source": [
    "rui = np.matrix(\n",
    "    [v for k,v in sorted(df_pivot_rows.rdd.map(lambda row: (row.userid, \n",
    "        [v for k,v in sorted([(int(k), v) for k,v in row.asDict().items() if k != 'userid'])])\n",
    "    ).collect())])"
   ]
  },
  {
   "cell_type": "code",
   "execution_count": 467,
   "metadata": {},
   "outputs": [
    {
     "data": {
      "text/plain": [
       "(943, 1682)"
      ]
     },
     "execution_count": 467,
     "metadata": {},
     "output_type": "execute_result"
    }
   ],
   "source": [
    "rui.shape"
   ]
  },
  {
   "cell_type": "code",
   "execution_count": 468,
   "metadata": {},
   "outputs": [],
   "source": [
    "blanks = rui == None"
   ]
  },
  {
   "cell_type": "code",
   "execution_count": 469,
   "metadata": {},
   "outputs": [
    {
     "data": {
      "text/plain": [
       "matrix([[False, False, False, ...,  True,  True,  True],\n",
       "        [False,  True,  True, ...,  True,  True,  True],\n",
       "        [ True,  True,  True, ...,  True,  True,  True],\n",
       "        ..., \n",
       "        [False,  True,  True, ...,  True,  True,  True],\n",
       "        [ True,  True,  True, ...,  True,  True,  True],\n",
       "        [ True, False,  True, ...,  True,  True,  True]], dtype=bool)"
      ]
     },
     "execution_count": 469,
     "metadata": {},
     "output_type": "execute_result"
    }
   ],
   "source": [
    "blanks"
   ]
  },
  {
   "cell_type": "code",
   "execution_count": 470,
   "metadata": {
    "collapsed": true
   },
   "outputs": [],
   "source": [
    "rui[rui == None] = 0"
   ]
  },
  {
   "cell_type": "code",
   "execution_count": 471,
   "metadata": {},
   "outputs": [
    {
     "data": {
      "text/plain": [
       "matrix([[5, 3, 4, 3, 3],\n",
       "        [4, 0, 0, 0, 0],\n",
       "        [0, 0, 0, 0, 0],\n",
       "        [0, 0, 0, 0, 0],\n",
       "        [4, 3, 0, 0, 0]], dtype=object)"
      ]
     },
     "execution_count": 471,
     "metadata": {},
     "output_type": "execute_result"
    }
   ],
   "source": [
    "rui[:5,:5]"
   ]
  },
  {
   "cell_type": "code",
   "execution_count": 472,
   "metadata": {},
   "outputs": [
    {
     "data": {
      "text/plain": [
       "True"
      ]
     },
     "execution_count": 472,
     "metadata": {},
     "output_type": "execute_result"
    }
   ],
   "source": [
    "rui[1,1] == 0"
   ]
  },
  {
   "cell_type": "code",
   "execution_count": 473,
   "metadata": {},
   "outputs": [],
   "source": [
    "cf = (rui - bp_users_movies).transpose()"
   ]
  },
  {
   "cell_type": "code",
   "execution_count": 474,
   "metadata": {},
   "outputs": [],
   "source": [
    "cf[rui.transpose() == 0] = 0"
   ]
  },
  {
   "cell_type": "code",
   "execution_count": 475,
   "metadata": {},
   "outputs": [
    {
     "data": {
      "text/plain": [
       "(1682, 943)"
      ]
     },
     "execution_count": 475,
     "metadata": {},
     "output_type": "execute_result"
    }
   ],
   "source": [
    "cf.shape"
   ]
  },
  {
   "cell_type": "code",
   "execution_count": 477,
   "metadata": {},
   "outputs": [
    {
     "data": {
      "text/plain": [
       "matrix([[1.0996332700120584, 0.022372336205911836, 0, 0, 0.7973529518215265],\n",
       "        [-0.39441014788549955, 0, 0, 0, 0.30330953392396864],\n",
       "        [0.7128424619497076, 0, 0, 0, 0],\n",
       "        [-0.5875300200866946, 0, 0, 0, 0],\n",
       "        [-0.44879883323059255, 0, 0, 0, 0]], dtype=object)"
      ]
     },
     "execution_count": 477,
     "metadata": {},
     "output_type": "execute_result"
    }
   ],
   "source": [
    "cf[:5,:5]"
   ]
  },
  {
   "cell_type": "code",
   "execution_count": 478,
   "metadata": {},
   "outputs": [],
   "source": [
    "csr = csr_matrix(cf, dtype='float')"
   ]
  },
  {
   "cell_type": "code",
   "execution_count": 479,
   "metadata": {},
   "outputs": [],
   "source": [
    "def get_csr():\n",
    "    data = []\n",
    "    indices = []\n",
    "    indptr = [0]\n",
    "    for i in range(rui_.shape[0]):\n",
    "        ptr = 0\n",
    "        for j in range(rui_.shape[1]):\n",
    "            if rui_[i,j] == 0:\n",
    "                continue\n",
    "            data.append(cf_[i,j])\n",
    "            indices.append(j)\n",
    "            ptr += 1\n",
    "        indptr.append(ptr)"
   ]
  },
  {
   "cell_type": "code",
   "execution_count": 480,
   "metadata": {
    "collapsed": true
   },
   "outputs": [],
   "source": [
    "from scipy.sparse import csr_matrix"
   ]
  },
  {
   "cell_type": "code",
   "execution_count": 481,
   "metadata": {},
   "outputs": [],
   "source": [
    "#m = csr_matrix((data, indices, indptr), (1682, 943))"
   ]
  },
  {
   "cell_type": "markdown",
   "metadata": {},
   "source": [
    "#### 2. Найдите попарные меры близости (косинус) для всех фильмов, используя очищенные оценки из пункта 1, часть 4. Суммирование идет по всем пользователям.\n",
    "\n",
    "<img width=\"350px\" src=\"http://data.newprolab.com/public-newprolab-com/laba08s_cosine_items.png\">"
   ]
  },
  {
   "cell_type": "code",
   "execution_count": 482,
   "metadata": {
    "collapsed": true
   },
   "outputs": [],
   "source": [
    "def custom_cossim(m1, m2):\n",
    "    c = cf[:,[m1,m2]].prod(axis=1).sum()\n",
    "    z1 = math.sqrt(cf[:,[m1,m1]].prod(axis=1).sum())\n",
    "    z2 = math.sqrt(cf[:,[m2,m2]].prod(axis=1).sum())\n",
    "    return c / (z1 * z2)"
   ]
  },
  {
   "cell_type": "code",
   "execution_count": 483,
   "metadata": {},
   "outputs": [],
   "source": [
    "#custom_cossim(649,115)"
   ]
  },
  {
   "cell_type": "code",
   "execution_count": 484,
   "metadata": {},
   "outputs": [],
   "source": [
    "#cossim = np.zeros((1682,1682),dtype='float')"
   ]
  },
  {
   "cell_type": "code",
   "execution_count": 485,
   "metadata": {},
   "outputs": [],
   "source": [
    "#for i in range(1682):\n",
    "#    clear_output(wait=True)\n",
    "#    print(i)\n",
    "#    for j in range(i, 1682):\n",
    "#        cossim[i,j] = custom_cossim(i,j)"
   ]
  },
  {
   "cell_type": "code",
   "execution_count": 486,
   "metadata": {
    "collapsed": true
   },
   "outputs": [],
   "source": [
    "from sklearn.metrics.pairwise import cosine_similarity"
   ]
  },
  {
   "cell_type": "code",
   "execution_count": 487,
   "metadata": {},
   "outputs": [],
   "source": [
    "#cossim = cosine_similarity(cf.transpose(),cf.transpose())"
   ]
  },
  {
   "cell_type": "code",
   "execution_count": 488,
   "metadata": {},
   "outputs": [],
   "source": [
    "cossim = cosine_similarity(csr, csr)"
   ]
  },
  {
   "cell_type": "code",
   "execution_count": 489,
   "metadata": {},
   "outputs": [
    {
     "data": {
      "text/plain": [
       "(1682, 1682)"
      ]
     },
     "execution_count": 489,
     "metadata": {},
     "output_type": "execute_result"
    }
   ],
   "source": [
    "cossim.shape"
   ]
  },
  {
   "cell_type": "code",
   "execution_count": 490,
   "metadata": {
    "collapsed": true
   },
   "outputs": [],
   "source": [
    "df_cos = pd.DataFrame(cossim)"
   ]
  },
  {
   "cell_type": "code",
   "execution_count": 491,
   "metadata": {},
   "outputs": [
    {
     "data": {
      "text/html": [
       "<div>\n",
       "<style>\n",
       "    .dataframe thead tr:only-child th {\n",
       "        text-align: right;\n",
       "    }\n",
       "\n",
       "    .dataframe thead th {\n",
       "        text-align: left;\n",
       "    }\n",
       "\n",
       "    .dataframe tbody tr th {\n",
       "        vertical-align: top;\n",
       "    }\n",
       "</style>\n",
       "<table border=\"1\" class=\"dataframe\">\n",
       "  <thead>\n",
       "    <tr style=\"text-align: right;\">\n",
       "      <th></th>\n",
       "      <th>0</th>\n",
       "      <th>1</th>\n",
       "      <th>2</th>\n",
       "      <th>3</th>\n",
       "      <th>4</th>\n",
       "      <th>5</th>\n",
       "      <th>6</th>\n",
       "      <th>7</th>\n",
       "      <th>8</th>\n",
       "      <th>9</th>\n",
       "      <th>...</th>\n",
       "      <th>1672</th>\n",
       "      <th>1673</th>\n",
       "      <th>1674</th>\n",
       "      <th>1675</th>\n",
       "      <th>1676</th>\n",
       "      <th>1677</th>\n",
       "      <th>1678</th>\n",
       "      <th>1679</th>\n",
       "      <th>1680</th>\n",
       "      <th>1681</th>\n",
       "    </tr>\n",
       "  </thead>\n",
       "  <tbody>\n",
       "    <tr>\n",
       "      <th>0</th>\n",
       "      <td>1.000000</td>\n",
       "      <td>-0.003603</td>\n",
       "      <td>-0.012158</td>\n",
       "      <td>-0.035144</td>\n",
       "      <td>0.039609</td>\n",
       "      <td>0.022780</td>\n",
       "      <td>0.021228</td>\n",
       "      <td>0.052695</td>\n",
       "      <td>-0.004018</td>\n",
       "      <td>-0.015940</td>\n",
       "      <td>...</td>\n",
       "      <td>0.077118</td>\n",
       "      <td>0.000000</td>\n",
       "      <td>0.000000</td>\n",
       "      <td>0.000000</td>\n",
       "      <td>0.028896</td>\n",
       "      <td>0.0</td>\n",
       "      <td>0.0</td>\n",
       "      <td>0.0</td>\n",
       "      <td>0.039629</td>\n",
       "      <td>-0.018718</td>\n",
       "    </tr>\n",
       "    <tr>\n",
       "      <th>1</th>\n",
       "      <td>-0.003603</td>\n",
       "      <td>1.000000</td>\n",
       "      <td>-0.001984</td>\n",
       "      <td>0.050458</td>\n",
       "      <td>0.002228</td>\n",
       "      <td>-0.003639</td>\n",
       "      <td>-0.016975</td>\n",
       "      <td>0.040146</td>\n",
       "      <td>-0.089526</td>\n",
       "      <td>-0.007177</td>\n",
       "      <td>...</td>\n",
       "      <td>0.000000</td>\n",
       "      <td>0.000000</td>\n",
       "      <td>0.000000</td>\n",
       "      <td>0.000000</td>\n",
       "      <td>0.000000</td>\n",
       "      <td>0.0</td>\n",
       "      <td>0.0</td>\n",
       "      <td>0.0</td>\n",
       "      <td>0.022621</td>\n",
       "      <td>0.016415</td>\n",
       "    </tr>\n",
       "    <tr>\n",
       "      <th>2</th>\n",
       "      <td>-0.012158</td>\n",
       "      <td>-0.001984</td>\n",
       "      <td>1.000000</td>\n",
       "      <td>-0.113536</td>\n",
       "      <td>-0.005417</td>\n",
       "      <td>0.060713</td>\n",
       "      <td>-0.024408</td>\n",
       "      <td>-0.094746</td>\n",
       "      <td>-0.016745</td>\n",
       "      <td>-0.039964</td>\n",
       "      <td>...</td>\n",
       "      <td>0.000000</td>\n",
       "      <td>0.000000</td>\n",
       "      <td>0.000000</td>\n",
       "      <td>0.000000</td>\n",
       "      <td>0.183583</td>\n",
       "      <td>0.0</td>\n",
       "      <td>0.0</td>\n",
       "      <td>0.0</td>\n",
       "      <td>0.000000</td>\n",
       "      <td>0.004880</td>\n",
       "    </tr>\n",
       "    <tr>\n",
       "      <th>3</th>\n",
       "      <td>-0.035144</td>\n",
       "      <td>0.050458</td>\n",
       "      <td>-0.113536</td>\n",
       "      <td>1.000000</td>\n",
       "      <td>-0.149507</td>\n",
       "      <td>-0.019089</td>\n",
       "      <td>0.005145</td>\n",
       "      <td>0.110511</td>\n",
       "      <td>0.033087</td>\n",
       "      <td>0.010968</td>\n",
       "      <td>...</td>\n",
       "      <td>0.000000</td>\n",
       "      <td>0.000000</td>\n",
       "      <td>-0.115990</td>\n",
       "      <td>-0.115990</td>\n",
       "      <td>0.089827</td>\n",
       "      <td>0.0</td>\n",
       "      <td>0.0</td>\n",
       "      <td>0.0</td>\n",
       "      <td>0.001824</td>\n",
       "      <td>-0.048334</td>\n",
       "    </tr>\n",
       "    <tr>\n",
       "      <th>4</th>\n",
       "      <td>0.039609</td>\n",
       "      <td>0.002228</td>\n",
       "      <td>-0.005417</td>\n",
       "      <td>-0.149507</td>\n",
       "      <td>1.000000</td>\n",
       "      <td>-0.031989</td>\n",
       "      <td>-0.015494</td>\n",
       "      <td>0.038203</td>\n",
       "      <td>-0.042447</td>\n",
       "      <td>-0.036512</td>\n",
       "      <td>...</td>\n",
       "      <td>0.000000</td>\n",
       "      <td>0.000000</td>\n",
       "      <td>0.000000</td>\n",
       "      <td>0.000000</td>\n",
       "      <td>0.000000</td>\n",
       "      <td>0.0</td>\n",
       "      <td>0.0</td>\n",
       "      <td>0.0</td>\n",
       "      <td>0.000000</td>\n",
       "      <td>0.027241</td>\n",
       "    </tr>\n",
       "    <tr>\n",
       "      <th>5</th>\n",
       "      <td>0.022780</td>\n",
       "      <td>-0.003639</td>\n",
       "      <td>0.060713</td>\n",
       "      <td>-0.019089</td>\n",
       "      <td>-0.031989</td>\n",
       "      <td>1.000000</td>\n",
       "      <td>-0.049966</td>\n",
       "      <td>-0.076343</td>\n",
       "      <td>0.008348</td>\n",
       "      <td>-0.036051</td>\n",
       "      <td>...</td>\n",
       "      <td>0.000000</td>\n",
       "      <td>0.000000</td>\n",
       "      <td>0.000000</td>\n",
       "      <td>0.000000</td>\n",
       "      <td>0.000000</td>\n",
       "      <td>0.0</td>\n",
       "      <td>0.0</td>\n",
       "      <td>0.0</td>\n",
       "      <td>0.000000</td>\n",
       "      <td>0.000000</td>\n",
       "    </tr>\n",
       "    <tr>\n",
       "      <th>6</th>\n",
       "      <td>0.021228</td>\n",
       "      <td>-0.016975</td>\n",
       "      <td>-0.024408</td>\n",
       "      <td>0.005145</td>\n",
       "      <td>-0.015494</td>\n",
       "      <td>-0.049966</td>\n",
       "      <td>1.000000</td>\n",
       "      <td>0.017618</td>\n",
       "      <td>0.140064</td>\n",
       "      <td>0.022989</td>\n",
       "      <td>...</td>\n",
       "      <td>0.000000</td>\n",
       "      <td>0.018422</td>\n",
       "      <td>0.000000</td>\n",
       "      <td>0.000000</td>\n",
       "      <td>-0.029240</td>\n",
       "      <td>0.0</td>\n",
       "      <td>0.0</td>\n",
       "      <td>0.0</td>\n",
       "      <td>0.041703</td>\n",
       "      <td>-0.021404</td>\n",
       "    </tr>\n",
       "    <tr>\n",
       "      <th>7</th>\n",
       "      <td>0.052695</td>\n",
       "      <td>0.040146</td>\n",
       "      <td>-0.094746</td>\n",
       "      <td>0.110511</td>\n",
       "      <td>0.038203</td>\n",
       "      <td>-0.076343</td>\n",
       "      <td>0.017618</td>\n",
       "      <td>1.000000</td>\n",
       "      <td>-0.002634</td>\n",
       "      <td>0.039560</td>\n",
       "      <td>...</td>\n",
       "      <td>0.000000</td>\n",
       "      <td>-0.038699</td>\n",
       "      <td>-0.013646</td>\n",
       "      <td>-0.013646</td>\n",
       "      <td>-0.100956</td>\n",
       "      <td>0.0</td>\n",
       "      <td>0.0</td>\n",
       "      <td>0.0</td>\n",
       "      <td>0.117235</td>\n",
       "      <td>0.000000</td>\n",
       "    </tr>\n",
       "    <tr>\n",
       "      <th>8</th>\n",
       "      <td>-0.004018</td>\n",
       "      <td>-0.089526</td>\n",
       "      <td>-0.016745</td>\n",
       "      <td>0.033087</td>\n",
       "      <td>-0.042447</td>\n",
       "      <td>0.008348</td>\n",
       "      <td>0.140064</td>\n",
       "      <td>-0.002634</td>\n",
       "      <td>1.000000</td>\n",
       "      <td>-0.021018</td>\n",
       "      <td>...</td>\n",
       "      <td>0.000000</td>\n",
       "      <td>0.000000</td>\n",
       "      <td>-0.014082</td>\n",
       "      <td>-0.014082</td>\n",
       "      <td>-0.087274</td>\n",
       "      <td>0.0</td>\n",
       "      <td>0.0</td>\n",
       "      <td>0.0</td>\n",
       "      <td>0.041731</td>\n",
       "      <td>-0.078694</td>\n",
       "    </tr>\n",
       "    <tr>\n",
       "      <th>9</th>\n",
       "      <td>-0.015940</td>\n",
       "      <td>-0.007177</td>\n",
       "      <td>-0.039964</td>\n",
       "      <td>0.010968</td>\n",
       "      <td>-0.036512</td>\n",
       "      <td>-0.036051</td>\n",
       "      <td>0.022989</td>\n",
       "      <td>0.039560</td>\n",
       "      <td>-0.021018</td>\n",
       "      <td>1.000000</td>\n",
       "      <td>...</td>\n",
       "      <td>0.000000</td>\n",
       "      <td>0.000000</td>\n",
       "      <td>0.078010</td>\n",
       "      <td>0.078010</td>\n",
       "      <td>0.000000</td>\n",
       "      <td>0.0</td>\n",
       "      <td>0.0</td>\n",
       "      <td>0.0</td>\n",
       "      <td>0.000000</td>\n",
       "      <td>0.000000</td>\n",
       "    </tr>\n",
       "    <tr>\n",
       "      <th>10</th>\n",
       "      <td>0.078221</td>\n",
       "      <td>0.069466</td>\n",
       "      <td>-0.018096</td>\n",
       "      <td>0.080839</td>\n",
       "      <td>0.093008</td>\n",
       "      <td>-0.013802</td>\n",
       "      <td>0.119768</td>\n",
       "      <td>0.041080</td>\n",
       "      <td>0.002907</td>\n",
       "      <td>-0.006262</td>\n",
       "      <td>...</td>\n",
       "      <td>0.000000</td>\n",
       "      <td>0.084676</td>\n",
       "      <td>-0.080248</td>\n",
       "      <td>-0.080248</td>\n",
       "      <td>-0.094998</td>\n",
       "      <td>0.0</td>\n",
       "      <td>0.0</td>\n",
       "      <td>0.0</td>\n",
       "      <td>-0.077675</td>\n",
       "      <td>-0.023611</td>\n",
       "    </tr>\n",
       "    <tr>\n",
       "      <th>11</th>\n",
       "      <td>-0.023219</td>\n",
       "      <td>0.070982</td>\n",
       "      <td>-0.083166</td>\n",
       "      <td>0.159122</td>\n",
       "      <td>-0.050456</td>\n",
       "      <td>-0.047262</td>\n",
       "      <td>0.077150</td>\n",
       "      <td>0.064799</td>\n",
       "      <td>0.003167</td>\n",
       "      <td>0.004755</td>\n",
       "      <td>...</td>\n",
       "      <td>0.000000</td>\n",
       "      <td>0.000000</td>\n",
       "      <td>0.013893</td>\n",
       "      <td>0.013893</td>\n",
       "      <td>-0.079741</td>\n",
       "      <td>0.0</td>\n",
       "      <td>0.0</td>\n",
       "      <td>0.0</td>\n",
       "      <td>-0.054243</td>\n",
       "      <td>0.006956</td>\n",
       "    </tr>\n",
       "    <tr>\n",
       "      <th>12</th>\n",
       "      <td>-0.050490</td>\n",
       "      <td>0.051188</td>\n",
       "      <td>0.062841</td>\n",
       "      <td>0.096329</td>\n",
       "      <td>-0.080416</td>\n",
       "      <td>0.029656</td>\n",
       "      <td>0.043101</td>\n",
       "      <td>0.021853</td>\n",
       "      <td>0.085375</td>\n",
       "      <td>0.001886</td>\n",
       "      <td>...</td>\n",
       "      <td>0.000000</td>\n",
       "      <td>0.000000</td>\n",
       "      <td>0.000000</td>\n",
       "      <td>0.000000</td>\n",
       "      <td>0.008158</td>\n",
       "      <td>0.0</td>\n",
       "      <td>0.0</td>\n",
       "      <td>0.0</td>\n",
       "      <td>0.000000</td>\n",
       "      <td>0.000000</td>\n",
       "    </tr>\n",
       "    <tr>\n",
       "      <th>13</th>\n",
       "      <td>-0.041320</td>\n",
       "      <td>-0.061722</td>\n",
       "      <td>0.077676</td>\n",
       "      <td>0.074109</td>\n",
       "      <td>-0.064390</td>\n",
       "      <td>0.063085</td>\n",
       "      <td>-0.065883</td>\n",
       "      <td>-0.006782</td>\n",
       "      <td>0.142254</td>\n",
       "      <td>0.078100</td>\n",
       "      <td>...</td>\n",
       "      <td>0.000000</td>\n",
       "      <td>-0.044894</td>\n",
       "      <td>0.000000</td>\n",
       "      <td>0.000000</td>\n",
       "      <td>-0.035599</td>\n",
       "      <td>0.0</td>\n",
       "      <td>0.0</td>\n",
       "      <td>0.0</td>\n",
       "      <td>0.000000</td>\n",
       "      <td>-0.102802</td>\n",
       "    </tr>\n",
       "    <tr>\n",
       "      <th>14</th>\n",
       "      <td>-0.028335</td>\n",
       "      <td>0.001472</td>\n",
       "      <td>0.019258</td>\n",
       "      <td>-0.052079</td>\n",
       "      <td>0.048286</td>\n",
       "      <td>-0.000198</td>\n",
       "      <td>-0.017151</td>\n",
       "      <td>-0.033747</td>\n",
       "      <td>0.056504</td>\n",
       "      <td>-0.081757</td>\n",
       "      <td>...</td>\n",
       "      <td>-0.045617</td>\n",
       "      <td>0.000000</td>\n",
       "      <td>0.000000</td>\n",
       "      <td>0.000000</td>\n",
       "      <td>0.026626</td>\n",
       "      <td>0.0</td>\n",
       "      <td>0.0</td>\n",
       "      <td>0.0</td>\n",
       "      <td>-0.011938</td>\n",
       "      <td>0.000000</td>\n",
       "    </tr>\n",
       "    <tr>\n",
       "      <th>15</th>\n",
       "      <td>0.025833</td>\n",
       "      <td>0.125128</td>\n",
       "      <td>0.075486</td>\n",
       "      <td>-0.036795</td>\n",
       "      <td>0.001966</td>\n",
       "      <td>0.090562</td>\n",
       "      <td>0.033829</td>\n",
       "      <td>-0.044388</td>\n",
       "      <td>0.023090</td>\n",
       "      <td>-0.032256</td>\n",
       "      <td>...</td>\n",
       "      <td>0.000000</td>\n",
       "      <td>0.000000</td>\n",
       "      <td>0.000000</td>\n",
       "      <td>0.000000</td>\n",
       "      <td>0.000000</td>\n",
       "      <td>0.0</td>\n",
       "      <td>0.0</td>\n",
       "      <td>0.0</td>\n",
       "      <td>0.000000</td>\n",
       "      <td>0.000000</td>\n",
       "    </tr>\n",
       "    <tr>\n",
       "      <th>16</th>\n",
       "      <td>0.032485</td>\n",
       "      <td>-0.161241</td>\n",
       "      <td>0.100918</td>\n",
       "      <td>0.008135</td>\n",
       "      <td>0.014662</td>\n",
       "      <td>-0.019526</td>\n",
       "      <td>0.128843</td>\n",
       "      <td>0.070758</td>\n",
       "      <td>0.042786</td>\n",
       "      <td>-0.021986</td>\n",
       "      <td>...</td>\n",
       "      <td>0.000000</td>\n",
       "      <td>0.000000</td>\n",
       "      <td>-0.168294</td>\n",
       "      <td>-0.168294</td>\n",
       "      <td>0.000000</td>\n",
       "      <td>0.0</td>\n",
       "      <td>0.0</td>\n",
       "      <td>0.0</td>\n",
       "      <td>0.000000</td>\n",
       "      <td>-0.082691</td>\n",
       "    </tr>\n",
       "    <tr>\n",
       "      <th>17</th>\n",
       "      <td>0.051863</td>\n",
       "      <td>-0.008198</td>\n",
       "      <td>0.032134</td>\n",
       "      <td>-0.078247</td>\n",
       "      <td>-0.012070</td>\n",
       "      <td>0.075036</td>\n",
       "      <td>0.036004</td>\n",
       "      <td>0.019641</td>\n",
       "      <td>-0.022845</td>\n",
       "      <td>0.008056</td>\n",
       "      <td>...</td>\n",
       "      <td>0.000000</td>\n",
       "      <td>0.000000</td>\n",
       "      <td>0.000000</td>\n",
       "      <td>0.000000</td>\n",
       "      <td>0.000000</td>\n",
       "      <td>0.0</td>\n",
       "      <td>0.0</td>\n",
       "      <td>0.0</td>\n",
       "      <td>0.000000</td>\n",
       "      <td>0.000000</td>\n",
       "    </tr>\n",
       "    <tr>\n",
       "      <th>18</th>\n",
       "      <td>-0.042754</td>\n",
       "      <td>-0.028058</td>\n",
       "      <td>-0.014821</td>\n",
       "      <td>0.022407</td>\n",
       "      <td>0.006990</td>\n",
       "      <td>-0.029929</td>\n",
       "      <td>-0.010466</td>\n",
       "      <td>-0.080508</td>\n",
       "      <td>-0.068363</td>\n",
       "      <td>-0.096496</td>\n",
       "      <td>...</td>\n",
       "      <td>0.000000</td>\n",
       "      <td>0.000000</td>\n",
       "      <td>0.000000</td>\n",
       "      <td>0.000000</td>\n",
       "      <td>0.058805</td>\n",
       "      <td>0.0</td>\n",
       "      <td>0.0</td>\n",
       "      <td>0.0</td>\n",
       "      <td>-0.152674</td>\n",
       "      <td>0.000000</td>\n",
       "    </tr>\n",
       "    <tr>\n",
       "      <th>19</th>\n",
       "      <td>-0.065494</td>\n",
       "      <td>-0.013182</td>\n",
       "      <td>0.015838</td>\n",
       "      <td>0.068819</td>\n",
       "      <td>-0.040891</td>\n",
       "      <td>0.084206</td>\n",
       "      <td>-0.020309</td>\n",
       "      <td>0.028856</td>\n",
       "      <td>-0.053705</td>\n",
       "      <td>-0.085499</td>\n",
       "      <td>...</td>\n",
       "      <td>0.000000</td>\n",
       "      <td>0.000000</td>\n",
       "      <td>0.000000</td>\n",
       "      <td>0.000000</td>\n",
       "      <td>0.121336</td>\n",
       "      <td>0.0</td>\n",
       "      <td>0.0</td>\n",
       "      <td>0.0</td>\n",
       "      <td>-0.202218</td>\n",
       "      <td>0.000000</td>\n",
       "    </tr>\n",
       "    <tr>\n",
       "      <th>20</th>\n",
       "      <td>0.022376</td>\n",
       "      <td>0.076074</td>\n",
       "      <td>0.056317</td>\n",
       "      <td>0.066975</td>\n",
       "      <td>-0.035398</td>\n",
       "      <td>-0.056810</td>\n",
       "      <td>-0.009709</td>\n",
       "      <td>0.040334</td>\n",
       "      <td>-0.031999</td>\n",
       "      <td>0.079583</td>\n",
       "      <td>...</td>\n",
       "      <td>0.000000</td>\n",
       "      <td>0.000000</td>\n",
       "      <td>0.000000</td>\n",
       "      <td>0.000000</td>\n",
       "      <td>0.000000</td>\n",
       "      <td>0.0</td>\n",
       "      <td>0.0</td>\n",
       "      <td>0.0</td>\n",
       "      <td>0.000000</td>\n",
       "      <td>0.000000</td>\n",
       "    </tr>\n",
       "    <tr>\n",
       "      <th>21</th>\n",
       "      <td>0.083900</td>\n",
       "      <td>-0.053620</td>\n",
       "      <td>0.052016</td>\n",
       "      <td>0.032513</td>\n",
       "      <td>0.092919</td>\n",
       "      <td>-0.019133</td>\n",
       "      <td>0.020334</td>\n",
       "      <td>0.073814</td>\n",
       "      <td>0.005628</td>\n",
       "      <td>-0.058795</td>\n",
       "      <td>...</td>\n",
       "      <td>0.000000</td>\n",
       "      <td>0.102235</td>\n",
       "      <td>-0.064297</td>\n",
       "      <td>-0.064297</td>\n",
       "      <td>0.109680</td>\n",
       "      <td>0.0</td>\n",
       "      <td>0.0</td>\n",
       "      <td>0.0</td>\n",
       "      <td>0.093706</td>\n",
       "      <td>-0.007108</td>\n",
       "    </tr>\n",
       "    <tr>\n",
       "      <th>22</th>\n",
       "      <td>-0.016260</td>\n",
       "      <td>-0.129676</td>\n",
       "      <td>-0.105800</td>\n",
       "      <td>0.072098</td>\n",
       "      <td>-0.069992</td>\n",
       "      <td>0.020583</td>\n",
       "      <td>-0.006435</td>\n",
       "      <td>0.028728</td>\n",
       "      <td>0.012768</td>\n",
       "      <td>0.004458</td>\n",
       "      <td>...</td>\n",
       "      <td>0.047288</td>\n",
       "      <td>-0.040812</td>\n",
       "      <td>-0.009051</td>\n",
       "      <td>-0.009051</td>\n",
       "      <td>-0.030226</td>\n",
       "      <td>0.0</td>\n",
       "      <td>0.0</td>\n",
       "      <td>0.0</td>\n",
       "      <td>-0.128160</td>\n",
       "      <td>-0.017251</td>\n",
       "    </tr>\n",
       "    <tr>\n",
       "      <th>23</th>\n",
       "      <td>-0.001017</td>\n",
       "      <td>0.045953</td>\n",
       "      <td>0.085043</td>\n",
       "      <td>-0.023819</td>\n",
       "      <td>0.050957</td>\n",
       "      <td>-0.008163</td>\n",
       "      <td>0.124196</td>\n",
       "      <td>0.012384</td>\n",
       "      <td>0.071736</td>\n",
       "      <td>0.020679</td>\n",
       "      <td>...</td>\n",
       "      <td>0.000000</td>\n",
       "      <td>0.000000</td>\n",
       "      <td>0.000000</td>\n",
       "      <td>0.000000</td>\n",
       "      <td>-0.067111</td>\n",
       "      <td>0.0</td>\n",
       "      <td>0.0</td>\n",
       "      <td>0.0</td>\n",
       "      <td>0.085759</td>\n",
       "      <td>0.106384</td>\n",
       "    </tr>\n",
       "    <tr>\n",
       "      <th>24</th>\n",
       "      <td>-0.010154</td>\n",
       "      <td>0.037190</td>\n",
       "      <td>0.001757</td>\n",
       "      <td>0.011233</td>\n",
       "      <td>0.005624</td>\n",
       "      <td>0.004337</td>\n",
       "      <td>-0.041503</td>\n",
       "      <td>-0.047716</td>\n",
       "      <td>0.029249</td>\n",
       "      <td>0.018502</td>\n",
       "      <td>...</td>\n",
       "      <td>-0.060248</td>\n",
       "      <td>0.000000</td>\n",
       "      <td>0.000000</td>\n",
       "      <td>0.000000</td>\n",
       "      <td>0.007718</td>\n",
       "      <td>0.0</td>\n",
       "      <td>0.0</td>\n",
       "      <td>0.0</td>\n",
       "      <td>0.006100</td>\n",
       "      <td>0.000000</td>\n",
       "    </tr>\n",
       "    <tr>\n",
       "      <th>25</th>\n",
       "      <td>-0.016312</td>\n",
       "      <td>-0.066117</td>\n",
       "      <td>0.026045</td>\n",
       "      <td>-0.024921</td>\n",
       "      <td>0.173720</td>\n",
       "      <td>-0.012373</td>\n",
       "      <td>-0.044962</td>\n",
       "      <td>-0.028339</td>\n",
       "      <td>0.002613</td>\n",
       "      <td>-0.017381</td>\n",
       "      <td>...</td>\n",
       "      <td>0.000000</td>\n",
       "      <td>0.000000</td>\n",
       "      <td>0.000000</td>\n",
       "      <td>0.000000</td>\n",
       "      <td>0.000000</td>\n",
       "      <td>0.0</td>\n",
       "      <td>0.0</td>\n",
       "      <td>0.0</td>\n",
       "      <td>0.000000</td>\n",
       "      <td>0.000000</td>\n",
       "    </tr>\n",
       "    <tr>\n",
       "      <th>26</th>\n",
       "      <td>-0.044244</td>\n",
       "      <td>0.005563</td>\n",
       "      <td>0.001890</td>\n",
       "      <td>0.086857</td>\n",
       "      <td>0.027979</td>\n",
       "      <td>0.015337</td>\n",
       "      <td>-0.046577</td>\n",
       "      <td>-0.015963</td>\n",
       "      <td>-0.061545</td>\n",
       "      <td>-0.014977</td>\n",
       "      <td>...</td>\n",
       "      <td>0.000000</td>\n",
       "      <td>0.000000</td>\n",
       "      <td>-0.102411</td>\n",
       "      <td>-0.102411</td>\n",
       "      <td>0.000000</td>\n",
       "      <td>0.0</td>\n",
       "      <td>0.0</td>\n",
       "      <td>0.0</td>\n",
       "      <td>-0.234178</td>\n",
       "      <td>0.000000</td>\n",
       "    </tr>\n",
       "    <tr>\n",
       "      <th>27</th>\n",
       "      <td>0.128326</td>\n",
       "      <td>0.052717</td>\n",
       "      <td>-0.001263</td>\n",
       "      <td>-0.029942</td>\n",
       "      <td>0.066278</td>\n",
       "      <td>0.002285</td>\n",
       "      <td>-0.079742</td>\n",
       "      <td>0.024687</td>\n",
       "      <td>-0.046743</td>\n",
       "      <td>-0.090824</td>\n",
       "      <td>...</td>\n",
       "      <td>0.031394</td>\n",
       "      <td>0.000000</td>\n",
       "      <td>0.000000</td>\n",
       "      <td>0.000000</td>\n",
       "      <td>0.000000</td>\n",
       "      <td>0.0</td>\n",
       "      <td>0.0</td>\n",
       "      <td>0.0</td>\n",
       "      <td>-0.101490</td>\n",
       "      <td>-0.024545</td>\n",
       "    </tr>\n",
       "    <tr>\n",
       "      <th>28</th>\n",
       "      <td>0.024922</td>\n",
       "      <td>0.044534</td>\n",
       "      <td>0.099986</td>\n",
       "      <td>-0.012220</td>\n",
       "      <td>0.153944</td>\n",
       "      <td>-0.057952</td>\n",
       "      <td>-0.027210</td>\n",
       "      <td>-0.021577</td>\n",
       "      <td>-0.041157</td>\n",
       "      <td>0.050877</td>\n",
       "      <td>...</td>\n",
       "      <td>0.000000</td>\n",
       "      <td>0.000000</td>\n",
       "      <td>0.000000</td>\n",
       "      <td>0.000000</td>\n",
       "      <td>0.000000</td>\n",
       "      <td>0.0</td>\n",
       "      <td>0.0</td>\n",
       "      <td>0.0</td>\n",
       "      <td>-0.032581</td>\n",
       "      <td>0.000000</td>\n",
       "    </tr>\n",
       "    <tr>\n",
       "      <th>29</th>\n",
       "      <td>-0.072160</td>\n",
       "      <td>-0.007801</td>\n",
       "      <td>-0.069261</td>\n",
       "      <td>-0.104408</td>\n",
       "      <td>-0.125432</td>\n",
       "      <td>0.027975</td>\n",
       "      <td>-0.050972</td>\n",
       "      <td>0.051002</td>\n",
       "      <td>-0.043056</td>\n",
       "      <td>-0.024528</td>\n",
       "      <td>...</td>\n",
       "      <td>0.000000</td>\n",
       "      <td>0.000000</td>\n",
       "      <td>0.000000</td>\n",
       "      <td>0.000000</td>\n",
       "      <td>0.000000</td>\n",
       "      <td>0.0</td>\n",
       "      <td>0.0</td>\n",
       "      <td>0.0</td>\n",
       "      <td>0.000000</td>\n",
       "      <td>-0.098527</td>\n",
       "    </tr>\n",
       "    <tr>\n",
       "      <th>...</th>\n",
       "      <td>...</td>\n",
       "      <td>...</td>\n",
       "      <td>...</td>\n",
       "      <td>...</td>\n",
       "      <td>...</td>\n",
       "      <td>...</td>\n",
       "      <td>...</td>\n",
       "      <td>...</td>\n",
       "      <td>...</td>\n",
       "      <td>...</td>\n",
       "      <td>...</td>\n",
       "      <td>...</td>\n",
       "      <td>...</td>\n",
       "      <td>...</td>\n",
       "      <td>...</td>\n",
       "      <td>...</td>\n",
       "      <td>...</td>\n",
       "      <td>...</td>\n",
       "      <td>...</td>\n",
       "      <td>...</td>\n",
       "      <td>...</td>\n",
       "    </tr>\n",
       "    <tr>\n",
       "      <th>1652</th>\n",
       "      <td>0.000000</td>\n",
       "      <td>0.000000</td>\n",
       "      <td>0.000000</td>\n",
       "      <td>0.000000</td>\n",
       "      <td>0.000000</td>\n",
       "      <td>0.000000</td>\n",
       "      <td>0.000000</td>\n",
       "      <td>0.000000</td>\n",
       "      <td>0.000000</td>\n",
       "      <td>0.000000</td>\n",
       "      <td>...</td>\n",
       "      <td>0.000000</td>\n",
       "      <td>0.000000</td>\n",
       "      <td>0.000000</td>\n",
       "      <td>0.000000</td>\n",
       "      <td>0.000000</td>\n",
       "      <td>0.0</td>\n",
       "      <td>0.0</td>\n",
       "      <td>0.0</td>\n",
       "      <td>0.000000</td>\n",
       "      <td>0.000000</td>\n",
       "    </tr>\n",
       "    <tr>\n",
       "      <th>1653</th>\n",
       "      <td>-0.062866</td>\n",
       "      <td>0.000000</td>\n",
       "      <td>0.000000</td>\n",
       "      <td>0.000000</td>\n",
       "      <td>0.000000</td>\n",
       "      <td>0.000000</td>\n",
       "      <td>0.000000</td>\n",
       "      <td>0.000000</td>\n",
       "      <td>0.111139</td>\n",
       "      <td>0.000000</td>\n",
       "      <td>...</td>\n",
       "      <td>0.000000</td>\n",
       "      <td>0.000000</td>\n",
       "      <td>0.000000</td>\n",
       "      <td>0.000000</td>\n",
       "      <td>0.000000</td>\n",
       "      <td>0.0</td>\n",
       "      <td>0.0</td>\n",
       "      <td>0.0</td>\n",
       "      <td>0.000000</td>\n",
       "      <td>0.000000</td>\n",
       "    </tr>\n",
       "    <tr>\n",
       "      <th>1654</th>\n",
       "      <td>-0.031165</td>\n",
       "      <td>-0.006820</td>\n",
       "      <td>-0.016652</td>\n",
       "      <td>0.009497</td>\n",
       "      <td>-0.001439</td>\n",
       "      <td>0.000000</td>\n",
       "      <td>-0.033486</td>\n",
       "      <td>0.034712</td>\n",
       "      <td>0.026456</td>\n",
       "      <td>0.000000</td>\n",
       "      <td>...</td>\n",
       "      <td>0.000000</td>\n",
       "      <td>0.000000</td>\n",
       "      <td>0.000000</td>\n",
       "      <td>0.000000</td>\n",
       "      <td>0.000000</td>\n",
       "      <td>0.0</td>\n",
       "      <td>0.0</td>\n",
       "      <td>0.0</td>\n",
       "      <td>0.000000</td>\n",
       "      <td>0.000000</td>\n",
       "    </tr>\n",
       "    <tr>\n",
       "      <th>1655</th>\n",
       "      <td>-0.047038</td>\n",
       "      <td>0.000000</td>\n",
       "      <td>0.000000</td>\n",
       "      <td>0.005683</td>\n",
       "      <td>0.000000</td>\n",
       "      <td>0.000000</td>\n",
       "      <td>0.032452</td>\n",
       "      <td>-0.012647</td>\n",
       "      <td>-0.008748</td>\n",
       "      <td>0.071881</td>\n",
       "      <td>...</td>\n",
       "      <td>0.000000</td>\n",
       "      <td>0.000000</td>\n",
       "      <td>0.000000</td>\n",
       "      <td>0.000000</td>\n",
       "      <td>0.000000</td>\n",
       "      <td>0.0</td>\n",
       "      <td>0.0</td>\n",
       "      <td>0.0</td>\n",
       "      <td>0.000000</td>\n",
       "      <td>0.000000</td>\n",
       "    </tr>\n",
       "    <tr>\n",
       "      <th>1656</th>\n",
       "      <td>0.019213</td>\n",
       "      <td>-0.120682</td>\n",
       "      <td>0.000000</td>\n",
       "      <td>0.000000</td>\n",
       "      <td>-0.013670</td>\n",
       "      <td>0.000000</td>\n",
       "      <td>0.069471</td>\n",
       "      <td>0.000000</td>\n",
       "      <td>0.000000</td>\n",
       "      <td>0.000000</td>\n",
       "      <td>...</td>\n",
       "      <td>0.000000</td>\n",
       "      <td>0.000000</td>\n",
       "      <td>0.000000</td>\n",
       "      <td>0.000000</td>\n",
       "      <td>0.000000</td>\n",
       "      <td>0.0</td>\n",
       "      <td>0.0</td>\n",
       "      <td>0.0</td>\n",
       "      <td>0.000000</td>\n",
       "      <td>0.000000</td>\n",
       "    </tr>\n",
       "    <tr>\n",
       "      <th>1657</th>\n",
       "      <td>0.006256</td>\n",
       "      <td>0.000000</td>\n",
       "      <td>0.000000</td>\n",
       "      <td>0.000000</td>\n",
       "      <td>0.000000</td>\n",
       "      <td>0.000000</td>\n",
       "      <td>0.004114</td>\n",
       "      <td>0.000000</td>\n",
       "      <td>0.003030</td>\n",
       "      <td>0.009945</td>\n",
       "      <td>...</td>\n",
       "      <td>0.000000</td>\n",
       "      <td>0.000000</td>\n",
       "      <td>0.000000</td>\n",
       "      <td>0.000000</td>\n",
       "      <td>0.000000</td>\n",
       "      <td>0.0</td>\n",
       "      <td>0.0</td>\n",
       "      <td>0.0</td>\n",
       "      <td>0.000000</td>\n",
       "      <td>0.000000</td>\n",
       "    </tr>\n",
       "    <tr>\n",
       "      <th>1658</th>\n",
       "      <td>-0.037298</td>\n",
       "      <td>0.000000</td>\n",
       "      <td>0.165405</td>\n",
       "      <td>0.001294</td>\n",
       "      <td>0.000000</td>\n",
       "      <td>0.000000</td>\n",
       "      <td>0.014615</td>\n",
       "      <td>-0.043672</td>\n",
       "      <td>-0.039253</td>\n",
       "      <td>0.000000</td>\n",
       "      <td>...</td>\n",
       "      <td>0.000000</td>\n",
       "      <td>0.000000</td>\n",
       "      <td>0.000000</td>\n",
       "      <td>0.000000</td>\n",
       "      <td>0.000000</td>\n",
       "      <td>0.0</td>\n",
       "      <td>0.0</td>\n",
       "      <td>0.0</td>\n",
       "      <td>0.000000</td>\n",
       "      <td>0.000000</td>\n",
       "    </tr>\n",
       "    <tr>\n",
       "      <th>1659</th>\n",
       "      <td>-0.037298</td>\n",
       "      <td>0.000000</td>\n",
       "      <td>0.165405</td>\n",
       "      <td>0.001294</td>\n",
       "      <td>0.000000</td>\n",
       "      <td>0.000000</td>\n",
       "      <td>0.014615</td>\n",
       "      <td>-0.043672</td>\n",
       "      <td>-0.039253</td>\n",
       "      <td>0.000000</td>\n",
       "      <td>...</td>\n",
       "      <td>0.000000</td>\n",
       "      <td>0.000000</td>\n",
       "      <td>0.000000</td>\n",
       "      <td>0.000000</td>\n",
       "      <td>0.000000</td>\n",
       "      <td>0.0</td>\n",
       "      <td>0.0</td>\n",
       "      <td>0.0</td>\n",
       "      <td>0.000000</td>\n",
       "      <td>0.000000</td>\n",
       "    </tr>\n",
       "    <tr>\n",
       "      <th>1660</th>\n",
       "      <td>0.046438</td>\n",
       "      <td>-0.069860</td>\n",
       "      <td>0.021263</td>\n",
       "      <td>0.000000</td>\n",
       "      <td>0.000000</td>\n",
       "      <td>0.000000</td>\n",
       "      <td>0.041843</td>\n",
       "      <td>0.000000</td>\n",
       "      <td>0.000000</td>\n",
       "      <td>0.000000</td>\n",
       "      <td>...</td>\n",
       "      <td>0.000000</td>\n",
       "      <td>0.000000</td>\n",
       "      <td>0.000000</td>\n",
       "      <td>0.000000</td>\n",
       "      <td>0.000000</td>\n",
       "      <td>0.0</td>\n",
       "      <td>0.0</td>\n",
       "      <td>0.0</td>\n",
       "      <td>0.000000</td>\n",
       "      <td>0.000000</td>\n",
       "    </tr>\n",
       "    <tr>\n",
       "      <th>1661</th>\n",
       "      <td>0.000000</td>\n",
       "      <td>0.000000</td>\n",
       "      <td>0.000000</td>\n",
       "      <td>0.000000</td>\n",
       "      <td>0.000000</td>\n",
       "      <td>0.000000</td>\n",
       "      <td>0.000000</td>\n",
       "      <td>0.000000</td>\n",
       "      <td>0.000000</td>\n",
       "      <td>0.000000</td>\n",
       "      <td>...</td>\n",
       "      <td>0.000000</td>\n",
       "      <td>0.000000</td>\n",
       "      <td>0.000000</td>\n",
       "      <td>0.000000</td>\n",
       "      <td>0.000000</td>\n",
       "      <td>0.0</td>\n",
       "      <td>0.0</td>\n",
       "      <td>0.0</td>\n",
       "      <td>0.000000</td>\n",
       "      <td>0.000000</td>\n",
       "    </tr>\n",
       "    <tr>\n",
       "      <th>1662</th>\n",
       "      <td>0.000000</td>\n",
       "      <td>0.000000</td>\n",
       "      <td>0.000000</td>\n",
       "      <td>0.000000</td>\n",
       "      <td>0.000000</td>\n",
       "      <td>0.000000</td>\n",
       "      <td>0.000000</td>\n",
       "      <td>0.000000</td>\n",
       "      <td>0.000000</td>\n",
       "      <td>0.000000</td>\n",
       "      <td>...</td>\n",
       "      <td>0.000000</td>\n",
       "      <td>0.000000</td>\n",
       "      <td>0.000000</td>\n",
       "      <td>0.000000</td>\n",
       "      <td>0.000000</td>\n",
       "      <td>0.0</td>\n",
       "      <td>0.0</td>\n",
       "      <td>0.0</td>\n",
       "      <td>0.000000</td>\n",
       "      <td>0.000000</td>\n",
       "    </tr>\n",
       "    <tr>\n",
       "      <th>1663</th>\n",
       "      <td>-0.004309</td>\n",
       "      <td>-0.031203</td>\n",
       "      <td>-0.043538</td>\n",
       "      <td>-0.012415</td>\n",
       "      <td>-0.007444</td>\n",
       "      <td>0.017973</td>\n",
       "      <td>0.063246</td>\n",
       "      <td>0.003426</td>\n",
       "      <td>0.015034</td>\n",
       "      <td>0.007972</td>\n",
       "      <td>...</td>\n",
       "      <td>0.000000</td>\n",
       "      <td>0.000000</td>\n",
       "      <td>0.000000</td>\n",
       "      <td>0.000000</td>\n",
       "      <td>0.000000</td>\n",
       "      <td>0.0</td>\n",
       "      <td>0.0</td>\n",
       "      <td>0.0</td>\n",
       "      <td>0.000000</td>\n",
       "      <td>0.000000</td>\n",
       "    </tr>\n",
       "    <tr>\n",
       "      <th>1664</th>\n",
       "      <td>0.000000</td>\n",
       "      <td>0.000000</td>\n",
       "      <td>0.000000</td>\n",
       "      <td>0.000000</td>\n",
       "      <td>0.000000</td>\n",
       "      <td>0.000000</td>\n",
       "      <td>0.000000</td>\n",
       "      <td>0.000000</td>\n",
       "      <td>0.000000</td>\n",
       "      <td>0.000000</td>\n",
       "      <td>...</td>\n",
       "      <td>0.000000</td>\n",
       "      <td>0.000000</td>\n",
       "      <td>0.000000</td>\n",
       "      <td>0.000000</td>\n",
       "      <td>0.000000</td>\n",
       "      <td>0.0</td>\n",
       "      <td>0.0</td>\n",
       "      <td>0.0</td>\n",
       "      <td>0.000000</td>\n",
       "      <td>0.000000</td>\n",
       "    </tr>\n",
       "    <tr>\n",
       "      <th>1665</th>\n",
       "      <td>0.000000</td>\n",
       "      <td>0.000000</td>\n",
       "      <td>0.000000</td>\n",
       "      <td>0.000000</td>\n",
       "      <td>0.000000</td>\n",
       "      <td>0.000000</td>\n",
       "      <td>0.000000</td>\n",
       "      <td>0.000000</td>\n",
       "      <td>0.000000</td>\n",
       "      <td>0.000000</td>\n",
       "      <td>...</td>\n",
       "      <td>0.000000</td>\n",
       "      <td>0.000000</td>\n",
       "      <td>0.000000</td>\n",
       "      <td>0.000000</td>\n",
       "      <td>0.000000</td>\n",
       "      <td>0.0</td>\n",
       "      <td>0.0</td>\n",
       "      <td>0.0</td>\n",
       "      <td>0.000000</td>\n",
       "      <td>0.000000</td>\n",
       "    </tr>\n",
       "    <tr>\n",
       "      <th>1666</th>\n",
       "      <td>0.000000</td>\n",
       "      <td>0.000000</td>\n",
       "      <td>0.000000</td>\n",
       "      <td>0.000000</td>\n",
       "      <td>0.000000</td>\n",
       "      <td>0.000000</td>\n",
       "      <td>0.000000</td>\n",
       "      <td>0.000000</td>\n",
       "      <td>0.000000</td>\n",
       "      <td>0.000000</td>\n",
       "      <td>...</td>\n",
       "      <td>0.000000</td>\n",
       "      <td>0.000000</td>\n",
       "      <td>0.000000</td>\n",
       "      <td>0.000000</td>\n",
       "      <td>0.000000</td>\n",
       "      <td>0.0</td>\n",
       "      <td>0.0</td>\n",
       "      <td>0.0</td>\n",
       "      <td>0.000000</td>\n",
       "      <td>0.000000</td>\n",
       "    </tr>\n",
       "    <tr>\n",
       "      <th>1667</th>\n",
       "      <td>0.000000</td>\n",
       "      <td>0.000000</td>\n",
       "      <td>0.000000</td>\n",
       "      <td>0.000000</td>\n",
       "      <td>0.000000</td>\n",
       "      <td>0.000000</td>\n",
       "      <td>0.000000</td>\n",
       "      <td>0.000000</td>\n",
       "      <td>0.000000</td>\n",
       "      <td>0.000000</td>\n",
       "      <td>...</td>\n",
       "      <td>0.000000</td>\n",
       "      <td>0.000000</td>\n",
       "      <td>0.000000</td>\n",
       "      <td>0.000000</td>\n",
       "      <td>0.000000</td>\n",
       "      <td>0.0</td>\n",
       "      <td>0.0</td>\n",
       "      <td>0.0</td>\n",
       "      <td>0.000000</td>\n",
       "      <td>0.000000</td>\n",
       "    </tr>\n",
       "    <tr>\n",
       "      <th>1668</th>\n",
       "      <td>0.000000</td>\n",
       "      <td>0.000000</td>\n",
       "      <td>0.000000</td>\n",
       "      <td>0.000000</td>\n",
       "      <td>0.000000</td>\n",
       "      <td>0.000000</td>\n",
       "      <td>0.000000</td>\n",
       "      <td>0.000000</td>\n",
       "      <td>0.000000</td>\n",
       "      <td>0.000000</td>\n",
       "      <td>...</td>\n",
       "      <td>0.000000</td>\n",
       "      <td>0.000000</td>\n",
       "      <td>0.000000</td>\n",
       "      <td>0.000000</td>\n",
       "      <td>0.000000</td>\n",
       "      <td>0.0</td>\n",
       "      <td>0.0</td>\n",
       "      <td>0.0</td>\n",
       "      <td>0.000000</td>\n",
       "      <td>0.000000</td>\n",
       "    </tr>\n",
       "    <tr>\n",
       "      <th>1669</th>\n",
       "      <td>0.000000</td>\n",
       "      <td>0.000000</td>\n",
       "      <td>0.000000</td>\n",
       "      <td>0.000000</td>\n",
       "      <td>0.000000</td>\n",
       "      <td>0.000000</td>\n",
       "      <td>0.000000</td>\n",
       "      <td>0.000000</td>\n",
       "      <td>0.000000</td>\n",
       "      <td>0.000000</td>\n",
       "      <td>...</td>\n",
       "      <td>0.000000</td>\n",
       "      <td>0.000000</td>\n",
       "      <td>0.000000</td>\n",
       "      <td>0.000000</td>\n",
       "      <td>0.000000</td>\n",
       "      <td>0.0</td>\n",
       "      <td>0.0</td>\n",
       "      <td>0.0</td>\n",
       "      <td>0.000000</td>\n",
       "      <td>0.000000</td>\n",
       "    </tr>\n",
       "    <tr>\n",
       "      <th>1670</th>\n",
       "      <td>0.000000</td>\n",
       "      <td>0.000000</td>\n",
       "      <td>0.000000</td>\n",
       "      <td>0.000000</td>\n",
       "      <td>0.000000</td>\n",
       "      <td>0.000000</td>\n",
       "      <td>0.000000</td>\n",
       "      <td>0.000000</td>\n",
       "      <td>0.000000</td>\n",
       "      <td>0.000000</td>\n",
       "      <td>...</td>\n",
       "      <td>0.000000</td>\n",
       "      <td>0.000000</td>\n",
       "      <td>0.000000</td>\n",
       "      <td>0.000000</td>\n",
       "      <td>0.000000</td>\n",
       "      <td>0.0</td>\n",
       "      <td>0.0</td>\n",
       "      <td>0.0</td>\n",
       "      <td>0.000000</td>\n",
       "      <td>0.000000</td>\n",
       "    </tr>\n",
       "    <tr>\n",
       "      <th>1671</th>\n",
       "      <td>-0.025739</td>\n",
       "      <td>-0.014692</td>\n",
       "      <td>0.000000</td>\n",
       "      <td>-0.001184</td>\n",
       "      <td>0.000000</td>\n",
       "      <td>0.304173</td>\n",
       "      <td>-0.027086</td>\n",
       "      <td>-0.076145</td>\n",
       "      <td>-0.027105</td>\n",
       "      <td>0.031824</td>\n",
       "      <td>...</td>\n",
       "      <td>0.000000</td>\n",
       "      <td>0.000000</td>\n",
       "      <td>0.000000</td>\n",
       "      <td>0.000000</td>\n",
       "      <td>0.000000</td>\n",
       "      <td>0.0</td>\n",
       "      <td>0.0</td>\n",
       "      <td>0.0</td>\n",
       "      <td>-0.649506</td>\n",
       "      <td>0.000000</td>\n",
       "    </tr>\n",
       "    <tr>\n",
       "      <th>1672</th>\n",
       "      <td>0.077118</td>\n",
       "      <td>0.000000</td>\n",
       "      <td>0.000000</td>\n",
       "      <td>0.000000</td>\n",
       "      <td>0.000000</td>\n",
       "      <td>0.000000</td>\n",
       "      <td>0.000000</td>\n",
       "      <td>0.000000</td>\n",
       "      <td>0.000000</td>\n",
       "      <td>0.000000</td>\n",
       "      <td>...</td>\n",
       "      <td>1.000000</td>\n",
       "      <td>0.000000</td>\n",
       "      <td>0.000000</td>\n",
       "      <td>0.000000</td>\n",
       "      <td>0.000000</td>\n",
       "      <td>0.0</td>\n",
       "      <td>0.0</td>\n",
       "      <td>0.0</td>\n",
       "      <td>0.000000</td>\n",
       "      <td>0.000000</td>\n",
       "    </tr>\n",
       "    <tr>\n",
       "      <th>1673</th>\n",
       "      <td>0.000000</td>\n",
       "      <td>0.000000</td>\n",
       "      <td>0.000000</td>\n",
       "      <td>0.000000</td>\n",
       "      <td>0.000000</td>\n",
       "      <td>0.000000</td>\n",
       "      <td>0.018422</td>\n",
       "      <td>-0.038699</td>\n",
       "      <td>0.000000</td>\n",
       "      <td>0.000000</td>\n",
       "      <td>...</td>\n",
       "      <td>0.000000</td>\n",
       "      <td>1.000000</td>\n",
       "      <td>0.000000</td>\n",
       "      <td>0.000000</td>\n",
       "      <td>0.000000</td>\n",
       "      <td>0.0</td>\n",
       "      <td>0.0</td>\n",
       "      <td>0.0</td>\n",
       "      <td>0.000000</td>\n",
       "      <td>0.000000</td>\n",
       "    </tr>\n",
       "    <tr>\n",
       "      <th>1674</th>\n",
       "      <td>0.000000</td>\n",
       "      <td>0.000000</td>\n",
       "      <td>0.000000</td>\n",
       "      <td>-0.115990</td>\n",
       "      <td>0.000000</td>\n",
       "      <td>0.000000</td>\n",
       "      <td>0.000000</td>\n",
       "      <td>-0.013646</td>\n",
       "      <td>-0.014082</td>\n",
       "      <td>0.078010</td>\n",
       "      <td>...</td>\n",
       "      <td>0.000000</td>\n",
       "      <td>0.000000</td>\n",
       "      <td>1.000000</td>\n",
       "      <td>1.000000</td>\n",
       "      <td>0.000000</td>\n",
       "      <td>0.0</td>\n",
       "      <td>0.0</td>\n",
       "      <td>0.0</td>\n",
       "      <td>0.000000</td>\n",
       "      <td>0.000000</td>\n",
       "    </tr>\n",
       "    <tr>\n",
       "      <th>1675</th>\n",
       "      <td>0.000000</td>\n",
       "      <td>0.000000</td>\n",
       "      <td>0.000000</td>\n",
       "      <td>-0.115990</td>\n",
       "      <td>0.000000</td>\n",
       "      <td>0.000000</td>\n",
       "      <td>0.000000</td>\n",
       "      <td>-0.013646</td>\n",
       "      <td>-0.014082</td>\n",
       "      <td>0.078010</td>\n",
       "      <td>...</td>\n",
       "      <td>0.000000</td>\n",
       "      <td>0.000000</td>\n",
       "      <td>1.000000</td>\n",
       "      <td>1.000000</td>\n",
       "      <td>0.000000</td>\n",
       "      <td>0.0</td>\n",
       "      <td>0.0</td>\n",
       "      <td>0.0</td>\n",
       "      <td>0.000000</td>\n",
       "      <td>0.000000</td>\n",
       "    </tr>\n",
       "    <tr>\n",
       "      <th>1676</th>\n",
       "      <td>0.028896</td>\n",
       "      <td>0.000000</td>\n",
       "      <td>0.183583</td>\n",
       "      <td>0.089827</td>\n",
       "      <td>0.000000</td>\n",
       "      <td>0.000000</td>\n",
       "      <td>-0.029240</td>\n",
       "      <td>-0.100956</td>\n",
       "      <td>-0.087274</td>\n",
       "      <td>0.000000</td>\n",
       "      <td>...</td>\n",
       "      <td>0.000000</td>\n",
       "      <td>0.000000</td>\n",
       "      <td>0.000000</td>\n",
       "      <td>0.000000</td>\n",
       "      <td>1.000000</td>\n",
       "      <td>0.0</td>\n",
       "      <td>0.0</td>\n",
       "      <td>0.0</td>\n",
       "      <td>0.000000</td>\n",
       "      <td>0.000000</td>\n",
       "    </tr>\n",
       "    <tr>\n",
       "      <th>1677</th>\n",
       "      <td>0.000000</td>\n",
       "      <td>0.000000</td>\n",
       "      <td>0.000000</td>\n",
       "      <td>0.000000</td>\n",
       "      <td>0.000000</td>\n",
       "      <td>0.000000</td>\n",
       "      <td>0.000000</td>\n",
       "      <td>0.000000</td>\n",
       "      <td>0.000000</td>\n",
       "      <td>0.000000</td>\n",
       "      <td>...</td>\n",
       "      <td>0.000000</td>\n",
       "      <td>0.000000</td>\n",
       "      <td>0.000000</td>\n",
       "      <td>0.000000</td>\n",
       "      <td>0.000000</td>\n",
       "      <td>1.0</td>\n",
       "      <td>1.0</td>\n",
       "      <td>1.0</td>\n",
       "      <td>0.000000</td>\n",
       "      <td>0.000000</td>\n",
       "    </tr>\n",
       "    <tr>\n",
       "      <th>1678</th>\n",
       "      <td>0.000000</td>\n",
       "      <td>0.000000</td>\n",
       "      <td>0.000000</td>\n",
       "      <td>0.000000</td>\n",
       "      <td>0.000000</td>\n",
       "      <td>0.000000</td>\n",
       "      <td>0.000000</td>\n",
       "      <td>0.000000</td>\n",
       "      <td>0.000000</td>\n",
       "      <td>0.000000</td>\n",
       "      <td>...</td>\n",
       "      <td>0.000000</td>\n",
       "      <td>0.000000</td>\n",
       "      <td>0.000000</td>\n",
       "      <td>0.000000</td>\n",
       "      <td>0.000000</td>\n",
       "      <td>1.0</td>\n",
       "      <td>1.0</td>\n",
       "      <td>1.0</td>\n",
       "      <td>0.000000</td>\n",
       "      <td>0.000000</td>\n",
       "    </tr>\n",
       "    <tr>\n",
       "      <th>1679</th>\n",
       "      <td>0.000000</td>\n",
       "      <td>0.000000</td>\n",
       "      <td>0.000000</td>\n",
       "      <td>0.000000</td>\n",
       "      <td>0.000000</td>\n",
       "      <td>0.000000</td>\n",
       "      <td>0.000000</td>\n",
       "      <td>0.000000</td>\n",
       "      <td>0.000000</td>\n",
       "      <td>0.000000</td>\n",
       "      <td>...</td>\n",
       "      <td>0.000000</td>\n",
       "      <td>0.000000</td>\n",
       "      <td>0.000000</td>\n",
       "      <td>0.000000</td>\n",
       "      <td>0.000000</td>\n",
       "      <td>1.0</td>\n",
       "      <td>1.0</td>\n",
       "      <td>1.0</td>\n",
       "      <td>0.000000</td>\n",
       "      <td>0.000000</td>\n",
       "    </tr>\n",
       "    <tr>\n",
       "      <th>1680</th>\n",
       "      <td>0.039629</td>\n",
       "      <td>0.022621</td>\n",
       "      <td>0.000000</td>\n",
       "      <td>0.001824</td>\n",
       "      <td>0.000000</td>\n",
       "      <td>0.000000</td>\n",
       "      <td>0.041703</td>\n",
       "      <td>0.117235</td>\n",
       "      <td>0.041731</td>\n",
       "      <td>0.000000</td>\n",
       "      <td>...</td>\n",
       "      <td>0.000000</td>\n",
       "      <td>0.000000</td>\n",
       "      <td>0.000000</td>\n",
       "      <td>0.000000</td>\n",
       "      <td>0.000000</td>\n",
       "      <td>0.0</td>\n",
       "      <td>0.0</td>\n",
       "      <td>0.0</td>\n",
       "      <td>1.000000</td>\n",
       "      <td>0.000000</td>\n",
       "    </tr>\n",
       "    <tr>\n",
       "      <th>1681</th>\n",
       "      <td>-0.018718</td>\n",
       "      <td>0.016415</td>\n",
       "      <td>0.004880</td>\n",
       "      <td>-0.048334</td>\n",
       "      <td>0.027241</td>\n",
       "      <td>0.000000</td>\n",
       "      <td>-0.021404</td>\n",
       "      <td>0.000000</td>\n",
       "      <td>-0.078694</td>\n",
       "      <td>0.000000</td>\n",
       "      <td>...</td>\n",
       "      <td>0.000000</td>\n",
       "      <td>0.000000</td>\n",
       "      <td>0.000000</td>\n",
       "      <td>0.000000</td>\n",
       "      <td>0.000000</td>\n",
       "      <td>0.0</td>\n",
       "      <td>0.0</td>\n",
       "      <td>0.0</td>\n",
       "      <td>0.000000</td>\n",
       "      <td>1.000000</td>\n",
       "    </tr>\n",
       "  </tbody>\n",
       "</table>\n",
       "<p>1682 rows × 1682 columns</p>\n",
       "</div>"
      ],
      "text/plain": [
       "          0         1         2         3         4         5         6     \\\n",
       "0     1.000000 -0.003603 -0.012158 -0.035144  0.039609  0.022780  0.021228   \n",
       "1    -0.003603  1.000000 -0.001984  0.050458  0.002228 -0.003639 -0.016975   \n",
       "2    -0.012158 -0.001984  1.000000 -0.113536 -0.005417  0.060713 -0.024408   \n",
       "3    -0.035144  0.050458 -0.113536  1.000000 -0.149507 -0.019089  0.005145   \n",
       "4     0.039609  0.002228 -0.005417 -0.149507  1.000000 -0.031989 -0.015494   \n",
       "5     0.022780 -0.003639  0.060713 -0.019089 -0.031989  1.000000 -0.049966   \n",
       "6     0.021228 -0.016975 -0.024408  0.005145 -0.015494 -0.049966  1.000000   \n",
       "7     0.052695  0.040146 -0.094746  0.110511  0.038203 -0.076343  0.017618   \n",
       "8    -0.004018 -0.089526 -0.016745  0.033087 -0.042447  0.008348  0.140064   \n",
       "9    -0.015940 -0.007177 -0.039964  0.010968 -0.036512 -0.036051  0.022989   \n",
       "10    0.078221  0.069466 -0.018096  0.080839  0.093008 -0.013802  0.119768   \n",
       "11   -0.023219  0.070982 -0.083166  0.159122 -0.050456 -0.047262  0.077150   \n",
       "12   -0.050490  0.051188  0.062841  0.096329 -0.080416  0.029656  0.043101   \n",
       "13   -0.041320 -0.061722  0.077676  0.074109 -0.064390  0.063085 -0.065883   \n",
       "14   -0.028335  0.001472  0.019258 -0.052079  0.048286 -0.000198 -0.017151   \n",
       "15    0.025833  0.125128  0.075486 -0.036795  0.001966  0.090562  0.033829   \n",
       "16    0.032485 -0.161241  0.100918  0.008135  0.014662 -0.019526  0.128843   \n",
       "17    0.051863 -0.008198  0.032134 -0.078247 -0.012070  0.075036  0.036004   \n",
       "18   -0.042754 -0.028058 -0.014821  0.022407  0.006990 -0.029929 -0.010466   \n",
       "19   -0.065494 -0.013182  0.015838  0.068819 -0.040891  0.084206 -0.020309   \n",
       "20    0.022376  0.076074  0.056317  0.066975 -0.035398 -0.056810 -0.009709   \n",
       "21    0.083900 -0.053620  0.052016  0.032513  0.092919 -0.019133  0.020334   \n",
       "22   -0.016260 -0.129676 -0.105800  0.072098 -0.069992  0.020583 -0.006435   \n",
       "23   -0.001017  0.045953  0.085043 -0.023819  0.050957 -0.008163  0.124196   \n",
       "24   -0.010154  0.037190  0.001757  0.011233  0.005624  0.004337 -0.041503   \n",
       "25   -0.016312 -0.066117  0.026045 -0.024921  0.173720 -0.012373 -0.044962   \n",
       "26   -0.044244  0.005563  0.001890  0.086857  0.027979  0.015337 -0.046577   \n",
       "27    0.128326  0.052717 -0.001263 -0.029942  0.066278  0.002285 -0.079742   \n",
       "28    0.024922  0.044534  0.099986 -0.012220  0.153944 -0.057952 -0.027210   \n",
       "29   -0.072160 -0.007801 -0.069261 -0.104408 -0.125432  0.027975 -0.050972   \n",
       "...        ...       ...       ...       ...       ...       ...       ...   \n",
       "1652  0.000000  0.000000  0.000000  0.000000  0.000000  0.000000  0.000000   \n",
       "1653 -0.062866  0.000000  0.000000  0.000000  0.000000  0.000000  0.000000   \n",
       "1654 -0.031165 -0.006820 -0.016652  0.009497 -0.001439  0.000000 -0.033486   \n",
       "1655 -0.047038  0.000000  0.000000  0.005683  0.000000  0.000000  0.032452   \n",
       "1656  0.019213 -0.120682  0.000000  0.000000 -0.013670  0.000000  0.069471   \n",
       "1657  0.006256  0.000000  0.000000  0.000000  0.000000  0.000000  0.004114   \n",
       "1658 -0.037298  0.000000  0.165405  0.001294  0.000000  0.000000  0.014615   \n",
       "1659 -0.037298  0.000000  0.165405  0.001294  0.000000  0.000000  0.014615   \n",
       "1660  0.046438 -0.069860  0.021263  0.000000  0.000000  0.000000  0.041843   \n",
       "1661  0.000000  0.000000  0.000000  0.000000  0.000000  0.000000  0.000000   \n",
       "1662  0.000000  0.000000  0.000000  0.000000  0.000000  0.000000  0.000000   \n",
       "1663 -0.004309 -0.031203 -0.043538 -0.012415 -0.007444  0.017973  0.063246   \n",
       "1664  0.000000  0.000000  0.000000  0.000000  0.000000  0.000000  0.000000   \n",
       "1665  0.000000  0.000000  0.000000  0.000000  0.000000  0.000000  0.000000   \n",
       "1666  0.000000  0.000000  0.000000  0.000000  0.000000  0.000000  0.000000   \n",
       "1667  0.000000  0.000000  0.000000  0.000000  0.000000  0.000000  0.000000   \n",
       "1668  0.000000  0.000000  0.000000  0.000000  0.000000  0.000000  0.000000   \n",
       "1669  0.000000  0.000000  0.000000  0.000000  0.000000  0.000000  0.000000   \n",
       "1670  0.000000  0.000000  0.000000  0.000000  0.000000  0.000000  0.000000   \n",
       "1671 -0.025739 -0.014692  0.000000 -0.001184  0.000000  0.304173 -0.027086   \n",
       "1672  0.077118  0.000000  0.000000  0.000000  0.000000  0.000000  0.000000   \n",
       "1673  0.000000  0.000000  0.000000  0.000000  0.000000  0.000000  0.018422   \n",
       "1674  0.000000  0.000000  0.000000 -0.115990  0.000000  0.000000  0.000000   \n",
       "1675  0.000000  0.000000  0.000000 -0.115990  0.000000  0.000000  0.000000   \n",
       "1676  0.028896  0.000000  0.183583  0.089827  0.000000  0.000000 -0.029240   \n",
       "1677  0.000000  0.000000  0.000000  0.000000  0.000000  0.000000  0.000000   \n",
       "1678  0.000000  0.000000  0.000000  0.000000  0.000000  0.000000  0.000000   \n",
       "1679  0.000000  0.000000  0.000000  0.000000  0.000000  0.000000  0.000000   \n",
       "1680  0.039629  0.022621  0.000000  0.001824  0.000000  0.000000  0.041703   \n",
       "1681 -0.018718  0.016415  0.004880 -0.048334  0.027241  0.000000 -0.021404   \n",
       "\n",
       "          7         8         9       ...         1672      1673      1674  \\\n",
       "0     0.052695 -0.004018 -0.015940    ...     0.077118  0.000000  0.000000   \n",
       "1     0.040146 -0.089526 -0.007177    ...     0.000000  0.000000  0.000000   \n",
       "2    -0.094746 -0.016745 -0.039964    ...     0.000000  0.000000  0.000000   \n",
       "3     0.110511  0.033087  0.010968    ...     0.000000  0.000000 -0.115990   \n",
       "4     0.038203 -0.042447 -0.036512    ...     0.000000  0.000000  0.000000   \n",
       "5    -0.076343  0.008348 -0.036051    ...     0.000000  0.000000  0.000000   \n",
       "6     0.017618  0.140064  0.022989    ...     0.000000  0.018422  0.000000   \n",
       "7     1.000000 -0.002634  0.039560    ...     0.000000 -0.038699 -0.013646   \n",
       "8    -0.002634  1.000000 -0.021018    ...     0.000000  0.000000 -0.014082   \n",
       "9     0.039560 -0.021018  1.000000    ...     0.000000  0.000000  0.078010   \n",
       "10    0.041080  0.002907 -0.006262    ...     0.000000  0.084676 -0.080248   \n",
       "11    0.064799  0.003167  0.004755    ...     0.000000  0.000000  0.013893   \n",
       "12    0.021853  0.085375  0.001886    ...     0.000000  0.000000  0.000000   \n",
       "13   -0.006782  0.142254  0.078100    ...     0.000000 -0.044894  0.000000   \n",
       "14   -0.033747  0.056504 -0.081757    ...    -0.045617  0.000000  0.000000   \n",
       "15   -0.044388  0.023090 -0.032256    ...     0.000000  0.000000  0.000000   \n",
       "16    0.070758  0.042786 -0.021986    ...     0.000000  0.000000 -0.168294   \n",
       "17    0.019641 -0.022845  0.008056    ...     0.000000  0.000000  0.000000   \n",
       "18   -0.080508 -0.068363 -0.096496    ...     0.000000  0.000000  0.000000   \n",
       "19    0.028856 -0.053705 -0.085499    ...     0.000000  0.000000  0.000000   \n",
       "20    0.040334 -0.031999  0.079583    ...     0.000000  0.000000  0.000000   \n",
       "21    0.073814  0.005628 -0.058795    ...     0.000000  0.102235 -0.064297   \n",
       "22    0.028728  0.012768  0.004458    ...     0.047288 -0.040812 -0.009051   \n",
       "23    0.012384  0.071736  0.020679    ...     0.000000  0.000000  0.000000   \n",
       "24   -0.047716  0.029249  0.018502    ...    -0.060248  0.000000  0.000000   \n",
       "25   -0.028339  0.002613 -0.017381    ...     0.000000  0.000000  0.000000   \n",
       "26   -0.015963 -0.061545 -0.014977    ...     0.000000  0.000000 -0.102411   \n",
       "27    0.024687 -0.046743 -0.090824    ...     0.031394  0.000000  0.000000   \n",
       "28   -0.021577 -0.041157  0.050877    ...     0.000000  0.000000  0.000000   \n",
       "29    0.051002 -0.043056 -0.024528    ...     0.000000  0.000000  0.000000   \n",
       "...        ...       ...       ...    ...          ...       ...       ...   \n",
       "1652  0.000000  0.000000  0.000000    ...     0.000000  0.000000  0.000000   \n",
       "1653  0.000000  0.111139  0.000000    ...     0.000000  0.000000  0.000000   \n",
       "1654  0.034712  0.026456  0.000000    ...     0.000000  0.000000  0.000000   \n",
       "1655 -0.012647 -0.008748  0.071881    ...     0.000000  0.000000  0.000000   \n",
       "1656  0.000000  0.000000  0.000000    ...     0.000000  0.000000  0.000000   \n",
       "1657  0.000000  0.003030  0.009945    ...     0.000000  0.000000  0.000000   \n",
       "1658 -0.043672 -0.039253  0.000000    ...     0.000000  0.000000  0.000000   \n",
       "1659 -0.043672 -0.039253  0.000000    ...     0.000000  0.000000  0.000000   \n",
       "1660  0.000000  0.000000  0.000000    ...     0.000000  0.000000  0.000000   \n",
       "1661  0.000000  0.000000  0.000000    ...     0.000000  0.000000  0.000000   \n",
       "1662  0.000000  0.000000  0.000000    ...     0.000000  0.000000  0.000000   \n",
       "1663  0.003426  0.015034  0.007972    ...     0.000000  0.000000  0.000000   \n",
       "1664  0.000000  0.000000  0.000000    ...     0.000000  0.000000  0.000000   \n",
       "1665  0.000000  0.000000  0.000000    ...     0.000000  0.000000  0.000000   \n",
       "1666  0.000000  0.000000  0.000000    ...     0.000000  0.000000  0.000000   \n",
       "1667  0.000000  0.000000  0.000000    ...     0.000000  0.000000  0.000000   \n",
       "1668  0.000000  0.000000  0.000000    ...     0.000000  0.000000  0.000000   \n",
       "1669  0.000000  0.000000  0.000000    ...     0.000000  0.000000  0.000000   \n",
       "1670  0.000000  0.000000  0.000000    ...     0.000000  0.000000  0.000000   \n",
       "1671 -0.076145 -0.027105  0.031824    ...     0.000000  0.000000  0.000000   \n",
       "1672  0.000000  0.000000  0.000000    ...     1.000000  0.000000  0.000000   \n",
       "1673 -0.038699  0.000000  0.000000    ...     0.000000  1.000000  0.000000   \n",
       "1674 -0.013646 -0.014082  0.078010    ...     0.000000  0.000000  1.000000   \n",
       "1675 -0.013646 -0.014082  0.078010    ...     0.000000  0.000000  1.000000   \n",
       "1676 -0.100956 -0.087274  0.000000    ...     0.000000  0.000000  0.000000   \n",
       "1677  0.000000  0.000000  0.000000    ...     0.000000  0.000000  0.000000   \n",
       "1678  0.000000  0.000000  0.000000    ...     0.000000  0.000000  0.000000   \n",
       "1679  0.000000  0.000000  0.000000    ...     0.000000  0.000000  0.000000   \n",
       "1680  0.117235  0.041731  0.000000    ...     0.000000  0.000000  0.000000   \n",
       "1681  0.000000 -0.078694  0.000000    ...     0.000000  0.000000  0.000000   \n",
       "\n",
       "          1675      1676  1677  1678  1679      1680      1681  \n",
       "0     0.000000  0.028896   0.0   0.0   0.0  0.039629 -0.018718  \n",
       "1     0.000000  0.000000   0.0   0.0   0.0  0.022621  0.016415  \n",
       "2     0.000000  0.183583   0.0   0.0   0.0  0.000000  0.004880  \n",
       "3    -0.115990  0.089827   0.0   0.0   0.0  0.001824 -0.048334  \n",
       "4     0.000000  0.000000   0.0   0.0   0.0  0.000000  0.027241  \n",
       "5     0.000000  0.000000   0.0   0.0   0.0  0.000000  0.000000  \n",
       "6     0.000000 -0.029240   0.0   0.0   0.0  0.041703 -0.021404  \n",
       "7    -0.013646 -0.100956   0.0   0.0   0.0  0.117235  0.000000  \n",
       "8    -0.014082 -0.087274   0.0   0.0   0.0  0.041731 -0.078694  \n",
       "9     0.078010  0.000000   0.0   0.0   0.0  0.000000  0.000000  \n",
       "10   -0.080248 -0.094998   0.0   0.0   0.0 -0.077675 -0.023611  \n",
       "11    0.013893 -0.079741   0.0   0.0   0.0 -0.054243  0.006956  \n",
       "12    0.000000  0.008158   0.0   0.0   0.0  0.000000  0.000000  \n",
       "13    0.000000 -0.035599   0.0   0.0   0.0  0.000000 -0.102802  \n",
       "14    0.000000  0.026626   0.0   0.0   0.0 -0.011938  0.000000  \n",
       "15    0.000000  0.000000   0.0   0.0   0.0  0.000000  0.000000  \n",
       "16   -0.168294  0.000000   0.0   0.0   0.0  0.000000 -0.082691  \n",
       "17    0.000000  0.000000   0.0   0.0   0.0  0.000000  0.000000  \n",
       "18    0.000000  0.058805   0.0   0.0   0.0 -0.152674  0.000000  \n",
       "19    0.000000  0.121336   0.0   0.0   0.0 -0.202218  0.000000  \n",
       "20    0.000000  0.000000   0.0   0.0   0.0  0.000000  0.000000  \n",
       "21   -0.064297  0.109680   0.0   0.0   0.0  0.093706 -0.007108  \n",
       "22   -0.009051 -0.030226   0.0   0.0   0.0 -0.128160 -0.017251  \n",
       "23    0.000000 -0.067111   0.0   0.0   0.0  0.085759  0.106384  \n",
       "24    0.000000  0.007718   0.0   0.0   0.0  0.006100  0.000000  \n",
       "25    0.000000  0.000000   0.0   0.0   0.0  0.000000  0.000000  \n",
       "26   -0.102411  0.000000   0.0   0.0   0.0 -0.234178  0.000000  \n",
       "27    0.000000  0.000000   0.0   0.0   0.0 -0.101490 -0.024545  \n",
       "28    0.000000  0.000000   0.0   0.0   0.0 -0.032581  0.000000  \n",
       "29    0.000000  0.000000   0.0   0.0   0.0  0.000000 -0.098527  \n",
       "...        ...       ...   ...   ...   ...       ...       ...  \n",
       "1652  0.000000  0.000000   0.0   0.0   0.0  0.000000  0.000000  \n",
       "1653  0.000000  0.000000   0.0   0.0   0.0  0.000000  0.000000  \n",
       "1654  0.000000  0.000000   0.0   0.0   0.0  0.000000  0.000000  \n",
       "1655  0.000000  0.000000   0.0   0.0   0.0  0.000000  0.000000  \n",
       "1656  0.000000  0.000000   0.0   0.0   0.0  0.000000  0.000000  \n",
       "1657  0.000000  0.000000   0.0   0.0   0.0  0.000000  0.000000  \n",
       "1658  0.000000  0.000000   0.0   0.0   0.0  0.000000  0.000000  \n",
       "1659  0.000000  0.000000   0.0   0.0   0.0  0.000000  0.000000  \n",
       "1660  0.000000  0.000000   0.0   0.0   0.0  0.000000  0.000000  \n",
       "1661  0.000000  0.000000   0.0   0.0   0.0  0.000000  0.000000  \n",
       "1662  0.000000  0.000000   0.0   0.0   0.0  0.000000  0.000000  \n",
       "1663  0.000000  0.000000   0.0   0.0   0.0  0.000000  0.000000  \n",
       "1664  0.000000  0.000000   0.0   0.0   0.0  0.000000  0.000000  \n",
       "1665  0.000000  0.000000   0.0   0.0   0.0  0.000000  0.000000  \n",
       "1666  0.000000  0.000000   0.0   0.0   0.0  0.000000  0.000000  \n",
       "1667  0.000000  0.000000   0.0   0.0   0.0  0.000000  0.000000  \n",
       "1668  0.000000  0.000000   0.0   0.0   0.0  0.000000  0.000000  \n",
       "1669  0.000000  0.000000   0.0   0.0   0.0  0.000000  0.000000  \n",
       "1670  0.000000  0.000000   0.0   0.0   0.0  0.000000  0.000000  \n",
       "1671  0.000000  0.000000   0.0   0.0   0.0 -0.649506  0.000000  \n",
       "1672  0.000000  0.000000   0.0   0.0   0.0  0.000000  0.000000  \n",
       "1673  0.000000  0.000000   0.0   0.0   0.0  0.000000  0.000000  \n",
       "1674  1.000000  0.000000   0.0   0.0   0.0  0.000000  0.000000  \n",
       "1675  1.000000  0.000000   0.0   0.0   0.0  0.000000  0.000000  \n",
       "1676  0.000000  1.000000   0.0   0.0   0.0  0.000000  0.000000  \n",
       "1677  0.000000  0.000000   1.0   1.0   1.0  0.000000  0.000000  \n",
       "1678  0.000000  0.000000   1.0   1.0   1.0  0.000000  0.000000  \n",
       "1679  0.000000  0.000000   1.0   1.0   1.0  0.000000  0.000000  \n",
       "1680  0.000000  0.000000   0.0   0.0   0.0  1.000000  0.000000  \n",
       "1681  0.000000  0.000000   0.0   0.0   0.0  0.000000  1.000000  \n",
       "\n",
       "[1682 rows x 1682 columns]"
      ]
     },
     "execution_count": 491,
     "metadata": {},
     "output_type": "execute_result"
    }
   ],
   "source": [
    "df_cos"
   ]
  },
  {
   "cell_type": "markdown",
   "metadata": {},
   "source": [
    "#### 3. Для каждого фильма, по которому у данного пользователя не стоит рейтинг, найдите:"
   ]
  },
  {
   "cell_type": "markdown",
   "metadata": {},
   "source": [
    "##### * [a] 30 ближайших фильмов-соседей для этого фильма (среди всех фильмов, а не фильмов, оценённых пользователем)."
   ]
  },
  {
   "cell_type": "code",
   "execution_count": 492,
   "metadata": {},
   "outputs": [],
   "source": [
    "target_movies = set(range(1, num_movies + 1)) - target_user_movies "
   ]
  },
  {
   "cell_type": "code",
   "execution_count": 493,
   "metadata": {
    "collapsed": true
   },
   "outputs": [],
   "source": [
    "target_movies = list(target_movies)"
   ]
  },
  {
   "cell_type": "code",
   "execution_count": 494,
   "metadata": {},
   "outputs": [
    {
     "data": {
      "text/plain": [
       "311"
      ]
     },
     "execution_count": 494,
     "metadata": {},
     "output_type": "execute_result"
    }
   ],
   "source": [
    "len(target_user_movies )"
   ]
  },
  {
   "cell_type": "code",
   "execution_count": 495,
   "metadata": {},
   "outputs": [
    {
     "data": {
      "text/plain": [
       "1371"
      ]
     },
     "execution_count": 495,
     "metadata": {},
     "output_type": "execute_result"
    }
   ],
   "source": [
    "len(target_movies)"
   ]
  },
  {
   "cell_type": "code",
   "execution_count": 496,
   "metadata": {
    "collapsed": true
   },
   "outputs": [],
   "source": [
    "def get_movie_recs(movieid):\n",
    "    mid = movieid - 1\n",
    "    recs = [v for k,v in sorted(zip(cossim[mid,:], range(1, num_movies + 1)), reverse=True)[:31] if v != movieid]\n",
    "    return recs"
   ]
  },
  {
   "cell_type": "code",
   "execution_count": 497,
   "metadata": {},
   "outputs": [
    {
     "data": {
      "text/plain": [
       "[(1.0000000000000004, 1),\n",
       " (0.18543373535924645, 588),\n",
       " (0.14905375454929801, 933),\n",
       " (0.14873207780860065, 174),\n",
       " (0.14828287200080045, 870)]"
      ]
     },
     "execution_count": 497,
     "metadata": {},
     "output_type": "execute_result"
    }
   ],
   "source": [
    "sorted(zip(cossim[0,:], range(1, num_movies + 1)), reverse=True)[:5]"
   ]
  },
  {
   "cell_type": "code",
   "execution_count": 498,
   "metadata": {},
   "outputs": [
    {
     "data": {
      "text/plain": [
       "1682"
      ]
     },
     "execution_count": 498,
     "metadata": {},
     "output_type": "execute_result"
    }
   ],
   "source": [
    "len(cossim[1,:])"
   ]
  },
  {
   "cell_type": "code",
   "execution_count": 499,
   "metadata": {},
   "outputs": [
    {
     "data": {
      "text/plain": [
       "'1554 581 376 1550 397 1053 857 852 830 911 907 1596 1595 571 839 939 817 912 954 218 842 573 37 838 897 1505 431 441 706 1220'"
      ]
     },
     "execution_count": 499,
     "metadata": {},
     "output_type": "execute_result"
    }
   ],
   "source": [
    "' '.join([str(x) for x in get_movie_recs(5)])"
   ]
  },
  {
   "cell_type": "code",
   "execution_count": 500,
   "metadata": {},
   "outputs": [],
   "source": [
    "target_movies_rec = []\n",
    "for movieid in target_movies:\n",
    "    target_movies_rec.append(get_movie_recs(movieid))"
   ]
  },
  {
   "cell_type": "code",
   "execution_count": 501,
   "metadata": {},
   "outputs": [
    {
     "data": {
      "text/plain": [
       "['1230 409 1677 282 1231 33 1552 783 1660 1659 1476 1443 1052 1477 67 1408 952 559 1652 860 41 388 421 554 161 1058 628 1518 998 552',\n",
       " '1554 581 376 1550 397 1053 857 852 830 911 907 1596 1595 571 839 939 817 912 954 218 842 573 37 838 897 1505 431 441 706 1220',\n",
       " '1196 1622 1672 1292 1056 536 1331 1370 1368 1342 1651 1650 1649 1647 1645 1641 1640 1638 1637 1636 1635 1633 1632 1630 113 1623 752 1377 1421 1166']"
      ]
     },
     "execution_count": 501,
     "metadata": {},
     "output_type": "execute_result"
    }
   ],
   "source": [
    "[' '.join([str(m) for m in recs]) for recs in target_movies_rec[:3]]"
   ]
  },
  {
   "cell_type": "markdown",
   "metadata": {},
   "source": [
    "##### * [b] прогноз оценки пользователя по формуле (базовый предиктор из пункта 4, часть 3).  Здесь *S(i)*- множество фильмов-соседей для фильма *i*, по которым у данного пользователя есть оценка.\n",
    "<img width=\"300px\" src=\"http://data.newprolab.com/public-newprolab-com/laba08s_item_item_cf.png\">\n",
    "\n",
    "     Заметим, что суммирование идет только по тем фильмам-соседям, которые оценил пользователь."
   ]
  },
  {
   "cell_type": "code",
   "execution_count": 502,
   "metadata": {},
   "outputs": [],
   "source": [
    "def calc_target_rating(movieid, filter_neg=False):\n",
    "    mid = movieid - 1\n",
    "    uid = target_userid - 1\n",
    "    bui = bp_users_movies[uid, mid]\n",
    "    rec_id = target_movies.index(movieid)\n",
    "    movies_intersection = set(target_movies_rec[rec_id]) & target_user_movies\n",
    "    if len(movies_intersection) == 0:\n",
    "        return (bui, movieid)\n",
    "    c = 0\n",
    "    z = 0\n",
    "    for movieid_temp in movies_intersection:\n",
    "        tid = movieid_temp - 1\n",
    "        sij = cossim[mid, tid]\n",
    "        if filter_neg and sij < 0:\n",
    "            continue\n",
    "        ruj = rui[uid, tid]\n",
    "        buj = bp_users_movies[uid, tid]\n",
    "        c += sij * (ruj - buj)\n",
    "        z += abs(sij)\n",
    "    if c == 0 or z == 0:\n",
    "        return (bui, movieid)\n",
    "    return (bui + c / z, movieid)"
   ]
  },
  {
   "cell_type": "code",
   "execution_count": 503,
   "metadata": {},
   "outputs": [],
   "source": [
    "target_predicts = [calc_target_rating(movieid) for movieid in target_movies]"
   ]
  },
  {
   "cell_type": "code",
   "execution_count": 504,
   "metadata": {},
   "outputs": [
    {
     "data": {
      "text/plain": [
       "[(2.9159658992201551, 3), (2.7135858362361365, 5), (3.2235835742935732, 6)]"
      ]
     },
     "execution_count": 504,
     "metadata": {},
     "output_type": "execute_result"
    }
   ],
   "source": [
    "target_predicts[:3]"
   ]
  },
  {
   "cell_type": "markdown",
   "metadata": {},
   "source": [
    "#### 4. Рекомендуйте пользователю 10 фильмов (`predicators_top10`) с самыми высокими оценками из пункта 3, часть 4."
   ]
  },
  {
   "cell_type": "code",
   "execution_count": 505,
   "metadata": {},
   "outputs": [
    {
     "data": {
      "text/plain": [
       "[(5.1387095677591352, 1282),\n",
       " (4.7479493107216477, 1127),\n",
       " (4.5087942225169853, 126),\n",
       " (4.3439919908369591, 83),\n",
       " (4.3376583107924365, 1245),\n",
       " (4.3223069648664865, 1205),\n",
       " (4.3156947459841604, 1113),\n",
       " (4.2717504385243874, 1469),\n",
       " (4.2602903602084474, 656),\n",
       " (4.2546646151244509, 652)]"
      ]
     },
     "execution_count": 505,
     "metadata": {},
     "output_type": "execute_result"
    }
   ],
   "source": [
    "top_movies = sorted(target_predicts, reverse=True)[:10]\n",
    "top_movies"
   ]
  },
  {
   "cell_type": "code",
   "execution_count": 506,
   "metadata": {
    "scrolled": true
   },
   "outputs": [
    {
     "data": {
      "text/plain": [
       "[1282, 1127, 126, 83, 1245, 1205, 1113, 1469, 656, 652]"
      ]
     },
     "execution_count": 506,
     "metadata": {},
     "output_type": "execute_result"
    }
   ],
   "source": [
    "predicators_top10 = [v for k,v in top_movies]\n",
    "predicators_top10"
   ]
  },
  {
   "cell_type": "markdown",
   "metadata": {},
   "source": [
    "#### 5. При подсчете прогноза по формуле из пункта 3, часть 4 отфильтруйте всех соседей с отрицательной близостью."
   ]
  },
  {
   "cell_type": "code",
   "execution_count": 507,
   "metadata": {},
   "outputs": [],
   "source": [
    "target_predicts_pos = [calc_target_rating(movieid, True) for movieid in target_movies]"
   ]
  },
  {
   "cell_type": "code",
   "execution_count": 508,
   "metadata": {},
   "outputs": [
    {
     "data": {
      "text/plain": [
       "[(2.9159658992201551, 3), (2.7135858362361365, 5), (3.2235835742935732, 6)]"
      ]
     },
     "execution_count": 508,
     "metadata": {},
     "output_type": "execute_result"
    }
   ],
   "source": [
    "target_predicts_pos[:3]"
   ]
  },
  {
   "cell_type": "markdown",
   "metadata": {},
   "source": [
    "#### 6. Рекомендуйте пользователю 10 фильмов (`predicators_positive_top10`) с самыми высокими оценками из пункта 5, часть 4."
   ]
  },
  {
   "cell_type": "code",
   "execution_count": 509,
   "metadata": {},
   "outputs": [
    {
     "data": {
      "text/plain": [
       "[(5.1387095677591352, 1282),\n",
       " (4.7479493107216477, 1127),\n",
       " (4.5087942225169853, 126),\n",
       " (4.3439919908369591, 83),\n",
       " (4.3376583107924365, 1245),\n",
       " (4.3223069648664865, 1205),\n",
       " (4.3156947459841604, 1113),\n",
       " (4.2717504385243874, 1469),\n",
       " (4.2602903602084474, 656),\n",
       " (4.2546646151244509, 652)]"
      ]
     },
     "execution_count": 509,
     "metadata": {},
     "output_type": "execute_result"
    }
   ],
   "source": [
    "top_pos = sorted(target_predicts_pos,reverse=True)[:10]\n",
    "top_pos"
   ]
  },
  {
   "cell_type": "code",
   "execution_count": 510,
   "metadata": {
    "scrolled": true
   },
   "outputs": [
    {
     "data": {
      "text/plain": [
       "[1282, 1127, 126, 83, 1245, 1205, 1113, 1469, 656, 652]"
      ]
     },
     "execution_count": 510,
     "metadata": {},
     "output_type": "execute_result"
    }
   ],
   "source": [
    "predicators_positive_top10 = [v for k,v in top_pos]\n",
    "predicators_positive_top10"
   ]
  },
  {
   "cell_type": "code",
   "execution_count": 511,
   "metadata": {
    "collapsed": true
   },
   "outputs": [],
   "source": [
    "lab8s_result = {\n",
    "    \"average_rating\": average_rating,\n",
    "    \"predicators_positive_top10\": predicators_positive_top10,\n",
    "    \"predicators_top10\": predicators_top10\n",
    "}"
   ]
  },
  {
   "cell_type": "code",
   "execution_count": 512,
   "metadata": {},
   "outputs": [],
   "source": [
    "with open('../lab08s.json', 'w') as fw:\n",
    "    fw.write(json.dumps(lab8s_result))"
   ]
  },
  {
   "cell_type": "code",
   "execution_count": 513,
   "metadata": {
    "scrolled": false
   },
   "outputs": [
    {
     "name": "stdout",
     "output_type": "stream",
     "text": [
      "{\"predicators_top10\": [1282, 1127, 126, 83, 1245, 1205, 1113, 1469, 656, 652], \"predicators_positive_top10\": [1282, 1127, 126, 83, 1245, 1205, 1113, 1469, 656, 652], \"average_rating\": 3.52986}"
     ]
    }
   ],
   "source": [
    "!head ../lab08s.json"
   ]
  },
  {
   "cell_type": "code",
   "execution_count": null,
   "metadata": {
    "collapsed": true
   },
   "outputs": [],
   "source": []
  },
  {
   "cell_type": "code",
   "execution_count": null,
   "metadata": {
    "collapsed": true
   },
   "outputs": [],
   "source": []
  },
  {
   "cell_type": "code",
   "execution_count": null,
   "metadata": {},
   "outputs": [],
   "source": [
    "!head -n3 ml-100k/u.item"
   ]
  },
  {
   "cell_type": "markdown",
   "metadata": {},
   "source": [
    "movie id | movie title | release date | video release date |\n",
    "              IMDb URL | unknown | Action | Adventure | Animation |\n",
    "              Children's | Comedy | Crime | Documentary | Drama | Fantasy |\n",
    "              Film-Noir | Horror | Musical | Mystery | Romance | Sci-Fi |\n",
    "              Thriller | War | Western |\n",
    "              The last 19 fields are the genres, a 1 indicates the movie\n",
    "              is of that genre, a 0 indicates it is not; movies can be in\n",
    "              several genres at once.\n",
    "              The movie ids are the ones used in the u.data data set."
   ]
  },
  {
   "cell_type": "code",
   "execution_count": null,
   "metadata": {},
   "outputs": [],
   "source": [
    "cols = [\"movie id\",\"movie title\",\"release date\",\"video release date\",\"IMDb URL\",\"unknown\",\"Action\",\"Adventure\",\"Animation\",\"Children's\",\"Comedy\",\"Crime\",\"Documentary\",\"Drama\",\"Fantasy\",\"Film-Noir\",\"Horror\",\"Musical\",\"Mystery\",\"Romance\",\"Sci-Fi\",\"Thriller\",\"War\",\"Western\"]\n",
    "cols = [('gen_' if i > 5 else '') +\\\n",
    "         re.sub(r'[^\\w]', '', col.lower()) for i, col in enumerate(cols)]"
   ]
  },
  {
   "cell_type": "code",
   "execution_count": null,
   "metadata": {
    "collapsed": true
   },
   "outputs": [],
   "source": [
    "def correct_type(i,d):\n",
    "    if i == 1 or i == 4: return d\n",
    "    if i == 2 or i == 3: \n",
    "        return datetime.strptime(d, \"%d-%b-%Y\").date() if d.strip() != '' else None\n",
    "    return int(d)"
   ]
  },
  {
   "cell_type": "code",
   "execution_count": null,
   "metadata": {},
   "outputs": [],
   "source": [
    "rdd_movies = sc.textFile(\"/user/valery.baranov/u.item\")\\\n",
    "    .map(lambda line: [correct_type(i,d)\\\n",
    "                       for i,d in enumerate(line.split('|'))])\\\n",
    "    .map(lambda ds: Row(**{cols[i]: ds[i] for i in range(len(ds))}))"
   ]
  },
  {
   "cell_type": "code",
   "execution_count": null,
   "metadata": {},
   "outputs": [],
   "source": [
    "df_movies = rdd_movies.toDF(sampleRatio=0.1)"
   ]
  },
  {
   "cell_type": "code",
   "execution_count": null,
   "metadata": {},
   "outputs": [],
   "source": [
    "df_movies = df_movies.withColumn('releaseyear', F.year(df_movies.releasedate))"
   ]
  },
  {
   "cell_type": "code",
   "execution_count": null,
   "metadata": {
    "collapsed": true
   },
   "outputs": [],
   "source": []
  }
 ],
 "metadata": {
  "kernelspec": {
   "display_name": "Python 3",
   "language": "python",
   "name": "python3"
  }
 },
 "nbformat": 4,
 "nbformat_minor": 2
}
