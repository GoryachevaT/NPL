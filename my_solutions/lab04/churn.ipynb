{
 "cells": [
  {
   "cell_type": "code",
   "execution_count": 51,
   "metadata": {},
   "outputs": [],
   "source": [
    "import pandas as pd\n",
    "import re\n",
    "\n",
    "from sklearn.preprocessing import OneHotEncoder \n",
    "import matplotlib.pyplot as plt\n",
    "import numpy as np\n",
    "from sklearn.metrics import roc_auc_score"
   ]
  },
  {
   "cell_type": "code",
   "execution_count": 2,
   "metadata": {},
   "outputs": [],
   "source": [
    "def norm_jobs(x):\n",
    "    if 'инж' in x:\n",
    "        return 'инженер'\n",
    "    if ('зам' in x) and ('дир' in x):\n",
    "        return 'заместитель директора'\n",
    "    if ('менедж' in x):\n",
    "        return 'менеджер'\n",
    "    if 'продав' in x:\n",
    "        return 'продавец'\n",
    "    if ('эконом' in x):\n",
    "        return 'экономист'\n",
    "    if ('программ' in x) or (('сист' in x) and ('адми' in x)):\n",
    "        return 'программист'\n",
    "    if ('бух' in x):\n",
    "        return 'бухгалтер'\n",
    "    if ('дир' in x) and ('ген' in x):\n",
    "        return 'генеральный директор'\n",
    "    if ('дир' in x):\n",
    "        return 'директор'\n",
    "    if ('спец' in x):\n",
    "        return 'специалист'\n",
    "    if ('пенси' in x):\n",
    "        return 'пенсионер'\n",
    "    if ('помощ' in x):\n",
    "        return 'помощник'\n",
    "    if ('адми' in x) :\n",
    "        return 'администратор'\n",
    "    if ('препод' in x) :\n",
    "        return 'преподаватель'\n",
    "    if ('руков' in x) or ('начал' in x):\n",
    "        return 'руководитель'\n",
    "    if ('технолог' in x) :\n",
    "        return 'технолог'\n",
    "    if ('предприн' in x) :\n",
    "        return 'предприниматель'\n",
    "    if ('водит' in x) and (('руков' not in x) or ('роков' not in x)):\n",
    "        return 'водитель'\n",
    "    if ('студ' in x):\n",
    "        return 'студент'\n",
    "    if ('дизайн' in x):\n",
    "        return 'дизайнер'\n",
    "    if ('врач' in x) or ('хиру' in x):\n",
    "        return 'врач'"
   ]
  },
  {
   "cell_type": "code",
   "execution_count": 3,
   "metadata": {},
   "outputs": [],
   "source": [
    "def load_data(tmp):\n",
    "    \n",
    "    tmp = tmp.copy()\n",
    "    \n",
    "    tmp['CLNT_TRUST_RELATION'] = tmp['CLNT_TRUST_RELATION'].str.lower()\n",
    "    dict_rename_relations = {'друг': 'friend', 'мать': 'mother', 'близкий ро': 'relative', 'брат': 'brother', \n",
    "                             'отец': 'father', 'сестра': 'sister', 'дочь': 'daughter', 'сын': 'son',\n",
    "                             'дальний ро': 'relative', 'муж': 'other', 'жена': 'other', 'мама': 'mother'}\n",
    "    tmp['CLNT_TRUST_RELATION'] = tmp['CLNT_TRUST_RELATION'].replace(dict_rename_relations)\n",
    "    dict_cat_relations = {'friend': 1, 'mother': 2, 'relative': 3, 'other': 4, 'brother': 5, 'sister': 6, \n",
    "                          'father': 7, 'daughter': 8,'son': 9,'NA': 0}\n",
    "    tmp['CLNT_TRUST_RELATION_CAT'] = tmp['CLNT_TRUST_RELATION'].fillna('NA').map(dict_cat_relations)\n",
    "    \n",
    "    tmp['CLNT_TRUST_FRIEND'] = tmp['CLNT_TRUST_RELATION_CAT'].apply(lambda x: 1 if x == 1 else 0)\n",
    "    tmp['CLNT_TRUST_MOTHER'] = tmp['CLNT_TRUST_RELATION_CAT'].apply(lambda x: 1 if x == 2 else 0)\n",
    "    tmp['CLNT_TRUST_RELATIVE'] = tmp['CLNT_TRUST_RELATION_CAT'].apply(lambda x: 1 if x == 3 else 0)\n",
    "    tmp['CLNT_TRUST_OTHER'] = tmp['CLNT_TRUST_RELATION_CAT'].apply(lambda x: 1 if x == 4 else 0)\n",
    "    tmp['CLNT_TRUST_BROTHER'] = tmp['CLNT_TRUST_RELATION_CAT'].apply(lambda x: 1 if x == 5 else 0)\n",
    "    tmp['CLNT_TRUST_SISTER'] = tmp['CLNT_TRUST_RELATION_CAT'].apply(lambda x: 1 if x == 6 else 0)\n",
    "    tmp['CLNT_TRUST_FATHER'] = tmp['CLNT_TRUST_RELATION_CAT'].apply(lambda x: 1 if x == 7 else 0)\n",
    "    tmp['CLNT_TRUST_DAUGHTER'] = tmp['CLNT_TRUST_RELATION_CAT'].apply(lambda x: 1 if x == 8 else 0)\n",
    "    tmp['CLNT_TRUST_SON'] = tmp['CLNT_TRUST_RELATION_CAT'].apply(lambda x: 1 if x == 9 else 0)\n",
    "    \n",
    "    \n",
    "    \n",
    "    tmp['APP_MARITAL_STATUS'] = tmp['APP_MARITAL_STATUS'].str.lower()\n",
    "    dict_cat_mar_stat = { 'm': 1, 'v': 2, 't': 3, 'd': 4, 'n': 5, 'w': 6, 'c': 7, 'NA': 0}\n",
    "    tmp['APP_MARITAL_STATUS_CAT'] = tmp['APP_MARITAL_STATUS'].replace({' ': None}).fillna('NA').map(dict_cat_mar_stat)\n",
    "    \n",
    "    tmp['APP_MARITAL_STATUS_M'] = tmp['APP_MARITAL_STATUS_CAT'].apply(lambda x: 1 if x == 1 else 0)\n",
    "    tmp['APP_MARITAL_STATUS_V'] = tmp['APP_MARITAL_STATUS_CAT'].apply(lambda x: 1 if x == 2 else 0)\n",
    "    tmp['APP_MARITAL_STATUS_T'] = tmp['APP_MARITAL_STATUS_CAT'].apply(lambda x: 1 if x == 3 else 0)\n",
    "    tmp['APP_MARITAL_STATUS_D'] = tmp['APP_MARITAL_STATUS_CAT'].apply(lambda x: 1 if x == 4 else 0)\n",
    "    tmp['APP_MARITAL_STATUS_N'] = tmp['APP_MARITAL_STATUS_CAT'].apply(lambda x: 1 if x == 5 else 0)\n",
    "    tmp['APP_MARITAL_STATUS_W'] = tmp['APP_MARITAL_STATUS_CAT'].apply(lambda x: 1 if x == 6 else 0)\n",
    "    tmp['APP_MARITAL_STATUS_C'] = tmp['APP_MARITAL_STATUS_CAT'].apply(lambda x: 1 if x == 7 else 0)\n",
    "    \n",
    "    \n",
    "    dict_cat_prob_hab = { 'SO': 1, 'JO': 2, 'OTHER': 3, 'RENT': 4, 'NPRIVAT': 5, 'NA': 0}\n",
    "    tmp['APP_KIND_OF_PROP_HABITATION_CAT'] = tmp['APP_KIND_OF_PROP_HABITATION'].fillna('NA').map(dict_cat_prob_hab)\n",
    "    \n",
    "    tmp['APP_KIND_OF_PROP_HAB_SO'] = tmp['APP_KIND_OF_PROP_HABITATION_CAT'].apply(lambda x: 1 if x == 1 else 0)\n",
    "    tmp['APP_KIND_OF_PROP_HAB_JO'] = tmp['APP_KIND_OF_PROP_HABITATION_CAT'].apply(lambda x: 1 if x == 2 else 0)\n",
    "    tmp['APP_KIND_OF_PROP_HAB_OTHER'] = tmp['APP_KIND_OF_PROP_HABITATION_CAT'].apply(lambda x: 1 if x == 3 else 0)\n",
    "    tmp['APP_KIND_OF_PROP_HAB_RENT'] = tmp['APP_KIND_OF_PROP_HABITATION_CAT'].apply(lambda x: 1 if x == 4 else 0)\n",
    "    tmp['APP_KIND_OF_PROP_HAB_NPRIVAT'] = tmp['APP_KIND_OF_PROP_HABITATION_CAT'].apply(lambda x: 1 if x == 5 else 0)\n",
    "    \n",
    "    \n",
    "    dict_cat_pos_type = { 'SPECIALIST': 1, 'MANAGER': 2, 'TOP_MANAGER': 3, 'SELF_EMPL': 4, 'NA': 0}\n",
    "    tmp['CLNT_JOB_POSITION_TYPE_CAT'] = tmp['CLNT_JOB_POSITION_TYPE'].fillna('NA').map(dict_cat_pos_type)\n",
    "    \n",
    "    tmp['CLNT_JOB_POS_SPEC'] = tmp['CLNT_JOB_POSITION_TYPE_CAT'].apply(lambda x: 1 if x == 1 else 0)\n",
    "    tmp['CLNT_JOB_POS_MAN'] = tmp['CLNT_JOB_POSITION_TYPE_CAT'].apply(lambda x: 1 if x == 2 else 0)\n",
    "    tmp['CLNT_JOB_POS_TOPMAN'] = tmp['CLNT_JOB_POSITION_TYPE_CAT'].apply(lambda x: 1 if x == 3 else 0)\n",
    "    tmp['CLNT_JOB_POS_SELFEMPL'] = tmp['CLNT_JOB_POSITION_TYPE_CAT'].apply(lambda x: 1 if x == 4 else 0)\n",
    "    \n",
    "    dict_ny = { 'N': 0, 'Y': 1, 'NA': -1}\n",
    "    tmp['APP_DRIVING_LICENSE_CAT'] = tmp['APP_DRIVING_LICENSE'].fillna('NA').map(dict_ny)\n",
    "    \n",
    "    tmp['APP_DRIV_N'] = tmp['APP_DRIVING_LICENSE_CAT'].apply(lambda x: 1 if x == 0 else 0)\n",
    "    tmp['APP_DRIV_Y'] = tmp['APP_DRIVING_LICENSE_CAT'].apply(lambda x: 1 if x == 1 else 0)\n",
    "    \n",
    "    \n",
    "    tmp['APP_EDUCATION'] = tmp['APP_EDUCATION'].str.lower().str.strip()\n",
    "    dict_cat_edu = {'h': 1, 's': 2, 'a': 3}\n",
    "    tmp['APP_EDUCATION_CAT'] = tmp['APP_EDUCATION'].replace({'ss': 's', 'hh': 'h', 'uh': 'h', \n",
    "                                                            'hi': 'h', 'i': 'h', 'ac': 'a', 'av': 'a'}).map(dict_cat_edu).fillna(0)\n",
    "    \n",
    "    tmp['APP_EDUCATION_H'] = tmp['APP_EDUCATION_CAT'].apply(lambda x: 1 if x == 1 else 0)\n",
    "    tmp['APP_EDUCATION_S'] = tmp['APP_EDUCATION_CAT'].apply(lambda x: 1 if x == 2 else 0)\n",
    "    tmp['APP_EDUCATION_A'] = tmp['APP_EDUCATION_CAT'].apply(lambda x: 1 if x == 3 else 0)\n",
    "    \n",
    "    \n",
    "    tmp['APP_TRAVEL_PASS_CAT'] = tmp['APP_TRAVEL_PASS'].fillna('NA').map(dict_ny)\n",
    "    \n",
    "    tmp['APP_TRAVEL_N'] = tmp['APP_TRAVEL_PASS_CAT'].apply(lambda x: 1 if x == 0 else 0)\n",
    "    tmp['APP_TRAVEL_Y'] = tmp['APP_TRAVEL_PASS_CAT'].apply(lambda x: 1 if x == 1 else 0)\n",
    "    \n",
    "    \n",
    "    tmp['APP_CAR_CAT'] = tmp['APP_CAR'].fillna('NA').map(dict_ny) \n",
    "    \n",
    "    tmp['APP_CAR_N'] = tmp['APP_CAR_CAT'].apply(lambda x: 1 if x == 0 else 0)\n",
    "    tmp['APP_CAR_Y'] = tmp['APP_CAR_CAT'].apply(lambda x: 1 if x == 1 else 0)\n",
    "    \n",
    "    \n",
    "    tmp['APP_POSITION_TYPE_CAT'] = tmp['APP_POSITION_TYPE'].fillna('NA').map(dict_cat_pos_type)\n",
    "    \n",
    "    tmp['CLNT_POS_TYPE_SPEC'] = tmp['APP_POSITION_TYPE_CAT'].apply(lambda x: 1 if x == 1 else 0)\n",
    "    tmp['CLNT_POS_TYPE_MAN'] = tmp['APP_POSITION_TYPE_CAT'].apply(lambda x: 1 if x == 2 else 0)\n",
    "    tmp['CLNT_POS_TYPE_TOPMAN'] = tmp['APP_POSITION_TYPE_CAT'].apply(lambda x: 1 if x == 3 else 0)\n",
    "    tmp['CLNT_POS_TYPE_SELFEMPL'] = tmp['APP_POSITION_TYPE_CAT'].apply(lambda x: 1 if x == 4 else 0)\n",
    "    \n",
    "    dict_emp_type = {'PRIVATE': 1, 'STATE': 2, 'INTER': 3, 'IP': 4, 'NA': 0}\n",
    "    tmp['APP_EMP_TYPE_CAT'] = tmp['APP_EMP_TYPE'].fillna('NA').map(dict_emp_type)\n",
    "    \n",
    "    tmp['CLNT_EMP_TYPE_PRIVAT'] = tmp['APP_EMP_TYPE_CAT'].apply(lambda x: 1 if x == 1 else 0)\n",
    "    tmp['CLNT_EMP_TYPE_STATE'] = tmp['APP_EMP_TYPE_CAT'].apply(lambda x: 1 if x == 2 else 0)\n",
    "    tmp['CLNT_EMP_TYPE_PINTER'] = tmp['APP_EMP_TYPE_CAT'].apply(lambda x: 1 if x == 3 else 0)\n",
    "    tmp['CLNT_EMP_TYPE_IP'] = tmp['APP_EMP_TYPE_CAT'].apply(lambda x: 1 if x == 4 else 0)\n",
    "    \n",
    "    \n",
    "    dict_pack = {'102': 102, 'K01': 100, 'O01': 200, '105': 105, '107': 107, '103': 103, '104': 104, '301': 301,\n",
    "                '101': 101, '109': 109, 'M01': 300, '108': 108, 'NA': 0}\n",
    "\n",
    "    tmp['PACK_CAT'] = tmp['PACK'].fillna('NA').map(dict_pack)\n",
    "    \n",
    "    \n",
    "#     tmp['CLNT_JOB_POS_CAT'] = tmp['CLNT_JOB_POSITION'].fillna('NA').str.lower()\n",
    "#     tmp['CLNT_JOB_POS_CAT'] = tmp['CLNT_JOB_POS_CAT'].apply(lambda x: norm_jobs(x)).fillna('other')\n",
    "    \n",
    "#     dict_pack = {'директор': 1, 'менеджер': 2, 'руководитель': 3, 'генеральный директор': 4, 'инженер': 5, \n",
    "#                  'заместитель директора': 6, 'специалист': 7, 'бухгалтер': 8,\n",
    "#                  'предприниматель': 9, 'продавец': 10, 'программист': 11, 'водитель': 12, \n",
    "#                  'врач': 13, 'администратор': 14, 'студент': 15, 'экономист': 16, 'преподаватель': 17, 'пенсионер': 18, 'other': 0}\n",
    "    \n",
    "#     tmp['CLNT_JOB_POS_CAT'] = tmp['CLNT_JOB_POS_CAT'].map(dict_pack)\n",
    "    \n",
    "#     tmp['CLNT_JOB_DIR'] = tmp['CLNT_JOB_POS_CAT'].apply(lambda x: 1 if x == 1 else 0)\n",
    "#     tmp['CLNT_JOB_MAN'] = tmp['CLNT_JOB_POS_CAT'].apply(lambda x: 1 if x == 2 else 0)\n",
    "#     tmp['CLNT_JOB_RUK'] = tmp['CLNT_JOB_POS_CAT'].apply(lambda x: 1 if x == 3 else 0)\n",
    "#     tmp['CLNT_JOB_GENDIR'] = tmp['CLNT_JOB_POS_CAT'].apply(lambda x: 1 if x == 4 else 0)\n",
    "#     tmp['CLNT_JOB_ING'] = tmp['CLNT_JOB_POS_CAT'].apply(lambda x: 1 if x == 5 else 0)\n",
    "#     tmp['CLNT_JOB_ZAMDIR'] = tmp['CLNT_JOB_POS_CAT'].apply(lambda x: 1 if x == 6 else 0)\n",
    "#     tmp['CLNT_JOB_SPEC'] = tmp['CLNT_JOB_POS_CAT'].apply(lambda x: 1 if x == 7 else 0)\n",
    "#     tmp['CLNT_JOB_BUH'] = tmp['CLNT_JOB_POS_CAT'].apply(lambda x: 1 if x == 8 else 0)\n",
    "#     tmp['CLNT_JOB_PREDPR'] = tmp['CLNT_JOB_POS_CAT'].apply(lambda x: 1 if x == 9 else 0)\n",
    "#     tmp['CLNT_JOB_PROD'] = tmp['CLNT_JOB_POS_CAT'].apply(lambda x: 1 if x == 10 else 0)\n",
    "#     tmp['CLNT_JOB_PROGR'] = tmp['CLNT_JOB_POS_CAT'].apply(lambda x: 1 if x == 11 else 0)\n",
    "#     tmp['CLNT_JOB_VOD'] = tmp['CLNT_JOB_POS_CAT'].apply(lambda x: 1 if x == 12 else 0)\n",
    "#     tmp['CLNT_JOB_VRACH'] = tmp['CLNT_JOB_POS_CAT'].apply(lambda x: 1 if x == 13 else 0)\n",
    "#     tmp['CLNT_JOB_ADM'] = tmp['CLNT_JOB_POS_CAT'].apply(lambda x: 1 if x == 14 else 0)\n",
    "#     tmp['CLNT_JOB_STUD'] = tmp['CLNT_JOB_POS_CAT'].apply(lambda x: 1 if x == 15 else 0)\n",
    "#     tmp['CLNT_JOB_EK'] = tmp['CLNT_JOB_POS_CAT'].apply(lambda x: 1 if x == 16 else 0)\n",
    "#     tmp['CLNT_JOB_PREP'] = tmp['CLNT_JOB_POS_CAT'].apply(lambda x: 1 if x == 17 else 0)\n",
    "#     tmp['CLNT_JOB_PENS'] = tmp['CLNT_JOB_POS_CAT'].apply(lambda x: 1 if x == 18 else 0)\n",
    "    \n",
    "    \n",
    "    col_to_del = ['CLNT_TRUST_RELATION', 'APP_MARITAL_STATUS', 'APP_KIND_OF_PROP_HABITATION', 'CLNT_JOB_POSITION',\n",
    "              'CLNT_JOB_POSITION_TYPE', 'APP_DRIVING_LICENSE', 'APP_EDUCATION', 'APP_TRAVEL_PASS',\n",
    "              'APP_CAR', 'APP_POSITION_TYPE', 'APP_EMP_TYPE', 'APP_COMP_TYPE','PACK', 'Unnamed: 0',\n",
    "                 \n",
    "                 'CLNT_TRUST_RELATION_CAT', 'APP_MARITAL_STATUS_CAT', 'APP_KIND_OF_PROP_HABITATION_CAT', \n",
    "                 'CLNT_JOB_POSITION_TYPE_CAT', 'APP_DRIVING_LICENSE_CAT', 'APP_EDUCATION_CAT', \n",
    "                # 'CLNT_JOB_POS_CAT', \n",
    "                  'APP_TRAVEL_PASS_CAT', 'APP_CAR_CAT', 'APP_POSITION_TYPE_CAT', \n",
    "                  'APP_EMP_TYPE_CAT', 'PACK_CAT'\n",
    "                 ]\n",
    "    \n",
    "    tmp.drop(col_to_del, axis=1, inplace=True)\n",
    "    \n",
    "    tmp = tmp.fillna(-1)\n",
    "    \n",
    "    return tmp"
   ]
  },
  {
   "cell_type": "code",
   "execution_count": null,
   "metadata": {},
   "outputs": [],
   "source": [
    "other                    183564\n",
    "директор                  32537\n",
    "менеджер                  20616\n",
    "руководитель              15898\n",
    "генеральный директор      10853\n",
    "инженер                    9165\n",
    "заместитель директора      7904\n",
    "специалист                 7602\n",
    "бухгалтер                  6043\n",
    "предприниматель            4963\n",
    "продавец                   3063\n",
    "программист                3032\n",
    "водитель                   2918\n",
    "врач                       2473\n",
    "администратор              1924\n",
    "дизайнер                   1881\n",
    "студент                    1615\n",
    "экономист                  1568\n",
    "преподаватель              1402\n",
    "помощник                   1021\n",
    "технолог                    382\n",
    "пенсионер                   340"
   ]
  },
  {
   "cell_type": "markdown",
   "metadata": {},
   "source": [
    "## READ"
   ]
  },
  {
   "cell_type": "code",
   "execution_count": 4,
   "metadata": {},
   "outputs": [],
   "source": [
    "file_path = r'/data/share/lab04data'\n",
    "\n",
    "train_df = pd.read_csv(file_path + '/lab04_train.csv', engine='python', encoding='utf8', na_values=['None', 'nan'])\n",
    "test_df = pd.read_csv(file_path + '/lab04_test.csv', engine='python', encoding='utf8', na_values=['None', 'nan'])"
   ]
  },
  {
   "cell_type": "code",
   "execution_count": 5,
   "metadata": {},
   "outputs": [
    {
     "data": {
      "text/html": [
       "<div>\n",
       "<style scoped>\n",
       "    .dataframe tbody tr th:only-of-type {\n",
       "        vertical-align: middle;\n",
       "    }\n",
       "\n",
       "    .dataframe tbody tr th {\n",
       "        vertical-align: top;\n",
       "    }\n",
       "\n",
       "    .dataframe thead th {\n",
       "        text-align: right;\n",
       "    }\n",
       "</style>\n",
       "<table border=\"1\" class=\"dataframe\">\n",
       "  <thead>\n",
       "    <tr style=\"text-align: right;\">\n",
       "      <th></th>\n",
       "      <th>Unnamed: 0</th>\n",
       "      <th>ID</th>\n",
       "      <th>CR_PROD_CNT_IL</th>\n",
       "      <th>AMOUNT_RUB_CLO_PRC</th>\n",
       "      <th>PRC_ACCEPTS_A_EMAIL_LINK</th>\n",
       "      <th>APP_REGISTR_RGN_CODE</th>\n",
       "      <th>PRC_ACCEPTS_A_POS</th>\n",
       "      <th>PRC_ACCEPTS_A_TK</th>\n",
       "      <th>TURNOVER_DYNAMIC_IL_1M</th>\n",
       "      <th>CNT_TRAN_AUT_TENDENCY1M</th>\n",
       "      <th>...</th>\n",
       "      <th>REST_DYNAMIC_CC_3M</th>\n",
       "      <th>MED_DEBT_PRC_YWZ</th>\n",
       "      <th>LDEAL_ACT_DAYS_PCT_TR3</th>\n",
       "      <th>LDEAL_ACT_DAYS_PCT_AAVG</th>\n",
       "      <th>LDEAL_DELINQ_PER_MAXYWZ</th>\n",
       "      <th>TURNOVER_DYNAMIC_CC_3M</th>\n",
       "      <th>LDEAL_ACT_DAYS_PCT_TR</th>\n",
       "      <th>LDEAL_ACT_DAYS_PCT_TR4</th>\n",
       "      <th>LDEAL_ACT_DAYS_PCT_CURR</th>\n",
       "      <th>TARGET</th>\n",
       "    </tr>\n",
       "  </thead>\n",
       "  <tbody>\n",
       "    <tr>\n",
       "      <th>0</th>\n",
       "      <td>333149</td>\n",
       "      <td>479990</td>\n",
       "      <td>0</td>\n",
       "      <td>0.0</td>\n",
       "      <td>0.0</td>\n",
       "      <td>NaN</td>\n",
       "      <td>0.0</td>\n",
       "      <td>0.0</td>\n",
       "      <td>0.0</td>\n",
       "      <td>NaN</td>\n",
       "      <td>...</td>\n",
       "      <td>0.0</td>\n",
       "      <td>0.0</td>\n",
       "      <td>0.0</td>\n",
       "      <td>0.0</td>\n",
       "      <td>0.0</td>\n",
       "      <td>0.0</td>\n",
       "      <td>0.0</td>\n",
       "      <td>0.0</td>\n",
       "      <td>0.0</td>\n",
       "      <td>0.0</td>\n",
       "    </tr>\n",
       "    <tr>\n",
       "      <th>1</th>\n",
       "      <td>303639</td>\n",
       "      <td>450480</td>\n",
       "      <td>0</td>\n",
       "      <td>0.0</td>\n",
       "      <td>0.0</td>\n",
       "      <td>NaN</td>\n",
       "      <td>0.0</td>\n",
       "      <td>0.0</td>\n",
       "      <td>0.0</td>\n",
       "      <td>NaN</td>\n",
       "      <td>...</td>\n",
       "      <td>0.0</td>\n",
       "      <td>0.0</td>\n",
       "      <td>0.0</td>\n",
       "      <td>0.0</td>\n",
       "      <td>0.0</td>\n",
       "      <td>0.0</td>\n",
       "      <td>0.0</td>\n",
       "      <td>0.0</td>\n",
       "      <td>0.0</td>\n",
       "      <td>0.0</td>\n",
       "    </tr>\n",
       "    <tr>\n",
       "      <th>2</th>\n",
       "      <td>327113</td>\n",
       "      <td>473954</td>\n",
       "      <td>0</td>\n",
       "      <td>0.0</td>\n",
       "      <td>0.0</td>\n",
       "      <td>NaN</td>\n",
       "      <td>0.0</td>\n",
       "      <td>0.0</td>\n",
       "      <td>0.0</td>\n",
       "      <td>NaN</td>\n",
       "      <td>...</td>\n",
       "      <td>0.0</td>\n",
       "      <td>0.0</td>\n",
       "      <td>0.0</td>\n",
       "      <td>0.0</td>\n",
       "      <td>0.0</td>\n",
       "      <td>0.0</td>\n",
       "      <td>0.0</td>\n",
       "      <td>0.0</td>\n",
       "      <td>0.0</td>\n",
       "      <td>0.0</td>\n",
       "    </tr>\n",
       "    <tr>\n",
       "      <th>3</th>\n",
       "      <td>384197</td>\n",
       "      <td>531038</td>\n",
       "      <td>0</td>\n",
       "      <td>0.0</td>\n",
       "      <td>NaN</td>\n",
       "      <td>NaN</td>\n",
       "      <td>NaN</td>\n",
       "      <td>NaN</td>\n",
       "      <td>0.0</td>\n",
       "      <td>NaN</td>\n",
       "      <td>...</td>\n",
       "      <td>0.0</td>\n",
       "      <td>NaN</td>\n",
       "      <td>NaN</td>\n",
       "      <td>NaN</td>\n",
       "      <td>NaN</td>\n",
       "      <td>0.0</td>\n",
       "      <td>NaN</td>\n",
       "      <td>NaN</td>\n",
       "      <td>NaN</td>\n",
       "      <td>0.0</td>\n",
       "    </tr>\n",
       "    <tr>\n",
       "      <th>4</th>\n",
       "      <td>202462</td>\n",
       "      <td>349303</td>\n",
       "      <td>0</td>\n",
       "      <td>0.0</td>\n",
       "      <td>0.0</td>\n",
       "      <td>NaN</td>\n",
       "      <td>0.0</td>\n",
       "      <td>0.0</td>\n",
       "      <td>0.0</td>\n",
       "      <td>NaN</td>\n",
       "      <td>...</td>\n",
       "      <td>0.0</td>\n",
       "      <td>NaN</td>\n",
       "      <td>NaN</td>\n",
       "      <td>NaN</td>\n",
       "      <td>NaN</td>\n",
       "      <td>0.0</td>\n",
       "      <td>NaN</td>\n",
       "      <td>NaN</td>\n",
       "      <td>NaN</td>\n",
       "      <td>0.0</td>\n",
       "    </tr>\n",
       "  </tbody>\n",
       "</table>\n",
       "<p>5 rows × 117 columns</p>\n",
       "</div>"
      ],
      "text/plain": [
       "   Unnamed: 0      ID  CR_PROD_CNT_IL  AMOUNT_RUB_CLO_PRC  \\\n",
       "0      333149  479990               0                 0.0   \n",
       "1      303639  450480               0                 0.0   \n",
       "2      327113  473954               0                 0.0   \n",
       "3      384197  531038               0                 0.0   \n",
       "4      202462  349303               0                 0.0   \n",
       "\n",
       "   PRC_ACCEPTS_A_EMAIL_LINK  APP_REGISTR_RGN_CODE  PRC_ACCEPTS_A_POS  \\\n",
       "0                       0.0                   NaN                0.0   \n",
       "1                       0.0                   NaN                0.0   \n",
       "2                       0.0                   NaN                0.0   \n",
       "3                       NaN                   NaN                NaN   \n",
       "4                       0.0                   NaN                0.0   \n",
       "\n",
       "   PRC_ACCEPTS_A_TK  TURNOVER_DYNAMIC_IL_1M  CNT_TRAN_AUT_TENDENCY1M   ...    \\\n",
       "0               0.0                     0.0                      NaN   ...     \n",
       "1               0.0                     0.0                      NaN   ...     \n",
       "2               0.0                     0.0                      NaN   ...     \n",
       "3               NaN                     0.0                      NaN   ...     \n",
       "4               0.0                     0.0                      NaN   ...     \n",
       "\n",
       "   REST_DYNAMIC_CC_3M  MED_DEBT_PRC_YWZ  LDEAL_ACT_DAYS_PCT_TR3  \\\n",
       "0                 0.0               0.0                     0.0   \n",
       "1                 0.0               0.0                     0.0   \n",
       "2                 0.0               0.0                     0.0   \n",
       "3                 0.0               NaN                     NaN   \n",
       "4                 0.0               NaN                     NaN   \n",
       "\n",
       "   LDEAL_ACT_DAYS_PCT_AAVG LDEAL_DELINQ_PER_MAXYWZ  TURNOVER_DYNAMIC_CC_3M  \\\n",
       "0                      0.0                     0.0                     0.0   \n",
       "1                      0.0                     0.0                     0.0   \n",
       "2                      0.0                     0.0                     0.0   \n",
       "3                      NaN                     NaN                     0.0   \n",
       "4                      NaN                     NaN                     0.0   \n",
       "\n",
       "   LDEAL_ACT_DAYS_PCT_TR  LDEAL_ACT_DAYS_PCT_TR4  LDEAL_ACT_DAYS_PCT_CURR  \\\n",
       "0                    0.0                     0.0                      0.0   \n",
       "1                    0.0                     0.0                      0.0   \n",
       "2                    0.0                     0.0                      0.0   \n",
       "3                    NaN                     NaN                      NaN   \n",
       "4                    NaN                     NaN                      NaN   \n",
       "\n",
       "   TARGET  \n",
       "0     0.0  \n",
       "1     0.0  \n",
       "2     0.0  \n",
       "3     0.0  \n",
       "4     0.0  \n",
       "\n",
       "[5 rows x 117 columns]"
      ]
     },
     "execution_count": 5,
     "metadata": {},
     "output_type": "execute_result"
    }
   ],
   "source": [
    "train_df.head()"
   ]
  },
  {
   "cell_type": "code",
   "execution_count": 6,
   "metadata": {},
   "outputs": [
    {
     "data": {
      "text/plain": [
       "(320764, 117)"
      ]
     },
     "execution_count": 6,
     "metadata": {},
     "output_type": "execute_result"
    }
   ],
   "source": [
    "train_df.shape"
   ]
  },
  {
   "cell_type": "code",
   "execution_count": 7,
   "metadata": {},
   "outputs": [
    {
     "data": {
      "text/plain": [
       "Unnamed: 0                       int64\n",
       "ID                               int64\n",
       "CR_PROD_CNT_IL                   int64\n",
       "AMOUNT_RUB_CLO_PRC             float64\n",
       "PRC_ACCEPTS_A_EMAIL_LINK       float64\n",
       "APP_REGISTR_RGN_CODE           float64\n",
       "PRC_ACCEPTS_A_POS              float64\n",
       "PRC_ACCEPTS_A_TK               float64\n",
       "TURNOVER_DYNAMIC_IL_1M         float64\n",
       "CNT_TRAN_AUT_TENDENCY1M        float64\n",
       "SUM_TRAN_AUT_TENDENCY1M        float64\n",
       "AMOUNT_RUB_SUP_PRC             float64\n",
       "PRC_ACCEPTS_A_AMOBILE          float64\n",
       "SUM_TRAN_AUT_TENDENCY3M        float64\n",
       "CLNT_TRUST_RELATION             object\n",
       "PRC_ACCEPTS_TK                 float64\n",
       "PRC_ACCEPTS_A_MTP              float64\n",
       "REST_DYNAMIC_FDEP_1M           float64\n",
       "CNT_TRAN_AUT_TENDENCY3M        float64\n",
       "CNT_ACCEPTS_TK                 float64\n",
       "APP_MARITAL_STATUS              object\n",
       "REST_DYNAMIC_SAVE_3M           float64\n",
       "CR_PROD_CNT_VCU                float64\n",
       "REST_AVG_CUR                   float64\n",
       "CNT_TRAN_MED_TENDENCY1M        float64\n",
       "APP_KIND_OF_PROP_HABITATION     object\n",
       "CLNT_JOB_POSITION_TYPE          object\n",
       "AMOUNT_RUB_NAS_PRC             float64\n",
       "CLNT_JOB_POSITION               object\n",
       "APP_DRIVING_LICENSE             object\n",
       "                                ...   \n",
       "DEAL_GRACE_DAYS_ACC_AVG        float64\n",
       "TURNOVER_DYNAMIC_CUR_3M        float64\n",
       "PACK                            object\n",
       "MAX_PCLOSE_DATE                float64\n",
       "LDEAL_YQZ_PC                   float64\n",
       "CLNT_SETUP_TENOR               float64\n",
       "DEAL_GRACE_DAYS_ACC_MAX        float64\n",
       "TURNOVER_DYNAMIC_PAYM_3M       float64\n",
       "LDEAL_DELINQ_PER_MAXYQZ        float64\n",
       "TURNOVER_DYNAMIC_PAYM_1M       float64\n",
       "CLNT_SALARY_VALUE              float64\n",
       "TRANS_AMOUNT_TENDENCY3M        float64\n",
       "MED_DEBT_PRC_YQZ               float64\n",
       "TRANS_CNT_TENDENCY3M           float64\n",
       "LDEAL_USED_AMT_AVG_YQZ         float64\n",
       "REST_DYNAMIC_CC_1M             float64\n",
       "LDEAL_USED_AMT_AVG_YWZ         float64\n",
       "TURNOVER_DYNAMIC_CC_1M         float64\n",
       "AVG_PCT_DEBT_TO_DEAL_AMT       float64\n",
       "LDEAL_ACT_DAYS_ACC_PCT_AVG     float64\n",
       "REST_DYNAMIC_CC_3M             float64\n",
       "MED_DEBT_PRC_YWZ               float64\n",
       "LDEAL_ACT_DAYS_PCT_TR3         float64\n",
       "LDEAL_ACT_DAYS_PCT_AAVG        float64\n",
       "LDEAL_DELINQ_PER_MAXYWZ        float64\n",
       "TURNOVER_DYNAMIC_CC_3M         float64\n",
       "LDEAL_ACT_DAYS_PCT_TR          float64\n",
       "LDEAL_ACT_DAYS_PCT_TR4         float64\n",
       "LDEAL_ACT_DAYS_PCT_CURR        float64\n",
       "TARGET                         float64\n",
       "Length: 117, dtype: object"
      ]
     },
     "execution_count": 7,
     "metadata": {},
     "output_type": "execute_result"
    }
   ],
   "source": [
    "train_df.dtypes"
   ]
  },
  {
   "cell_type": "code",
   "execution_count": 8,
   "metadata": {},
   "outputs": [
    {
     "data": {
      "text/html": [
       "<div>\n",
       "<style scoped>\n",
       "    .dataframe tbody tr th:only-of-type {\n",
       "        vertical-align: middle;\n",
       "    }\n",
       "\n",
       "    .dataframe tbody tr th {\n",
       "        vertical-align: top;\n",
       "    }\n",
       "\n",
       "    .dataframe thead th {\n",
       "        text-align: right;\n",
       "    }\n",
       "</style>\n",
       "<table border=\"1\" class=\"dataframe\">\n",
       "  <thead>\n",
       "    <tr style=\"text-align: right;\">\n",
       "      <th></th>\n",
       "      <th>count</th>\n",
       "      <th>mean</th>\n",
       "      <th>std</th>\n",
       "      <th>min</th>\n",
       "      <th>25%</th>\n",
       "      <th>50%</th>\n",
       "      <th>75%</th>\n",
       "      <th>max</th>\n",
       "    </tr>\n",
       "  </thead>\n",
       "  <tbody>\n",
       "    <tr>\n",
       "      <th>Unnamed: 0</th>\n",
       "      <td>320764.0</td>\n",
       "      <td>221981.072125</td>\n",
       "      <td>128175.410883</td>\n",
       "      <td>0.000000e+00</td>\n",
       "      <td>110954.750000</td>\n",
       "      <td>222028.500000</td>\n",
       "      <td>332823.000000</td>\n",
       "      <td>4.439870e+05</td>\n",
       "    </tr>\n",
       "    <tr>\n",
       "      <th>ID</th>\n",
       "      <td>320764.0</td>\n",
       "      <td>368822.072125</td>\n",
       "      <td>128175.410883</td>\n",
       "      <td>1.468410e+05</td>\n",
       "      <td>257795.750000</td>\n",
       "      <td>368869.500000</td>\n",
       "      <td>479664.000000</td>\n",
       "      <td>5.908280e+05</td>\n",
       "    </tr>\n",
       "    <tr>\n",
       "      <th>CR_PROD_CNT_IL</th>\n",
       "      <td>320764.0</td>\n",
       "      <td>0.105551</td>\n",
       "      <td>0.430363</td>\n",
       "      <td>0.000000e+00</td>\n",
       "      <td>0.000000</td>\n",
       "      <td>0.000000</td>\n",
       "      <td>0.000000</td>\n",
       "      <td>1.100000e+01</td>\n",
       "    </tr>\n",
       "    <tr>\n",
       "      <th>AMOUNT_RUB_CLO_PRC</th>\n",
       "      <td>286214.0</td>\n",
       "      <td>0.044186</td>\n",
       "      <td>0.108817</td>\n",
       "      <td>0.000000e+00</td>\n",
       "      <td>0.000000</td>\n",
       "      <td>0.000000</td>\n",
       "      <td>0.036884</td>\n",
       "      <td>1.000000e+00</td>\n",
       "    </tr>\n",
       "    <tr>\n",
       "      <th>PRC_ACCEPTS_A_EMAIL_LINK</th>\n",
       "      <td>139950.0</td>\n",
       "      <td>0.000000</td>\n",
       "      <td>0.000000</td>\n",
       "      <td>0.000000e+00</td>\n",
       "      <td>0.000000</td>\n",
       "      <td>0.000000</td>\n",
       "      <td>0.000000</td>\n",
       "      <td>0.000000e+00</td>\n",
       "    </tr>\n",
       "    <tr>\n",
       "      <th>APP_REGISTR_RGN_CODE</th>\n",
       "      <td>54850.0</td>\n",
       "      <td>50.940510</td>\n",
       "      <td>21.776214</td>\n",
       "      <td>0.000000e+00</td>\n",
       "      <td>33.000000</td>\n",
       "      <td>54.000000</td>\n",
       "      <td>72.000000</td>\n",
       "      <td>8.900000e+01</td>\n",
       "    </tr>\n",
       "    <tr>\n",
       "      <th>PRC_ACCEPTS_A_POS</th>\n",
       "      <td>139950.0</td>\n",
       "      <td>0.000000</td>\n",
       "      <td>0.000000</td>\n",
       "      <td>0.000000e+00</td>\n",
       "      <td>0.000000</td>\n",
       "      <td>0.000000</td>\n",
       "      <td>0.000000</td>\n",
       "      <td>0.000000e+00</td>\n",
       "    </tr>\n",
       "    <tr>\n",
       "      <th>PRC_ACCEPTS_A_TK</th>\n",
       "      <td>139950.0</td>\n",
       "      <td>0.000000</td>\n",
       "      <td>0.000000</td>\n",
       "      <td>0.000000e+00</td>\n",
       "      <td>0.000000</td>\n",
       "      <td>0.000000</td>\n",
       "      <td>0.000000</td>\n",
       "      <td>0.000000e+00</td>\n",
       "    </tr>\n",
       "    <tr>\n",
       "      <th>TURNOVER_DYNAMIC_IL_1M</th>\n",
       "      <td>320763.0</td>\n",
       "      <td>0.001312</td>\n",
       "      <td>0.029057</td>\n",
       "      <td>0.000000e+00</td>\n",
       "      <td>0.000000</td>\n",
       "      <td>0.000000</td>\n",
       "      <td>0.000000</td>\n",
       "      <td>1.000000e+00</td>\n",
       "    </tr>\n",
       "    <tr>\n",
       "      <th>CNT_TRAN_AUT_TENDENCY1M</th>\n",
       "      <td>69535.0</td>\n",
       "      <td>0.416497</td>\n",
       "      <td>0.315857</td>\n",
       "      <td>6.944444e-03</td>\n",
       "      <td>0.166667</td>\n",
       "      <td>0.300000</td>\n",
       "      <td>0.571429</td>\n",
       "      <td>1.000000e+00</td>\n",
       "    </tr>\n",
       "    <tr>\n",
       "      <th>SUM_TRAN_AUT_TENDENCY1M</th>\n",
       "      <td>69535.0</td>\n",
       "      <td>0.414412</td>\n",
       "      <td>0.338005</td>\n",
       "      <td>0.000000e+00</td>\n",
       "      <td>0.139998</td>\n",
       "      <td>0.286365</td>\n",
       "      <td>0.658685</td>\n",
       "      <td>1.000000e+00</td>\n",
       "    </tr>\n",
       "    <tr>\n",
       "      <th>AMOUNT_RUB_SUP_PRC</th>\n",
       "      <td>286213.0</td>\n",
       "      <td>0.085295</td>\n",
       "      <td>0.142432</td>\n",
       "      <td>0.000000e+00</td>\n",
       "      <td>0.000000</td>\n",
       "      <td>0.027038</td>\n",
       "      <td>0.109981</td>\n",
       "      <td>1.000000e+00</td>\n",
       "    </tr>\n",
       "    <tr>\n",
       "      <th>PRC_ACCEPTS_A_AMOBILE</th>\n",
       "      <td>139950.0</td>\n",
       "      <td>0.000000</td>\n",
       "      <td>0.000000</td>\n",
       "      <td>0.000000e+00</td>\n",
       "      <td>0.000000</td>\n",
       "      <td>0.000000</td>\n",
       "      <td>0.000000</td>\n",
       "      <td>0.000000e+00</td>\n",
       "    </tr>\n",
       "    <tr>\n",
       "      <th>SUM_TRAN_AUT_TENDENCY3M</th>\n",
       "      <td>100204.0</td>\n",
       "      <td>0.688782</td>\n",
       "      <td>0.301774</td>\n",
       "      <td>4.713157e-06</td>\n",
       "      <td>0.445047</td>\n",
       "      <td>0.722915</td>\n",
       "      <td>1.000000</td>\n",
       "      <td>1.000000e+00</td>\n",
       "    </tr>\n",
       "    <tr>\n",
       "      <th>PRC_ACCEPTS_TK</th>\n",
       "      <td>139950.0</td>\n",
       "      <td>0.000000</td>\n",
       "      <td>0.000000</td>\n",
       "      <td>0.000000e+00</td>\n",
       "      <td>0.000000</td>\n",
       "      <td>0.000000</td>\n",
       "      <td>0.000000</td>\n",
       "      <td>0.000000e+00</td>\n",
       "    </tr>\n",
       "    <tr>\n",
       "      <th>PRC_ACCEPTS_A_MTP</th>\n",
       "      <td>139950.0</td>\n",
       "      <td>0.000000</td>\n",
       "      <td>0.000000</td>\n",
       "      <td>0.000000e+00</td>\n",
       "      <td>0.000000</td>\n",
       "      <td>0.000000</td>\n",
       "      <td>0.000000</td>\n",
       "      <td>0.000000e+00</td>\n",
       "    </tr>\n",
       "    <tr>\n",
       "      <th>REST_DYNAMIC_FDEP_1M</th>\n",
       "      <td>320763.0</td>\n",
       "      <td>0.000720</td>\n",
       "      <td>0.014273</td>\n",
       "      <td>0.000000e+00</td>\n",
       "      <td>0.000000</td>\n",
       "      <td>0.000000</td>\n",
       "      <td>0.000000</td>\n",
       "      <td>1.000000e+00</td>\n",
       "    </tr>\n",
       "    <tr>\n",
       "      <th>CNT_TRAN_AUT_TENDENCY3M</th>\n",
       "      <td>100204.0</td>\n",
       "      <td>0.691465</td>\n",
       "      <td>0.276776</td>\n",
       "      <td>8.000000e-03</td>\n",
       "      <td>0.500000</td>\n",
       "      <td>0.666667</td>\n",
       "      <td>1.000000</td>\n",
       "      <td>1.000000e+00</td>\n",
       "    </tr>\n",
       "    <tr>\n",
       "      <th>CNT_ACCEPTS_TK</th>\n",
       "      <td>139950.0</td>\n",
       "      <td>0.000000</td>\n",
       "      <td>0.000000</td>\n",
       "      <td>0.000000e+00</td>\n",
       "      <td>0.000000</td>\n",
       "      <td>0.000000</td>\n",
       "      <td>0.000000</td>\n",
       "      <td>0.000000e+00</td>\n",
       "    </tr>\n",
       "    <tr>\n",
       "      <th>REST_DYNAMIC_SAVE_3M</th>\n",
       "      <td>320763.0</td>\n",
       "      <td>0.063789</td>\n",
       "      <td>0.203693</td>\n",
       "      <td>0.000000e+00</td>\n",
       "      <td>0.000000</td>\n",
       "      <td>0.000000</td>\n",
       "      <td>0.000000</td>\n",
       "      <td>1.000000e+00</td>\n",
       "    </tr>\n",
       "    <tr>\n",
       "      <th>CR_PROD_CNT_VCU</th>\n",
       "      <td>320763.0</td>\n",
       "      <td>0.031481</td>\n",
       "      <td>0.184595</td>\n",
       "      <td>0.000000e+00</td>\n",
       "      <td>0.000000</td>\n",
       "      <td>0.000000</td>\n",
       "      <td>0.000000</td>\n",
       "      <td>4.000000e+00</td>\n",
       "    </tr>\n",
       "    <tr>\n",
       "      <th>REST_AVG_CUR</th>\n",
       "      <td>320763.0</td>\n",
       "      <td>66162.299347</td>\n",
       "      <td>183563.641519</td>\n",
       "      <td>0.000000e+00</td>\n",
       "      <td>4040.221508</td>\n",
       "      <td>16230.431167</td>\n",
       "      <td>56696.531967</td>\n",
       "      <td>2.202141e+07</td>\n",
       "    </tr>\n",
       "    <tr>\n",
       "      <th>CNT_TRAN_MED_TENDENCY1M</th>\n",
       "      <td>62457.0</td>\n",
       "      <td>0.444124</td>\n",
       "      <td>0.324203</td>\n",
       "      <td>1.030928e-02</td>\n",
       "      <td>0.181818</td>\n",
       "      <td>0.333333</td>\n",
       "      <td>0.666667</td>\n",
       "      <td>1.000000e+00</td>\n",
       "    </tr>\n",
       "    <tr>\n",
       "      <th>AMOUNT_RUB_NAS_PRC</th>\n",
       "      <td>286213.0</td>\n",
       "      <td>0.024013</td>\n",
       "      <td>0.090904</td>\n",
       "      <td>0.000000e+00</td>\n",
       "      <td>0.000000</td>\n",
       "      <td>0.000000</td>\n",
       "      <td>0.010584</td>\n",
       "      <td>1.000000e+00</td>\n",
       "    </tr>\n",
       "    <tr>\n",
       "      <th>TRANS_COUNT_SUP_PRC</th>\n",
       "      <td>286213.0</td>\n",
       "      <td>0.191106</td>\n",
       "      <td>0.196095</td>\n",
       "      <td>0.000000e+00</td>\n",
       "      <td>0.000000</td>\n",
       "      <td>0.146667</td>\n",
       "      <td>0.310680</td>\n",
       "      <td>1.000000e+00</td>\n",
       "    </tr>\n",
       "    <tr>\n",
       "      <th>CNT_TRAN_CLO_TENDENCY1M</th>\n",
       "      <td>59823.0</td>\n",
       "      <td>0.479673</td>\n",
       "      <td>0.330549</td>\n",
       "      <td>1.041667e-02</td>\n",
       "      <td>0.200000</td>\n",
       "      <td>0.363636</td>\n",
       "      <td>0.750000</td>\n",
       "      <td>1.000000e+00</td>\n",
       "    </tr>\n",
       "    <tr>\n",
       "      <th>SUM_TRAN_MED_TENDENCY1M</th>\n",
       "      <td>62457.0</td>\n",
       "      <td>0.437011</td>\n",
       "      <td>0.361988</td>\n",
       "      <td>0.000000e+00</td>\n",
       "      <td>0.118132</td>\n",
       "      <td>0.308867</td>\n",
       "      <td>0.802375</td>\n",
       "      <td>1.000000e+00</td>\n",
       "    </tr>\n",
       "    <tr>\n",
       "      <th>PRC_ACCEPTS_A_ATM</th>\n",
       "      <td>139950.0</td>\n",
       "      <td>0.000000</td>\n",
       "      <td>0.000000</td>\n",
       "      <td>0.000000e+00</td>\n",
       "      <td>0.000000</td>\n",
       "      <td>0.000000</td>\n",
       "      <td>0.000000</td>\n",
       "      <td>0.000000e+00</td>\n",
       "    </tr>\n",
       "    <tr>\n",
       "      <th>PRC_ACCEPTS_MTP</th>\n",
       "      <td>139950.0</td>\n",
       "      <td>0.000000</td>\n",
       "      <td>0.000000</td>\n",
       "      <td>0.000000e+00</td>\n",
       "      <td>0.000000</td>\n",
       "      <td>0.000000</td>\n",
       "      <td>0.000000</td>\n",
       "      <td>0.000000e+00</td>\n",
       "    </tr>\n",
       "    <tr>\n",
       "      <th>TRANS_COUNT_NAS_PRC</th>\n",
       "      <td>286213.0</td>\n",
       "      <td>0.050930</td>\n",
       "      <td>0.116770</td>\n",
       "      <td>0.000000e+00</td>\n",
       "      <td>0.000000</td>\n",
       "      <td>0.000000</td>\n",
       "      <td>0.048327</td>\n",
       "      <td>1.000000e+00</td>\n",
       "    </tr>\n",
       "    <tr>\n",
       "      <th>...</th>\n",
       "      <td>...</td>\n",
       "      <td>...</td>\n",
       "      <td>...</td>\n",
       "      <td>...</td>\n",
       "      <td>...</td>\n",
       "      <td>...</td>\n",
       "      <td>...</td>\n",
       "      <td>...</td>\n",
       "    </tr>\n",
       "    <tr>\n",
       "      <th>CNT_TRAN_SUP_TENDENCY1M</th>\n",
       "      <td>140850.0</td>\n",
       "      <td>0.341151</td>\n",
       "      <td>0.281452</td>\n",
       "      <td>4.255319e-03</td>\n",
       "      <td>0.142857</td>\n",
       "      <td>0.240000</td>\n",
       "      <td>0.444444</td>\n",
       "      <td>1.000000e+00</td>\n",
       "    </tr>\n",
       "    <tr>\n",
       "      <th>DEAL_GRACE_DAYS_ACC_AVG</th>\n",
       "      <td>62693.0</td>\n",
       "      <td>0.024430</td>\n",
       "      <td>0.138399</td>\n",
       "      <td>0.000000e+00</td>\n",
       "      <td>0.000000</td>\n",
       "      <td>0.000000</td>\n",
       "      <td>0.000000</td>\n",
       "      <td>4.688776e+00</td>\n",
       "    </tr>\n",
       "    <tr>\n",
       "      <th>TURNOVER_DYNAMIC_CUR_3M</th>\n",
       "      <td>320763.0</td>\n",
       "      <td>0.484424</td>\n",
       "      <td>0.331702</td>\n",
       "      <td>0.000000e+00</td>\n",
       "      <td>0.217069</td>\n",
       "      <td>0.494318</td>\n",
       "      <td>0.726228</td>\n",
       "      <td>1.000000e+00</td>\n",
       "    </tr>\n",
       "    <tr>\n",
       "      <th>MAX_PCLOSE_DATE</th>\n",
       "      <td>1699.0</td>\n",
       "      <td>-20.791243</td>\n",
       "      <td>28.810907</td>\n",
       "      <td>-1.033548e+02</td>\n",
       "      <td>-31.435484</td>\n",
       "      <td>-9.774194</td>\n",
       "      <td>-3.532258</td>\n",
       "      <td>1.121935e+02</td>\n",
       "    </tr>\n",
       "    <tr>\n",
       "      <th>LDEAL_YQZ_PC</th>\n",
       "      <td>2551.0</td>\n",
       "      <td>0.025069</td>\n",
       "      <td>0.058943</td>\n",
       "      <td>7.083333e-08</td>\n",
       "      <td>0.006302</td>\n",
       "      <td>0.017224</td>\n",
       "      <td>0.033628</td>\n",
       "      <td>2.283844e+00</td>\n",
       "    </tr>\n",
       "    <tr>\n",
       "      <th>CLNT_SETUP_TENOR</th>\n",
       "      <td>320763.0</td>\n",
       "      <td>4.377489</td>\n",
       "      <td>2.936243</td>\n",
       "      <td>3.455925e-01</td>\n",
       "      <td>1.781076</td>\n",
       "      <td>3.902163</td>\n",
       "      <td>6.555388</td>\n",
       "      <td>1.374894e+01</td>\n",
       "    </tr>\n",
       "    <tr>\n",
       "      <th>DEAL_GRACE_DAYS_ACC_MAX</th>\n",
       "      <td>62693.0</td>\n",
       "      <td>0.029040</td>\n",
       "      <td>0.165999</td>\n",
       "      <td>0.000000e+00</td>\n",
       "      <td>0.000000</td>\n",
       "      <td>0.000000</td>\n",
       "      <td>0.000000</td>\n",
       "      <td>9.377551e+00</td>\n",
       "    </tr>\n",
       "    <tr>\n",
       "      <th>TURNOVER_DYNAMIC_PAYM_3M</th>\n",
       "      <td>320763.0</td>\n",
       "      <td>0.072124</td>\n",
       "      <td>0.207083</td>\n",
       "      <td>0.000000e+00</td>\n",
       "      <td>0.000000</td>\n",
       "      <td>0.000000</td>\n",
       "      <td>0.000000</td>\n",
       "      <td>1.000000e+00</td>\n",
       "    </tr>\n",
       "    <tr>\n",
       "      <th>LDEAL_DELINQ_PER_MAXYQZ</th>\n",
       "      <td>7359.0</td>\n",
       "      <td>0.195883</td>\n",
       "      <td>0.386892</td>\n",
       "      <td>0.000000e+00</td>\n",
       "      <td>0.000000</td>\n",
       "      <td>0.000000</td>\n",
       "      <td>0.000000</td>\n",
       "      <td>1.000000e+00</td>\n",
       "    </tr>\n",
       "    <tr>\n",
       "      <th>TURNOVER_DYNAMIC_PAYM_1M</th>\n",
       "      <td>320763.0</td>\n",
       "      <td>0.025178</td>\n",
       "      <td>0.104618</td>\n",
       "      <td>0.000000e+00</td>\n",
       "      <td>0.000000</td>\n",
       "      <td>0.000000</td>\n",
       "      <td>0.000000</td>\n",
       "      <td>1.000000e+00</td>\n",
       "    </tr>\n",
       "    <tr>\n",
       "      <th>CLNT_SALARY_VALUE</th>\n",
       "      <td>652.0</td>\n",
       "      <td>36623.100475</td>\n",
       "      <td>58970.820281</td>\n",
       "      <td>7.500000e-01</td>\n",
       "      <td>11149.287500</td>\n",
       "      <td>20015.000000</td>\n",
       "      <td>38543.357500</td>\n",
       "      <td>7.862184e+05</td>\n",
       "    </tr>\n",
       "    <tr>\n",
       "      <th>TRANS_AMOUNT_TENDENCY3M</th>\n",
       "      <td>273904.0</td>\n",
       "      <td>0.582278</td>\n",
       "      <td>0.282046</td>\n",
       "      <td>0.000000e+00</td>\n",
       "      <td>0.383802</td>\n",
       "      <td>0.552487</td>\n",
       "      <td>0.819606</td>\n",
       "      <td>1.000000e+00</td>\n",
       "    </tr>\n",
       "    <tr>\n",
       "      <th>MED_DEBT_PRC_YQZ</th>\n",
       "      <td>7359.0</td>\n",
       "      <td>0.922748</td>\n",
       "      <td>0.261286</td>\n",
       "      <td>0.000000e+00</td>\n",
       "      <td>1.000000</td>\n",
       "      <td>1.000000</td>\n",
       "      <td>1.000000</td>\n",
       "      <td>1.000000e+00</td>\n",
       "    </tr>\n",
       "    <tr>\n",
       "      <th>TRANS_CNT_TENDENCY3M</th>\n",
       "      <td>273904.0</td>\n",
       "      <td>0.597442</td>\n",
       "      <td>0.247120</td>\n",
       "      <td>5.714286e-03</td>\n",
       "      <td>0.428571</td>\n",
       "      <td>0.558824</td>\n",
       "      <td>0.767442</td>\n",
       "      <td>1.000000e+00</td>\n",
       "    </tr>\n",
       "    <tr>\n",
       "      <th>LDEAL_USED_AMT_AVG_YQZ</th>\n",
       "      <td>7359.0</td>\n",
       "      <td>0.436324</td>\n",
       "      <td>0.322341</td>\n",
       "      <td>0.000000e+00</td>\n",
       "      <td>0.134588</td>\n",
       "      <td>0.381376</td>\n",
       "      <td>0.724292</td>\n",
       "      <td>1.000000e+00</td>\n",
       "    </tr>\n",
       "    <tr>\n",
       "      <th>REST_DYNAMIC_CC_1M</th>\n",
       "      <td>320763.0</td>\n",
       "      <td>0.002243</td>\n",
       "      <td>0.026872</td>\n",
       "      <td>0.000000e+00</td>\n",
       "      <td>0.000000</td>\n",
       "      <td>0.000000</td>\n",
       "      <td>0.000000</td>\n",
       "      <td>1.000000e+00</td>\n",
       "    </tr>\n",
       "    <tr>\n",
       "      <th>LDEAL_USED_AMT_AVG_YWZ</th>\n",
       "      <td>86488.0</td>\n",
       "      <td>0.900215</td>\n",
       "      <td>0.297102</td>\n",
       "      <td>0.000000e+00</td>\n",
       "      <td>1.000000</td>\n",
       "      <td>1.000000</td>\n",
       "      <td>1.000000</td>\n",
       "      <td>1.000000e+00</td>\n",
       "    </tr>\n",
       "    <tr>\n",
       "      <th>TURNOVER_DYNAMIC_CC_1M</th>\n",
       "      <td>320763.0</td>\n",
       "      <td>0.000957</td>\n",
       "      <td>0.028629</td>\n",
       "      <td>0.000000e+00</td>\n",
       "      <td>0.000000</td>\n",
       "      <td>0.000000</td>\n",
       "      <td>0.000000</td>\n",
       "      <td>1.000000e+00</td>\n",
       "    </tr>\n",
       "    <tr>\n",
       "      <th>AVG_PCT_DEBT_TO_DEAL_AMT</th>\n",
       "      <td>1704.0</td>\n",
       "      <td>0.343218</td>\n",
       "      <td>1.023744</td>\n",
       "      <td>0.000000e+00</td>\n",
       "      <td>0.000000</td>\n",
       "      <td>0.084310</td>\n",
       "      <td>0.684243</td>\n",
       "      <td>3.987847e+01</td>\n",
       "    </tr>\n",
       "    <tr>\n",
       "      <th>LDEAL_ACT_DAYS_ACC_PCT_AVG</th>\n",
       "      <td>84414.0</td>\n",
       "      <td>0.051560</td>\n",
       "      <td>0.135265</td>\n",
       "      <td>0.000000e+00</td>\n",
       "      <td>0.000000</td>\n",
       "      <td>0.008792</td>\n",
       "      <td>0.033605</td>\n",
       "      <td>1.000000e+00</td>\n",
       "    </tr>\n",
       "    <tr>\n",
       "      <th>REST_DYNAMIC_CC_3M</th>\n",
       "      <td>320763.0</td>\n",
       "      <td>0.007414</td>\n",
       "      <td>0.067032</td>\n",
       "      <td>0.000000e+00</td>\n",
       "      <td>0.000000</td>\n",
       "      <td>0.000000</td>\n",
       "      <td>0.000000</td>\n",
       "      <td>1.000000e+00</td>\n",
       "    </tr>\n",
       "    <tr>\n",
       "      <th>MED_DEBT_PRC_YWZ</th>\n",
       "      <td>86488.0</td>\n",
       "      <td>0.055150</td>\n",
       "      <td>0.216123</td>\n",
       "      <td>0.000000e+00</td>\n",
       "      <td>0.000000</td>\n",
       "      <td>0.000000</td>\n",
       "      <td>0.000000</td>\n",
       "      <td>1.000000e+00</td>\n",
       "    </tr>\n",
       "    <tr>\n",
       "      <th>LDEAL_ACT_DAYS_PCT_TR3</th>\n",
       "      <td>84414.0</td>\n",
       "      <td>0.025760</td>\n",
       "      <td>0.115587</td>\n",
       "      <td>0.000000e+00</td>\n",
       "      <td>0.000000</td>\n",
       "      <td>0.000000</td>\n",
       "      <td>0.000000</td>\n",
       "      <td>1.000000e+00</td>\n",
       "    </tr>\n",
       "    <tr>\n",
       "      <th>LDEAL_ACT_DAYS_PCT_AAVG</th>\n",
       "      <td>88692.0</td>\n",
       "      <td>0.050274</td>\n",
       "      <td>0.186237</td>\n",
       "      <td>0.000000e+00</td>\n",
       "      <td>0.000000</td>\n",
       "      <td>0.000000</td>\n",
       "      <td>0.000000</td>\n",
       "      <td>1.000000e+00</td>\n",
       "    </tr>\n",
       "    <tr>\n",
       "      <th>LDEAL_DELINQ_PER_MAXYWZ</th>\n",
       "      <td>86488.0</td>\n",
       "      <td>0.009568</td>\n",
       "      <td>0.094376</td>\n",
       "      <td>0.000000e+00</td>\n",
       "      <td>0.000000</td>\n",
       "      <td>0.000000</td>\n",
       "      <td>0.000000</td>\n",
       "      <td>1.000000e+00</td>\n",
       "    </tr>\n",
       "    <tr>\n",
       "      <th>TURNOVER_DYNAMIC_CC_3M</th>\n",
       "      <td>320763.0</td>\n",
       "      <td>0.004452</td>\n",
       "      <td>0.060917</td>\n",
       "      <td>0.000000e+00</td>\n",
       "      <td>0.000000</td>\n",
       "      <td>0.000000</td>\n",
       "      <td>0.000000</td>\n",
       "      <td>1.000000e+00</td>\n",
       "    </tr>\n",
       "    <tr>\n",
       "      <th>LDEAL_ACT_DAYS_PCT_TR</th>\n",
       "      <td>84414.0</td>\n",
       "      <td>0.013922</td>\n",
       "      <td>0.096966</td>\n",
       "      <td>0.000000e+00</td>\n",
       "      <td>0.000000</td>\n",
       "      <td>0.000000</td>\n",
       "      <td>0.000000</td>\n",
       "      <td>1.000000e+00</td>\n",
       "    </tr>\n",
       "    <tr>\n",
       "      <th>LDEAL_ACT_DAYS_PCT_TR4</th>\n",
       "      <td>84414.0</td>\n",
       "      <td>0.013922</td>\n",
       "      <td>0.096966</td>\n",
       "      <td>0.000000e+00</td>\n",
       "      <td>0.000000</td>\n",
       "      <td>0.000000</td>\n",
       "      <td>0.000000</td>\n",
       "      <td>1.000000e+00</td>\n",
       "    </tr>\n",
       "    <tr>\n",
       "      <th>LDEAL_ACT_DAYS_PCT_CURR</th>\n",
       "      <td>84414.0</td>\n",
       "      <td>0.013922</td>\n",
       "      <td>0.096966</td>\n",
       "      <td>0.000000e+00</td>\n",
       "      <td>0.000000</td>\n",
       "      <td>0.000000</td>\n",
       "      <td>0.000000</td>\n",
       "      <td>1.000000e+00</td>\n",
       "    </tr>\n",
       "    <tr>\n",
       "      <th>TARGET</th>\n",
       "      <td>320763.0</td>\n",
       "      <td>0.081543</td>\n",
       "      <td>0.273668</td>\n",
       "      <td>0.000000e+00</td>\n",
       "      <td>0.000000</td>\n",
       "      <td>0.000000</td>\n",
       "      <td>0.000000</td>\n",
       "      <td>1.000000e+00</td>\n",
       "    </tr>\n",
       "  </tbody>\n",
       "</table>\n",
       "<p>104 rows × 8 columns</p>\n",
       "</div>"
      ],
      "text/plain": [
       "                               count           mean            std  \\\n",
       "Unnamed: 0                  320764.0  221981.072125  128175.410883   \n",
       "ID                          320764.0  368822.072125  128175.410883   \n",
       "CR_PROD_CNT_IL              320764.0       0.105551       0.430363   \n",
       "AMOUNT_RUB_CLO_PRC          286214.0       0.044186       0.108817   \n",
       "PRC_ACCEPTS_A_EMAIL_LINK    139950.0       0.000000       0.000000   \n",
       "APP_REGISTR_RGN_CODE         54850.0      50.940510      21.776214   \n",
       "PRC_ACCEPTS_A_POS           139950.0       0.000000       0.000000   \n",
       "PRC_ACCEPTS_A_TK            139950.0       0.000000       0.000000   \n",
       "TURNOVER_DYNAMIC_IL_1M      320763.0       0.001312       0.029057   \n",
       "CNT_TRAN_AUT_TENDENCY1M      69535.0       0.416497       0.315857   \n",
       "SUM_TRAN_AUT_TENDENCY1M      69535.0       0.414412       0.338005   \n",
       "AMOUNT_RUB_SUP_PRC          286213.0       0.085295       0.142432   \n",
       "PRC_ACCEPTS_A_AMOBILE       139950.0       0.000000       0.000000   \n",
       "SUM_TRAN_AUT_TENDENCY3M     100204.0       0.688782       0.301774   \n",
       "PRC_ACCEPTS_TK              139950.0       0.000000       0.000000   \n",
       "PRC_ACCEPTS_A_MTP           139950.0       0.000000       0.000000   \n",
       "REST_DYNAMIC_FDEP_1M        320763.0       0.000720       0.014273   \n",
       "CNT_TRAN_AUT_TENDENCY3M     100204.0       0.691465       0.276776   \n",
       "CNT_ACCEPTS_TK              139950.0       0.000000       0.000000   \n",
       "REST_DYNAMIC_SAVE_3M        320763.0       0.063789       0.203693   \n",
       "CR_PROD_CNT_VCU             320763.0       0.031481       0.184595   \n",
       "REST_AVG_CUR                320763.0   66162.299347  183563.641519   \n",
       "CNT_TRAN_MED_TENDENCY1M      62457.0       0.444124       0.324203   \n",
       "AMOUNT_RUB_NAS_PRC          286213.0       0.024013       0.090904   \n",
       "TRANS_COUNT_SUP_PRC         286213.0       0.191106       0.196095   \n",
       "CNT_TRAN_CLO_TENDENCY1M      59823.0       0.479673       0.330549   \n",
       "SUM_TRAN_MED_TENDENCY1M      62457.0       0.437011       0.361988   \n",
       "PRC_ACCEPTS_A_ATM           139950.0       0.000000       0.000000   \n",
       "PRC_ACCEPTS_MTP             139950.0       0.000000       0.000000   \n",
       "TRANS_COUNT_NAS_PRC         286213.0       0.050930       0.116770   \n",
       "...                              ...            ...            ...   \n",
       "CNT_TRAN_SUP_TENDENCY1M     140850.0       0.341151       0.281452   \n",
       "DEAL_GRACE_DAYS_ACC_AVG      62693.0       0.024430       0.138399   \n",
       "TURNOVER_DYNAMIC_CUR_3M     320763.0       0.484424       0.331702   \n",
       "MAX_PCLOSE_DATE               1699.0     -20.791243      28.810907   \n",
       "LDEAL_YQZ_PC                  2551.0       0.025069       0.058943   \n",
       "CLNT_SETUP_TENOR            320763.0       4.377489       2.936243   \n",
       "DEAL_GRACE_DAYS_ACC_MAX      62693.0       0.029040       0.165999   \n",
       "TURNOVER_DYNAMIC_PAYM_3M    320763.0       0.072124       0.207083   \n",
       "LDEAL_DELINQ_PER_MAXYQZ       7359.0       0.195883       0.386892   \n",
       "TURNOVER_DYNAMIC_PAYM_1M    320763.0       0.025178       0.104618   \n",
       "CLNT_SALARY_VALUE              652.0   36623.100475   58970.820281   \n",
       "TRANS_AMOUNT_TENDENCY3M     273904.0       0.582278       0.282046   \n",
       "MED_DEBT_PRC_YQZ              7359.0       0.922748       0.261286   \n",
       "TRANS_CNT_TENDENCY3M        273904.0       0.597442       0.247120   \n",
       "LDEAL_USED_AMT_AVG_YQZ        7359.0       0.436324       0.322341   \n",
       "REST_DYNAMIC_CC_1M          320763.0       0.002243       0.026872   \n",
       "LDEAL_USED_AMT_AVG_YWZ       86488.0       0.900215       0.297102   \n",
       "TURNOVER_DYNAMIC_CC_1M      320763.0       0.000957       0.028629   \n",
       "AVG_PCT_DEBT_TO_DEAL_AMT      1704.0       0.343218       1.023744   \n",
       "LDEAL_ACT_DAYS_ACC_PCT_AVG   84414.0       0.051560       0.135265   \n",
       "REST_DYNAMIC_CC_3M          320763.0       0.007414       0.067032   \n",
       "MED_DEBT_PRC_YWZ             86488.0       0.055150       0.216123   \n",
       "LDEAL_ACT_DAYS_PCT_TR3       84414.0       0.025760       0.115587   \n",
       "LDEAL_ACT_DAYS_PCT_AAVG      88692.0       0.050274       0.186237   \n",
       "LDEAL_DELINQ_PER_MAXYWZ      86488.0       0.009568       0.094376   \n",
       "TURNOVER_DYNAMIC_CC_3M      320763.0       0.004452       0.060917   \n",
       "LDEAL_ACT_DAYS_PCT_TR        84414.0       0.013922       0.096966   \n",
       "LDEAL_ACT_DAYS_PCT_TR4       84414.0       0.013922       0.096966   \n",
       "LDEAL_ACT_DAYS_PCT_CURR      84414.0       0.013922       0.096966   \n",
       "TARGET                      320763.0       0.081543       0.273668   \n",
       "\n",
       "                                     min            25%            50%  \\\n",
       "Unnamed: 0                  0.000000e+00  110954.750000  222028.500000   \n",
       "ID                          1.468410e+05  257795.750000  368869.500000   \n",
       "CR_PROD_CNT_IL              0.000000e+00       0.000000       0.000000   \n",
       "AMOUNT_RUB_CLO_PRC          0.000000e+00       0.000000       0.000000   \n",
       "PRC_ACCEPTS_A_EMAIL_LINK    0.000000e+00       0.000000       0.000000   \n",
       "APP_REGISTR_RGN_CODE        0.000000e+00      33.000000      54.000000   \n",
       "PRC_ACCEPTS_A_POS           0.000000e+00       0.000000       0.000000   \n",
       "PRC_ACCEPTS_A_TK            0.000000e+00       0.000000       0.000000   \n",
       "TURNOVER_DYNAMIC_IL_1M      0.000000e+00       0.000000       0.000000   \n",
       "CNT_TRAN_AUT_TENDENCY1M     6.944444e-03       0.166667       0.300000   \n",
       "SUM_TRAN_AUT_TENDENCY1M     0.000000e+00       0.139998       0.286365   \n",
       "AMOUNT_RUB_SUP_PRC          0.000000e+00       0.000000       0.027038   \n",
       "PRC_ACCEPTS_A_AMOBILE       0.000000e+00       0.000000       0.000000   \n",
       "SUM_TRAN_AUT_TENDENCY3M     4.713157e-06       0.445047       0.722915   \n",
       "PRC_ACCEPTS_TK              0.000000e+00       0.000000       0.000000   \n",
       "PRC_ACCEPTS_A_MTP           0.000000e+00       0.000000       0.000000   \n",
       "REST_DYNAMIC_FDEP_1M        0.000000e+00       0.000000       0.000000   \n",
       "CNT_TRAN_AUT_TENDENCY3M     8.000000e-03       0.500000       0.666667   \n",
       "CNT_ACCEPTS_TK              0.000000e+00       0.000000       0.000000   \n",
       "REST_DYNAMIC_SAVE_3M        0.000000e+00       0.000000       0.000000   \n",
       "CR_PROD_CNT_VCU             0.000000e+00       0.000000       0.000000   \n",
       "REST_AVG_CUR                0.000000e+00    4040.221508   16230.431167   \n",
       "CNT_TRAN_MED_TENDENCY1M     1.030928e-02       0.181818       0.333333   \n",
       "AMOUNT_RUB_NAS_PRC          0.000000e+00       0.000000       0.000000   \n",
       "TRANS_COUNT_SUP_PRC         0.000000e+00       0.000000       0.146667   \n",
       "CNT_TRAN_CLO_TENDENCY1M     1.041667e-02       0.200000       0.363636   \n",
       "SUM_TRAN_MED_TENDENCY1M     0.000000e+00       0.118132       0.308867   \n",
       "PRC_ACCEPTS_A_ATM           0.000000e+00       0.000000       0.000000   \n",
       "PRC_ACCEPTS_MTP             0.000000e+00       0.000000       0.000000   \n",
       "TRANS_COUNT_NAS_PRC         0.000000e+00       0.000000       0.000000   \n",
       "...                                  ...            ...            ...   \n",
       "CNT_TRAN_SUP_TENDENCY1M     4.255319e-03       0.142857       0.240000   \n",
       "DEAL_GRACE_DAYS_ACC_AVG     0.000000e+00       0.000000       0.000000   \n",
       "TURNOVER_DYNAMIC_CUR_3M     0.000000e+00       0.217069       0.494318   \n",
       "MAX_PCLOSE_DATE            -1.033548e+02     -31.435484      -9.774194   \n",
       "LDEAL_YQZ_PC                7.083333e-08       0.006302       0.017224   \n",
       "CLNT_SETUP_TENOR            3.455925e-01       1.781076       3.902163   \n",
       "DEAL_GRACE_DAYS_ACC_MAX     0.000000e+00       0.000000       0.000000   \n",
       "TURNOVER_DYNAMIC_PAYM_3M    0.000000e+00       0.000000       0.000000   \n",
       "LDEAL_DELINQ_PER_MAXYQZ     0.000000e+00       0.000000       0.000000   \n",
       "TURNOVER_DYNAMIC_PAYM_1M    0.000000e+00       0.000000       0.000000   \n",
       "CLNT_SALARY_VALUE           7.500000e-01   11149.287500   20015.000000   \n",
       "TRANS_AMOUNT_TENDENCY3M     0.000000e+00       0.383802       0.552487   \n",
       "MED_DEBT_PRC_YQZ            0.000000e+00       1.000000       1.000000   \n",
       "TRANS_CNT_TENDENCY3M        5.714286e-03       0.428571       0.558824   \n",
       "LDEAL_USED_AMT_AVG_YQZ      0.000000e+00       0.134588       0.381376   \n",
       "REST_DYNAMIC_CC_1M          0.000000e+00       0.000000       0.000000   \n",
       "LDEAL_USED_AMT_AVG_YWZ      0.000000e+00       1.000000       1.000000   \n",
       "TURNOVER_DYNAMIC_CC_1M      0.000000e+00       0.000000       0.000000   \n",
       "AVG_PCT_DEBT_TO_DEAL_AMT    0.000000e+00       0.000000       0.084310   \n",
       "LDEAL_ACT_DAYS_ACC_PCT_AVG  0.000000e+00       0.000000       0.008792   \n",
       "REST_DYNAMIC_CC_3M          0.000000e+00       0.000000       0.000000   \n",
       "MED_DEBT_PRC_YWZ            0.000000e+00       0.000000       0.000000   \n",
       "LDEAL_ACT_DAYS_PCT_TR3      0.000000e+00       0.000000       0.000000   \n",
       "LDEAL_ACT_DAYS_PCT_AAVG     0.000000e+00       0.000000       0.000000   \n",
       "LDEAL_DELINQ_PER_MAXYWZ     0.000000e+00       0.000000       0.000000   \n",
       "TURNOVER_DYNAMIC_CC_3M      0.000000e+00       0.000000       0.000000   \n",
       "LDEAL_ACT_DAYS_PCT_TR       0.000000e+00       0.000000       0.000000   \n",
       "LDEAL_ACT_DAYS_PCT_TR4      0.000000e+00       0.000000       0.000000   \n",
       "LDEAL_ACT_DAYS_PCT_CURR     0.000000e+00       0.000000       0.000000   \n",
       "TARGET                      0.000000e+00       0.000000       0.000000   \n",
       "\n",
       "                                      75%           max  \n",
       "Unnamed: 0                  332823.000000  4.439870e+05  \n",
       "ID                          479664.000000  5.908280e+05  \n",
       "CR_PROD_CNT_IL                   0.000000  1.100000e+01  \n",
       "AMOUNT_RUB_CLO_PRC               0.036884  1.000000e+00  \n",
       "PRC_ACCEPTS_A_EMAIL_LINK         0.000000  0.000000e+00  \n",
       "APP_REGISTR_RGN_CODE            72.000000  8.900000e+01  \n",
       "PRC_ACCEPTS_A_POS                0.000000  0.000000e+00  \n",
       "PRC_ACCEPTS_A_TK                 0.000000  0.000000e+00  \n",
       "TURNOVER_DYNAMIC_IL_1M           0.000000  1.000000e+00  \n",
       "CNT_TRAN_AUT_TENDENCY1M          0.571429  1.000000e+00  \n",
       "SUM_TRAN_AUT_TENDENCY1M          0.658685  1.000000e+00  \n",
       "AMOUNT_RUB_SUP_PRC               0.109981  1.000000e+00  \n",
       "PRC_ACCEPTS_A_AMOBILE            0.000000  0.000000e+00  \n",
       "SUM_TRAN_AUT_TENDENCY3M          1.000000  1.000000e+00  \n",
       "PRC_ACCEPTS_TK                   0.000000  0.000000e+00  \n",
       "PRC_ACCEPTS_A_MTP                0.000000  0.000000e+00  \n",
       "REST_DYNAMIC_FDEP_1M             0.000000  1.000000e+00  \n",
       "CNT_TRAN_AUT_TENDENCY3M          1.000000  1.000000e+00  \n",
       "CNT_ACCEPTS_TK                   0.000000  0.000000e+00  \n",
       "REST_DYNAMIC_SAVE_3M             0.000000  1.000000e+00  \n",
       "CR_PROD_CNT_VCU                  0.000000  4.000000e+00  \n",
       "REST_AVG_CUR                 56696.531967  2.202141e+07  \n",
       "CNT_TRAN_MED_TENDENCY1M          0.666667  1.000000e+00  \n",
       "AMOUNT_RUB_NAS_PRC               0.010584  1.000000e+00  \n",
       "TRANS_COUNT_SUP_PRC              0.310680  1.000000e+00  \n",
       "CNT_TRAN_CLO_TENDENCY1M          0.750000  1.000000e+00  \n",
       "SUM_TRAN_MED_TENDENCY1M          0.802375  1.000000e+00  \n",
       "PRC_ACCEPTS_A_ATM                0.000000  0.000000e+00  \n",
       "PRC_ACCEPTS_MTP                  0.000000  0.000000e+00  \n",
       "TRANS_COUNT_NAS_PRC              0.048327  1.000000e+00  \n",
       "...                                   ...           ...  \n",
       "CNT_TRAN_SUP_TENDENCY1M          0.444444  1.000000e+00  \n",
       "DEAL_GRACE_DAYS_ACC_AVG          0.000000  4.688776e+00  \n",
       "TURNOVER_DYNAMIC_CUR_3M          0.726228  1.000000e+00  \n",
       "MAX_PCLOSE_DATE                 -3.532258  1.121935e+02  \n",
       "LDEAL_YQZ_PC                     0.033628  2.283844e+00  \n",
       "CLNT_SETUP_TENOR                 6.555388  1.374894e+01  \n",
       "DEAL_GRACE_DAYS_ACC_MAX          0.000000  9.377551e+00  \n",
       "TURNOVER_DYNAMIC_PAYM_3M         0.000000  1.000000e+00  \n",
       "LDEAL_DELINQ_PER_MAXYQZ          0.000000  1.000000e+00  \n",
       "TURNOVER_DYNAMIC_PAYM_1M         0.000000  1.000000e+00  \n",
       "CLNT_SALARY_VALUE            38543.357500  7.862184e+05  \n",
       "TRANS_AMOUNT_TENDENCY3M          0.819606  1.000000e+00  \n",
       "MED_DEBT_PRC_YQZ                 1.000000  1.000000e+00  \n",
       "TRANS_CNT_TENDENCY3M             0.767442  1.000000e+00  \n",
       "LDEAL_USED_AMT_AVG_YQZ           0.724292  1.000000e+00  \n",
       "REST_DYNAMIC_CC_1M               0.000000  1.000000e+00  \n",
       "LDEAL_USED_AMT_AVG_YWZ           1.000000  1.000000e+00  \n",
       "TURNOVER_DYNAMIC_CC_1M           0.000000  1.000000e+00  \n",
       "AVG_PCT_DEBT_TO_DEAL_AMT         0.684243  3.987847e+01  \n",
       "LDEAL_ACT_DAYS_ACC_PCT_AVG       0.033605  1.000000e+00  \n",
       "REST_DYNAMIC_CC_3M               0.000000  1.000000e+00  \n",
       "MED_DEBT_PRC_YWZ                 0.000000  1.000000e+00  \n",
       "LDEAL_ACT_DAYS_PCT_TR3           0.000000  1.000000e+00  \n",
       "LDEAL_ACT_DAYS_PCT_AAVG          0.000000  1.000000e+00  \n",
       "LDEAL_DELINQ_PER_MAXYWZ          0.000000  1.000000e+00  \n",
       "TURNOVER_DYNAMIC_CC_3M           0.000000  1.000000e+00  \n",
       "LDEAL_ACT_DAYS_PCT_TR            0.000000  1.000000e+00  \n",
       "LDEAL_ACT_DAYS_PCT_TR4           0.000000  1.000000e+00  \n",
       "LDEAL_ACT_DAYS_PCT_CURR          0.000000  1.000000e+00  \n",
       "TARGET                           0.000000  1.000000e+00  \n",
       "\n",
       "[104 rows x 8 columns]"
      ]
     },
     "execution_count": 8,
     "metadata": {},
     "output_type": "execute_result"
    }
   ],
   "source": [
    "train_df.describe().T"
   ]
  },
  {
   "cell_type": "code",
   "execution_count": 9,
   "metadata": {
    "scrolled": true
   },
   "outputs": [
    {
     "name": "stdout",
     "output_type": "stream",
     "text": [
      "nulls: 294607\n",
      "ones: 26156\n",
      "conv: 0.089\n"
     ]
    }
   ],
   "source": [
    "print('nulls: {}'.format(train_df['TARGET'].value_counts()[0]))\n",
    "print('ones: {}'.format(train_df['TARGET'].value_counts()[1]))\n",
    "print('conv: %.3f' % (train_df['TARGET'].value_counts()[1]/train_df['TARGET'].value_counts()[0]))"
   ]
  },
  {
   "cell_type": "markdown",
   "metadata": {},
   "source": [
    "## PREPROCESSING"
   ]
  },
  {
   "cell_type": "markdown",
   "metadata": {},
   "source": [
    "### OBJECTS"
   ]
  },
  {
   "cell_type": "code",
   "execution_count": 119,
   "metadata": {
    "scrolled": true
   },
   "outputs": [
    {
     "data": {
      "text/html": [
       "<div>\n",
       "<style scoped>\n",
       "    .dataframe tbody tr th:only-of-type {\n",
       "        vertical-align: middle;\n",
       "    }\n",
       "\n",
       "    .dataframe tbody tr th {\n",
       "        vertical-align: top;\n",
       "    }\n",
       "\n",
       "    .dataframe thead th {\n",
       "        text-align: right;\n",
       "    }\n",
       "</style>\n",
       "<table border=\"1\" class=\"dataframe\">\n",
       "  <thead>\n",
       "    <tr style=\"text-align: right;\">\n",
       "      <th></th>\n",
       "      <th>CLNT_TRUST_RELATION</th>\n",
       "      <th>APP_MARITAL_STATUS</th>\n",
       "      <th>APP_KIND_OF_PROP_HABITATION</th>\n",
       "      <th>CLNT_JOB_POSITION_TYPE</th>\n",
       "      <th>CLNT_JOB_POSITION</th>\n",
       "      <th>APP_DRIVING_LICENSE</th>\n",
       "      <th>APP_EDUCATION</th>\n",
       "      <th>APP_TRAVEL_PASS</th>\n",
       "      <th>APP_CAR</th>\n",
       "      <th>APP_POSITION_TYPE</th>\n",
       "      <th>APP_EMP_TYPE</th>\n",
       "      <th>APP_COMP_TYPE</th>\n",
       "      <th>PACK</th>\n",
       "    </tr>\n",
       "  </thead>\n",
       "  <tbody>\n",
       "    <tr>\n",
       "      <th>0</th>\n",
       "      <td>NaN</td>\n",
       "      <td>NaN</td>\n",
       "      <td>NaN</td>\n",
       "      <td>NaN</td>\n",
       "      <td>NaN</td>\n",
       "      <td>NaN</td>\n",
       "      <td>NaN</td>\n",
       "      <td>NaN</td>\n",
       "      <td>NaN</td>\n",
       "      <td>NaN</td>\n",
       "      <td>NaN</td>\n",
       "      <td>NaN</td>\n",
       "      <td>102</td>\n",
       "    </tr>\n",
       "    <tr>\n",
       "      <th>1</th>\n",
       "      <td>NaN</td>\n",
       "      <td>NaN</td>\n",
       "      <td>NaN</td>\n",
       "      <td>NaN</td>\n",
       "      <td>офис-менеджер</td>\n",
       "      <td>NaN</td>\n",
       "      <td>NaN</td>\n",
       "      <td>NaN</td>\n",
       "      <td>NaN</td>\n",
       "      <td>NaN</td>\n",
       "      <td>NaN</td>\n",
       "      <td>NaN</td>\n",
       "      <td>102</td>\n",
       "    </tr>\n",
       "    <tr>\n",
       "      <th>2</th>\n",
       "      <td>NaN</td>\n",
       "      <td>NaN</td>\n",
       "      <td>NaN</td>\n",
       "      <td>NaN</td>\n",
       "      <td>консультант</td>\n",
       "      <td>NaN</td>\n",
       "      <td>NaN</td>\n",
       "      <td>NaN</td>\n",
       "      <td>NaN</td>\n",
       "      <td>NaN</td>\n",
       "      <td>NaN</td>\n",
       "      <td>NaN</td>\n",
       "      <td>102</td>\n",
       "    </tr>\n",
       "    <tr>\n",
       "      <th>3</th>\n",
       "      <td>NaN</td>\n",
       "      <td>NaN</td>\n",
       "      <td>NaN</td>\n",
       "      <td>NaN</td>\n",
       "      <td>NaN</td>\n",
       "      <td>NaN</td>\n",
       "      <td>NaN</td>\n",
       "      <td>NaN</td>\n",
       "      <td>NaN</td>\n",
       "      <td>NaN</td>\n",
       "      <td>NaN</td>\n",
       "      <td>NaN</td>\n",
       "      <td>K01</td>\n",
       "    </tr>\n",
       "    <tr>\n",
       "      <th>4</th>\n",
       "      <td>NaN</td>\n",
       "      <td>NaN</td>\n",
       "      <td>NaN</td>\n",
       "      <td>NaN</td>\n",
       "      <td>экономист</td>\n",
       "      <td>NaN</td>\n",
       "      <td>NaN</td>\n",
       "      <td>NaN</td>\n",
       "      <td>NaN</td>\n",
       "      <td>NaN</td>\n",
       "      <td>NaN</td>\n",
       "      <td>NaN</td>\n",
       "      <td>K01</td>\n",
       "    </tr>\n",
       "  </tbody>\n",
       "</table>\n",
       "</div>"
      ],
      "text/plain": [
       "  CLNT_TRUST_RELATION APP_MARITAL_STATUS APP_KIND_OF_PROP_HABITATION  \\\n",
       "0                 NaN                NaN                         NaN   \n",
       "1                 NaN                NaN                         NaN   \n",
       "2                 NaN                NaN                         NaN   \n",
       "3                 NaN                NaN                         NaN   \n",
       "4                 NaN                NaN                         NaN   \n",
       "\n",
       "  CLNT_JOB_POSITION_TYPE CLNT_JOB_POSITION APP_DRIVING_LICENSE APP_EDUCATION  \\\n",
       "0                    NaN               NaN                 NaN           NaN   \n",
       "1                    NaN     офис-менеджер                 NaN           NaN   \n",
       "2                    NaN       консультант                 NaN           NaN   \n",
       "3                    NaN               NaN                 NaN           NaN   \n",
       "4                    NaN         экономист                 NaN           NaN   \n",
       "\n",
       "  APP_TRAVEL_PASS APP_CAR APP_POSITION_TYPE APP_EMP_TYPE APP_COMP_TYPE PACK  \n",
       "0             NaN     NaN               NaN          NaN           NaN  102  \n",
       "1             NaN     NaN               NaN          NaN           NaN  102  \n",
       "2             NaN     NaN               NaN          NaN           NaN  102  \n",
       "3             NaN     NaN               NaN          NaN           NaN  K01  \n",
       "4             NaN     NaN               NaN          NaN           NaN  K01  "
      ]
     },
     "execution_count": 119,
     "metadata": {},
     "output_type": "execute_result"
    }
   ],
   "source": [
    "train_df.select_dtypes(include=['object']).head(5)"
   ]
  },
  {
   "cell_type": "markdown",
   "metadata": {},
   "source": [
    "## Применить код ниже или функцию load_data"
   ]
  },
  {
   "cell_type": "markdown",
   "metadata": {},
   "source": [
    "#### TRUST_RELATION"
   ]
  },
  {
   "cell_type": "code",
   "execution_count": 120,
   "metadata": {
    "scrolled": false
   },
   "outputs": [
    {
     "data": {
      "text/plain": [
       "FRIEND        22613\n",
       "MOTHER        10046\n",
       "RELATIVE       7431\n",
       "OTHER          6048\n",
       "BROTHER        5080\n",
       "SISTER         5017\n",
       "FATHER         2744\n",
       "DAUGHTER       1837\n",
       "SON            1715\n",
       "Друг            188\n",
       "Мать             80\n",
       "Близкий ро       39\n",
       "Брат             26\n",
       "Отец             26\n",
       "Сестра           15\n",
       "Дочь              8\n",
       "Сын               7\n",
       "Дальний ро        7\n",
       "Муж               3\n",
       "Жена              3\n",
       "мама              1\n",
       "мать              1\n",
       "Name: CLNT_TRUST_RELATION, dtype: int64"
      ]
     },
     "execution_count": 120,
     "metadata": {},
     "output_type": "execute_result"
    }
   ],
   "source": [
    "train_df['CLNT_TRUST_RELATION'].value_counts()"
   ]
  },
  {
   "cell_type": "code",
   "execution_count": 121,
   "metadata": {},
   "outputs": [],
   "source": [
    "dict_rename_relations = {'Друг': 'FRIEND',\n",
    "                         'Мать': 'MOTHER',\n",
    "                         'Близкий ро': 'RELATIVE', \n",
    "                         'Брат': 'BROTHER', \n",
    "                         'Отец': 'FATHER',\n",
    "                         'Сестра': 'SISTER',\n",
    "                         'Дочь': 'DAUGHTER',\n",
    "                         'Сын': 'SON',\n",
    "                         'Дальний ро': 'RELATIVE',\n",
    "                         'Муж': 'OTHER',\n",
    "                         'Жена': 'OTHER',\n",
    "                         'мама': 'MOTHER',\n",
    "                         'мать': 'MOTHER'}"
   ]
  },
  {
   "cell_type": "code",
   "execution_count": 122,
   "metadata": {},
   "outputs": [],
   "source": [
    "train_df['CLNT_TRUST_RELATION'] = train_df['CLNT_TRUST_RELATION'].replace(dict_rename_relations)"
   ]
  },
  {
   "cell_type": "code",
   "execution_count": 123,
   "metadata": {
    "scrolled": true
   },
   "outputs": [
    {
     "data": {
      "text/plain": [
       "FRIEND      22801\n",
       "MOTHER      10128\n",
       "RELATIVE     7477\n",
       "OTHER        6054\n",
       "BROTHER      5106\n",
       "SISTER       5032\n",
       "FATHER       2770\n",
       "DAUGHTER     1845\n",
       "SON          1722\n",
       "Name: CLNT_TRUST_RELATION, dtype: int64"
      ]
     },
     "execution_count": 123,
     "metadata": {},
     "output_type": "execute_result"
    }
   ],
   "source": [
    "train_df['CLNT_TRUST_RELATION'].value_counts()"
   ]
  },
  {
   "cell_type": "code",
   "execution_count": 125,
   "metadata": {},
   "outputs": [],
   "source": [
    "dict_cat_relations = {'FRIEND': 1, \n",
    "                      'MOTHER': 2, \n",
    "                      'RELATIVE': 3, \n",
    "                      'OTHER': 4, \n",
    "                      'BROTHER': 5, \n",
    "                      'SISTER': 6, \n",
    "                      'FATHER': 7, \n",
    "                      'DAUGHTER': 8,\n",
    "                      'SON': 9,\n",
    "                      'NA': 0}"
   ]
  },
  {
   "cell_type": "code",
   "execution_count": 126,
   "metadata": {},
   "outputs": [],
   "source": [
    "train_df['CLNT_TRUST_RELATION_CAT'] = train_df['CLNT_TRUST_RELATION'].fillna('NA').map(dict_cat_relations)"
   ]
  },
  {
   "cell_type": "markdown",
   "metadata": {},
   "source": [
    "#### MARITAL_STATUS"
   ]
  },
  {
   "cell_type": "code",
   "execution_count": 127,
   "metadata": {},
   "outputs": [
    {
     "data": {
      "text/plain": [
       "array([nan, 'M', 'V', 'm', 'T', 'v', 'D', 'N', 't', 'd', 'W', 'C', 'w',\n",
       "       ' ', None], dtype=object)"
      ]
     },
     "execution_count": 127,
     "metadata": {},
     "output_type": "execute_result"
    }
   ],
   "source": [
    "train_df['APP_MARITAL_STATUS'].unique()"
   ]
  },
  {
   "cell_type": "code",
   "execution_count": 128,
   "metadata": {},
   "outputs": [],
   "source": [
    "train_df['APP_MARITAL_STATUS'] = train_df['APP_MARITAL_STATUS'].str.lower()"
   ]
  },
  {
   "cell_type": "code",
   "execution_count": 129,
   "metadata": {},
   "outputs": [
    {
     "data": {
      "text/plain": [
       "array([nan, 'm', 'v', 't', 'd', 'n', 'w', 'c', ' ', None], dtype=object)"
      ]
     },
     "execution_count": 129,
     "metadata": {},
     "output_type": "execute_result"
    }
   ],
   "source": [
    "train_df['APP_MARITAL_STATUS'].unique()"
   ]
  },
  {
   "cell_type": "code",
   "execution_count": 149,
   "metadata": {},
   "outputs": [],
   "source": [
    "dict_cat_mar_stat = { 'm': 1, 'v': 2, 't': 3, 'd': 4, 'n': 5, 'w': 6, 'c': 7, 'NA': 0}"
   ]
  },
  {
   "cell_type": "code",
   "execution_count": 130,
   "metadata": {},
   "outputs": [],
   "source": [
    "train_df['APP_MARITAL_STATUS_CAT'] = train_df['APP_MARITAL_STATUS'].replace({' ': None}).fillna('NA').map(dict_cat_mar_stat)"
   ]
  },
  {
   "cell_type": "code",
   "execution_count": 131,
   "metadata": {},
   "outputs": [
    {
     "data": {
      "text/plain": [
       "array([0, 1, 2, 3, 4, 5, 6, 7])"
      ]
     },
     "execution_count": 131,
     "metadata": {},
     "output_type": "execute_result"
    }
   ],
   "source": [
    "train_df['APP_MARITAL_STATUS_CAT'].unique()"
   ]
  },
  {
   "cell_type": "markdown",
   "metadata": {},
   "source": [
    "#### KIND_OF_PROP_HABITATION"
   ]
  },
  {
   "cell_type": "code",
   "execution_count": 132,
   "metadata": {},
   "outputs": [
    {
     "data": {
      "text/plain": [
       "SO         25461\n",
       "JO         12750\n",
       "OTHER      10252\n",
       "RENT        2931\n",
       "NPRIVAT     2328\n",
       "Name: APP_KIND_OF_PROP_HABITATION, dtype: int64"
      ]
     },
     "execution_count": 132,
     "metadata": {},
     "output_type": "execute_result"
    }
   ],
   "source": [
    "train_df['APP_KIND_OF_PROP_HABITATION'].value_counts()"
   ]
  },
  {
   "cell_type": "code",
   "execution_count": 144,
   "metadata": {},
   "outputs": [],
   "source": [
    "dict_cat_prob_hab = { 'SO': 1, \n",
    "                      'JO': 2, \n",
    "                      'OTHER': 3, \n",
    "                      'RENT': 4, \n",
    "                      'NPRIVAT': 5, \n",
    "                      'NA': 0}"
   ]
  },
  {
   "cell_type": "code",
   "execution_count": 145,
   "metadata": {},
   "outputs": [],
   "source": [
    "train_df['APP_KIND_OF_PROP_HABITATION_CAT'] = train_df['APP_KIND_OF_PROP_HABITATION'].fillna('NA').map(dict_cat_prob_hab)"
   ]
  },
  {
   "cell_type": "code",
   "execution_count": 148,
   "metadata": {},
   "outputs": [
    {
     "data": {
      "text/plain": [
       "0    267042\n",
       "1     25461\n",
       "2     12750\n",
       "3     10252\n",
       "4      2931\n",
       "5      2328\n",
       "Name: APP_KIND_OF_PROP_HABITATION_CAT, dtype: int64"
      ]
     },
     "execution_count": 148,
     "metadata": {},
     "output_type": "execute_result"
    }
   ],
   "source": [
    "train_df['APP_KIND_OF_PROP_HABITATION_CAT'].value_counts()"
   ]
  },
  {
   "cell_type": "markdown",
   "metadata": {},
   "source": [
    "#### CLNT_JOB_POSITION_TYPE"
   ]
  },
  {
   "cell_type": "code",
   "execution_count": 150,
   "metadata": {},
   "outputs": [
    {
     "data": {
      "text/plain": [
       "SPECIALIST     22741\n",
       "MANAGER         8464\n",
       "TOP_MANAGER     6605\n",
       "SELF_EMPL       2712\n",
       "Name: CLNT_JOB_POSITION_TYPE, dtype: int64"
      ]
     },
     "execution_count": 150,
     "metadata": {},
     "output_type": "execute_result"
    }
   ],
   "source": [
    "train_df['CLNT_JOB_POSITION_TYPE'].value_counts()"
   ]
  },
  {
   "cell_type": "code",
   "execution_count": 152,
   "metadata": {},
   "outputs": [],
   "source": [
    "dict_cat_pos_type = { 'SPECIALIST': 1, \n",
    "                      'MANAGER': 2, \n",
    "                      'TOP_MANAGER': 3, \n",
    "                      'SELF_EMPL': 4,\n",
    "                      'NA': 0}"
   ]
  },
  {
   "cell_type": "code",
   "execution_count": 153,
   "metadata": {},
   "outputs": [],
   "source": [
    "train_df['CLNT_JOB_POSITION_TYPE_CAT'] = train_df['CLNT_JOB_POSITION_TYPE'].fillna('NA').map(dict_cat_pos_type)"
   ]
  },
  {
   "cell_type": "code",
   "execution_count": 154,
   "metadata": {
    "scrolled": true
   },
   "outputs": [
    {
     "data": {
      "text/plain": [
       "0    280242\n",
       "1     22741\n",
       "2      8464\n",
       "3      6605\n",
       "4      2712\n",
       "Name: CLNT_JOB_POSITION_TYPE_CAT, dtype: int64"
      ]
     },
     "execution_count": 154,
     "metadata": {},
     "output_type": "execute_result"
    }
   ],
   "source": [
    "train_df['CLNT_JOB_POSITION_TYPE_CAT'].value_counts()"
   ]
  },
  {
   "cell_type": "markdown",
   "metadata": {},
   "source": [
    "#### CLNT_JOB_POSITION"
   ]
  },
  {
   "cell_type": "code",
   "execution_count": 166,
   "metadata": {},
   "outputs": [],
   "source": [
    "train_df['CLNT_JOB_POSITION'] = train_df['CLNT_JOB_POSITION'].str.lower().str.strip()"
   ]
  },
  {
   "cell_type": "code",
   "execution_count": 171,
   "metadata": {},
   "outputs": [],
   "source": [
    "train_df['CLNT_JOB_POSITION'] = train_df['CLNT_JOB_POSITION'].apply(lambda x: re.sub(' ', '', str(x)))"
   ]
  },
  {
   "cell_type": "code",
   "execution_count": null,
   "metadata": {},
   "outputs": [],
   "source": [
    "train_df['CLNT_JOB_POSITION'].value_counts()"
   ]
  },
  {
   "cell_type": "markdown",
   "metadata": {},
   "source": [
    "#### APP_DRIVING_LICENSE"
   ]
  },
  {
   "cell_type": "code",
   "execution_count": 178,
   "metadata": {},
   "outputs": [
    {
     "data": {
      "text/plain": [
       "N    32938\n",
       "Y    18958\n",
       "Name: APP_DRIVING_LICENSE, dtype: int64"
      ]
     },
     "execution_count": 178,
     "metadata": {},
     "output_type": "execute_result"
    }
   ],
   "source": [
    "train_df['APP_DRIVING_LICENSE'].value_counts() "
   ]
  },
  {
   "cell_type": "code",
   "execution_count": 209,
   "metadata": {},
   "outputs": [],
   "source": [
    "dict_ny = { 'N': 0, 'Y': 1, 'NA': -1}"
   ]
  },
  {
   "cell_type": "code",
   "execution_count": 181,
   "metadata": {},
   "outputs": [],
   "source": [
    "train_df['APP_DRIVING_LICENSE_CAT'] = train_df['APP_DRIVING_LICENSE'].fillna('NA').map(dict_cat_dr_lic)"
   ]
  },
  {
   "cell_type": "code",
   "execution_count": 182,
   "metadata": {},
   "outputs": [
    {
     "data": {
      "text/plain": [
       "-1    268868\n",
       " 0     32938\n",
       " 1     18958\n",
       "Name: APP_DRIVING_LICENSE_CAT, dtype: int64"
      ]
     },
     "execution_count": 182,
     "metadata": {},
     "output_type": "execute_result"
    }
   ],
   "source": [
    "train_df['APP_DRIVING_LICENSE_CAT'].value_counts() "
   ]
  },
  {
   "cell_type": "markdown",
   "metadata": {},
   "source": [
    "#### APP_EDUCATION"
   ]
  },
  {
   "cell_type": "code",
   "execution_count": 184,
   "metadata": {},
   "outputs": [],
   "source": [
    "train_df['APP_EDUCATION'] = train_df['APP_EDUCATION'].str.lower().str.strip()"
   ]
  },
  {
   "cell_type": "code",
   "execution_count": 185,
   "metadata": {
    "scrolled": true
   },
   "outputs": [
    {
     "data": {
      "text/plain": [
       "h     40176\n",
       "ss     9196\n",
       "uh     5671\n",
       "s      3557\n",
       "hh     1772\n",
       "i       531\n",
       "a       513\n",
       "us      170\n",
       "hi       42\n",
       "e        23\n",
       "ac        9\n",
       "av        5\n",
       "Name: APP_EDUCATION, dtype: int64"
      ]
     },
     "execution_count": 185,
     "metadata": {},
     "output_type": "execute_result"
    }
   ],
   "source": [
    "train_df['APP_EDUCATION'].value_counts() "
   ]
  },
  {
   "cell_type": "code",
   "execution_count": 200,
   "metadata": {},
   "outputs": [],
   "source": [
    "dict_cat_edu = {'h': 1, 's': 2, 'a': 3}"
   ]
  },
  {
   "cell_type": "code",
   "execution_count": 202,
   "metadata": {},
   "outputs": [],
   "source": [
    "train_df['APP_EDUCATION_CAT'] = train_df['APP_EDUCATION'].replace({'ss': 's', 'hh': 'h', 'uh': 'h', 'hi': 'h', 'i': 'h', 'ac': 'a', 'av': 'a'}).map(dict_cat_edu).fillna(0)"
   ]
  },
  {
   "cell_type": "code",
   "execution_count": 203,
   "metadata": {},
   "outputs": [
    {
     "data": {
      "text/plain": [
       "0.0    259292\n",
       "1.0     48192\n",
       "2.0     12753\n",
       "3.0       527\n",
       "Name: APP_EDUCATION_CAT, dtype: int64"
      ]
     },
     "execution_count": 203,
     "metadata": {},
     "output_type": "execute_result"
    }
   ],
   "source": [
    "train_df['APP_EDUCATION_CAT'].value_counts()"
   ]
  },
  {
   "cell_type": "markdown",
   "metadata": {},
   "source": [
    "#### APP_TRAVEL_PASS\t"
   ]
  },
  {
   "cell_type": "code",
   "execution_count": 204,
   "metadata": {},
   "outputs": [
    {
     "data": {
      "text/plain": [
       "N    47829\n",
       "Y     4067\n",
       "Name: APP_TRAVEL_PASS, dtype: int64"
      ]
     },
     "execution_count": 204,
     "metadata": {},
     "output_type": "execute_result"
    }
   ],
   "source": [
    "train_df['APP_TRAVEL_PASS'].value_counts()"
   ]
  },
  {
   "cell_type": "code",
   "execution_count": 206,
   "metadata": {},
   "outputs": [],
   "source": [
    "train_df['APP_TRAVEL_PASS_CAT'] = train_df['APP_TRAVEL_PASS'].fillna('NA').map(dict_ny)"
   ]
  },
  {
   "cell_type": "code",
   "execution_count": 207,
   "metadata": {},
   "outputs": [
    {
     "data": {
      "text/plain": [
       "-1    268868\n",
       " 0     47829\n",
       " 1      4067\n",
       "Name: APP_TRAVEL_PASS_CAT, dtype: int64"
      ]
     },
     "execution_count": 207,
     "metadata": {},
     "output_type": "execute_result"
    }
   ],
   "source": [
    "train_df['APP_TRAVEL_PASS_CAT'].value_counts()"
   ]
  },
  {
   "cell_type": "markdown",
   "metadata": {},
   "source": [
    "#### APP_CAR"
   ]
  },
  {
   "cell_type": "code",
   "execution_count": 208,
   "metadata": {},
   "outputs": [
    {
     "data": {
      "text/plain": [
       "N    29760\n",
       "Y    22135\n",
       "Name: APP_CAR, dtype: int64"
      ]
     },
     "execution_count": 208,
     "metadata": {},
     "output_type": "execute_result"
    }
   ],
   "source": [
    "train_df['APP_CAR'].value_counts()"
   ]
  },
  {
   "cell_type": "code",
   "execution_count": 210,
   "metadata": {},
   "outputs": [],
   "source": [
    "train_df['APP_CAR_CAT'] = train_df['APP_CAR'].fillna('NA').map(dict_ny) "
   ]
  },
  {
   "cell_type": "code",
   "execution_count": 211,
   "metadata": {},
   "outputs": [
    {
     "data": {
      "text/plain": [
       "-1    268869\n",
       " 0     29760\n",
       " 1     22135\n",
       "Name: APP_CAR_CAT, dtype: int64"
      ]
     },
     "execution_count": 211,
     "metadata": {},
     "output_type": "execute_result"
    }
   ],
   "source": [
    "train_df['APP_CAR_CAT'].value_counts()"
   ]
  },
  {
   "cell_type": "markdown",
   "metadata": {},
   "source": [
    "#### APP_POSITION_TYPE"
   ]
  },
  {
   "cell_type": "code",
   "execution_count": 213,
   "metadata": {
    "scrolled": true
   },
   "outputs": [
    {
     "data": {
      "text/plain": [
       "SPECIALIST     33154\n",
       "MANAGER        10546\n",
       "TOP_MANAGER     7638\n",
       "SELF_EMPL       3442\n",
       "Name: APP_POSITION_TYPE, dtype: int64"
      ]
     },
     "execution_count": 213,
     "metadata": {},
     "output_type": "execute_result"
    }
   ],
   "source": [
    "train_df['APP_POSITION_TYPE'].value_counts()"
   ]
  },
  {
   "cell_type": "code",
   "execution_count": 222,
   "metadata": {},
   "outputs": [],
   "source": [
    "train_df['APP_POSITION_TYPE_CAT'] = train_df['APP_POSITION_TYPE'].fillna('NA').map(dict_cat_pos_type)"
   ]
  },
  {
   "cell_type": "code",
   "execution_count": 223,
   "metadata": {},
   "outputs": [
    {
     "data": {
      "text/plain": [
       "0    265984\n",
       "1     33154\n",
       "2     10546\n",
       "3      7638\n",
       "4      3442\n",
       "Name: APP_POSITION_TYPE_CAT, dtype: int64"
      ]
     },
     "execution_count": 223,
     "metadata": {},
     "output_type": "execute_result"
    }
   ],
   "source": [
    "train_df['APP_POSITION_TYPE_CAT'].value_counts()"
   ]
  },
  {
   "cell_type": "markdown",
   "metadata": {},
   "source": [
    "#### APP_EMP_TYPE"
   ]
  },
  {
   "cell_type": "code",
   "execution_count": 224,
   "metadata": {},
   "outputs": [
    {
     "data": {
      "text/plain": [
       "PRIVATE    53529\n",
       "STATE       5451\n",
       "INTER       1206\n",
       "IP           800\n",
       "Name: APP_EMP_TYPE, dtype: int64"
      ]
     },
     "execution_count": 224,
     "metadata": {},
     "output_type": "execute_result"
    }
   ],
   "source": [
    "train_df['APP_EMP_TYPE'].value_counts()"
   ]
  },
  {
   "cell_type": "code",
   "execution_count": 226,
   "metadata": {},
   "outputs": [],
   "source": [
    "dict_emp_type = {'PRIVATE': 1, 'STATE': 2, 'INTER': 3, 'IP': 4, 'NA': 0}"
   ]
  },
  {
   "cell_type": "code",
   "execution_count": 228,
   "metadata": {},
   "outputs": [],
   "source": [
    "train_df['APP_EMP_TYPE_CAT'] = train_df['APP_EMP_TYPE'].fillna('NA').map(dict_emp_type)"
   ]
  },
  {
   "cell_type": "code",
   "execution_count": 229,
   "metadata": {},
   "outputs": [
    {
     "data": {
      "text/plain": [
       "0    259778\n",
       "1     53529\n",
       "2      5451\n",
       "3      1206\n",
       "4       800\n",
       "Name: APP_EMP_TYPE_CAT, dtype: int64"
      ]
     },
     "execution_count": 229,
     "metadata": {},
     "output_type": "execute_result"
    }
   ],
   "source": [
    "train_df['APP_EMP_TYPE_CAT'].value_counts()"
   ]
  },
  {
   "cell_type": "markdown",
   "metadata": {},
   "source": [
    "#### APP_PACK"
   ]
  },
  {
   "cell_type": "code",
   "execution_count": 237,
   "metadata": {},
   "outputs": [
    {
     "data": {
      "text/plain": [
       "102    105756\n",
       "K01     69478\n",
       "O01     45644\n",
       "105     40777\n",
       "107     25108\n",
       "103     22430\n",
       "104      6073\n",
       "301      3760\n",
       "101      1645\n",
       "109        83\n",
       "M01         5\n",
       "108         4\n",
       "Name: PACK, dtype: int64"
      ]
     },
     "execution_count": 237,
     "metadata": {},
     "output_type": "execute_result"
    }
   ],
   "source": [
    "train_df['PACK'].value_counts()"
   ]
  },
  {
   "cell_type": "code",
   "execution_count": 243,
   "metadata": {},
   "outputs": [],
   "source": [
    "dict_pack = {'102': 102, 'K01': 100, 'O01': 200, '105': 105, '107': 107, '103': 103, '104': 104, '301': 301,\n",
    "                '101': 101, '109': 109, 'M01': 300, '108': 108, 'NA': 0}"
   ]
  },
  {
   "cell_type": "code",
   "execution_count": 244,
   "metadata": {},
   "outputs": [],
   "source": [
    "train_df['PACK_CAT'] = train_df['PACK'].fillna('NA').map(dict_pack)"
   ]
  },
  {
   "cell_type": "code",
   "execution_count": 245,
   "metadata": {
    "scrolled": false
   },
   "outputs": [
    {
     "data": {
      "text/plain": [
       "102    105756\n",
       "100     69478\n",
       "200     45644\n",
       "105     40777\n",
       "107     25108\n",
       "103     22430\n",
       "104      6073\n",
       "301      3760\n",
       "101      1645\n",
       "109        83\n",
       "300         5\n",
       "108         4\n",
       "0           1\n",
       "Name: PACK_CAT, dtype: int64"
      ]
     },
     "execution_count": 245,
     "metadata": {},
     "output_type": "execute_result"
    }
   ],
   "source": [
    "train_df['PACK_CAT'].value_counts()"
   ]
  },
  {
   "cell_type": "markdown",
   "metadata": {},
   "source": [
    "## Применим функцию load_data"
   ]
  },
  {
   "cell_type": "code",
   "execution_count": 10,
   "metadata": {},
   "outputs": [],
   "source": [
    "train_data = load_data(train_df)"
   ]
  },
  {
   "cell_type": "code",
   "execution_count": 11,
   "metadata": {},
   "outputs": [
    {
     "data": {
      "text/plain": [
       "['ID',\n",
       " 'CR_PROD_CNT_IL',\n",
       " 'AMOUNT_RUB_CLO_PRC',\n",
       " 'PRC_ACCEPTS_A_EMAIL_LINK',\n",
       " 'APP_REGISTR_RGN_CODE',\n",
       " 'PRC_ACCEPTS_A_POS',\n",
       " 'PRC_ACCEPTS_A_TK',\n",
       " 'TURNOVER_DYNAMIC_IL_1M',\n",
       " 'CNT_TRAN_AUT_TENDENCY1M',\n",
       " 'SUM_TRAN_AUT_TENDENCY1M',\n",
       " 'AMOUNT_RUB_SUP_PRC',\n",
       " 'PRC_ACCEPTS_A_AMOBILE',\n",
       " 'SUM_TRAN_AUT_TENDENCY3M',\n",
       " 'PRC_ACCEPTS_TK',\n",
       " 'PRC_ACCEPTS_A_MTP',\n",
       " 'REST_DYNAMIC_FDEP_1M',\n",
       " 'CNT_TRAN_AUT_TENDENCY3M',\n",
       " 'CNT_ACCEPTS_TK',\n",
       " 'REST_DYNAMIC_SAVE_3M',\n",
       " 'CR_PROD_CNT_VCU',\n",
       " 'REST_AVG_CUR',\n",
       " 'CNT_TRAN_MED_TENDENCY1M',\n",
       " 'AMOUNT_RUB_NAS_PRC',\n",
       " 'TRANS_COUNT_SUP_PRC',\n",
       " 'CNT_TRAN_CLO_TENDENCY1M',\n",
       " 'SUM_TRAN_MED_TENDENCY1M',\n",
       " 'PRC_ACCEPTS_A_ATM',\n",
       " 'PRC_ACCEPTS_MTP',\n",
       " 'TRANS_COUNT_NAS_PRC',\n",
       " 'CNT_ACCEPTS_MTP',\n",
       " 'CR_PROD_CNT_TOVR',\n",
       " 'CR_PROD_CNT_PIL',\n",
       " 'SUM_TRAN_CLO_TENDENCY1M',\n",
       " 'TURNOVER_CC',\n",
       " 'TRANS_COUNT_ATM_PRC',\n",
       " 'AMOUNT_RUB_ATM_PRC',\n",
       " 'TURNOVER_PAYM',\n",
       " 'AGE',\n",
       " 'CNT_TRAN_MED_TENDENCY3M',\n",
       " 'CR_PROD_CNT_CC',\n",
       " 'SUM_TRAN_MED_TENDENCY3M',\n",
       " 'REST_DYNAMIC_FDEP_3M',\n",
       " 'REST_DYNAMIC_IL_1M',\n",
       " 'SUM_TRAN_CLO_TENDENCY3M',\n",
       " 'LDEAL_TENOR_MAX',\n",
       " 'LDEAL_YQZ_CHRG',\n",
       " 'CR_PROD_CNT_CCFP',\n",
       " 'DEAL_YQZ_IR_MAX',\n",
       " 'LDEAL_YQZ_COM',\n",
       " 'DEAL_YQZ_IR_MIN',\n",
       " 'CNT_TRAN_CLO_TENDENCY3M',\n",
       " 'REST_DYNAMIC_CUR_1M',\n",
       " 'REST_AVG_PAYM',\n",
       " 'LDEAL_TENOR_MIN',\n",
       " 'LDEAL_AMT_MONTH',\n",
       " 'LDEAL_GRACE_DAYS_PCT_MED',\n",
       " 'REST_DYNAMIC_CUR_3M',\n",
       " 'CNT_TRAN_SUP_TENDENCY3M',\n",
       " 'TURNOVER_DYNAMIC_CUR_1M',\n",
       " 'REST_DYNAMIC_PAYM_3M',\n",
       " 'SUM_TRAN_SUP_TENDENCY3M',\n",
       " 'REST_DYNAMIC_IL_3M',\n",
       " 'CNT_TRAN_ATM_TENDENCY3M',\n",
       " 'CNT_TRAN_ATM_TENDENCY1M',\n",
       " 'TURNOVER_DYNAMIC_IL_3M',\n",
       " 'SUM_TRAN_ATM_TENDENCY3M',\n",
       " 'DEAL_GRACE_DAYS_ACC_S1X1',\n",
       " 'AVG_PCT_MONTH_TO_PCLOSE',\n",
       " 'DEAL_YWZ_IR_MIN',\n",
       " 'SUM_TRAN_SUP_TENDENCY1M',\n",
       " 'DEAL_YWZ_IR_MAX',\n",
       " 'SUM_TRAN_ATM_TENDENCY1M',\n",
       " 'REST_DYNAMIC_PAYM_1M',\n",
       " 'CNT_TRAN_SUP_TENDENCY1M',\n",
       " 'DEAL_GRACE_DAYS_ACC_AVG',\n",
       " 'TURNOVER_DYNAMIC_CUR_3M',\n",
       " 'MAX_PCLOSE_DATE',\n",
       " 'LDEAL_YQZ_PC',\n",
       " 'CLNT_SETUP_TENOR',\n",
       " 'DEAL_GRACE_DAYS_ACC_MAX',\n",
       " 'TURNOVER_DYNAMIC_PAYM_3M',\n",
       " 'LDEAL_DELINQ_PER_MAXYQZ',\n",
       " 'TURNOVER_DYNAMIC_PAYM_1M',\n",
       " 'CLNT_SALARY_VALUE',\n",
       " 'TRANS_AMOUNT_TENDENCY3M',\n",
       " 'MED_DEBT_PRC_YQZ',\n",
       " 'TRANS_CNT_TENDENCY3M',\n",
       " 'LDEAL_USED_AMT_AVG_YQZ',\n",
       " 'REST_DYNAMIC_CC_1M',\n",
       " 'LDEAL_USED_AMT_AVG_YWZ',\n",
       " 'TURNOVER_DYNAMIC_CC_1M',\n",
       " 'AVG_PCT_DEBT_TO_DEAL_AMT',\n",
       " 'LDEAL_ACT_DAYS_ACC_PCT_AVG',\n",
       " 'REST_DYNAMIC_CC_3M',\n",
       " 'MED_DEBT_PRC_YWZ',\n",
       " 'LDEAL_ACT_DAYS_PCT_TR3',\n",
       " 'LDEAL_ACT_DAYS_PCT_AAVG',\n",
       " 'LDEAL_DELINQ_PER_MAXYWZ',\n",
       " 'TURNOVER_DYNAMIC_CC_3M',\n",
       " 'LDEAL_ACT_DAYS_PCT_TR',\n",
       " 'LDEAL_ACT_DAYS_PCT_TR4',\n",
       " 'LDEAL_ACT_DAYS_PCT_CURR',\n",
       " 'TARGET',\n",
       " 'CLNT_TRUST_FRIEND',\n",
       " 'CLNT_TRUST_MOTHER',\n",
       " 'CLNT_TRUST_RELATIVE',\n",
       " 'CLNT_TRUST_OTHER',\n",
       " 'CLNT_TRUST_BROTHER',\n",
       " 'CLNT_TRUST_SISTER',\n",
       " 'CLNT_TRUST_FATHER',\n",
       " 'CLNT_TRUST_DAUGHTER',\n",
       " 'CLNT_TRUST_SON',\n",
       " 'APP_MARITAL_STATUS_M',\n",
       " 'APP_MARITAL_STATUS_V',\n",
       " 'APP_MARITAL_STATUS_T',\n",
       " 'APP_MARITAL_STATUS_D',\n",
       " 'APP_MARITAL_STATUS_N',\n",
       " 'APP_MARITAL_STATUS_W',\n",
       " 'APP_MARITAL_STATUS_C',\n",
       " 'APP_KIND_OF_PROP_HAB_SO',\n",
       " 'APP_KIND_OF_PROP_HAB_JO',\n",
       " 'APP_KIND_OF_PROP_HAB_OTHER',\n",
       " 'APP_KIND_OF_PROP_HAB_RENT',\n",
       " 'APP_KIND_OF_PROP_HAB_NPRIVAT',\n",
       " 'CLNT_JOB_POS_SPEC',\n",
       " 'CLNT_JOB_POS_MAN',\n",
       " 'CLNT_JOB_POS_TOPMAN',\n",
       " 'CLNT_JOB_POS_SELFEMPL',\n",
       " 'APP_DRIV_N',\n",
       " 'APP_DRIV_Y',\n",
       " 'APP_EDUCATION_H',\n",
       " 'APP_EDUCATION_S',\n",
       " 'APP_EDUCATION_A',\n",
       " 'APP_TRAVEL_N',\n",
       " 'APP_TRAVEL_Y',\n",
       " 'APP_CAR_N',\n",
       " 'APP_CAR_Y',\n",
       " 'CLNT_POS_TYPE_SPEC',\n",
       " 'CLNT_POS_TYPE_MAN',\n",
       " 'CLNT_POS_TYPE_TOPMAN',\n",
       " 'CLNT_POS_TYPE_SELFEMPL',\n",
       " 'CLNT_EMP_TYPE_PRIVAT',\n",
       " 'CLNT_EMP_TYPE_STATE',\n",
       " 'CLNT_EMP_TYPE_PINTER',\n",
       " 'CLNT_EMP_TYPE_IP']"
      ]
     },
     "execution_count": 11,
     "metadata": {},
     "output_type": "execute_result"
    }
   ],
   "source": [
    "list(train_data.columns)"
   ]
  },
  {
   "cell_type": "code",
   "execution_count": 12,
   "metadata": {},
   "outputs": [
    {
     "data": {
      "text/html": [
       "<div>\n",
       "<style scoped>\n",
       "    .dataframe tbody tr th:only-of-type {\n",
       "        vertical-align: middle;\n",
       "    }\n",
       "\n",
       "    .dataframe tbody tr th {\n",
       "        vertical-align: top;\n",
       "    }\n",
       "\n",
       "    .dataframe thead th {\n",
       "        text-align: right;\n",
       "    }\n",
       "</style>\n",
       "<table border=\"1\" class=\"dataframe\">\n",
       "  <thead>\n",
       "    <tr style=\"text-align: right;\">\n",
       "      <th></th>\n",
       "    </tr>\n",
       "  </thead>\n",
       "  <tbody>\n",
       "    <tr>\n",
       "      <th>0</th>\n",
       "    </tr>\n",
       "    <tr>\n",
       "      <th>1</th>\n",
       "    </tr>\n",
       "    <tr>\n",
       "      <th>2</th>\n",
       "    </tr>\n",
       "    <tr>\n",
       "      <th>3</th>\n",
       "    </tr>\n",
       "    <tr>\n",
       "      <th>4</th>\n",
       "    </tr>\n",
       "  </tbody>\n",
       "</table>\n",
       "</div>"
      ],
      "text/plain": [
       "Empty DataFrame\n",
       "Columns: []\n",
       "Index: [0, 1, 2, 3, 4]"
      ]
     },
     "execution_count": 12,
     "metadata": {},
     "output_type": "execute_result"
    }
   ],
   "source": [
    "train_data.select_dtypes(include=['object']).head(5)"
   ]
  },
  {
   "cell_type": "markdown",
   "metadata": {},
   "source": [
    "### PART 2"
   ]
  },
  {
   "cell_type": "code",
   "execution_count": 13,
   "metadata": {},
   "outputs": [],
   "source": [
    "train_data = train_data.fillna(0)"
   ]
  },
  {
   "cell_type": "code",
   "execution_count": 14,
   "metadata": {
    "scrolled": true
   },
   "outputs": [
    {
     "data": {
      "text/html": [
       "<div>\n",
       "<style scoped>\n",
       "    .dataframe tbody tr th:only-of-type {\n",
       "        vertical-align: middle;\n",
       "    }\n",
       "\n",
       "    .dataframe tbody tr th {\n",
       "        vertical-align: top;\n",
       "    }\n",
       "\n",
       "    .dataframe thead th {\n",
       "        text-align: right;\n",
       "    }\n",
       "</style>\n",
       "<table border=\"1\" class=\"dataframe\">\n",
       "  <thead>\n",
       "    <tr style=\"text-align: right;\">\n",
       "      <th></th>\n",
       "      <th>ID</th>\n",
       "      <th>CR_PROD_CNT_IL</th>\n",
       "      <th>AMOUNT_RUB_CLO_PRC</th>\n",
       "      <th>PRC_ACCEPTS_A_EMAIL_LINK</th>\n",
       "      <th>APP_REGISTR_RGN_CODE</th>\n",
       "      <th>PRC_ACCEPTS_A_POS</th>\n",
       "      <th>PRC_ACCEPTS_A_TK</th>\n",
       "      <th>TURNOVER_DYNAMIC_IL_1M</th>\n",
       "      <th>CNT_TRAN_AUT_TENDENCY1M</th>\n",
       "      <th>SUM_TRAN_AUT_TENDENCY1M</th>\n",
       "      <th>...</th>\n",
       "      <th>APP_CAR_N</th>\n",
       "      <th>APP_CAR_Y</th>\n",
       "      <th>CLNT_POS_TYPE_SPEC</th>\n",
       "      <th>CLNT_POS_TYPE_MAN</th>\n",
       "      <th>CLNT_POS_TYPE_TOPMAN</th>\n",
       "      <th>CLNT_POS_TYPE_SELFEMPL</th>\n",
       "      <th>CLNT_EMP_TYPE_PRIVAT</th>\n",
       "      <th>CLNT_EMP_TYPE_STATE</th>\n",
       "      <th>CLNT_EMP_TYPE_PINTER</th>\n",
       "      <th>CLNT_EMP_TYPE_IP</th>\n",
       "    </tr>\n",
       "  </thead>\n",
       "  <tbody>\n",
       "    <tr>\n",
       "      <th>0</th>\n",
       "      <td>479990</td>\n",
       "      <td>0</td>\n",
       "      <td>0.0</td>\n",
       "      <td>0.0</td>\n",
       "      <td>-1.0</td>\n",
       "      <td>0.0</td>\n",
       "      <td>0.0</td>\n",
       "      <td>0.0</td>\n",
       "      <td>-1.0</td>\n",
       "      <td>-1.0</td>\n",
       "      <td>...</td>\n",
       "      <td>0</td>\n",
       "      <td>0</td>\n",
       "      <td>0</td>\n",
       "      <td>0</td>\n",
       "      <td>0</td>\n",
       "      <td>0</td>\n",
       "      <td>0</td>\n",
       "      <td>0</td>\n",
       "      <td>0</td>\n",
       "      <td>0</td>\n",
       "    </tr>\n",
       "    <tr>\n",
       "      <th>1</th>\n",
       "      <td>450480</td>\n",
       "      <td>0</td>\n",
       "      <td>0.0</td>\n",
       "      <td>0.0</td>\n",
       "      <td>-1.0</td>\n",
       "      <td>0.0</td>\n",
       "      <td>0.0</td>\n",
       "      <td>0.0</td>\n",
       "      <td>-1.0</td>\n",
       "      <td>-1.0</td>\n",
       "      <td>...</td>\n",
       "      <td>0</td>\n",
       "      <td>0</td>\n",
       "      <td>0</td>\n",
       "      <td>0</td>\n",
       "      <td>0</td>\n",
       "      <td>0</td>\n",
       "      <td>0</td>\n",
       "      <td>0</td>\n",
       "      <td>0</td>\n",
       "      <td>0</td>\n",
       "    </tr>\n",
       "    <tr>\n",
       "      <th>2</th>\n",
       "      <td>473954</td>\n",
       "      <td>0</td>\n",
       "      <td>0.0</td>\n",
       "      <td>0.0</td>\n",
       "      <td>-1.0</td>\n",
       "      <td>0.0</td>\n",
       "      <td>0.0</td>\n",
       "      <td>0.0</td>\n",
       "      <td>-1.0</td>\n",
       "      <td>-1.0</td>\n",
       "      <td>...</td>\n",
       "      <td>0</td>\n",
       "      <td>0</td>\n",
       "      <td>0</td>\n",
       "      <td>0</td>\n",
       "      <td>0</td>\n",
       "      <td>0</td>\n",
       "      <td>0</td>\n",
       "      <td>0</td>\n",
       "      <td>0</td>\n",
       "      <td>0</td>\n",
       "    </tr>\n",
       "    <tr>\n",
       "      <th>3</th>\n",
       "      <td>531038</td>\n",
       "      <td>0</td>\n",
       "      <td>0.0</td>\n",
       "      <td>-1.0</td>\n",
       "      <td>-1.0</td>\n",
       "      <td>-1.0</td>\n",
       "      <td>-1.0</td>\n",
       "      <td>0.0</td>\n",
       "      <td>-1.0</td>\n",
       "      <td>-1.0</td>\n",
       "      <td>...</td>\n",
       "      <td>0</td>\n",
       "      <td>0</td>\n",
       "      <td>0</td>\n",
       "      <td>0</td>\n",
       "      <td>0</td>\n",
       "      <td>0</td>\n",
       "      <td>0</td>\n",
       "      <td>0</td>\n",
       "      <td>0</td>\n",
       "      <td>0</td>\n",
       "    </tr>\n",
       "    <tr>\n",
       "      <th>4</th>\n",
       "      <td>349303</td>\n",
       "      <td>0</td>\n",
       "      <td>0.0</td>\n",
       "      <td>0.0</td>\n",
       "      <td>-1.0</td>\n",
       "      <td>0.0</td>\n",
       "      <td>0.0</td>\n",
       "      <td>0.0</td>\n",
       "      <td>-1.0</td>\n",
       "      <td>-1.0</td>\n",
       "      <td>...</td>\n",
       "      <td>0</td>\n",
       "      <td>0</td>\n",
       "      <td>0</td>\n",
       "      <td>0</td>\n",
       "      <td>0</td>\n",
       "      <td>0</td>\n",
       "      <td>0</td>\n",
       "      <td>0</td>\n",
       "      <td>0</td>\n",
       "      <td>0</td>\n",
       "    </tr>\n",
       "  </tbody>\n",
       "</table>\n",
       "<p>5 rows × 145 columns</p>\n",
       "</div>"
      ],
      "text/plain": [
       "       ID  CR_PROD_CNT_IL  AMOUNT_RUB_CLO_PRC  PRC_ACCEPTS_A_EMAIL_LINK  \\\n",
       "0  479990               0                 0.0                       0.0   \n",
       "1  450480               0                 0.0                       0.0   \n",
       "2  473954               0                 0.0                       0.0   \n",
       "3  531038               0                 0.0                      -1.0   \n",
       "4  349303               0                 0.0                       0.0   \n",
       "\n",
       "   APP_REGISTR_RGN_CODE  PRC_ACCEPTS_A_POS  PRC_ACCEPTS_A_TK  \\\n",
       "0                  -1.0                0.0               0.0   \n",
       "1                  -1.0                0.0               0.0   \n",
       "2                  -1.0                0.0               0.0   \n",
       "3                  -1.0               -1.0              -1.0   \n",
       "4                  -1.0                0.0               0.0   \n",
       "\n",
       "   TURNOVER_DYNAMIC_IL_1M  CNT_TRAN_AUT_TENDENCY1M  SUM_TRAN_AUT_TENDENCY1M  \\\n",
       "0                     0.0                     -1.0                     -1.0   \n",
       "1                     0.0                     -1.0                     -1.0   \n",
       "2                     0.0                     -1.0                     -1.0   \n",
       "3                     0.0                     -1.0                     -1.0   \n",
       "4                     0.0                     -1.0                     -1.0   \n",
       "\n",
       "         ...         APP_CAR_N  APP_CAR_Y  CLNT_POS_TYPE_SPEC  \\\n",
       "0        ...                 0          0                   0   \n",
       "1        ...                 0          0                   0   \n",
       "2        ...                 0          0                   0   \n",
       "3        ...                 0          0                   0   \n",
       "4        ...                 0          0                   0   \n",
       "\n",
       "   CLNT_POS_TYPE_MAN  CLNT_POS_TYPE_TOPMAN  CLNT_POS_TYPE_SELFEMPL  \\\n",
       "0                  0                     0                       0   \n",
       "1                  0                     0                       0   \n",
       "2                  0                     0                       0   \n",
       "3                  0                     0                       0   \n",
       "4                  0                     0                       0   \n",
       "\n",
       "   CLNT_EMP_TYPE_PRIVAT  CLNT_EMP_TYPE_STATE  CLNT_EMP_TYPE_PINTER  \\\n",
       "0                     0                    0                     0   \n",
       "1                     0                    0                     0   \n",
       "2                     0                    0                     0   \n",
       "3                     0                    0                     0   \n",
       "4                     0                    0                     0   \n",
       "\n",
       "   CLNT_EMP_TYPE_IP  \n",
       "0                 0  \n",
       "1                 0  \n",
       "2                 0  \n",
       "3                 0  \n",
       "4                 0  \n",
       "\n",
       "[5 rows x 145 columns]"
      ]
     },
     "execution_count": 14,
     "metadata": {},
     "output_type": "execute_result"
    }
   ],
   "source": [
    "train_data.head()"
   ]
  },
  {
   "cell_type": "markdown",
   "metadata": {},
   "source": [
    "## INITIAL FIT"
   ]
  },
  {
   "cell_type": "code",
   "execution_count": 15,
   "metadata": {},
   "outputs": [],
   "source": [
    "from sklearn.model_selection import train_test_split"
   ]
  },
  {
   "cell_type": "code",
   "execution_count": 16,
   "metadata": {},
   "outputs": [],
   "source": [
    "X = train_data.drop(['TARGET','ID'], axis=1)\n",
    "y = train_data['TARGET']\n",
    "\n",
    "X_train, X_valid, y_train, y_valid = train_test_split(X, y, test_size = 0.33, random_state = 42)"
   ]
  },
  {
   "cell_type": "code",
   "execution_count": 17,
   "metadata": {},
   "outputs": [
    {
     "name": "stdout",
     "output_type": "stream",
     "text": [
      "train: 214911\n",
      "valid: 105853\n"
     ]
    }
   ],
   "source": [
    "print('train: {}'.format(len(X_train)))\n",
    "print('valid: {}'.format(len(X_valid)))"
   ]
  },
  {
   "cell_type": "code",
   "execution_count": 18,
   "metadata": {},
   "outputs": [],
   "source": [
    "import lightgbm as lgb"
   ]
  },
  {
   "cell_type": "code",
   "execution_count": 29,
   "metadata": {},
   "outputs": [],
   "source": [
    "params = {\n",
    "    'boosting_type': 'gbdt',\n",
    "    'objective': 'binary',\n",
    "    'metric': 'auc',\n",
    "    'num_leaves': 31,\n",
    "    'learning_rate': 0.01,\n",
    "    'feature_fraction': 0.8,\n",
    "    'bagging_fraction': 0.8,\n",
    "    'bagging_freq': 5,\n",
    "    'verbose': 0\n",
    "}"
   ]
  },
  {
   "cell_type": "code",
   "execution_count": 30,
   "metadata": {},
   "outputs": [],
   "source": [
    "lgb_train = lgb.Dataset(X_train, y_train)\n",
    "lgb_eval = lgb.Dataset(X_valid, y_valid, reference=lgb_train)"
   ]
  },
  {
   "cell_type": "code",
   "execution_count": 32,
   "metadata": {},
   "outputs": [
    {
     "name": "stdout",
     "output_type": "stream",
     "text": [
      "[1]\tvalid_0's auc: 0.727864\n",
      "Training until validation scores don't improve for 5 rounds.\n",
      "[2]\tvalid_0's auc: 0.739785\n",
      "[3]\tvalid_0's auc: 0.793676\n",
      "[4]\tvalid_0's auc: 0.80251\n",
      "[5]\tvalid_0's auc: 0.804796\n",
      "[6]\tvalid_0's auc: 0.807911\n",
      "[7]\tvalid_0's auc: 0.808503\n",
      "[8]\tvalid_0's auc: 0.809155\n",
      "[9]\tvalid_0's auc: 0.811047\n",
      "[10]\tvalid_0's auc: 0.811133\n",
      "[11]\tvalid_0's auc: 0.811502\n",
      "[12]\tvalid_0's auc: 0.811174\n",
      "[13]\tvalid_0's auc: 0.810787\n",
      "[14]\tvalid_0's auc: 0.811046\n",
      "[15]\tvalid_0's auc: 0.812711\n",
      "[16]\tvalid_0's auc: 0.812839\n",
      "[17]\tvalid_0's auc: 0.813585\n",
      "[18]\tvalid_0's auc: 0.813817\n",
      "[19]\tvalid_0's auc: 0.813869\n",
      "[20]\tvalid_0's auc: 0.814026\n",
      "Did not meet early stopping. Best iteration is:\n",
      "[20]\tvalid_0's auc: 0.814026\n"
     ]
    }
   ],
   "source": [
    "gbm = lgb.train(params,\n",
    "                lgb_train,\n",
    "                num_boost_round=20,\n",
    "                valid_sets=lgb_eval,\n",
    "                early_stopping_rounds=5)"
   ]
  },
  {
   "cell_type": "code",
   "execution_count": 33,
   "metadata": {},
   "outputs": [],
   "source": [
    "y_pred = gbm.predict(X_valid, num_iteration=gbm.best_iteration)"
   ]
  },
  {
   "cell_type": "code",
   "execution_count": 34,
   "metadata": {},
   "outputs": [
    {
     "data": {
      "text/plain": [
       "array([ 0,  3, 14,  0,  2,  0,  0,  0,  0,  2,  0,  0,  0,  0,  3,  0,  0,\n",
       "        0,  0, 97,  0,  0,  1,  0,  0,  0,  0,  0,  0,  0,  1,  0,  0,  7,\n",
       "       43, 13,  3,  0,  0,  0,  0,  0,  3,  1,  0,  0,  0,  0,  0,  2, 93,\n",
       "       36,  0, 11,  0, 25,  1, 17,  4,  3,  0,  2, 15,  0,  2,  0,  0,  0,\n",
       "        1,  0, 55, 32,  1,  0,  6,  0,  2, 23,  0,  1,  0, 10,  0, 19,  0,\n",
       "       11,  0,  0,  0,  0,  0,  1,  0,  0,  1, 32,  0,  0,  1,  0,  0,  0,\n",
       "        0,  0,  0,  0,  0,  0,  0,  0,  0,  0,  0,  0,  0,  0,  0,  0,  0,\n",
       "        0,  0,  0,  0,  0,  0,  0,  0,  0,  0,  0,  0,  0,  0,  0,  0,  0,\n",
       "        0,  0,  0,  0,  0,  0,  0])"
      ]
     },
     "execution_count": 34,
     "metadata": {},
     "output_type": "execute_result"
    }
   ],
   "source": [
    "gbm.feature_importance()"
   ]
  },
  {
   "cell_type": "code",
   "execution_count": 97,
   "metadata": {},
   "outputs": [
    {
     "data": {
      "text/html": [
       "<div>\n",
       "<style scoped>\n",
       "    .dataframe tbody tr th:only-of-type {\n",
       "        vertical-align: middle;\n",
       "    }\n",
       "\n",
       "    .dataframe tbody tr th {\n",
       "        vertical-align: top;\n",
       "    }\n",
       "\n",
       "    .dataframe thead th {\n",
       "        text-align: right;\n",
       "    }\n",
       "</style>\n",
       "<table border=\"1\" class=\"dataframe\">\n",
       "  <thead>\n",
       "    <tr style=\"text-align: right;\">\n",
       "      <th></th>\n",
       "      <th>Value</th>\n",
       "      <th>Feature</th>\n",
       "    </tr>\n",
       "  </thead>\n",
       "  <tbody>\n",
       "    <tr>\n",
       "      <th>142</th>\n",
       "      <td>97</td>\n",
       "      <td>CR_PROD_CNT_VCU</td>\n",
       "    </tr>\n",
       "    <tr>\n",
       "      <th>141</th>\n",
       "      <td>93</td>\n",
       "      <td>CNT_TRAN_CLO_TENDENCY3M</td>\n",
       "    </tr>\n",
       "    <tr>\n",
       "      <th>140</th>\n",
       "      <td>55</td>\n",
       "      <td>DEAL_YWZ_IR_MAX</td>\n",
       "    </tr>\n",
       "    <tr>\n",
       "      <th>139</th>\n",
       "      <td>43</td>\n",
       "      <td>TRANS_COUNT_ATM_PRC</td>\n",
       "    </tr>\n",
       "    <tr>\n",
       "      <th>138</th>\n",
       "      <td>36</td>\n",
       "      <td>REST_DYNAMIC_CUR_1M</td>\n",
       "    </tr>\n",
       "    <tr>\n",
       "      <th>136</th>\n",
       "      <td>32</td>\n",
       "      <td>LDEAL_ACT_DAYS_PCT_TR3</td>\n",
       "    </tr>\n",
       "    <tr>\n",
       "      <th>137</th>\n",
       "      <td>32</td>\n",
       "      <td>SUM_TRAN_ATM_TENDENCY1M</td>\n",
       "    </tr>\n",
       "    <tr>\n",
       "      <th>135</th>\n",
       "      <td>25</td>\n",
       "      <td>LDEAL_GRACE_DAYS_PCT_MED</td>\n",
       "    </tr>\n",
       "    <tr>\n",
       "      <th>134</th>\n",
       "      <td>23</td>\n",
       "      <td>LDEAL_YQZ_PC</td>\n",
       "    </tr>\n",
       "    <tr>\n",
       "      <th>133</th>\n",
       "      <td>19</td>\n",
       "      <td>CLNT_SALARY_VALUE</td>\n",
       "    </tr>\n",
       "    <tr>\n",
       "      <th>132</th>\n",
       "      <td>17</td>\n",
       "      <td>CNT_TRAN_SUP_TENDENCY3M</td>\n",
       "    </tr>\n",
       "    <tr>\n",
       "      <th>131</th>\n",
       "      <td>15</td>\n",
       "      <td>CNT_TRAN_ATM_TENDENCY3M</td>\n",
       "    </tr>\n",
       "    <tr>\n",
       "      <th>130</th>\n",
       "      <td>14</td>\n",
       "      <td>AMOUNT_RUB_CLO_PRC</td>\n",
       "    </tr>\n",
       "    <tr>\n",
       "      <th>129</th>\n",
       "      <td>13</td>\n",
       "      <td>AMOUNT_RUB_ATM_PRC</td>\n",
       "    </tr>\n",
       "    <tr>\n",
       "      <th>128</th>\n",
       "      <td>11</td>\n",
       "      <td>MED_DEBT_PRC_YQZ</td>\n",
       "    </tr>\n",
       "    <tr>\n",
       "      <th>127</th>\n",
       "      <td>11</td>\n",
       "      <td>LDEAL_TENOR_MIN</td>\n",
       "    </tr>\n",
       "    <tr>\n",
       "      <th>126</th>\n",
       "      <td>10</td>\n",
       "      <td>LDEAL_DELINQ_PER_MAXYQZ</td>\n",
       "    </tr>\n",
       "    <tr>\n",
       "      <th>125</th>\n",
       "      <td>7</td>\n",
       "      <td>TURNOVER_CC</td>\n",
       "    </tr>\n",
       "    <tr>\n",
       "      <th>124</th>\n",
       "      <td>6</td>\n",
       "      <td>DEAL_GRACE_DAYS_ACC_AVG</td>\n",
       "    </tr>\n",
       "    <tr>\n",
       "      <th>123</th>\n",
       "      <td>4</td>\n",
       "      <td>TURNOVER_DYNAMIC_CUR_1M</td>\n",
       "    </tr>\n",
       "    <tr>\n",
       "      <th>122</th>\n",
       "      <td>3</td>\n",
       "      <td>TURNOVER_PAYM</td>\n",
       "    </tr>\n",
       "    <tr>\n",
       "      <th>121</th>\n",
       "      <td>3</td>\n",
       "      <td>REST_DYNAMIC_PAYM_3M</td>\n",
       "    </tr>\n",
       "    <tr>\n",
       "      <th>120</th>\n",
       "      <td>3</td>\n",
       "      <td>REST_DYNAMIC_IL_1M</td>\n",
       "    </tr>\n",
       "    <tr>\n",
       "      <th>119</th>\n",
       "      <td>3</td>\n",
       "      <td>PRC_ACCEPTS_A_MTP</td>\n",
       "    </tr>\n",
       "    <tr>\n",
       "      <th>118</th>\n",
       "      <td>3</td>\n",
       "      <td>CR_PROD_CNT_IL</td>\n",
       "    </tr>\n",
       "    <tr>\n",
       "      <th>116</th>\n",
       "      <td>2</td>\n",
       "      <td>SUM_TRAN_AUT_TENDENCY1M</td>\n",
       "    </tr>\n",
       "    <tr>\n",
       "      <th>117</th>\n",
       "      <td>2</td>\n",
       "      <td>TURNOVER_DYNAMIC_IL_3M</td>\n",
       "    </tr>\n",
       "    <tr>\n",
       "      <th>115</th>\n",
       "      <td>2</td>\n",
       "      <td>REST_DYNAMIC_IL_3M</td>\n",
       "    </tr>\n",
       "    <tr>\n",
       "      <th>114</th>\n",
       "      <td>2</td>\n",
       "      <td>MAX_PCLOSE_DATE</td>\n",
       "    </tr>\n",
       "    <tr>\n",
       "      <th>113</th>\n",
       "      <td>2</td>\n",
       "      <td>DEAL_YQZ_IR_MIN</td>\n",
       "    </tr>\n",
       "    <tr>\n",
       "      <th>112</th>\n",
       "      <td>2</td>\n",
       "      <td>APP_REGISTR_RGN_CODE</td>\n",
       "    </tr>\n",
       "    <tr>\n",
       "      <th>103</th>\n",
       "      <td>1</td>\n",
       "      <td>AVG_PCT_DEBT_TO_DEAL_AMT</td>\n",
       "    </tr>\n",
       "    <tr>\n",
       "      <th>104</th>\n",
       "      <td>1</td>\n",
       "      <td>CR_PROD_CNT_TOVR</td>\n",
       "    </tr>\n",
       "    <tr>\n",
       "      <th>106</th>\n",
       "      <td>1</td>\n",
       "      <td>DEAL_YWZ_IR_MIN</td>\n",
       "    </tr>\n",
       "    <tr>\n",
       "      <th>102</th>\n",
       "      <td>1</td>\n",
       "      <td>AMOUNT_RUB_NAS_PRC</td>\n",
       "    </tr>\n",
       "    <tr>\n",
       "      <th>105</th>\n",
       "      <td>1</td>\n",
       "      <td>DEAL_GRACE_DAYS_ACC_MAX</td>\n",
       "    </tr>\n",
       "    <tr>\n",
       "      <th>108</th>\n",
       "      <td>1</td>\n",
       "      <td>REST_DYNAMIC_CUR_3M</td>\n",
       "    </tr>\n",
       "    <tr>\n",
       "      <th>107</th>\n",
       "      <td>1</td>\n",
       "      <td>MED_DEBT_PRC_YWZ</td>\n",
       "    </tr>\n",
       "    <tr>\n",
       "      <th>109</th>\n",
       "      <td>1</td>\n",
       "      <td>REST_DYNAMIC_PAYM_1M</td>\n",
       "    </tr>\n",
       "    <tr>\n",
       "      <th>110</th>\n",
       "      <td>1</td>\n",
       "      <td>SUM_TRAN_CLO_TENDENCY3M</td>\n",
       "    </tr>\n",
       "    <tr>\n",
       "      <th>111</th>\n",
       "      <td>1</td>\n",
       "      <td>TURNOVER_DYNAMIC_CC_3M</td>\n",
       "    </tr>\n",
       "  </tbody>\n",
       "</table>\n",
       "</div>"
      ],
      "text/plain": [
       "     Value                   Feature\n",
       "142     97           CR_PROD_CNT_VCU\n",
       "141     93   CNT_TRAN_CLO_TENDENCY3M\n",
       "140     55           DEAL_YWZ_IR_MAX\n",
       "139     43       TRANS_COUNT_ATM_PRC\n",
       "138     36       REST_DYNAMIC_CUR_1M\n",
       "136     32    LDEAL_ACT_DAYS_PCT_TR3\n",
       "137     32   SUM_TRAN_ATM_TENDENCY1M\n",
       "135     25  LDEAL_GRACE_DAYS_PCT_MED\n",
       "134     23              LDEAL_YQZ_PC\n",
       "133     19         CLNT_SALARY_VALUE\n",
       "132     17   CNT_TRAN_SUP_TENDENCY3M\n",
       "131     15   CNT_TRAN_ATM_TENDENCY3M\n",
       "130     14        AMOUNT_RUB_CLO_PRC\n",
       "129     13        AMOUNT_RUB_ATM_PRC\n",
       "128     11          MED_DEBT_PRC_YQZ\n",
       "127     11           LDEAL_TENOR_MIN\n",
       "126     10   LDEAL_DELINQ_PER_MAXYQZ\n",
       "125      7               TURNOVER_CC\n",
       "124      6   DEAL_GRACE_DAYS_ACC_AVG\n",
       "123      4   TURNOVER_DYNAMIC_CUR_1M\n",
       "122      3             TURNOVER_PAYM\n",
       "121      3      REST_DYNAMIC_PAYM_3M\n",
       "120      3        REST_DYNAMIC_IL_1M\n",
       "119      3         PRC_ACCEPTS_A_MTP\n",
       "118      3            CR_PROD_CNT_IL\n",
       "116      2   SUM_TRAN_AUT_TENDENCY1M\n",
       "117      2    TURNOVER_DYNAMIC_IL_3M\n",
       "115      2        REST_DYNAMIC_IL_3M\n",
       "114      2           MAX_PCLOSE_DATE\n",
       "113      2           DEAL_YQZ_IR_MIN\n",
       "112      2      APP_REGISTR_RGN_CODE\n",
       "103      1  AVG_PCT_DEBT_TO_DEAL_AMT\n",
       "104      1          CR_PROD_CNT_TOVR\n",
       "106      1           DEAL_YWZ_IR_MIN\n",
       "102      1        AMOUNT_RUB_NAS_PRC\n",
       "105      1   DEAL_GRACE_DAYS_ACC_MAX\n",
       "108      1       REST_DYNAMIC_CUR_3M\n",
       "107      1          MED_DEBT_PRC_YWZ\n",
       "109      1      REST_DYNAMIC_PAYM_1M\n",
       "110      1   SUM_TRAN_CLO_TENDENCY3M\n",
       "111      1    TURNOVER_DYNAMIC_CC_3M"
      ]
     },
     "execution_count": 97,
     "metadata": {},
     "output_type": "execute_result"
    }
   ],
   "source": [
    "kek = feature_imp.sort_values(by='Value', ascending=False)\n",
    "kek[kek['Value'] > 0]"
   ]
  },
  {
   "cell_type": "code",
   "execution_count": 91,
   "metadata": {},
   "outputs": [
    {
     "data": {
      "image/png": "[encoded data removed]",
      "text/plain": [
       "<Figure size 1440x720 with 1 Axes>"
      ]
     },
     "metadata": {},
     "output_type": "display_data"
    },
    {
     "data": {
      "text/plain": [
       "<Figure size 432x288 with 0 Axes>"
      ]
     },
     "metadata": {},
     "output_type": "display_data"
    }
   ],
   "source": [
    "import matplotlib.pyplot as plt\n",
    "import seaborn as sns\n",
    "import warnings\n",
    "warnings.simplefilter(action='ignore', category=FutureWarning)\n",
    "\n",
    "# sorted(zip(clf.feature_importances_, X.columns), reverse=True)\n",
    "feature_imp = pd.DataFrame(sorted(zip(gbm.feature_importance() , train_data.columns)), columns=['Value','Feature'])\n",
    "\n",
    "plt.figure(figsize=(20, 10))\n",
    "sns.barplot(x=\"Value\", y=\"Feature\", data=feature_imp.sort_values(by=\"Value\", ascending=False))\n",
    "plt.title('LightGBM Features (avg over folds)')\n",
    "plt.tight_layout()\n",
    "plt.show()\n",
    "plt.savefig('lgbm_importances-01.png')"
   ]
  },
  {
   "cell_type": "code",
   "execution_count": 74,
   "metadata": {},
   "outputs": [
    {
     "data": {
      "image/png": "[encoded data removed]",
      "text/plain": [
       "<Figure size 432x288 with 1 Axes>"
      ]
     },
     "metadata": {},
     "output_type": "display_data"
    }
   ],
   "source": [
    "plt.hist(y_pred, bins='auto');"
   ]
  },
  {
   "cell_type": "code",
   "execution_count": 75,
   "metadata": {},
   "outputs": [
    {
     "data": {
      "text/plain": [
       "0.814026078915628"
      ]
     },
     "execution_count": 75,
     "metadata": {},
     "output_type": "execute_result"
    }
   ],
   "source": [
    "roc_auc_score(y_valid, y_pred)"
   ]
  },
  {
   "cell_type": "code",
   "execution_count": 54,
   "metadata": {},
   "outputs": [
    {
     "data": {
      "text/plain": [
       "0.8121776702183134"
      ]
     },
     "execution_count": 54,
     "metadata": {},
     "output_type": "execute_result"
    }
   ],
   "source": [
    "roc_auc_score(y_valid, y_pred)"
   ]
  },
  {
   "cell_type": "markdown",
   "metadata": {},
   "source": [
    "## TEST"
   ]
  },
  {
   "cell_type": "code",
   "execution_count": 27,
   "metadata": {},
   "outputs": [],
   "source": [
    "test_data = load_data(test_df)"
   ]
  },
  {
   "cell_type": "code",
   "execution_count": 28,
   "metadata": {},
   "outputs": [],
   "source": [
    "X_test = test_data.drop(['ID'], axis=1).values\n",
    "ids = test_data['ID'].values"
   ]
  },
  {
   "cell_type": "code",
   "execution_count": 29,
   "metadata": {},
   "outputs": [],
   "source": [
    "y_pred = gbm.predict(X_test, num_iteration=gbm.best_iteration)"
   ]
  },
  {
   "cell_type": "code",
   "execution_count": 30,
   "metadata": {},
   "outputs": [],
   "source": [
    "fin_df = pd.DataFrame()\n",
    "fin_df['id'] = ids\n",
    "fin_df['target'] = y_pred"
   ]
  },
  {
   "cell_type": "code",
   "execution_count": 35,
   "metadata": {},
   "outputs": [],
   "source": [
    "fin_df.to_csv('~/lab04s.csv', header=True, index=False, sep='\\t')"
   ]
  },
  {
   "cell_type": "code",
   "execution_count": null,
   "metadata": {},
   "outputs": [],
   "source": []
  },
  {
   "cell_type": "markdown",
   "metadata": {},
   "source": [
    "# PART 3"
   ]
  },
  {
   "cell_type": "code",
   "execution_count": 2,
   "metadata": {},
   "outputs": [],
   "source": [
    "import gc\n",
    "\n",
    "import pandas as pd\n",
    "import numpy as np\n",
    "import lightgbm as lgb\n",
    "import matplotlib.pyplot as plt\n",
    "\n",
    "from time import time\n",
    "from random import choice\n",
    "from scipy.stats import randint as sp_randint\n",
    "from sklearn.model_selection import StratifiedKFold\n",
    "from sklearn.metrics import roc_auc_score"
   ]
  },
  {
   "cell_type": "code",
   "execution_count": 48,
   "metadata": {},
   "outputs": [],
   "source": [
    "def load_data(tmp):\n",
    "    \n",
    "    tmp = tmp.copy()\n",
    "    \n",
    "    tmp.dropna(axis=0, subset=['TARGET'], inplace=True)\n",
    "    \n",
    "    tmp['CLNT_TRUST_RELATION'] = tmp['CLNT_TRUST_RELATION'].str.lower()\n",
    "    dict_rename_relations = {'друг': 'friend', 'мать': 'mother', 'близкий ро': 'relative', 'брат': 'brother', \n",
    "                             'отец': 'father', 'сестра': 'sister', 'дочь': 'daughter', 'сын': 'son',\n",
    "                             'дальний ро': 'relative', 'муж': 'other', 'жена': 'other', 'мама': 'mother'}\n",
    "    tmp['CLNT_TRUST_RELATION'] = tmp['CLNT_TRUST_RELATION'].replace(dict_rename_relations)\n",
    "    dict_cat_relations = {'friend': 1, 'mother': 2, 'relative': 3, 'other': 4, 'brother': 5, 'sister': 6, \n",
    "                          'father': 7, 'daughter': 8,'son': 9,'NA': 0}\n",
    "    tmp['CLNT_TRUST_RELATION_CAT'] = tmp['CLNT_TRUST_RELATION'].fillna('NA').map(dict_cat_relations)\n",
    "    \n",
    "    tmp['CLNT_TRUST_FRIEND'] = tmp['CLNT_TRUST_RELATION_CAT'].apply(lambda x: 1 if x == 1 else 0)\n",
    "    tmp['CLNT_TRUST_MOTHER'] = tmp['CLNT_TRUST_RELATION_CAT'].apply(lambda x: 1 if x == 2 else 0)\n",
    "    tmp['CLNT_TRUST_RELATIVE'] = tmp['CLNT_TRUST_RELATION_CAT'].apply(lambda x: 1 if x == 3 else 0)\n",
    "    tmp['CLNT_TRUST_OTHER'] = tmp['CLNT_TRUST_RELATION_CAT'].apply(lambda x: 1 if x == 4 else 0)\n",
    "    tmp['CLNT_TRUST_BROTHER'] = tmp['CLNT_TRUST_RELATION_CAT'].apply(lambda x: 1 if x == 5 else 0)\n",
    "    tmp['CLNT_TRUST_SISTER'] = tmp['CLNT_TRUST_RELATION_CAT'].apply(lambda x: 1 if x == 6 else 0)\n",
    "    tmp['CLNT_TRUST_FATHER'] = tmp['CLNT_TRUST_RELATION_CAT'].apply(lambda x: 1 if x == 7 else 0)\n",
    "    tmp['CLNT_TRUST_DAUGHTER'] = tmp['CLNT_TRUST_RELATION_CAT'].apply(lambda x: 1 if x == 8 else 0)\n",
    "    tmp['CLNT_TRUST_SON'] = tmp['CLNT_TRUST_RELATION_CAT'].apply(lambda x: 1 if x == 9 else 0)\n",
    "    \n",
    "    \n",
    "    \n",
    "    tmp['APP_MARITAL_STATUS'] = tmp['APP_MARITAL_STATUS'].str.lower()\n",
    "    dict_cat_mar_stat = { 'm': 1, 'v': 2, 't': 3, 'd': 4, 'n': 5, 'w': 6, 'c': 7, 'NA': 0}\n",
    "    tmp['APP_MARITAL_STATUS_CAT'] = tmp['APP_MARITAL_STATUS'].replace({' ': None}).fillna('NA').map(dict_cat_mar_stat)\n",
    "    \n",
    "    tmp['APP_MARITAL_STATUS_M'] = tmp['APP_MARITAL_STATUS_CAT'].apply(lambda x: 1 if x == 1 else 0)\n",
    "    tmp['APP_MARITAL_STATUS_V'] = tmp['APP_MARITAL_STATUS_CAT'].apply(lambda x: 1 if x == 2 else 0)\n",
    "    tmp['APP_MARITAL_STATUS_T'] = tmp['APP_MARITAL_STATUS_CAT'].apply(lambda x: 1 if x == 3 else 0)\n",
    "    tmp['APP_MARITAL_STATUS_D'] = tmp['APP_MARITAL_STATUS_CAT'].apply(lambda x: 1 if x == 4 else 0)\n",
    "    tmp['APP_MARITAL_STATUS_N'] = tmp['APP_MARITAL_STATUS_CAT'].apply(lambda x: 1 if x == 5 else 0)\n",
    "    tmp['APP_MARITAL_STATUS_W'] = tmp['APP_MARITAL_STATUS_CAT'].apply(lambda x: 1 if x == 6 else 0)\n",
    "    tmp['APP_MARITAL_STATUS_C'] = tmp['APP_MARITAL_STATUS_CAT'].apply(lambda x: 1 if x == 7 else 0)\n",
    "    \n",
    "    \n",
    "    dict_cat_prob_hab = { 'SO': 1, 'JO': 2, 'OTHER': 3, 'RENT': 4, 'NPRIVAT': 5, 'NA': 0}\n",
    "    tmp['APP_KIND_OF_PROP_HABITATION_CAT'] = tmp['APP_KIND_OF_PROP_HABITATION'].fillna('NA').map(dict_cat_prob_hab)\n",
    "    \n",
    "    tmp['APP_KIND_OF_PROP_HAB_SO'] = tmp['APP_KIND_OF_PROP_HABITATION_CAT'].apply(lambda x: 1 if x == 1 else 0)\n",
    "    tmp['APP_KIND_OF_PROP_HAB_JO'] = tmp['APP_KIND_OF_PROP_HABITATION_CAT'].apply(lambda x: 1 if x == 2 else 0)\n",
    "    tmp['APP_KIND_OF_PROP_HAB_OTHER'] = tmp['APP_KIND_OF_PROP_HABITATION_CAT'].apply(lambda x: 1 if x == 3 else 0)\n",
    "    tmp['APP_KIND_OF_PROP_HAB_RENT'] = tmp['APP_KIND_OF_PROP_HABITATION_CAT'].apply(lambda x: 1 if x == 4 else 0)\n",
    "    tmp['APP_KIND_OF_PROP_HAB_NPRIVAT'] = tmp['APP_KIND_OF_PROP_HABITATION_CAT'].apply(lambda x: 1 if x == 5 else 0)\n",
    "    \n",
    "    \n",
    "    dict_cat_pos_type = { 'SPECIALIST': 1, 'MANAGER': 2, 'TOP_MANAGER': 3, 'SELF_EMPL': 4, 'NA': 0}\n",
    "    tmp['CLNT_JOB_POSITION_TYPE_CAT'] = tmp['CLNT_JOB_POSITION_TYPE'].fillna('NA').map(dict_cat_pos_type)\n",
    "    \n",
    "    tmp['CLNT_JOB_POS_SPEC'] = tmp['CLNT_JOB_POSITION_TYPE_CAT'].apply(lambda x: 1 if x == 1 else 0)\n",
    "    tmp['CLNT_JOB_POS_MAN'] = tmp['CLNT_JOB_POSITION_TYPE_CAT'].apply(lambda x: 1 if x == 2 else 0)\n",
    "    tmp['CLNT_JOB_POS_TOPMAN'] = tmp['CLNT_JOB_POSITION_TYPE_CAT'].apply(lambda x: 1 if x == 3 else 0)\n",
    "    tmp['CLNT_JOB_POS_SELFEMPL'] = tmp['CLNT_JOB_POSITION_TYPE_CAT'].apply(lambda x: 1 if x == 4 else 0)\n",
    "    \n",
    "    dict_ny = { 'N': 0, 'Y': 1, 'NA': -1}\n",
    "    tmp['APP_DRIVING_LICENSE_CAT'] = tmp['APP_DRIVING_LICENSE'].fillna('NA').map(dict_ny)\n",
    "    \n",
    "    tmp['APP_DRIV_N'] = tmp['APP_DRIVING_LICENSE_CAT'].apply(lambda x: 1 if x == 0 else 0)\n",
    "    tmp['APP_DRIV_Y'] = tmp['APP_DRIVING_LICENSE_CAT'].apply(lambda x: 1 if x == 1 else 0)\n",
    "    \n",
    "    \n",
    "    tmp['APP_EDUCATION'] = tmp['APP_EDUCATION'].str.lower().str.strip()\n",
    "    dict_cat_edu = {'h': 1, 's': 2, 'a': 3}\n",
    "    tmp['APP_EDUCATION_CAT'] = tmp['APP_EDUCATION'].replace({'ss': 's', 'hh': 'h', 'uh': 'h', \n",
    "                                                            'hi': 'h', 'i': 'h', 'ac': 'a', 'av': 'a'}).map(dict_cat_edu).fillna(0)\n",
    "    \n",
    "    tmp['APP_EDUCATION_H'] = tmp['APP_EDUCATION_CAT'].apply(lambda x: 1 if x == 1 else 0)\n",
    "    tmp['APP_EDUCATION_S'] = tmp['APP_EDUCATION_CAT'].apply(lambda x: 1 if x == 2 else 0)\n",
    "    tmp['APP_EDUCATION_A'] = tmp['APP_EDUCATION_CAT'].apply(lambda x: 1 if x == 3 else 0)\n",
    "    \n",
    "    \n",
    "    tmp['APP_TRAVEL_PASS_CAT'] = tmp['APP_TRAVEL_PASS'].fillna('NA').map(dict_ny)\n",
    "    \n",
    "    tmp['APP_TRAVEL_N'] = tmp['APP_TRAVEL_PASS_CAT'].apply(lambda x: 1 if x == 0 else 0)\n",
    "    tmp['APP_TRAVEL_Y'] = tmp['APP_TRAVEL_PASS_CAT'].apply(lambda x: 1 if x == 1 else 0)\n",
    "    \n",
    "    \n",
    "    tmp['APP_CAR_CAT'] = tmp['APP_CAR'].fillna('NA').map(dict_ny) \n",
    "    \n",
    "    tmp['APP_CAR_N'] = tmp['APP_CAR_CAT'].apply(lambda x: 1 if x == 0 else 0)\n",
    "    tmp['APP_CAR_Y'] = tmp['APP_CAR_CAT'].apply(lambda x: 1 if x == 1 else 0)\n",
    "    \n",
    "    \n",
    "    tmp['APP_POSITION_TYPE_CAT'] = tmp['APP_POSITION_TYPE'].fillna('NA').map(dict_cat_pos_type)\n",
    "    \n",
    "    tmp['CLNT_POS_TYPE_SPEC'] = tmp['APP_POSITION_TYPE_CAT'].apply(lambda x: 1 if x == 1 else 0)\n",
    "    tmp['CLNT_POS_TYPE_MAN'] = tmp['APP_POSITION_TYPE_CAT'].apply(lambda x: 1 if x == 2 else 0)\n",
    "    tmp['CLNT_POS_TYPE_TOPMAN'] = tmp['APP_POSITION_TYPE_CAT'].apply(lambda x: 1 if x == 3 else 0)\n",
    "    tmp['CLNT_POS_TYPE_SELFEMPL'] = tmp['APP_POSITION_TYPE_CAT'].apply(lambda x: 1 if x == 4 else 0)\n",
    "    \n",
    "    dict_emp_type = {'PRIVATE': 1, 'STATE': 2, 'INTER': 3, 'IP': 4, 'NA': 0}\n",
    "    tmp['APP_EMP_TYPE_CAT'] = tmp['APP_EMP_TYPE'].fillna('NA').map(dict_emp_type)\n",
    "    \n",
    "    tmp['CLNT_EMP_TYPE_PRIVAT'] = tmp['APP_EMP_TYPE_CAT'].apply(lambda x: 1 if x == 1 else 0)\n",
    "    tmp['CLNT_EMP_TYPE_STATE'] = tmp['APP_EMP_TYPE_CAT'].apply(lambda x: 1 if x == 2 else 0)\n",
    "    tmp['CLNT_EMP_TYPE_PINTER'] = tmp['APP_EMP_TYPE_CAT'].apply(lambda x: 1 if x == 3 else 0)\n",
    "    tmp['CLNT_EMP_TYPE_IP'] = tmp['APP_EMP_TYPE_CAT'].apply(lambda x: 1 if x == 4 else 0)\n",
    "    \n",
    "    \n",
    "    dict_pack = {'102': 102, 'K01': 100, 'O01': 200, '105': 105, '107': 107, '103': 103, '104': 104, '301': 301,\n",
    "                '101': 101, '109': 109, 'M01': 300, '108': 108, 'NA': 0}\n",
    "\n",
    "    tmp['PACK_CAT'] = tmp['PACK'].fillna('NA').map(dict_pack)\n",
    "\n",
    "    col_to_del = ['CLNT_TRUST_RELATION', 'APP_MARITAL_STATUS', 'APP_KIND_OF_PROP_HABITATION', 'CLNT_JOB_POSITION',\n",
    "              'CLNT_JOB_POSITION_TYPE', 'APP_DRIVING_LICENSE', 'APP_EDUCATION', 'APP_TRAVEL_PASS',\n",
    "              'APP_CAR', 'APP_POSITION_TYPE', 'APP_EMP_TYPE', 'APP_COMP_TYPE','PACK', 'Unnamed: 0',\n",
    "                 \n",
    "                 'CLNT_TRUST_RELATION_CAT', 'APP_MARITAL_STATUS_CAT', 'APP_KIND_OF_PROP_HABITATION_CAT', \n",
    "                 'CLNT_JOB_POSITION_TYPE_CAT', 'APP_DRIVING_LICENSE_CAT', 'APP_EDUCATION_CAT', \n",
    "               \n",
    "                  'APP_TRAVEL_PASS_CAT', 'APP_CAR_CAT', 'APP_POSITION_TYPE_CAT', \n",
    "                  'APP_EMP_TYPE_CAT', 'PACK_CAT'\n",
    "                 ]\n",
    "    \n",
    "    \n",
    "    tmp.drop(col_to_del, axis=1, inplace=True)\n",
    "    \n",
    "    tmp = tmp.fillna(-1)\n",
    "    \n",
    "    return tmp"
   ]
  },
  {
   "cell_type": "code",
   "execution_count": 44,
   "metadata": {},
   "outputs": [],
   "source": [
    "file_path = r'/data/share/lab04data'\n",
    "\n",
    "train_df = pd.read_csv(file_path + '/lab04_train.csv', engine='python', encoding='utf8', na_values=['None', 'nan'])\n",
    "test_df = pd.read_csv(file_path + '/lab04_test.csv', engine='python', encoding='utf8', na_values=['None', 'nan'])"
   ]
  },
  {
   "cell_type": "code",
   "execution_count": 49,
   "metadata": {},
   "outputs": [
    {
     "ename": "KeyError",
     "evalue": "['TARGET']",
     "output_type": "error",
     "traceback": [
      "\u001b[0;31m---------------------------------------------------------------------------\u001b[0m",
      "\u001b[0;31mKeyError\u001b[0m                                  Traceback (most recent call last)",
      "\u001b[0;32m<ipython-input-49-1b5fde893e4f>\u001b[0m in \u001b[0;36m<module>\u001b[0;34m()\u001b[0m\n\u001b[1;32m      1\u001b[0m \u001b[0mtrain_data\u001b[0m \u001b[0;34m=\u001b[0m \u001b[0mload_data\u001b[0m\u001b[0;34m(\u001b[0m\u001b[0mtrain_df\u001b[0m\u001b[0;34m)\u001b[0m\u001b[0;34m\u001b[0m\u001b[0m\n\u001b[0;32m----> 2\u001b[0;31m \u001b[0mtest_data\u001b[0m \u001b[0;34m=\u001b[0m \u001b[0mload_data\u001b[0m\u001b[0;34m(\u001b[0m\u001b[0mtest_df\u001b[0m\u001b[0;34m)\u001b[0m\u001b[0;34m\u001b[0m\u001b[0m\n\u001b[0m",
      "\u001b[0;32m<ipython-input-48-d2322501a5e2>\u001b[0m in \u001b[0;36mload_data\u001b[0;34m(tmp)\u001b[0m\n\u001b[1;32m      3\u001b[0m     \u001b[0mtmp\u001b[0m \u001b[0;34m=\u001b[0m \u001b[0mtmp\u001b[0m\u001b[0;34m.\u001b[0m\u001b[0mcopy\u001b[0m\u001b[0;34m(\u001b[0m\u001b[0;34m)\u001b[0m\u001b[0;34m\u001b[0m\u001b[0m\n\u001b[1;32m      4\u001b[0m \u001b[0;34m\u001b[0m\u001b[0m\n\u001b[0;32m----> 5\u001b[0;31m     \u001b[0mtmp\u001b[0m\u001b[0;34m.\u001b[0m\u001b[0mdropna\u001b[0m\u001b[0;34m(\u001b[0m\u001b[0maxis\u001b[0m\u001b[0;34m=\u001b[0m\u001b[0;36m0\u001b[0m\u001b[0;34m,\u001b[0m \u001b[0msubset\u001b[0m\u001b[0;34m=\u001b[0m\u001b[0;34m[\u001b[0m\u001b[0;34m'TARGET'\u001b[0m\u001b[0;34m]\u001b[0m\u001b[0;34m,\u001b[0m \u001b[0minplace\u001b[0m\u001b[0;34m=\u001b[0m\u001b[0;32mTrue\u001b[0m\u001b[0;34m)\u001b[0m\u001b[0;34m\u001b[0m\u001b[0m\n\u001b[0m\u001b[1;32m      6\u001b[0m \u001b[0;34m\u001b[0m\u001b[0m\n\u001b[1;32m      7\u001b[0m     \u001b[0mtmp\u001b[0m\u001b[0;34m[\u001b[0m\u001b[0;34m'CLNT_TRUST_RELATION'\u001b[0m\u001b[0;34m]\u001b[0m \u001b[0;34m=\u001b[0m \u001b[0mtmp\u001b[0m\u001b[0;34m[\u001b[0m\u001b[0;34m'CLNT_TRUST_RELATION'\u001b[0m\u001b[0;34m]\u001b[0m\u001b[0;34m.\u001b[0m\u001b[0mstr\u001b[0m\u001b[0;34m.\u001b[0m\u001b[0mlower\u001b[0m\u001b[0;34m(\u001b[0m\u001b[0;34m)\u001b[0m\u001b[0;34m\u001b[0m\u001b[0m\n",
      "\u001b[0;32m/opt/anaconda/envs/bd9/lib/python3.6/site-packages/pandas/core/frame.py\u001b[0m in \u001b[0;36mdropna\u001b[0;34m(self, axis, how, thresh, subset, inplace)\u001b[0m\n\u001b[1;32m   4280\u001b[0m                 \u001b[0mcheck\u001b[0m \u001b[0;34m=\u001b[0m \u001b[0mindices\u001b[0m \u001b[0;34m==\u001b[0m \u001b[0;34m-\u001b[0m\u001b[0;36m1\u001b[0m\u001b[0;34m\u001b[0m\u001b[0m\n\u001b[1;32m   4281\u001b[0m                 \u001b[0;32mif\u001b[0m \u001b[0mcheck\u001b[0m\u001b[0;34m.\u001b[0m\u001b[0many\u001b[0m\u001b[0;34m(\u001b[0m\u001b[0;34m)\u001b[0m\u001b[0;34m:\u001b[0m\u001b[0;34m\u001b[0m\u001b[0m\n\u001b[0;32m-> 4282\u001b[0;31m                     \u001b[0;32mraise\u001b[0m \u001b[0mKeyError\u001b[0m\u001b[0;34m(\u001b[0m\u001b[0mlist\u001b[0m\u001b[0;34m(\u001b[0m\u001b[0mnp\u001b[0m\u001b[0;34m.\u001b[0m\u001b[0mcompress\u001b[0m\u001b[0;34m(\u001b[0m\u001b[0mcheck\u001b[0m\u001b[0;34m,\u001b[0m \u001b[0msubset\u001b[0m\u001b[0;34m)\u001b[0m\u001b[0;34m)\u001b[0m\u001b[0;34m)\u001b[0m\u001b[0;34m\u001b[0m\u001b[0m\n\u001b[0m\u001b[1;32m   4283\u001b[0m                 \u001b[0magg_obj\u001b[0m \u001b[0;34m=\u001b[0m \u001b[0mself\u001b[0m\u001b[0;34m.\u001b[0m\u001b[0mtake\u001b[0m\u001b[0;34m(\u001b[0m\u001b[0mindices\u001b[0m\u001b[0;34m,\u001b[0m \u001b[0maxis\u001b[0m\u001b[0;34m=\u001b[0m\u001b[0magg_axis\u001b[0m\u001b[0;34m)\u001b[0m\u001b[0;34m\u001b[0m\u001b[0m\n\u001b[1;32m   4284\u001b[0m \u001b[0;34m\u001b[0m\u001b[0m\n",
      "\u001b[0;31mKeyError\u001b[0m: ['TARGET']"
     ]
    }
   ],
   "source": [
    "train_data = load_data(train_df)\n",
    "test_data = load_data(test_df)"
   ]
  },
  {
   "cell_type": "code",
   "execution_count": 15,
   "metadata": {},
   "outputs": [],
   "source": [
    "#train_data = train_df.drop(col_to_del, axis=1)\n",
    "#test_data = test_df.drop(col_to_del, axis=1)"
   ]
  },
  {
   "cell_type": "code",
   "execution_count": 17,
   "metadata": {},
   "outputs": [],
   "source": [
    "#train_data = train_data.fillna(-1)\n",
    "#test_data = test_data.fillna(-1)"
   ]
  },
  {
   "cell_type": "code",
   "execution_count": null,
   "metadata": {},
   "outputs": [],
   "source": [
    "train_data['REST_AVG_MULT_CUR_PAYM'] = train_data['REST_AVG_CUR'] * train_data['REST_AVG_PAYM']\n",
    "train_data['REST_AVG_SUM_CUR_PAYM'] = train_data['REST_AVG_CUR'] + train_data['REST_AVG_PAYM']\n",
    "train_data['REST_AVG_DEF_CUR_PAYM'] = train_data['REST_AVG_CUR'] - train_data['REST_AVG_PAYM']"
   ]
  },
  {
   "cell_type": "code",
   "execution_count": null,
   "metadata": {},
   "outputs": [],
   "source": [
    "test_data['REST_AVG_MULT_CUR_PAYM'] = test_data['REST_AVG_CUR'] * test_data['REST_AVG_PAYM']\n",
    "test_data['REST_AVG_SUM_CUR_PAYM'] = test_data['REST_AVG_CUR'] + test_data['REST_AVG_PAYM']\n",
    "test_data['REST_AVG_DEF_CUR_PAYM'] = test_data['REST_AVG_CUR'] - test_data['REST_AVG_PAYM']"
   ]
  },
  {
   "cell_type": "code",
   "execution_count": null,
   "metadata": {},
   "outputs": [],
   "source": [
    "X = train_data.drop(['TARGET','ID'], axis=1)\n",
    "y = train_data['TARGET']"
   ]
  },
  {
   "cell_type": "code",
   "execution_count": null,
   "metadata": {},
   "outputs": [],
   "source": [
    "train_data['TARGET'].value_counts()"
   ]
  },
  {
   "cell_type": "code",
   "execution_count": 22,
   "metadata": {},
   "outputs": [],
   "source": [
    "n_iterations = 7 # number of iterations for random search\n",
    "top_n = 5 # select top n parameter sets"
   ]
  },
  {
   "cell_type": "code",
   "execution_count": 23,
   "metadata": {},
   "outputs": [],
   "source": [
    "roc_auc_mean = []\n",
    "roc_auc_std = []\n",
    "dict_list = []"
   ]
  },
  {
   "cell_type": "code",
   "execution_count": 24,
   "metadata": {},
   "outputs": [],
   "source": [
    "param_dist = {'num_leaves': choice([27, 31, 61, 81, 127, 197, 231, 275, 302]),\n",
    "              'bagging_fraction': choice([0.5, 0.7, 0.8, 0.9]),\n",
    "              'learning_rate': choice([0.001, 0.005, 0.01, 0.05, 0.1, 0.3, 0.5]),\n",
    "              'min_data': choice([300, 400, 450, 500, 550, 650]),\n",
    "              'is_unbalance': choice([True, False]),\n",
    "              'max_bin': choice([3, 5, 10, 12, 18, 20, 22]),\n",
    "              'boosting_type' : choice(['gbdt', 'dart']),\n",
    "              'bagging_freq': choice([3, 9, 11, 15, 17, 23, 31]),\n",
    "              'max_depth': choice([3, 4, 5, 6, 7, 9, 11]),       \n",
    "              'feature_fraction': choice([0.5, 0.7, 0.8, 0.9]),\n",
    "              'lambda_l1': choice([0, 10, 20, 30, 40]),\n",
    "              'objective': 'binary', \n",
    "              'metric': 'auc'} "
   ]
  },
  {
   "cell_type": "code",
   "execution_count": 25,
   "metadata": {},
   "outputs": [
    {
     "data": {
      "text/plain": [
       "5"
      ]
     },
     "execution_count": 25,
     "metadata": {},
     "output_type": "execute_result"
    }
   ],
   "source": [
    "skf = StratifiedKFold(n_splits=5)\n",
    "skf.get_n_splits(X, y)"
   ]
  },
  {
   "cell_type": "code",
   "execution_count": 67,
   "metadata": {},
   "outputs": [],
   "source": [
    "X_tt = test_data.drop(['ID'], axis=1)"
   ]
  },
  {
   "cell_type": "code",
   "execution_count": 27,
   "metadata": {},
   "outputs": [
    {
     "data": {
      "text/plain": [
       "0.0    294607\n",
       "1.0     26156\n",
       "Name: TARGET, dtype: int64"
      ]
     },
     "execution_count": 27,
     "metadata": {},
     "output_type": "execute_result"
    }
   ],
   "source": [
    "y.value_counts()"
   ]
  },
  {
   "cell_type": "code",
   "execution_count": 28,
   "metadata": {},
   "outputs": [
    {
     "name": "stdout",
     "output_type": "stream",
     "text": [
      "Cycle 1...\n",
      "Training until validation scores don't improve for 5 rounds.\n",
      "[5]\tvalid_0's auc: 0.785606\n",
      "[10]\tvalid_0's auc: 0.793174\n",
      "Did not meet early stopping. Best iteration is:\n",
      "[10]\tvalid_0's auc: 0.793174\n",
      "Training until validation scores don't improve for 5 rounds.\n",
      "[5]\tvalid_0's auc: 0.788261\n",
      "[10]\tvalid_0's auc: 0.792287\n",
      "Did not meet early stopping. Best iteration is:\n",
      "[10]\tvalid_0's auc: 0.792287\n",
      "Training until validation scores don't improve for 5 rounds.\n",
      "[5]\tvalid_0's auc: 0.787467\n",
      "[10]\tvalid_0's auc: 0.791831\n",
      "Did not meet early stopping. Best iteration is:\n",
      "[10]\tvalid_0's auc: 0.791831\n",
      "Training until validation scores don't improve for 5 rounds.\n",
      "[5]\tvalid_0's auc: 0.785651\n",
      "[10]\tvalid_0's auc: 0.790885\n",
      "Did not meet early stopping. Best iteration is:\n",
      "[10]\tvalid_0's auc: 0.790885\n",
      "Training until validation scores don't improve for 5 rounds.\n",
      "[5]\tvalid_0's auc: 0.785566\n",
      "[10]\tvalid_0's auc: 0.794097\n",
      "Did not meet early stopping. Best iteration is:\n",
      "[10]\tvalid_0's auc: 0.794097\n",
      "Cycle 2...\n",
      "Training until validation scores don't improve for 5 rounds.\n",
      "[5]\tvalid_0's auc: 0.780058\n",
      "[10]\tvalid_0's auc: 0.788328\n",
      "Did not meet early stopping. Best iteration is:\n",
      "[10]\tvalid_0's auc: 0.788328\n",
      "Training until validation scores don't improve for 5 rounds.\n",
      "[5]\tvalid_0's auc: 0.783028\n",
      "[10]\tvalid_0's auc: 0.790451\n",
      "Did not meet early stopping. Best iteration is:\n",
      "[10]\tvalid_0's auc: 0.790451\n",
      "Training until validation scores don't improve for 5 rounds.\n",
      "[5]\tvalid_0's auc: 0.782189\n",
      "[10]\tvalid_0's auc: 0.789842\n",
      "Did not meet early stopping. Best iteration is:\n",
      "[10]\tvalid_0's auc: 0.789842\n",
      "Training until validation scores don't improve for 5 rounds.\n",
      "[5]\tvalid_0's auc: 0.783022\n",
      "[10]\tvalid_0's auc: 0.79091\n",
      "Did not meet early stopping. Best iteration is:\n",
      "[10]\tvalid_0's auc: 0.79091\n",
      "Training until validation scores don't improve for 5 rounds.\n",
      "[5]\tvalid_0's auc: 0.784885\n",
      "[10]\tvalid_0's auc: 0.794179\n",
      "Did not meet early stopping. Best iteration is:\n",
      "[10]\tvalid_0's auc: 0.794179\n",
      "Cycle 3...\n",
      "Training until validation scores don't improve for 5 rounds.\n",
      "[5]\tvalid_0's auc: 0.735694\n",
      "[10]\tvalid_0's auc: 0.736431\n",
      "Did not meet early stopping. Best iteration is:\n",
      "[10]\tvalid_0's auc: 0.736431\n",
      "Training until validation scores don't improve for 5 rounds.\n",
      "[5]\tvalid_0's auc: 0.735665\n",
      "[10]\tvalid_0's auc: 0.737714\n",
      "Did not meet early stopping. Best iteration is:\n",
      "[10]\tvalid_0's auc: 0.737714\n",
      "Training until validation scores don't improve for 5 rounds.\n",
      "[5]\tvalid_0's auc: 0.742283\n",
      "[10]\tvalid_0's auc: 0.746048\n",
      "Did not meet early stopping. Best iteration is:\n",
      "[10]\tvalid_0's auc: 0.746048\n",
      "Training until validation scores don't improve for 5 rounds.\n",
      "[5]\tvalid_0's auc: 0.743566\n",
      "[10]\tvalid_0's auc: 0.744052\n",
      "Did not meet early stopping. Best iteration is:\n",
      "[8]\tvalid_0's auc: 0.744673\n",
      "Training until validation scores don't improve for 5 rounds.\n",
      "[5]\tvalid_0's auc: 0.744715\n",
      "[10]\tvalid_0's auc: 0.748031\n",
      "Did not meet early stopping. Best iteration is:\n",
      "[10]\tvalid_0's auc: 0.748031\n",
      "Cycle 4...\n",
      "Training until validation scores don't improve for 5 rounds.\n",
      "[5]\tvalid_0's auc: 0.790154\n",
      "[10]\tvalid_0's auc: 0.795975\n",
      "Did not meet early stopping. Best iteration is:\n",
      "[10]\tvalid_0's auc: 0.795975\n",
      "Training until validation scores don't improve for 5 rounds.\n",
      "[5]\tvalid_0's auc: 0.788965\n",
      "[10]\tvalid_0's auc: 0.797005\n",
      "Did not meet early stopping. Best iteration is:\n",
      "[10]\tvalid_0's auc: 0.797005\n",
      "Training until validation scores don't improve for 5 rounds.\n",
      "[5]\tvalid_0's auc: 0.785604\n",
      "[10]\tvalid_0's auc: 0.794218\n",
      "Did not meet early stopping. Best iteration is:\n",
      "[10]\tvalid_0's auc: 0.794218\n",
      "Training until validation scores don't improve for 5 rounds.\n",
      "[5]\tvalid_0's auc: 0.785941\n",
      "[10]\tvalid_0's auc: 0.793741\n",
      "Did not meet early stopping. Best iteration is:\n",
      "[10]\tvalid_0's auc: 0.793741\n",
      "Training until validation scores don't improve for 5 rounds.\n",
      "[5]\tvalid_0's auc: 0.792329\n",
      "[10]\tvalid_0's auc: 0.800062\n",
      "Did not meet early stopping. Best iteration is:\n",
      "[10]\tvalid_0's auc: 0.800062\n",
      "Cycle 5...\n",
      "Training until validation scores don't improve for 5 rounds.\n",
      "[5]\tvalid_0's auc: 0.804692\n",
      "[10]\tvalid_0's auc: 0.809229\n",
      "Did not meet early stopping. Best iteration is:\n",
      "[10]\tvalid_0's auc: 0.809229\n",
      "Training until validation scores don't improve for 5 rounds.\n",
      "[5]\tvalid_0's auc: 0.805292\n",
      "[10]\tvalid_0's auc: 0.810531\n",
      "Did not meet early stopping. Best iteration is:\n",
      "[10]\tvalid_0's auc: 0.810531\n",
      "Training until validation scores don't improve for 5 rounds.\n",
      "[5]\tvalid_0's auc: 0.806334\n",
      "[10]\tvalid_0's auc: 0.811443\n",
      "Did not meet early stopping. Best iteration is:\n",
      "[10]\tvalid_0's auc: 0.811443\n",
      "Training until validation scores don't improve for 5 rounds.\n",
      "[5]\tvalid_0's auc: 0.803971\n",
      "[10]\tvalid_0's auc: 0.810069\n",
      "Did not meet early stopping. Best iteration is:\n",
      "[10]\tvalid_0's auc: 0.810069\n",
      "Training until validation scores don't improve for 5 rounds.\n",
      "[5]\tvalid_0's auc: 0.808863\n",
      "[10]\tvalid_0's auc: 0.813728\n",
      "Did not meet early stopping. Best iteration is:\n",
      "[10]\tvalid_0's auc: 0.813728\n",
      "Cycle 6...\n",
      "Training until validation scores don't improve for 5 rounds.\n",
      "[5]\tvalid_0's auc: 0.796501\n",
      "[10]\tvalid_0's auc: 0.799919\n",
      "Did not meet early stopping. Best iteration is:\n",
      "[10]\tvalid_0's auc: 0.799919\n",
      "Training until validation scores don't improve for 5 rounds.\n",
      "[5]\tvalid_0's auc: 0.798571\n",
      "[10]\tvalid_0's auc: 0.801973\n",
      "Did not meet early stopping. Best iteration is:\n",
      "[10]\tvalid_0's auc: 0.801973\n",
      "Training until validation scores don't improve for 5 rounds.\n",
      "[5]\tvalid_0's auc: 0.797216\n",
      "[10]\tvalid_0's auc: 0.800976\n",
      "Did not meet early stopping. Best iteration is:\n",
      "[10]\tvalid_0's auc: 0.800976\n",
      "Training until validation scores don't improve for 5 rounds.\n",
      "[5]\tvalid_0's auc: 0.793976\n",
      "[10]\tvalid_0's auc: 0.799655\n",
      "Did not meet early stopping. Best iteration is:\n",
      "[10]\tvalid_0's auc: 0.799655\n",
      "Training until validation scores don't improve for 5 rounds.\n",
      "[5]\tvalid_0's auc: 0.799997\n",
      "[10]\tvalid_0's auc: 0.803017\n",
      "Did not meet early stopping. Best iteration is:\n",
      "[10]\tvalid_0's auc: 0.803017\n",
      "Cycle 7...\n",
      "Training until validation scores don't improve for 5 rounds.\n",
      "[5]\tvalid_0's auc: 0.797901\n",
      "[10]\tvalid_0's auc: 0.807677\n",
      "Did not meet early stopping. Best iteration is:\n",
      "[10]\tvalid_0's auc: 0.807677\n",
      "Training until validation scores don't improve for 5 rounds.\n",
      "[5]\tvalid_0's auc: 0.799854\n",
      "[10]\tvalid_0's auc: 0.81044\n",
      "Did not meet early stopping. Best iteration is:\n",
      "[10]\tvalid_0's auc: 0.81044\n",
      "Training until validation scores don't improve for 5 rounds.\n",
      "[5]\tvalid_0's auc: 0.802455\n",
      "[10]\tvalid_0's auc: 0.805442\n",
      "Did not meet early stopping. Best iteration is:\n",
      "[10]\tvalid_0's auc: 0.805442\n",
      "Training until validation scores don't improve for 5 rounds.\n",
      "[5]\tvalid_0's auc: 0.799081\n",
      "[10]\tvalid_0's auc: 0.809447\n",
      "Did not meet early stopping. Best iteration is:\n",
      "[10]\tvalid_0's auc: 0.809447\n",
      "Training until validation scores don't improve for 5 rounds.\n",
      "[5]\tvalid_0's auc: 0.80141\n",
      "[10]\tvalid_0's auc: 0.811779\n",
      "Did not meet early stopping. Best iteration is:\n",
      "[10]\tvalid_0's auc: 0.811779\n"
     ]
    }
   ],
   "source": [
    "for i in range(0, n_iterations):\n",
    "    skf_split = skf.split(X, y)\n",
    "    param_dist = {'num_leaves': choice([27, 31, 61, 81, 127, 197, 231, 275, 302]),\n",
    "              'bagging_fraction': choice([0.5, 0.7, 0.8, 0.9]),\n",
    "              'learning_rate': choice([0.001, 0.005, 0.01, 0.05, 0.1, 0.3, 0.5]),\n",
    "              'min_data': choice([300, 400, 450, 500, 550, 650]),\n",
    "              'is_unbalance': choice([True, False]),\n",
    "              'max_bin': choice([3, 5, 10, 12, 18, 20, 22]),\n",
    "              'boosting_type' : choice(['gbdt', 'dart']),\n",
    "              'bagging_freq': choice([3, 9, 11, 15, 17, 23, 31]),\n",
    "              'max_depth': choice([3, 4, 5, 6, 7, 9, 11]),       \n",
    "              'feature_fraction': choice([0.5, 0.7, 0.8, 0.9]),\n",
    "              'lambda_l1': choice([0, 10, 20, 30, 40]),\n",
    "              'objective': 'binary', \n",
    "              'metric': 'auc'} \n",
    "    \n",
    "    #gini_norm = []\n",
    "    roc_l = []\n",
    "    \n",
    "    print (\"Cycle {}...\".format(i+1))\n",
    "    for train_index, test_index in skf_split:\n",
    "    \n",
    "        X_train = X.iloc[train_index]\n",
    "        y_train = y.iloc[train_index]\n",
    "    \n",
    "        X_val = X.iloc[test_index]\n",
    "        y_val = y.iloc[test_index]\n",
    "    \n",
    "        # training\n",
    "        lgb_train = lgb.Dataset(X_train, y_train, free_raw_data=True)\n",
    "        lgb_val = lgb.Dataset(X_val, y_val, reference=lgb_train, free_raw_data=True)\n",
    "    \n",
    "        gbm = lgb.train(param_dist,\n",
    "                        lgb_train,\n",
    "                        num_boost_round = 10,\n",
    "                        valid_sets = lgb_val,\n",
    "                        early_stopping_rounds=5,\n",
    "                        verbose_eval=5)\n",
    "        # predicting\n",
    "        y_pred = gbm.predict(X_val, num_iteration=gbm.best_iteration)\n",
    "        #gn = gini_normalized(y_val, y_pred)\n",
    "        #gini_norm.append(gn)\n",
    "    \n",
    "        roc = roc_auc_score(y_val, y_pred)\n",
    "        roc_l.append(roc)\n",
    "\n",
    "    #gini_norm_array = np.asarray(gini_norm)\n",
    "    roc_array = np.asarray(roc_l)\n",
    "    \n",
    "    #gini_mean.append(gini_norm_array.mean())\n",
    "    #gini_std.append(gini_norm_array.std())\n",
    "    roc_auc_mean.append(roc_array.mean())\n",
    "    roc_auc_std.append(roc_array.std())\n",
    "    dict_list.append(param_dist)\n",
    "    gc.collect()"
   ]
  },
  {
   "cell_type": "code",
   "execution_count": 31,
   "metadata": {},
   "outputs": [],
   "source": [
    "results_pd = pd.DataFrame({\"roc_auc_mean\": roc_auc_mean,\n",
    "                           \"roc_auc_std\": roc_auc_std,\n",
    "                           \"parameters\": dict_list})"
   ]
  },
  {
   "cell_type": "code",
   "execution_count": 32,
   "metadata": {},
   "outputs": [],
   "source": [
    "results_pd.sort_values(\"roc_auc_mean\", ascending = False, axis = 0, inplace = True)"
   ]
  },
  {
   "cell_type": "code",
   "execution_count": 33,
   "metadata": {},
   "outputs": [
    {
     "name": "stdout",
     "output_type": "stream",
     "text": [
      "Model with rank 1\n",
      "Mean roc_auc score 0.81100 (std: 0.00154)\n",
      "Parameters: {'num_leaves': 61, 'bagging_fraction': 0.5, 'learning_rate': 0.05, 'min_data': 550, 'is_unbalance': True, 'max_bin': 18, 'boosting_type': 'gbdt', 'bagging_freq': 31, 'max_depth': 5, 'feature_fraction': 0.7, 'lambda_l1': 30, 'objective': 'binary', 'metric': 'auc', 'verbose': 1}\n",
      "\n",
      "Model with rank 2\n",
      "Mean roc_auc score 0.80896 (std: 0.00221)\n",
      "Parameters: {'num_leaves': 81, 'bagging_fraction': 0.7, 'learning_rate': 0.05, 'min_data': 500, 'is_unbalance': False, 'max_bin': 20, 'boosting_type': 'gbdt', 'bagging_freq': 31, 'max_depth': 5, 'feature_fraction': 0.5, 'lambda_l1': 20, 'objective': 'binary', 'metric': 'auc', 'verbose': 1}\n",
      "\n",
      "Model with rank 3\n",
      "Mean roc_auc score 0.80111 (std: 0.00126)\n",
      "Parameters: {'num_leaves': 197, 'bagging_fraction': 0.9, 'learning_rate': 0.01, 'min_data': 300, 'is_unbalance': False, 'max_bin': 22, 'boosting_type': 'dart', 'bagging_freq': 17, 'max_depth': 6, 'feature_fraction': 0.9, 'lambda_l1': 40, 'objective': 'binary', 'metric': 'auc', 'verbose': 1}\n",
      "\n",
      "Model with rank 4\n",
      "Mean roc_auc score 0.79620 (std: 0.00226)\n",
      "Parameters: {'num_leaves': 61, 'bagging_fraction': 0.5, 'learning_rate': 0.3, 'min_data': 500, 'is_unbalance': False, 'max_bin': 5, 'boosting_type': 'gbdt', 'bagging_freq': 15, 'max_depth': 6, 'feature_fraction': 0.7, 'lambda_l1': 40, 'objective': 'binary', 'metric': 'auc', 'verbose': 1}\n",
      "\n",
      "Model with rank 5\n",
      "Mean roc_auc score 0.79245 (std: 0.00110)\n",
      "Parameters: {'num_leaves': 31, 'bagging_fraction': 0.8, 'learning_rate': 0.1, 'min_data': 650, 'is_unbalance': False, 'max_bin': 5, 'boosting_type': 'dart', 'bagging_freq': 17, 'max_depth': 11, 'feature_fraction': 0.8, 'lambda_l1': 0, 'objective': 'binary', 'metric': 'auc', 'verbose': 1}\n",
      "\n"
     ]
    }
   ],
   "source": [
    "top_pd = results_pd.head(top_n)\n",
    "for i in range(0, top_n):\n",
    "    print (\"Model with rank {}\".format(i+1))\n",
    "    print (\"Mean roc_auc score %.5f (std: %.5f)\" % (top_pd['roc_auc_mean'].values[i], top_pd['roc_auc_std'].values[i]))\n",
    "    print (\"Parameters:\", top_pd['parameters'].values[i])\n",
    "    print (\"\")"
   ]
  },
  {
   "cell_type": "code",
   "execution_count": 34,
   "metadata": {},
   "outputs": [],
   "source": [
    "prms_1 = top_pd['parameters'].values[0]\n",
    "prms_2 = top_pd['parameters'].values[1]\n",
    "prms_3 = top_pd['parameters'].values[2]\n",
    "prms_4 = top_pd['parameters'].values[3]\n",
    "prms_5 = top_pd['parameters'].values[4]"
   ]
  },
  {
   "cell_type": "code",
   "execution_count": 35,
   "metadata": {},
   "outputs": [],
   "source": [
    "prms_list = [prms_1, prms_2, prms_3, prms_4, prms_5]\n",
    "weights = [0.4, 0.4, 0.1, 0.05, 0.05]"
   ]
  },
  {
   "cell_type": "code",
   "execution_count": 36,
   "metadata": {},
   "outputs": [],
   "source": [
    "pred_df = pd.DataFrame({\"id\": test_df['ID'].values})\n",
    "target = np.zeros(test_df.shape[0])"
   ]
  },
  {
   "cell_type": "code",
   "execution_count": 37,
   "metadata": {},
   "outputs": [
    {
     "name": "stdout",
     "output_type": "stream",
     "text": [
      "Set 0\n",
      "training...\n",
      "predicting...\n",
      "arrays addition...\n",
      "done\n",
      "\n",
      "Set 1\n",
      "training...\n",
      "predicting...\n",
      "arrays addition...\n",
      "done\n",
      "\n",
      "Set 2\n",
      "training...\n",
      "predicting...\n",
      "arrays addition...\n",
      "done\n",
      "\n",
      "Set 3\n",
      "training...\n",
      "predicting...\n",
      "arrays addition...\n",
      "done\n",
      "\n",
      "Set 4\n",
      "training...\n",
      "predicting...\n",
      "arrays addition...\n",
      "done\n",
      "\n"
     ]
    }
   ],
   "source": [
    "lgb_s = lgb.Dataset(X, y)\n",
    "for i in range(0, len(prms_list)):\n",
    "    print (\"Set {}\".format(i))\n",
    "    print (\"training...\")\n",
    "    model = lgb.train(prms_list[i], \n",
    "                      lgb_s, \n",
    "                      num_boost_round = 10)\n",
    "    print (\"predicting...\")\n",
    "    y_pred = model.predict(X_tt)\n",
    "    print (\"arrays addition...\")\n",
    "    target = np.add(target, y_pred*weights[i])\n",
    "    print (\"done\")\n",
    "    print (\"\")\n",
    "    gc.collect()\n",
    "    \n",
    "pred_df['target'] = target"
   ]
  },
  {
   "cell_type": "code",
   "execution_count": 38,
   "metadata": {},
   "outputs": [],
   "source": []
  },
  {
   "cell_type": "code",
   "execution_count": 39,
   "metadata": {},
   "outputs": [
    {
     "data": {
      "image/png": "[encoded data removed]",
      "text/plain": [
       "<Figure size 1440x1080 with 1 Axes>"
      ]
     },
     "metadata": {},
     "output_type": "display_data"
    }
   ],
   "source": [
    "lgb.plot_importance(gbm, height=0.5, figsize=(20,15))\n",
    "plt.show()"
   ]
  },
  {
   "cell_type": "code",
   "execution_count": null,
   "metadata": {},
   "outputs": [],
   "source": []
  },
  {
   "cell_type": "code",
   "execution_count": null,
   "metadata": {},
   "outputs": [],
   "source": []
  },
  {
   "cell_type": "code",
   "execution_count": null,
   "metadata": {},
   "outputs": [],
   "source": []
  },
  {
   "cell_type": "code",
   "execution_count": 54,
   "metadata": {},
   "outputs": [],
   "source": [
    "from sklearn.model_selection import train_test_split"
   ]
  },
  {
   "cell_type": "code",
   "execution_count": 55,
   "metadata": {},
   "outputs": [],
   "source": [
    "X_train, X_valid, y_train, y_valid = train_test_split(X, y, test_size = 0.33, random_state = 42)"
   ]
  },
  {
   "cell_type": "code",
   "execution_count": 56,
   "metadata": {},
   "outputs": [],
   "source": [
    "import xgboost as xgb"
   ]
  },
  {
   "cell_type": "code",
   "execution_count": 58,
   "metadata": {},
   "outputs": [
    {
     "name": "stdout",
     "output_type": "stream",
     "text": [
      "[22:35:11] src/tree/updater_prune.cc:74: tree pruning end, 1 roots, 252 extra nodes, 0 pruned nodes, max_depth=7\n",
      "[22:35:11] src/tree/updater_prune.cc:74: tree pruning end, 1 roots, 246 extra nodes, 0 pruned nodes, max_depth=7\n"
     ]
    }
   ],
   "source": [
    "# read in data\n",
    "dtrain = xgb.DMatrix(data=X_train, label=y_train)\n",
    "dtest = xgb.DMatrix(X_valid, label=y_valid)\n",
    "# specify parameters via map\n",
    "param = {    'n_estimators': 100,\n",
    "    'colsample_bytree': 0.8,\n",
    "    'eval_metric': 'auc',\n",
    "    'objective': 'binary:logistic',\n",
    "    'max_depth': 7,\n",
    "    'min_child_weight': 1,\n",
    "    'learning_rate': 0.1,\n",
    "    'subsample': 0.8,\n",
    "    'eta': 0.2}\n",
    "num_round = 2\n",
    "bst = xgb.train(param, dtrain, num_round)\n",
    "# make prediction\n",
    "preds = bst.predict(dtest)"
   ]
  },
  {
   "cell_type": "code",
   "execution_count": 61,
   "metadata": {},
   "outputs": [
    {
     "data": {
      "text/plain": [
       "XGBClassifier(base_score=0.5, booster='gbtree', colsample_bylevel=1,\n",
       "       colsample_bytree=1, gamma=0, learning_rate=0.1, max_delta_step=0,\n",
       "       max_depth=3, min_child_weight=1, missing=None, n_estimators=100,\n",
       "       n_jobs=1, nthread=None, objective='binary:logistic',\n",
       "       params={'n_estimators': 100, 'colsample_bytree': 0.8, 'eval_metric': 'auc', 'objective': 'binary:logistic', 'max_depth': 7, 'min_child_weight': 1, 'learning_rate': 0.1, 'subsample': 0.8, 'eta': 0.2},\n",
       "       random_state=0, reg_alpha=0, reg_lambda=1, scale_pos_weight=1,\n",
       "       seed=None, silent=True, subsample=1)"
      ]
     },
     "execution_count": 61,
     "metadata": {},
     "output_type": "execute_result"
    }
   ],
   "source": [
    "model = xgb.XGBClassifier(params=param)\n",
    "model.fit(X_train, y_train)"
   ]
  },
  {
   "cell_type": "code",
   "execution_count": 62,
   "metadata": {},
   "outputs": [],
   "source": [
    "y_pred = model.predict_proba(X_valid)"
   ]
  },
  {
   "cell_type": "code",
   "execution_count": 64,
   "metadata": {},
   "outputs": [
    {
     "data": {
      "text/plain": [
       "array([[0.9908839 , 0.00911609],\n",
       "       [0.96837384, 0.03162619],\n",
       "       [0.96682423, 0.03317577],\n",
       "       ...,\n",
       "       [0.82891387, 0.17108613],\n",
       "       [0.9843538 , 0.0156462 ],\n",
       "       [0.9474717 , 0.0525283 ]], dtype=float32)"
      ]
     },
     "execution_count": 64,
     "metadata": {},
     "output_type": "execute_result"
    }
   ],
   "source": [
    "y_pred"
   ]
  },
  {
   "cell_type": "code",
   "execution_count": 65,
   "metadata": {},
   "outputs": [],
   "source": [
    "roc = roc_auc_score(y_valid, y_pred[:,1])"
   ]
  },
  {
   "cell_type": "code",
   "execution_count": 66,
   "metadata": {},
   "outputs": [
    {
     "data": {
      "text/plain": [
       "0.8301033644753137"
      ]
     },
     "execution_count": 66,
     "metadata": {},
     "output_type": "execute_result"
    }
   ],
   "source": [
    "roc"
   ]
  },
  {
   "cell_type": "code",
   "execution_count": 68,
   "metadata": {},
   "outputs": [],
   "source": [
    "y_pred = model.predict_proba(X_tt)"
   ]
  },
  {
   "cell_type": "code",
   "execution_count": 71,
   "metadata": {},
   "outputs": [
    {
     "data": {
      "text/plain": [
       "array([0.1065613 , 0.01242683, 0.00837164, ..., 0.1447805 , 0.07148883,\n",
       "       0.12691014], dtype=float32)"
      ]
     },
     "execution_count": 71,
     "metadata": {},
     "output_type": "execute_result"
    }
   ],
   "source": [
    "target = y_pred[:,1]\n",
    "target"
   ]
  },
  {
   "cell_type": "code",
   "execution_count": 72,
   "metadata": {},
   "outputs": [],
   "source": [
    "pred_df = pd.DataFrame()"
   ]
  },
  {
   "cell_type": "code",
   "execution_count": 73,
   "metadata": {},
   "outputs": [],
   "source": [
    "pred_df['id'] = test_data['ID']\n",
    "pred_df['target'] = target"
   ]
  },
  {
   "cell_type": "code",
   "execution_count": 75,
   "metadata": {},
   "outputs": [],
   "source": [
    "pred_df.to_csv('~/lab04s.csv', header=True, index=False, sep='\\t')"
   ]
  },
  {
   "cell_type": "code",
   "execution_count": null,
   "metadata": {},
   "outputs": [],
   "source": []
  }
 ],
 "metadata": {
  "kernelspec": {
   "display_name": "Python 3",
   "language": "python",
   "name": "python3"
  },
  "language_info": {
   "codemirror_mode": {
    "name": "ipython",
    "version": 3
   },
   "file_extension": ".py",
   "mimetype": "text/x-python",
   "name": "python",
   "nbconvert_exporter": "python",
   "pygments_lexer": "ipython3",
   "version": "3.6.5"
  }
 },
 "nbformat": 4,
 "nbformat_minor": 2
}
